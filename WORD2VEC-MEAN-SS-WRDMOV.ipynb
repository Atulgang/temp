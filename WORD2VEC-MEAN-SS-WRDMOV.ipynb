{
 "cells": [
  {
   "cell_type": "code",
   "execution_count": 1,
   "metadata": {
    "collapsed": true
   },
   "outputs": [],
   "source": [
    "import logging\n",
    "logging.basicConfig(format='%(asctime)s : %(levelname)s : %(message)s', level=logging.INFO)"
   ]
  },
  {
   "cell_type": "code",
   "execution_count": 2,
   "metadata": {},
   "outputs": [
    {
     "name": "stderr",
     "output_type": "stream",
     "text": [
      "2018-04-15 19:15:42,832 : INFO : 'pattern' package not found; tag filters are not available for English\n"
     ]
    }
   ],
   "source": [
    "import nltk\n",
    "from nltk.tokenize import word_tokenize\n",
    "from stop_words import get_stop_words\n",
    "from nltk.stem import WordNetLemmatizer\n",
    "from gensim import corpora, models\n",
    "import gensim\n",
    "import glob2\n",
    "from itertools import chain\n",
    "import os\n",
    "import numpy as np\n",
    "import itertools\n",
    "import cPickle as pickle\n",
    "from  scipy.stats import rankdata\n",
    "import copy\n",
    "from openpyxl import Workbook\n",
    "from openpyxl.compat import range\n",
    "from openpyxl.utils import get_column_letter\n",
    "from openpyxl import load_workbook\n",
    "import pandas as pd\n",
    "from scipy.stats import hmean\n",
    "from nltk.stem import PorterStemmer\n",
    "from nltk.tokenize import sent_tokenize, word_tokenize\n"
   ]
  },
  {
   "cell_type": "code",
   "execution_count": 3,
   "metadata": {
    "collapsed": true
   },
   "outputs": [],
   "source": [
    "# ignores everything except english alphabet and  \n",
    "def only_alphabet(text):\n",
    "    return ''.join(i for i in text if (ord(i)<123 and ord(i)>96) or (ord(i)<91 and ord(i)>64) or ord(i)==32) "
   ]
  },
  {
   "cell_type": "code",
   "execution_count": 4,
   "metadata": {
    "collapsed": true
   },
   "outputs": [],
   "source": [
    "full_filenames = []\n",
    "x= ['LegalAdhocTask/ConsumerCourtAdhocdata/DCDRC/**/*.txt','LegalAdhocTask/ConsumerCourtAdhocdata/NCDRC/**/*.txt','LegalAdhocTask/ConsumerCourtAdhocdata/SCDRC/**/*.txt', 'LegalAdhocTask/SC-HCAdhocData/DelhiHC/**/*.txt','LegalAdhocTask/SC-HCAdhocData/JharkhandHC/**/*.txt', 'LegalAdhocTask/SC-HCAdhocData/JodhpurHC/**/*.txt' ,'LegalAdhocTask/SC-HCAdhocData/KolkataHC/**/*.txt', 'LegalAdhocTask/SC-HCAdhocData/SupremeCourt/**/*.txt']\n",
    "for glob_filenames in x:\n",
    "    glob_filenames = os.path.normpath(glob_filenames)\n",
    "    for filename in sorted(glob2.glob(glob_filenames)):\n",
    "        full_filenames.append(filename)\n",
    "            \n",
    "filenames = []\n",
    "x= ['LegalAdhocTask/ConsumerCourtAdhocdata/DCDRC/**/*.txt','LegalAdhocTask/ConsumerCourtAdhocdata/NCDRC/**/*.txt','LegalAdhocTask/ConsumerCourtAdhocdata/SCDRC/**/*.txt', 'LegalAdhocTask/SC-HCAdhocData/DelhiHC/**/*.txt','LegalAdhocTask/SC-HCAdhocData/JharkhandHC/**/*.txt', 'LegalAdhocTask/SC-HCAdhocData/JodhpurHC/**/*.txt' ,'LegalAdhocTask/SC-HCAdhocData/KolkataHC/**/*.txt', 'LegalAdhocTask/SC-HCAdhocData/SupremeCourt/**/*.txt']\n",
    "for glob_filenames in x:\n",
    "    glob_filenames = os.path.normpath(glob_filenames)\n",
    "    for filename in sorted(glob2.glob(glob_filenames)):\n",
    "        filenames.append(os.path.basename(filename))\n",
    "\n",
    "en_stop = set(get_stop_words('en'))\n",
    "ps = PorterStemmer()\n",
    "\n",
    "# \"yield\" for each file return token list  i.e list of lists\n",
    "def files_to_tokens(glob_filenames):\n",
    "    glob_filenames = os.path.normpath(glob_filenames)\n",
    "    for filename in sorted(glob2.glob(glob_filenames)):\n",
    "        f = open(filename)\n",
    "        # read the whole file as lowercase string\n",
    "        string = only_alphabet(f.read()).lower()\n",
    "        tokens = []\n",
    "        # tokenize that string\n",
    "        for word in word_tokenize(string):\n",
    "            if word not in en_stop:\n",
    "                tokens.append(ps.stem(word))\n",
    "\n",
    "        yield tokens\n",
    "        f.close()\n",
    "\n",
    "\n",
    "        \n",
    "# yields token list for files specific to courts; needed for creating dictionaries\n",
    "class texts:\n",
    "    def DCDRC(self):\n",
    "        for text in files_to_tokens('LegalAdhocTask/ConsumerCourtAdhocdata/DCDRC/*.txt'):\n",
    "            yield text\n",
    "    def NCDRC(self):\n",
    "        for text in files_to_tokens('LegalAdhocTask/ConsumerCourtAdhocdata/NCDRC/**/*.txt'):\n",
    "            yield text\n",
    "    def SCDRC(self):\n",
    "        for text in files_to_tokens('LegalAdhocTask/ConsumerCourtAdhocdata/SCDRC/**/*.txt'):\n",
    "            yield text\n",
    "    def DelhiHC(self):\n",
    "        for text in files_to_tokens('LegalAdhocTask/SC-HCAdhocData/DelhiHC/**/*.txt'):\n",
    "            yield text\n",
    "    def JharkhandHC(self):\n",
    "        for text in files_to_tokens('LegalAdhocTask/SC-HCAdhocData/JharkhandHC/**/*.txt'):\n",
    "            yield text\n",
    "    def JodhpurHC(self):\n",
    "        for text in  files_to_tokens('LegalAdhocTask/SC-HCAdhocData/JodhpurHC/**/*.txt'):\n",
    "            yield text\n",
    "    def KolkataHC(self):\n",
    "        for text in  files_to_tokens('LegalAdhocTask/SC-HCAdhocData/KolkataHC/**/*.txt'):\n",
    "            yield text\n",
    "    def SupremeCourt(self):\n",
    "        for text in  files_to_tokens('LegalAdhocTask/SC-HCAdhocData/SupremeCourt/**/*.txt'):\n",
    "            yield text\n",
    "    def everything(self):\n",
    "        return chain(self.DCDRC(), self.NCDRC(), self.SCDRC(), self.DelhiHC(),\n",
    "                     self.JharkhandHC(), self.JodhpurHC(), self.KolkataHC(), self.SupremeCourt())\n",
    "        \n",
    "# yields bow for each file - tuples id,fq ; needed to train models   \n",
    "class my_corpus:    \n",
    "    def DCDRC(self):\n",
    "        for text in files_to_tokens('LegalAdhocTask/ConsumerCourtAdhocdata/DCDRC/*.txt'):\n",
    "            yield dictionary.doc2bow(text)\n",
    "    def NCDRC(self):\n",
    "        for text in files_to_tokens('LegalAdhocTask/ConsumerCourtAdhocdata/NCDRC/**/*.txt'):\n",
    "            yield dictionary.doc2bow(text)            \n",
    "    def SCDRC(self):\n",
    "        for text in files_to_tokens('LegalAdhocTask/ConsumerCourtAdhocdata/SCDRC/**/*.txt'):\n",
    "            yield dictionary.doc2bow(text)\n",
    "    def DelhiHC(self):\n",
    "        for text in files_to_tokens('LegalAdhocTask/SC-HCAdhocData/DelhiHC/**/*.txt'):\n",
    "            yield dictionary.doc2bow(text)\n",
    "    def JharkhandHC(self):\n",
    "        for text in files_to_tokens('LegalAdhocTask/SC-HCAdhocData/JharkhandHC/**/*.txt'):\n",
    "            yield dictionary.doc2bow(text)\n",
    "    def JodhpurHC(self):\n",
    "        for text in  files_to_tokens('LegalAdhocTask/SC-HCAdhocData/JodhpurHC/**/*.txt'):\n",
    "            yield dictionary.doc2bow(text)\n",
    "    def KolkataHC(self):\n",
    "        for text in  files_to_tokens('LegalAdhocTask/SC-HCAdhocData/KolkataHC/**/*.txt'):\n",
    "            yield dictionary.doc2bow(text)\n",
    "    def SupremeCourt(self):\n",
    "        for text in  files_to_tokens('LegalAdhocTask/SC-HCAdhocData/SupremeCourt/**/*.txt'):\n",
    "            yield dictionary.doc2bow(text)\n",
    "    def everything(self):\n",
    "        return chain(self.DCDRC(), self.NCDRC(), self.SCDRC(), self.DelhiHC(),\n",
    "                     self.JharkhandHC(), self.JodhpurHC(), self.KolkataHC(), self.SupremeCourt())\n",
    "        \n",
    "        "
   ]
  },
  {
   "cell_type": "code",
   "execution_count": 5,
   "metadata": {},
   "outputs": [
    {
     "name": "stderr",
     "output_type": "stream",
     "text": [
      "2018-04-15 19:16:02,395 : INFO : loading Dictionary object from stem100_dictionary\n",
      "2018-04-15 19:16:02,546 : INFO : loaded stem100_dictionary\n"
     ]
    }
   ],
   "source": [
    "#################################### laod the dictinary\n",
    "dictionary = corpora.Dictionary.load('stem100_dictionary')"
   ]
  },
  {
   "cell_type": "code",
   "execution_count": 6,
   "metadata": {},
   "outputs": [
    {
     "name": "stderr",
     "output_type": "stream",
     "text": [
      "2018-04-15 19:16:02,604 : INFO : loaded corpus index from stem100.mm.index\n",
      "2018-04-15 19:16:02,605 : INFO : initializing cython corpus reader from stem100.mm\n",
      "2018-04-15 19:16:02,723 : INFO : accepted corpus with 351985 documents, 40069 features, 92572684 non-zero entries\n"
     ]
    }
   ],
   "source": [
    "######################################## load BOW\n",
    "corpus = corpora.MmCorpus('stem100.mm')"
   ]
  },
  {
   "cell_type": "code",
   "execution_count": 7,
   "metadata": {
    "collapsed": true,
    "scrolled": true
   },
   "outputs": [],
   "source": [
    "# %%time\n",
    "\n",
    "# c = texts()\n",
    "# count = 0\n",
    "# for x in c.everything():\n",
    "#     x = [ i for i in x if i in dictionary.token2id]\n",
    "#     with open(os.path.normpath('Token_corpus/' + str(count)), 'wb') as fp:\n",
    "#         pickle.dump(x, fp)\n",
    "#     count=count+1\n"
   ]
  },
  {
   "cell_type": "code",
   "execution_count": 8,
   "metadata": {
    "collapsed": true
   },
   "outputs": [],
   "source": [
    "def token_corpus(i):\n",
    "    with open (os.path.normpath('Token_corpus/' + str(i)), 'rb') as fp:\n",
    "            itemlist = pickle.load(fp)\n",
    "            return itemlist   "
   ]
  },
  {
   "cell_type": "code",
   "execution_count": 9,
   "metadata": {
    "collapsed": true
   },
   "outputs": [],
   "source": [
    "class iter_token_corpus:\n",
    "    def __iter__(self):\n",
    "        for i in xrange(0, 351985):\n",
    "            with open (os.path.normpath('Token_corpus/' + str(i)), 'rb') as fp:\n",
    "                itemlist = pickle.load(fp)\n",
    "                yield itemlist"
   ]
  },
  {
   "cell_type": "code",
   "execution_count": 10,
   "metadata": {
    "collapsed": true,
    "scrolled": true
   },
   "outputs": [],
   "source": [
    "# %%time\n",
    "# model = gensim.models.Word2Vec(iter_token_corpus(), size=300, iter = 10, min_count=0, sample=0, workers=8)"
   ]
  },
  {
   "cell_type": "code",
   "execution_count": 11,
   "metadata": {
    "collapsed": true
   },
   "outputs": [],
   "source": [
    "# model.save('word2vec')"
   ]
  },
  {
   "cell_type": "code",
   "execution_count": 12,
   "metadata": {},
   "outputs": [
    {
     "data": {
      "text/plain": [
       "351985"
      ]
     },
     "execution_count": 12,
     "metadata": {},
     "output_type": "execute_result"
    }
   ],
   "source": [
    "len(corpus)"
   ]
  },
  {
   "cell_type": "code",
   "execution_count": 13,
   "metadata": {
    "scrolled": true
   },
   "outputs": [
    {
     "name": "stderr",
     "output_type": "stream",
     "text": [
      "2018-04-15 19:16:03,297 : INFO : loading Word2Vec object from word2vecsubsam\n",
      "2018-04-15 19:16:03,574 : INFO : loading wv recursively from word2vecsubsam.wv.* with mmap=None\n",
      "2018-04-15 19:16:03,575 : INFO : loading syn0 from word2vecsubsam.wv.syn0.npy with mmap=None\n",
      "2018-04-15 19:16:03,978 : INFO : setting ignored attribute syn0norm to None\n",
      "2018-04-15 19:16:03,978 : INFO : loading syn1neg from word2vecsubsam.syn1neg.npy with mmap=None\n",
      "2018-04-15 19:16:04,369 : INFO : Model saved using code from earlier Gensim Version. Re-loading old model in a compatible way.\n",
      "2018-04-15 19:16:04,370 : INFO : loading Word2Vec object from word2vecsubsam\n",
      "2018-04-15 19:16:04,536 : INFO : loading wv recursively from word2vecsubsam.wv.* with mmap=None\n",
      "2018-04-15 19:16:04,537 : INFO : loading syn0 from word2vecsubsam.wv.syn0.npy with mmap=None\n",
      "2018-04-15 19:16:04,555 : INFO : setting ignored attribute syn0norm to None\n",
      "2018-04-15 19:16:04,556 : INFO : loading syn1neg from word2vecsubsam.syn1neg.npy with mmap=None\n",
      "2018-04-15 19:16:04,577 : INFO : setting ignored attribute cum_table to None\n",
      "2018-04-15 19:16:04,578 : INFO : loaded word2vecsubsam\n"
     ]
    }
   ],
   "source": [
    "model = gensim.models.Word2Vec.load('word2vecsubsam')"
   ]
  },
  {
   "cell_type": "code",
   "execution_count": 14,
   "metadata": {
    "collapsed": true
   },
   "outputs": [],
   "source": [
    "# x.doesnt_match(words)\n",
    "\n",
    "# #     Which word from the given list doesn’t go with the others?\n",
    "# #     Parameters:\twords – List of words\n",
    "# #     Returns:\tThe word further away from the mean of all words.\n",
    "# #     Return type:\tstr\n",
    "\n",
    "# x.index2word\n",
    "# ### list of words in the sorted order of their frequency \n",
    "\n",
    "# y = x.vocab['parti']\n",
    "# y.count\n",
    "# # find freq. of any word\n",
    "\n",
    "\n",
    "# x.most_similar_cosmul(positive=None, negative=None, topn=10)\n",
    "# # Find the top-N most similar words, using the multiplicative combination objective proposed by \n",
    "# # Omer Levy and Yoav Goldberg.Positive words still contribute positively towards the similarity, negative words \n",
    "# # negatively, but with less susceptibility to one large distance dominating the calculation.\n",
    "\n",
    "# x.most_similar_to_given(entity1, entities_list)\n",
    "# #    Return the entity from entities_list most similar to entity1.\n",
    "\n",
    "# x.n_similarity(ws1, ws2)\n",
    "# #Compute cosine similarity between two sets of words\n",
    "\n",
    "\n",
    "# x.similar_by_vector(x['fit'], topn=10, restrict_vocab=None)\n",
    "# # closest vectors\n",
    "# # if topn is False, similar_by_vector returns the vector of similarity scores.\n",
    "\n",
    "# x.similar_by_word(word, topn=10, restrict_vocab=None)\n",
    "# #  Find the top-N most similar words.\n",
    "\n",
    "# x.similarity(w1, w2)\n",
    "# #Compute cosine similarity between two words.\n",
    "\n",
    "# x.wmdistance(doc1, doc2)\n",
    "# # word movers distance\n",
    "\n",
    "# y = x.vocab['parti']\n",
    "# y.count\n",
    "# #freq in corpus"
   ]
  },
  {
   "cell_type": "code",
   "execution_count": 15,
   "metadata": {
    "collapsed": true
   },
   "outputs": [],
   "source": [
    "# get the query truth in dictionary\n",
    "query_truth = {}\n",
    "for i in range(1,11):\n",
    "    query_truth[str(i)]=[]\n",
    "    \n",
    "    \n",
    "f = open('LegalAdhocTask/Consumer.qrels')\n",
    "lines = [line.rstrip('\\n').split(\"\\t\") for line in f]\n",
    "for line in lines:\n",
    "    del line[1]\n",
    "    query_truth[line[0]].append(line[1:])\n"
   ]
  },
  {
   "cell_type": "code",
   "execution_count": 16,
   "metadata": {
    "collapsed": true
   },
   "outputs": [],
   "source": [
    "distance_cache = {}\n"
   ]
  },
  {
   "cell_type": "code",
   "execution_count": 17,
   "metadata": {
    "collapsed": true
   },
   "outputs": [],
   "source": [
    "from pyemd import emd\n",
    "\n",
    "from gensim.corpora.dictionary import Dictionary\n",
    "\n",
    "from numpy import dot, float32 as REAL, empty, memmap as np_memmap, \\\n",
    "    double, array, zeros, vstack, sqrt, newaxis, integer, \\\n",
    "ndarray, sum as np_sum, prod, argmax, divide as np_divide\n",
    "\n",
    "\n",
    "w2v  = model.wv\n",
    "def wmdistance(document1, document2, dlen1, dlen2):\n",
    "    # Sets for faster look-up.\n",
    "    docset1 = set([i[0] for i in document1])\n",
    "    docset2 = set([i[0] for i in document2])\n",
    "    voclist = sorted(set.union(docset1, docset2))\n",
    "    vocab_len = len(voclist)\n",
    "    voc_dic = {k: v for v, k in enumerate(voclist)}\n",
    "    \n",
    "    \n",
    "    # Compute distance matrix.\n",
    "    distance_matrix = zeros((vocab_len, vocab_len), dtype=double)\n",
    "    for i in docset1:\n",
    "        for j in docset2:\n",
    "            if (i,j) not in distance_cache:    \n",
    "                # Compute Euclidean distance between word vectors.\n",
    "                distance_matrix[voc_dic[i], voc_dic[j]] = sqrt(np_sum((w2v[dictionary.id2token[i]] - w2v[dictionary.id2token[j]])**2))\n",
    "                distance_cache[(i,j)] = distance_matrix[voc_dic[i], voc_dic[j]]\n",
    "            else:\n",
    "                distance_matrix[voc_dic[i], voc_dic[j]] = distance_cache[(i,j)]\n",
    "    \n",
    "    #print distance_matrix\n",
    "    if np_sum(distance_matrix) == 0.0:\n",
    "        # `emd` gets stuck if the distance matrix contains only zeros.\n",
    "        return -1000\n",
    "\n",
    "    d1 = zeros(vocab_len, dtype=double)\n",
    "    d2 = zeros(vocab_len, dtype=double)\n",
    "    for w, freq in document1:\n",
    "        d1[voc_dic[w]] = freq / float(dlen1)  # Normalized word frequencies.\n",
    "    for w, freq in document2:\n",
    "        d2[voc_dic[w]] = freq / float(dlen2)  # Normalized word frequencies.\n",
    "\n",
    "    # Compute WMD.\n",
    "    return emd(d1, d2, distance_matrix)"
   ]
  },
  {
   "cell_type": "code",
   "execution_count": 18,
   "metadata": {
    "collapsed": true
   },
   "outputs": [],
   "source": [
    "# load doc_len\n",
    "with open('doc_len_stem100.pkl', 'rb') as ip:\n",
    "    doc_len = pickle.load(ip)"
   ]
  },
  {
   "cell_type": "code",
   "execution_count": 19,
   "metadata": {},
   "outputs": [
    {
     "name": "stdout",
     "output_type": "stream",
     "text": [
      "CPU times: user 51.3 s, sys: 1.92 s, total: 53.2 s\n",
      "Wall time: 54.6 s\n"
     ]
    }
   ],
   "source": [
    "%%time\n",
    "docsets = []\n",
    "for x in corpus:\n",
    "    docsets.append(set([i[0] for i in x]))\n",
    "\n"
   ]
  },
  {
   "cell_type": "code",
   "execution_count": null,
   "metadata": {},
   "outputs": [],
   "source": [
    "docsets[0]"
   ]
  },
  {
   "cell_type": "code",
   "execution_count": 32,
   "metadata": {
    "collapsed": true
   },
   "outputs": [],
   "source": [
    "results = copy.deepcopy(query_truth)\n",
    "sim_list = [0] + [[] for i in range(10)]\n",
    "rank_list = [0]\n",
    "queries = [0]\n",
    "qlen = [0]\n",
    "qbow = [0]\n",
    "qsets = [0]\n",
    "for i,query in enumerate(files_to_tokens('LegalAdhocTask/q*.txt')):\n",
    "    query = [i for i in query if i in dictionary.token2id]\n",
    "    qlen.append(len(query))\n",
    "    queries.append(query)\n",
    "    qbow.append(dictionary.doc2bow(query))\n",
    "    qsets.append( set([i[0] for i in qbow[-1]]) )\n"
   ]
  },
  {
   "cell_type": "code",
   "execution_count": null,
   "metadata": {
    "scrolled": true
   },
   "outputs": [
    {
     "name": "stdout",
     "output_type": "stream",
     "text": [
      "0\n",
      "1\n",
      "2\n",
      "3\n",
      "4\n",
      "5\n",
      "6\n",
      "7\n",
      "8\n",
      "9\n",
      "10\n",
      "11\n",
      "12\n",
      "13\n",
      "14\n",
      "15\n",
      "16\n",
      "17\n",
      "18\n",
      "19\n",
      "20\n",
      "21\n",
      "22\n",
      "23\n",
      "24\n",
      "25\n",
      "26\n",
      "27\n",
      "28\n",
      "29\n",
      "30\n",
      "31\n",
      "32\n",
      "33\n",
      "34\n",
      "35\n",
      "36\n",
      "37\n",
      "38\n",
      "39\n",
      "40\n",
      "41\n",
      "42\n",
      "43\n",
      "44\n",
      "45\n",
      "46\n",
      "47\n",
      "48\n",
      "49\n",
      "50\n",
      "51\n",
      "52\n",
      "53\n",
      "54\n",
      "55\n",
      "56\n",
      "57\n",
      "58\n",
      "59\n",
      "60\n",
      "61\n",
      "62\n",
      "63\n",
      "64\n",
      "65\n",
      "66\n",
      "67\n",
      "68\n",
      "69\n",
      "70\n",
      "71\n",
      "72\n",
      "73\n",
      "74\n",
      "75\n",
      "76\n",
      "77\n",
      "78\n",
      "79\n",
      "80\n",
      "81\n",
      "82\n",
      "83\n",
      "84\n",
      "85\n",
      "86\n",
      "87\n",
      "88\n",
      "89\n",
      "90\n",
      "91\n",
      "92\n",
      "93\n",
      "94\n",
      "95\n",
      "96\n",
      "97\n",
      "98\n",
      "99\n",
      "100\n",
      "101\n",
      "102\n",
      "103\n",
      "104\n",
      "105\n",
      "106\n",
      "107\n",
      "108\n",
      "109\n",
      "110\n",
      "111\n",
      "112\n",
      "113\n",
      "114\n",
      "115\n",
      "116\n",
      "117\n",
      "118\n",
      "119\n",
      "120\n",
      "121\n",
      "122\n",
      "123\n",
      "124\n",
      "125\n",
      "126\n",
      "127\n",
      "128\n",
      "129\n",
      "130\n",
      "131\n",
      "132\n",
      "133\n",
      "134\n",
      "135\n",
      "136\n",
      "137\n",
      "138\n",
      "139\n",
      "140\n",
      "141\n",
      "142\n",
      "143\n",
      "144\n",
      "145\n",
      "146\n",
      "147\n",
      "148\n",
      "149\n",
      "150\n",
      "151\n",
      "152\n",
      "153\n",
      "154\n",
      "155\n",
      "156\n",
      "157\n",
      "158\n",
      "159\n",
      "160\n",
      "161\n",
      "162\n",
      "163\n",
      "164\n",
      "165\n",
      "166\n",
      "167\n",
      "168\n",
      "169\n",
      "170\n",
      "171\n",
      "172\n",
      "173\n",
      "174\n",
      "175\n",
      "176\n",
      "177\n",
      "178\n",
      "179\n",
      "180\n",
      "181\n",
      "182\n",
      "183\n",
      "184\n",
      "185\n"
     ]
    }
   ],
   "source": [
    "%%time\n",
    "results = copy.deepcopy(query_truth)\n",
    "sim_list = [0] + [[] for i in range(10)]\n",
    "rank_list = [0]\n",
    "queries = [0]\n",
    "qlen = [0]\n",
    "qbow = [0]\n",
    "qsets = [0]\n",
    "for i,query in enumerate(files_to_tokens('LegalAdhocTask/q*.txt')):\n",
    "    query = [i for i in query if i in dictionary.token2id]\n",
    "    qlen.append(len(query))\n",
    "    queries.append(query)\n",
    "    qbow.append(dictionary.doc2bow(query))\n",
    "    qsets.append( set([i[0] for i in qbow[-1]]) )\n",
    "\n",
    "\n",
    "for d,doc in enumerate(corpus):\n",
    "    if doc:\n",
    "        for q in range(1, 11):\n",
    "            docset1 = qsets[q]\n",
    "            docset2 = docsets[d]\n",
    "            dlen1 = qlen[q]\n",
    "            dlen2 = doc_len[d]\n",
    "            voclist = sorted(set.union(docset1, docset2))\n",
    "            vocab_len = len(voclist)\n",
    "            voc_dic = {k: v for v, k in enumerate(voclist)}\n",
    "         \n",
    "            # Compute distance matrix.\n",
    "            distance_matrix = zeros((vocab_len, vocab_len), dtype=double)\n",
    "            for i in docset1:\n",
    "                for j in docset2:\n",
    "                    if (i,j) not in distance_cache:    \n",
    "                        # Compute Euclidean distance between word vectors.\n",
    "                        distance_matrix[voc_dic[i], voc_dic[j]] = \\\n",
    "                        sqrt(np_sum((w2v[dictionary.id2token[i]] - w2v[dictionary.id2token[j]])**2))\n",
    "                        distance_cache[(i,j)] = distance_matrix[voc_dic[i], voc_dic[j]]\n",
    "                    else:\n",
    "                        distance_matrix[voc_dic[i], voc_dic[j]] = distance_cache[(i,j)]\n",
    "\n",
    "            #print distance_matrix\n",
    "            if np_sum(distance_matrix) == 0.0:\n",
    "                # `emd` gets stuck if the distance matrix contains only zeros.\n",
    "                sim_list[q].append(-1000)\n",
    "                continue \n",
    "\n",
    "            d1 = zeros(vocab_len, dtype=double)\n",
    "            d2 = zeros(vocab_len, dtype=double)\n",
    "\n",
    "            for w, freq in qbow[q]:\n",
    "                d1[voc_dic[w]] = freq / float(dlen1)  # Normalized word frequencies.\n",
    "            for w, freq in doc:\n",
    "                d2[voc_dic[w]] = freq / float(dlen2)  # Normalized word frequencies.\n",
    "\n",
    "            # Compute WMD.\n",
    "            sim_list[q].append(emd(d1, d2, distance_matrix))\n",
    "    else: # if the doc is empty\n",
    "        for i in range(1, 11):\n",
    "            sim_list[q].append(-1000)\n",
    "    print d\n",
    "    if d >= 1000:\n",
    "        break\n",
    "################################################################        \n",
    "for q in range(1, 11):\n",
    "    break\n",
    "    ranks = rankdata(sims[q], method='ordinal')\n",
    "    ranks= len(ranks)+1 - ranks \n",
    "    rank_list.append(ranks)\n",
    "    # update the query truth tuples with similarity score and the ranks\n",
    "    for x in results[str(q+1)]:\n",
    "        x.append(sims[filenames.index(x[0]+'.txt')])\n",
    "        x.append(ranks[filenames.index(x[0]+'.txt')])\n",
    "\n",
    "        "
   ]
  },
  {
   "cell_type": "code",
   "execution_count": 58,
   "metadata": {},
   "outputs": [
    {
     "name": "stdout",
     "output_type": "stream",
     "text": [
      "hello\n"
     ]
    }
   ],
   "source": [
    "print \"hello\""
   ]
  },
  {
   "cell_type": "code",
   "execution_count": 51,
   "metadata": {
    "scrolled": true
   },
   "outputs": [
    {
     "data": {
      "text/plain": [
       "[0,\n",
       " [16.890827099511522],\n",
       " [15.420610249286481],\n",
       " [16.063524800096044],\n",
       " [14.813866890527416],\n",
       " [15.612927507185413],\n",
       " [17.153650218064293],\n",
       " [15.523167647444359],\n",
       " [15.431416047248488],\n",
       " [15.142004262530316],\n",
       " [16.1761308301454]]"
      ]
     },
     "execution_count": 51,
     "metadata": {},
     "output_type": "execute_result"
    }
   ],
   "source": [
    "sim_list"
   ]
  },
  {
   "cell_type": "code",
   "execution_count": 52,
   "metadata": {
    "scrolled": false
   },
   "outputs": [
    {
     "data": {
      "text/plain": [
       "[0,\n",
       " [16.890827099511522],\n",
       " [15.420610249286481],\n",
       " [16.063524800096044],\n",
       " [14.813866890527416],\n",
       " [15.612927507185413],\n",
       " [17.153650218064293],\n",
       " [15.523167647444359],\n",
       " [15.431416047248488],\n",
       " [15.142004262530316],\n",
       " [16.1761308301454]]"
      ]
     },
     "execution_count": 52,
     "metadata": {},
     "output_type": "execute_result"
    }
   ],
   "source": [
    "sim_list"
   ]
  },
  {
   "cell_type": "code",
   "execution_count": null,
   "metadata": {
    "collapsed": true
   },
   "outputs": [],
   "source": []
  }
 ],
 "metadata": {
  "kernelspec": {
   "display_name": "Python 2",
   "language": "python",
   "name": "python2"
  },
  "language_info": {
   "codemirror_mode": {
    "name": "ipython",
    "version": 2
   },
   "file_extension": ".py",
   "mimetype": "text/x-python",
   "name": "python",
   "nbconvert_exporter": "python",
   "pygments_lexer": "ipython2",
   "version": "2.7.13"
  }
 },
 "nbformat": 4,
 "nbformat_minor": 2
}
