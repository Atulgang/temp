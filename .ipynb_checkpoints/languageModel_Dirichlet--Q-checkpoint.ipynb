{
 "cells": [
  {
   "cell_type": "code",
   "execution_count": 1,
   "metadata": {
    "collapsed": true
   },
   "outputs": [],
   "source": [
    "def only_alphabet(text):\n",
    "    return ''.join(i for i in text if (ord(i)<123 and ord(i)>96) or (ord(i)<91 and ord(i)>64) or ord(i)==32) "
   ]
  },
  {
   "cell_type": "code",
   "execution_count": 2,
   "metadata": {
    "collapsed": true
   },
   "outputs": [],
   "source": [
    "import logging\n",
    "logging.basicConfig(format='%(asctime)s : %(levelname)s : %(message)s', level=logging.INFO)"
   ]
  },
  {
   "cell_type": "code",
   "execution_count": 3,
   "metadata": {},
   "outputs": [
    {
     "name": "stderr",
     "output_type": "stream",
     "text": [
      "2018-01-04 19:31:20,259 : INFO : 'pattern' package not found; tag filters are not available for English\n"
     ]
    }
   ],
   "source": [
    "import nltk\n",
    "from nltk.tokenize import word_tokenize\n",
    "from stop_words import get_stop_words\n",
    "from nltk.stem import WordNetLemmatizer\n",
    "from gensim import corpora, models\n",
    "import gensim\n",
    "import glob2\n",
    "from itertools import chain\n",
    "import os\n",
    "import numpy as np\n",
    "import itertools\n",
    "from  scipy.stats import rankdata\n",
    "import copy\n"
   ]
  },
  {
   "cell_type": "code",
   "execution_count": 4,
   "metadata": {
    "collapsed": true
   },
   "outputs": [],
   "source": [
    "# get stopwords as set\n",
    "# get Vocabulary and remove words with length less than 3 \n",
    "# vocab is sorted in descending order \n",
    "\n",
    "en_stop = set(get_stop_words('en'))\n",
    "vocab  = open(\"wordsEn.txt\").read().splitlines()\n",
    "vocab = [i for i in vocab  if len(i)>2]\n",
    "vocab.sort(key=len, reverse=True)\n",
    "\n",
    "vocab_set = set(vocab)\n"
   ]
  },
  {
   "cell_type": "code",
   "execution_count": 5,
   "metadata": {
    "collapsed": true
   },
   "outputs": [],
   "source": [
    "full_filenames = []\n",
    "x= ['LegalAdhocTask/ConsumerCourtAdhocdata/DCDRC/**/*.txt','LegalAdhocTask/ConsumerCourtAdhocdata/NCDRC/**/*.txt','LegalAdhocTask/ConsumerCourtAdhocdata/SCDRC/**/*.txt', 'LegalAdhocTask/SC-HCAdhocData/DelhiHC/**/*.txt','LegalAdhocTask/SC-HCAdhocData/JharkhandHC/**/*.txt', 'LegalAdhocTask/SC-HCAdhocData/JodhpurHC/**/*.txt' ,'LegalAdhocTask/SC-HCAdhocData/KolkataHC/**/*.txt', 'LegalAdhocTask/SC-HCAdhocData/SupremeCourt/**/*.txt']\n",
    "for glob_filenames in x:\n",
    "    glob_filenames = os.path.normpath(glob_filenames)\n",
    "    for filename in sorted(glob2.glob(glob_filenames)):\n",
    "        full_filenames.append(filename)\n",
    "        if not os.path.isfile(filename):\n",
    "            print 'wtffff'\n",
    "            \n",
    "            \n",
    "filenames = []\n",
    "x= ['LegalAdhocTask/ConsumerCourtAdhocdata/DCDRC/**/*.txt','LegalAdhocTask/ConsumerCourtAdhocdata/NCDRC/**/*.txt','LegalAdhocTask/ConsumerCourtAdhocdata/SCDRC/**/*.txt', 'LegalAdhocTask/SC-HCAdhocData/DelhiHC/**/*.txt','LegalAdhocTask/SC-HCAdhocData/JharkhandHC/**/*.txt', 'LegalAdhocTask/SC-HCAdhocData/JodhpurHC/**/*.txt' ,'LegalAdhocTask/SC-HCAdhocData/KolkataHC/**/*.txt', 'LegalAdhocTask/SC-HCAdhocData/SupremeCourt/**/*.txt']\n",
    "for glob_filenames in x:\n",
    "    glob_filenames = os.path.normpath(glob_filenames)\n",
    "    for filename in sorted(glob2.glob(glob_filenames)):\n",
    "        filenames.append(os.path.basename(filename))\n",
    "        if not os.path.isfile(filename):\n",
    "            print 'wtffff'\n",
    "\n",
    "# \"yield\" for each file return token list  i.e list of lists\n",
    "def files_to_tokens(glob_filenames):\n",
    "    glob_filenames = os.path.normpath(glob_filenames)\n",
    "    lemmatizer = WordNetLemmatizer()\n",
    "    for filename in sorted(glob2.glob(glob_filenames)):\n",
    "        f = open(filename)\n",
    "        # read the whole file as lowercase string\n",
    "        string = only_alphabet(f.read()).lower()\n",
    "        \n",
    "        # tokenize that string\n",
    "        tokens =  word_tokenize(string)\n",
    "        \n",
    "        # remove stop words tokens and length two tokens\n",
    "        tokens = [lemmatizer.lemmatize(i) for i in tokens if i not in en_stop and len(i)>2]\n",
    "\n",
    "        #seperate words stuck together\n",
    "        for i,token in enumerate(tokens):\n",
    "            if token not in vocab_set:\n",
    "#                 print token\n",
    "                # both prefix and suffix incase one of the word is of len(2)\n",
    "                # prefix match\n",
    "                flag = 0\n",
    "                for j in range(len(token)-2,2,-1):\n",
    "                    if token[:j] in vocab_set:\n",
    "                            tokens.append(token[:j])\n",
    "                            tokens.append(token[j:])\n",
    "#                             print 'prefixx'\n",
    "#                             print token[:j], token[j:]\n",
    "                            del tokens[i]\n",
    "                            flag = 1\n",
    "                            break               \n",
    "                \n",
    "                if flag == 1:\n",
    "#                     print 'prefix milgaya'\n",
    "                    continue \n",
    "                # suffix match\n",
    "                flag = 0\n",
    "                for j in range(1,len(token)-2):\n",
    "                    if token[j:] in vocab_set:\n",
    "                            tokens.append(token[:j])\n",
    "                            tokens.append(token[j:])\n",
    "#                             print 'suffix'\n",
    "#                             print token[:j], token[j:]\n",
    "                            flag =1\n",
    "                            del tokens[i]                            \n",
    "                            break               \n",
    "#                 if flag == 0:\n",
    "#                     print 'couldnt break' \n",
    "        # again remove stop words and length two tokens AND WORDS not in vocab\n",
    "        tokens = [i for i in tokens if i not in en_stop and len(i)>2 and i in vocab_set]                \n",
    "        if len(tokens) == 0:\n",
    "            print \"empty document\"\n",
    "        yield tokens\n",
    "        f.close()\n",
    "\n",
    "        \n",
    "# yields token list for files specific to courts; needed for creating dictionaries\n",
    "class texts:\n",
    "    def DCDRC(self):\n",
    "        return files_to_tokens('LegalAdhocTask/ConsumerCourtAdhocdata/DCDRC/**/*.txt')\n",
    "    def NCDRC(self):\n",
    "        return files_to_tokens('LegalAdhocTask/ConsumerCourtAdhocdata/NCDRC/**/*.txt')\n",
    "    def SCDRC(self):\n",
    "        return files_to_tokens('LegalAdhocTask/ConsumerCourtAdhocdata/SCDRC/**/*.txt')\n",
    "    def DelhiHC(self):\n",
    "        return files_to_tokens('LegalAdhocTask/SC-HCAdhocData/DelhiHC/**/*.txt')\n",
    "    def JharkhandHC(self):\n",
    "        return files_to_tokens('LegalAdhocTask/SC-HCAdhocData/JharkhandHC/**/*.txt')\n",
    "    def JodhpurHC(self):\n",
    "        return files_to_tokens('LegalAdhocTask/SC-HCAdhocData/JodhpurHC/**/*.txt')\n",
    "    def KolkataHC(self):\n",
    "        return files_to_tokens('LegalAdhocTask/SC-HCAdhocData/KolkataHC/**/*.txt')\n",
    "    def SupremeCourt(self):\n",
    "        return files_to_tokens('LegalAdhocTask/SC-HCAdhocData/SupremeCourt/**/*.txt')\n",
    "\n",
    "# yields bow for each file - tuples id,fq ; needed to train models   \n",
    "class my_corpus:    \n",
    "    def DCDRC(self):\n",
    "        for text in files_to_tokens('LegalAdhocTask/ConsumerCourtAdhocdata/DCDRC/*.txt'):\n",
    "            yield dictionary.doc2bow(text)\n",
    "    def NCDRC(self):\n",
    "        for text in files_to_tokens('LegalAdhocTask/ConsumerCourtAdhocdata/NCDRC/**/*.txt'):\n",
    "            yield dictionary.doc2bow(text)            \n",
    "    def SCDRC(self):\n",
    "        for text in files_to_tokens('LegalAdhocTask/ConsumerCourtAdhocdata/SCDRC/**/*.txt'):\n",
    "            yield dictionary.doc2bow(text)\n",
    "    def DelhiHC(self):\n",
    "        for text in files_to_tokens('LegalAdhocTask/SC-HCAdhocData/DelhiHC/**/*.txt'):\n",
    "            yield dictionary.doc2bow(text)\n",
    "    def JharkhandHC(self):\n",
    "        for text in files_to_tokens('LegalAdhocTask/SC-HCAdhocData/JharkhandHC/**/*.txt'):\n",
    "            yield dictionary.doc2bow(text)\n",
    "    def JodhpurHC(self):\n",
    "        for text in  files_to_tokens('LegalAdhocTask/SC-HCAdhocData/JodhpurHC/**/*.txt'):\n",
    "            yield dictionary.doc2bow(text)\n",
    "    def KolkataHC(self):\n",
    "        for text in  files_to_tokens('LegalAdhocTask/SC-HCAdhocData/KolkataHC/**/*.txt'):\n",
    "            yield dictionary.doc2bow(text)\n",
    "    def SupremeCourt(self):\n",
    "        for text in  files_to_tokens('LegalAdhocTask/SC-HCAdhocData/SupremeCourt/**/*.txt'):\n",
    "            yield dictionary.doc2bow(text)\n",
    "    def everything(self):\n",
    "        return chain(self.DCDRC(), self.NCDRC(), self.SCDRC(), self.DelhiHC(),\n",
    "                     self.JharkhandHC(), self.JodhpurHC(), self.KolkataHC(), self.SupremeCourt())\n",
    "        \n",
    "        "
   ]
  },
  {
   "cell_type": "code",
   "execution_count": 6,
   "metadata": {
    "scrolled": true
   },
   "outputs": [
    {
     "name": "stderr",
     "output_type": "stream",
     "text": [
      "2018-01-04 19:31:36,704 : INFO : loading Dictionary object from newdictionary\n",
      "2018-01-04 19:31:36,715 : INFO : loaded newdictionary\n"
     ]
    }
   ],
   "source": [
    "#################################### laod the dictinary\n",
    "dictionary = corpora.Dictionary.load('newdictionary')"
   ]
  },
  {
   "cell_type": "code",
   "execution_count": 7,
   "metadata": {
    "scrolled": false
   },
   "outputs": [
    {
     "name": "stderr",
     "output_type": "stream",
     "text": [
      "2018-01-04 19:31:36,850 : INFO : loaded corpus index from newcorpus.mm.index\n",
      "2018-01-04 19:31:36,851 : INFO : initializing corpus reader from newcorpus.mm\n",
      "2018-01-04 19:31:36,851 : INFO : accepted corpus with 351985 documents, 35955 features, 88778565 non-zero entries\n"
     ]
    }
   ],
   "source": [
    "######################################## load BOW\n",
    "corpus = corpora.MmCorpus('newcorpus.mm')"
   ]
  },
  {
   "cell_type": "code",
   "execution_count": 8,
   "metadata": {
    "collapsed": true
   },
   "outputs": [],
   "source": [
    "# get the query truth in dictionary\n",
    "query_truth = {}\n",
    "for i in range(1,11):\n",
    "    query_truth[str(i)]=[]\n",
    "    \n",
    "    \n",
    "f = open('LegalAdhocTask/Consumer.qrels')\n",
    "lines = [line.rstrip('\\n').split(\"\\t\") for line in f]\n",
    "for line in lines:\n",
    "    del line[1]\n",
    "    query_truth[line[0]].append(line[1:])\n"
   ]
  },
  {
   "cell_type": "code",
   "execution_count": 9,
   "metadata": {
    "collapsed": true
   },
   "outputs": [],
   "source": [
    "import cPickle as pickle\n",
    "\n",
    "# load p_C\n",
    "with open('p_C.pkl', 'rb') as ip:\n",
    "    p_C = pickle.load(ip)"
   ]
  },
  {
   "cell_type": "code",
   "execution_count": 10,
   "metadata": {
    "collapsed": true
   },
   "outputs": [],
   "source": [
    "# load doc_len\n",
    "with open('doc_len.pkl', 'rb') as ip:\n",
    "    doc_len = pickle.load(ip)"
   ]
  },
  {
   "cell_type": "code",
   "execution_count": 11,
   "metadata": {
    "collapsed": true
   },
   "outputs": [],
   "source": [
    "\n",
    "import math\n",
    "from six import iteritems\n",
    "from six.moves import xrange\n",
    "\n",
    "\n",
    "# Dirichlet parameter\n",
    "MU = 2000\n",
    "\n",
    "\n",
    "class Dirichlet(object):\n",
    "\n",
    "    def __init__(self, corpus):\n",
    "        self.corpus = corpus\n",
    "        self.corpus_size = dictionary.num_docs\n",
    "\n",
    "    # document here refers to query , index is of the document in the corpus\n",
    "    def get_score(self, query, index, query_len):\n",
    "        # as a python dict\n",
    "        index_doc = dict(self.corpus[index])\n",
    "        score = 0\n",
    "        for word,freq in query:\n",
    "            if word not in index_doc:\n",
    "                continue\n",
    "            score += math.log( 1 + freq/ (MU * p_C[word]) )\n",
    "        return score + query_len * math.log(MU/(doc_len[index] + MU))\n",
    "\n",
    "    def get_scores(self, query):\n",
    "        scores = []\n",
    "        query_len = 0\n",
    "        for word, freq in query:\n",
    "            query_len += freq\n",
    "        for index in xrange(self.corpus_size):\n",
    "            score = self.get_score(query, index, query_len)\n",
    "            scores.append(score)\n",
    "        return scores\n",
    "\n"
   ]
  },
  {
   "cell_type": "code",
   "execution_count": 12,
   "metadata": {
    "collapsed": true
   },
   "outputs": [],
   "source": [
    "# run it once for initializing the idf \n",
    "D = Dirichlet(corpus)"
   ]
  },
  {
   "cell_type": "code",
   "execution_count": 13,
   "metadata": {
    "collapsed": true
   },
   "outputs": [],
   "source": [
    "MU = 2000"
   ]
  },
  {
   "cell_type": "code",
   "execution_count": 14,
   "metadata": {
    "scrolled": true
   },
   "outputs": [
    {
     "name": "stdout",
     "output_type": "stream",
     "text": [
      "0\n",
      "1\n",
      "2\n",
      "3\n",
      "4\n",
      "5\n",
      "6\n",
      "7\n",
      "8\n",
      "9\n"
     ]
    }
   ],
   "source": [
    "tfidf_results = copy.deepcopy(query_truth)\n",
    "\n",
    "sim_list = [0]\n",
    "rank_list = [0]\n",
    "queries = [0]\n",
    "for i,query in enumerate(files_to_tokens('LegalAdhocTask/q*.txt')):\n",
    "    queries.append(query)\n",
    "    sims = D.get_scores(dictionary.doc2bow(query))\n",
    "    sim_list.append(sims)\n",
    "    # rank of every document wrt similarity\n",
    "    ranks = rankdata(sims, method='ordinal')\n",
    "    ranks= len(ranks)+1 - ranks \n",
    "    rank_list.append(ranks)\n",
    "    \n",
    "    # update the query truth tuples with similarity score and the ranks\n",
    "    for x in tfidf_results[str(i+1)]:\n",
    "        x.append(sims[filenames.index(x[0]+'.txt')])\n",
    "        x.append(ranks[filenames.index(x[0]+'.txt')])\n",
    "        #x.append(common_words(filenames.index(x[0]+'.txt'), tfidf_corpus, query))\n",
    "    print i\n",
    "    # sort wrt relevance(from truth) and then ranks(from our model)\n",
    "    #tfidf_results[str(i+1)].sort(key=lambda x: (-int(x[1]),x[3]))     \n",
    "    \n",
    "        "
   ]
  },
  {
   "cell_type": "code",
   "execution_count": 15,
   "metadata": {
    "scrolled": false
   },
   "outputs": [
    {
     "data": {
      "text/plain": [
       "{'1': [['ConsumerCourt_DCDRC_100385', '1', 1.9221174071695817, 1326],\n",
       "  ['ConsumerCourt_DCDRC_106530', '0', 9.503829479961064, 34],\n",
       "  ['ConsumerCourt_DCDRC_107608', '1', -16.919173435758434, 288823],\n",
       "  ['ConsumerCourt_DCDRC_114291', '1', -34.10422045277916, 340111],\n",
       "  ['ConsumerCourt_DCDRC_114382', '1', -21.745648292617897, 313748],\n",
       "  ['ConsumerCourt_DCDRC_118185', '1', -10.719478493817611, 228142],\n",
       "  ['ConsumerCourt_DCDRC_130318', '0', 10.762423942767144, 15],\n",
       "  ['ConsumerCourt_DCDRC_130570', '1', 4.219836762373582, 457],\n",
       "  ['ConsumerCourt_DCDRC_131146', '1', -11.540608698467565, 238914],\n",
       "  ['ConsumerCourt_DCDRC_131717', '1', -13.433825539039244, 260075],\n",
       "  ['ConsumerCourt_DCDRC_131741', '1', -17.452162249748945, 292227],\n",
       "  ['ConsumerCourt_DCDRC_131818', '1', -5.806765126312843, 155448],\n",
       "  ['ConsumerCourt_DCDRC_131950', '0', -18.149797383303646, 296517],\n",
       "  ['ConsumerCourt_DCDRC_131972', '0', -5.69746860443005, 153786],\n",
       "  ['ConsumerCourt_DCDRC_132932', '0', 3.0704814418594673, 715],\n",
       "  ['ConsumerCourt_DCDRC_133592', '1', 7.297978481809267, 112],\n",
       "  ['ConsumerCourt_DCDRC_134386', '0', 2.6359887914388036, 877],\n",
       "  ['ConsumerCourt_DCDRC_135474', '1', 4.124482557436268, 468],\n",
       "  ['ConsumerCourt_DCDRC_139024', '0', 1.361257202071318, 2199],\n",
       "  ['ConsumerCourt_DCDRC_139205', '0', 5.453890469980088, 277],\n",
       "  ['ConsumerCourt_DCDRC_140039', '1', 5.9550060773401565, 214],\n",
       "  ['ConsumerCourt_DCDRC_145708', '0', 4.7763188678562365, 369],\n",
       "  ['ConsumerCourt_DCDRC_187214', '1', 4.870707970160776, 355],\n",
       "  ['ConsumerCourt_DCDRC_207784', '1', 5.49048938108098, 267],\n",
       "  ['ConsumerCourt_DCDRC_217344', '1', 6.230906188181656, 189],\n",
       "  ['ConsumerCourt_DCDRC_217471', '1', 5.522112683433955, 265],\n",
       "  ['ConsumerCourt_DCDRC_222797', '0', 8.441916647031537, 67],\n",
       "  ['ConsumerCourt_DCDRC_222844', '1', 13.053556314210155, 7],\n",
       "  ['ConsumerCourt_DCDRC_224228', '0', 2.890900001097352, 772],\n",
       "  ['ConsumerCourt_DCDRC_224833', '0', 16.993577395162895, 2],\n",
       "  ['ConsumerCourt_DCDRC_226072', '1', 6.574381586813021, 156],\n",
       "  ['ConsumerCourt_DCDRC_38498', '0', 9.683779525219864, 28],\n",
       "  ['ConsumerCourt_DCDRC_39186', '1', 2.5541775045277753, 907],\n",
       "  ['ConsumerCourt_DCDRC_41317', '1', 2.993279808747614, 743],\n",
       "  ['ConsumerCourt_DCDRC_41588', '1', 15.053168860190633, 3],\n",
       "  ['ConsumerCourt_DCDRC_42118', '1', 5.170977104422498, 313],\n",
       "  ['ConsumerCourt_DCDRC_42618', '1', 8.90963231625081, 53],\n",
       "  ['ConsumerCourt_DCDRC_42649', '1', 2.114410647970935, 1168],\n",
       "  ['ConsumerCourt_DCDRC_44200', '1', 5.370972822453574, 287],\n",
       "  ['ConsumerCourt_DCDRC_46368', '1', 4.637329036130184, 393],\n",
       "  ['ConsumerCourt_DCDRC_46519', '1', 13.104360716250358, 6],\n",
       "  ['ConsumerCourt_DCDRC_46543', '1', 8.266659180489356, 71],\n",
       "  ['ConsumerCourt_DCDRC_53138', '1', 11.046699207923009, 13],\n",
       "  ['ConsumerCourt_DCDRC_55517', '1', 3.041225671791576, 723],\n",
       "  ['ConsumerCourt_DCDRC_55612', '1', -0.08267989803508868, 8300],\n",
       "  ['ConsumerCourt_DCDRC_55678', '1', -1.254330697556032, 49318],\n",
       "  ['ConsumerCourt_DCDRC_55899', '1', 6.588286235430219, 154],\n",
       "  ['ConsumerCourt_DCDRC_57484', '0', 13.20881099184503, 5],\n",
       "  ['ConsumerCourt_DCDRC_74868', '1', 1.9634048543716442, 1281],\n",
       "  ['ConsumerCourt_DCDRC_80057', '1', 9.430452692694912, 40],\n",
       "  ['ConsumerCourt_DCDRC_83596', '0', 12.26849105466267, 9],\n",
       "  ['ConsumerCourt_DCDRC_83779', '0', 9.145394715893152, 46],\n",
       "  ['ConsumerCourt_DCDRC_96667', '1', 17.593710918968213, 1],\n",
       "  ['ConsumerCourt_DCDRC_98733', '1', 10.31976728161662, 19],\n",
       "  ['ConsumerCourt_SCDRC_52678', '0', 2.065261530703669, 1218],\n",
       "  ['DelhiHC_2011_4267', '0', -7.9945195742057855, 188976],\n",
       "  ['KolkataHCOriginalSite_2012_36', '0', -20.748603206352087, 309690]],\n",
       " '10': [['ConsumerCourt_DCDRC_220958', '0', -5.794459255831896, 131621],\n",
       "  ['ConsumerCourt_DCDRC_222509', '0', -8.078250987724456, 157216],\n",
       "  ['ConsumerCourt_DCDRC_223570', '0', 3.1141553039747905, 164],\n",
       "  ['ConsumerCourt_DCDRC_227314', '0', 10.283714586788838, 6],\n",
       "  ['ConsumerCourt_DCDRC_228688', '1', 13.656585258382837, 4],\n",
       "  ['ConsumerCourt_DCDRC_235883', '0', 7.125258563503632, 15],\n",
       "  ['ConsumerCourt_DCDRC_38192', '0', 11.606595979647686, 5],\n",
       "  ['ConsumerCourt_DCDRC_41485', '0', -6.581395880383699, 140552],\n",
       "  ['ConsumerCourt_DCDRC_41489', '0', -6.581395880383699, 140551],\n",
       "  ['ConsumerCourt_DCDRC_41520', '0', 6.349230482687922, 20],\n",
       "  ['ConsumerCourt_SCDRC_44836', '0', 6.972897921690091, 17],\n",
       "  ['ConsumerCourt_SCDRC_56350', '0', 20.418800101708808, 3],\n",
       "  ['ConsumerCourt_SCDRC_65898', '0', -2.096951784484464, 60653],\n",
       "  ['ConsumerCourt_SCDRC_68718', '0', 22.913678471629982, 2],\n",
       "  ['ConsumerCourt_SCDRC_69937', '1', 64.55976958015766, 1],\n",
       "  ['ConsumerCourt_SCDRC_70632', '0', 9.498398029721194, 7],\n",
       "  ['DelhiHC_2008_2771', '0', -183.50432455618886, 351980],\n",
       "  ['DelhiHC_2008_2772', '0', -183.50432455618886, 351979]],\n",
       " '2': [['ConsumerCourt_DCDRC_103241', '0', -99.92893433556543, 350415],\n",
       "  ['ConsumerCourt_DCDRC_107786', '1', 3.9293997130600538, 66],\n",
       "  ['ConsumerCourt_DCDRC_114305', '1', -71.2489902885708, 345484],\n",
       "  ['ConsumerCourt_DCDRC_120930', '1', -10.707583480524328, 166375],\n",
       "  ['ConsumerCourt_DCDRC_123490', '1', -26.530969119102124, 282359],\n",
       "  ['ConsumerCourt_DCDRC_125352', '1', -49.11810169302606, 332668],\n",
       "  ['ConsumerCourt_DCDRC_127791', '0', -5.240447651637147, 111501],\n",
       "  ['ConsumerCourt_DCDRC_130071', '0', -13.551417421135042, 193060],\n",
       "  ['ConsumerCourt_DCDRC_130920', '1', -8.633285361465138, 146730],\n",
       "  ['ConsumerCourt_DCDRC_131972', '0', -45.92996706549557, 329078],\n",
       "  ['ConsumerCourt_DCDRC_133106', '1', -18.73256860401028, 236835],\n",
       "  ['ConsumerCourt_DCDRC_133260', '0', 3.418952091950299, 87],\n",
       "  ['ConsumerCourt_DCDRC_143284', '1', -17.083814770986805, 224102],\n",
       "  ['ConsumerCourt_DCDRC_143334', '0', -7.0445161298617265, 130863],\n",
       "  ['ConsumerCourt_DCDRC_144440', '0', -22.31800996902885, 260949],\n",
       "  ['ConsumerCourt_DCDRC_202900', '0', -2.9452343723304804, 73038],\n",
       "  ['ConsumerCourt_DCDRC_202903', '0', 1.932879985478083, 339],\n",
       "  ['ConsumerCourt_DCDRC_207376', '1', 4.331950058221281, 49],\n",
       "  ['ConsumerCourt_DCDRC_212601', '0', -40.314043239180414, 321048],\n",
       "  ['ConsumerCourt_DCDRC_212692', '1', -12.87219627390845, 186616],\n",
       "  ['ConsumerCourt_DCDRC_214518', '1', -0.5761552548239486, 12097],\n",
       "  ['ConsumerCourt_DCDRC_226924', '0', 2.9905390882120066, 130],\n",
       "  ['ConsumerCourt_DCDRC_227866', '1', -5.173738422893411, 110673],\n",
       "  ['ConsumerCourt_DCDRC_228749', '1', 4.884520001969655, 33],\n",
       "  ['ConsumerCourt_DCDRC_229221', '0', 1.8319761858037644, 412],\n",
       "  ['ConsumerCourt_DCDRC_230361', '1', -5.001090454106848, 108670],\n",
       "  ['ConsumerCourt_DCDRC_41190', '0', -9.165484969353148, 151888],\n",
       "  ['ConsumerCourt_DCDRC_50671', '1', -16.956155599224864, 223102],\n",
       "  ['ConsumerCourt_DCDRC_52620', '1', -34.880628116941246, 309949],\n",
       "  ['ConsumerCourt_DCDRC_53093', '1', -10.044632954966993, 160046],\n",
       "  ['ConsumerCourt_DCDRC_53138', '0', 3.292685961847482, 99],\n",
       "  ['ConsumerCourt_DCDRC_53153', '1', -9.05798736622792, 150763],\n",
       "  ['ConsumerCourt_DCDRC_53432', '0', -12.389397808344686, 182155],\n",
       "  ['ConsumerCourt_DCDRC_53875', '0', -4.790926457720312, 105927],\n",
       "  ['ConsumerCourt_DCDRC_53881', '0', -4.790926457720312, 105926],\n",
       "  ['ConsumerCourt_DCDRC_56471', '1', -13.602081054008458, 193542],\n",
       "  ['ConsumerCourt_DCDRC_56761', '0', -25.445258667383918, 277421],\n",
       "  ['ConsumerCourt_DCDRC_57453', '0', -16.641513312989026, 220471],\n",
       "  ['ConsumerCourt_DCDRC_57583', '0', -19.976245511511824, 245768],\n",
       "  ['ConsumerCourt_DCDRC_62986', '0', 3.2525423351722935, 104],\n",
       "  ['ConsumerCourt_DCDRC_63724', '0', -8.01962357415724, 140597],\n",
       "  ['ConsumerCourt_DCDRC_68765', '0', -5.748995708705959, 117177],\n",
       "  ['ConsumerCourt_DCDRC_68808', '0', -7.543306446997086, 136020],\n",
       "  ['ConsumerCourt_DCDRC_69863', '0', -5.0905786427256565, 109678],\n",
       "  ['ConsumerCourt_DCDRC_74887', '0', -3.4529384611865126, 84458],\n",
       "  ['ConsumerCourt_DCDRC_75562', '0', -9.775164116314931, 157537],\n",
       "  ['ConsumerCourt_DCDRC_76114', '0', -3.246068525338875, 79997],\n",
       "  ['ConsumerCourt_DCDRC_76186', '0', -2.0213660498317125, 48250],\n",
       "  ['ConsumerCourt_DCDRC_76270', '0', 0.13680166163602436, 2655],\n",
       "  ['ConsumerCourt_DCDRC_77085', '1', -0.6149034042974684, 12974],\n",
       "  ['ConsumerCourt_DCDRC_77280', '0', -11.689004009605966, 175671],\n",
       "  ['ConsumerCourt_DCDRC_77935', '1', -8.109037233632577, 141498],\n",
       "  ['ConsumerCourt_DCDRC_87186', '0', -1.408564925936778, 30881],\n",
       "  ['ConsumerCourt_DCDRC_91864', '1', -9.461915438521412, 154669],\n",
       "  ['ConsumerCourt_DCDRC_96244', '1', -5.132452278114652, 110135],\n",
       "  ['ConsumerCourt_NCDRC_1317', '0', -2.6766982475572902, 66069],\n",
       "  ['ConsumerCourt_SCDRC_49685', '0', -5.150716881394285, 110370],\n",
       "  ['ConsumerCourt_SCDRC_60064', '1', -11.631958355379597, 175156],\n",
       "  ['ConsumerCourt_SCDRC_62062', '1', -15.325651242302365, 209102]],\n",
       " '3': [['ConsumerCourt_DCDRC_103355', '0', -107.72960016509366, 346652],\n",
       "  ['ConsumerCourt_DCDRC_129293', '1', 1.8680511151046986, 267],\n",
       "  ['ConsumerCourt_DCDRC_133013', '1', -40.243730309988585, 285053],\n",
       "  ['ConsumerCourt_DCDRC_133017', '0', -52.078817841832745, 311627],\n",
       "  ['ConsumerCourt_DCDRC_137661', '0', -46.09309744234935, 300355],\n",
       "  ['ConsumerCourt_DCDRC_153064', '0', -83.01829908499485, 339386],\n",
       "  ['ConsumerCourt_DCDRC_187619', '1', -12.874528619755054, 142393],\n",
       "  ['ConsumerCourt_DCDRC_200840', '0', -7.428431762480972, 105953],\n",
       "  ['ConsumerCourt_DCDRC_222260', '1', -9.920876707598097, 123494],\n",
       "  ['ConsumerCourt_DCDRC_222772', '1', -42.0571948712404, 290272],\n",
       "  ['ConsumerCourt_DCDRC_223618', '1', 5.763640269588869, 8],\n",
       "  ['ConsumerCourt_DCDRC_228476', '0', 12.492886228966771, 2],\n",
       "  ['ConsumerCourt_DCDRC_228963', '1', 15.79707356218719, 1],\n",
       "  ['ConsumerCourt_DCDRC_230634', '1', 3.4401089315192195, 41],\n",
       "  ['ConsumerCourt_DCDRC_235824', '0', -1.184874543243513, 17467],\n",
       "  ['ConsumerCourt_DCDRC_45666', '0', 1.9554169712690097, 246],\n",
       "  ['ConsumerCourt_DCDRC_47493', '1', -13.664947143544456, 147280],\n",
       "  ['ConsumerCourt_DCDRC_52566', '0', -33.40475545209169, 261201],\n",
       "  ['ConsumerCourt_DCDRC_73184', '0', -25.71236334640481, 223366],\n",
       "  ['ConsumerCourt_DCDRC_73185', '0', -27.33694843120866, 232220],\n",
       "  ['ConsumerCourt_NCDRC_2861', '1', -73.64429513904834, 334218],\n",
       "  ['ConsumerCourt_NCDRC_2902', '0', -63.330794825788665, 326095],\n",
       "  ['ConsumerCourt_NCDRC_2979', '0', -52.94817649264751, 313093],\n",
       "  ['ConsumerCourt_NCDRC_632', '0', -36.49337755711017, 272696],\n",
       "  ['ConsumerCourt_NCDRC_637', '0', -36.43180803776152, 272484],\n",
       "  ['ConsumerCourt_SCDRC_2052', '0', -21.664133476651187, 198701],\n",
       "  ['ConsumerCourt_SCDRC_22704', '0', -44.41440581926725, 296418],\n",
       "  ['ConsumerCourt_SCDRC_29484', '0', -72.56251495125983, 333561],\n",
       "  ['ConsumerCourt_SCDRC_29552', '0', -75.73981133794106, 335388],\n",
       "  ['ConsumerCourt_SCDRC_30176', '0', -3.1682606083060003, 49924],\n",
       "  ['ConsumerCourt_SCDRC_48394', '0', -22.770434672585786, 205575],\n",
       "  ['ConsumerCourt_SCDRC_63569', '0', -93.80141652721802, 343176],\n",
       "  ['ConsumerCourt_SCDRC_63609', '0', 4.404740500592073, 23],\n",
       "  ['ConsumerCourt_SCDRC_65919', '0', 2.24787329343296, 177],\n",
       "  ['ConsumerCourt_SCDRC_66200', '0', -17.46319364421393, 171561],\n",
       "  ['ConsumerCourt_SCDRC_69801', '0', -22.965517507708377, 206792],\n",
       "  ['ConsumerCourt_SCDRC_814', '0', -26.939621957900442, 230064],\n",
       "  ['DelhiHC_2012_388', '0', -57.01907545723049, 318811]],\n",
       " '4': [['ConsumerCourt_DCDRC_106570', '0', 3.0567107426868407, 162],\n",
       "  ['ConsumerCourt_DCDRC_116129', '1', -13.13364635417818, 278724],\n",
       "  ['ConsumerCourt_DCDRC_128836', '0', -12.179337887204106, 269726],\n",
       "  ['ConsumerCourt_DCDRC_130725', '1', -19.14940265018083, 314893],\n",
       "  ['ConsumerCourt_DCDRC_133137', '0', -11.925566394154782, 267100],\n",
       "  ['ConsumerCourt_DCDRC_173376', '0', -1.4615722135178038, 66177],\n",
       "  ['ConsumerCourt_DCDRC_174292', '0', -1.2474620279231878, 57246],\n",
       "  ['ConsumerCourt_DCDRC_174300', '1', 2.4119307072446894, 284],\n",
       "  ['ConsumerCourt_DCDRC_202903', '0', -0.4010063232569161, 18479],\n",
       "  ['ConsumerCourt_DCDRC_205816', '1', -4.5476443834683895, 150713],\n",
       "  ['ConsumerCourt_DCDRC_207155', '0', 3.1246436870031555, 150],\n",
       "  ['ConsumerCourt_DCDRC_207197', '0', 2.163315507844205, 353],\n",
       "  ['ConsumerCourt_DCDRC_212467', '1', -15.239720869908702, 294814],\n",
       "  ['ConsumerCourt_DCDRC_213156', '0', 8.459760686329153, 1],\n",
       "  ['ConsumerCourt_DCDRC_213473', '0', 3.2356601607037554, 129],\n",
       "  ['ConsumerCourt_DCDRC_213784', '0', 3.7129005084523428, 76],\n",
       "  ['ConsumerCourt_DCDRC_214475', '0', -0.08446409360820795, 6933],\n",
       "  ['ConsumerCourt_DCDRC_218582', '0', 1.3477401169719165, 722],\n",
       "  ['ConsumerCourt_DCDRC_221177', '0', -1.5415939456516234, 69947],\n",
       "  ['ConsumerCourt_DCDRC_221424', '0', -5.0748532874260235, 160823],\n",
       "  ['ConsumerCourt_DCDRC_223275', '0', -2.868944133714683, 115976],\n",
       "  ['ConsumerCourt_DCDRC_226909', '0', 2.2379145125957347, 328],\n",
       "  ['ConsumerCourt_DCDRC_227099', '0', 5.177961936360923, 19],\n",
       "  ['ConsumerCourt_DCDRC_229902', '0', 3.3206096994179646, 113],\n",
       "  ['ConsumerCourt_DCDRC_47636', '0', 3.038335549744045, 167],\n",
       "  ['ConsumerCourt_DCDRC_49131', '0', 4.664095954356895, 32],\n",
       "  ['ConsumerCourt_DCDRC_51881', '0', -1.985960050740747, 89189],\n",
       "  ['ConsumerCourt_DCDRC_52357', '0', -3.3042824239913493, 125556],\n",
       "  ['ConsumerCourt_DCDRC_53202', '0', 4.763061588963479, 28],\n",
       "  ['ConsumerCourt_DCDRC_53580', '1', -3.7610919627098127, 135008],\n",
       "  ['ConsumerCourt_DCDRC_54056', '1', -4.363197091374708, 147083],\n",
       "  ['ConsumerCourt_DCDRC_70122', '0', -11.693767516079507, 264650],\n",
       "  ['ConsumerCourt_DCDRC_73309', '0', 0.08115114658759381, 4290],\n",
       "  ['ConsumerCourt_NCDRC_2154', '0', -2.835940743651577, 115224],\n",
       "  ['ConsumerCourt_NCDRC_3506', '0', -2.6810075411295458, 111402],\n",
       "  ['ConsumerCourt_SCDRC_1143', '1', -1.0746046005578762, 50225],\n",
       "  ['ConsumerCourt_SCDRC_1288', '1', -9.943332516736556, 243495],\n",
       "  ['ConsumerCourt_SCDRC_22830', '0', -10.966277235697861, 256368],\n",
       "  ['ConsumerCourt_SCDRC_37679', '1', -11.418005830109944, 261462],\n",
       "  ['ConsumerCourt_SCDRC_471', '0', 3.3526849575697923, 111],\n",
       "  ['ConsumerCourt_SCDRC_49973', '1', 0.417366643698152, 2359],\n",
       "  ['ConsumerCourt_SCDRC_5406', '0', -0.31621532428731114, 15192],\n",
       "  ['ConsumerCourt_SCDRC_7046', '1', -5.6844560774685995, 172410],\n",
       "  ['DelhiHC_2012_3856', '0', -7.87764406513104, 212087],\n",
       "  ['SupremeCourt_2009_1421', '0', -54.031838344632774, 350765]],\n",
       " '5': [['ConsumerCourt_DCDRC_124651', '0', -13.949059391156585, 209548],\n",
       "  ['ConsumerCourt_DCDRC_138545', '0', -8.871019734568272, 156906],\n",
       "  ['ConsumerCourt_DCDRC_139183', '0', -16.81696590879199, 235338],\n",
       "  ['ConsumerCourt_DCDRC_141380', '0', -37.61477194504259, 322689],\n",
       "  ['ConsumerCourt_DCDRC_148691', '1', -15.15249736800654, 220867],\n",
       "  ['ConsumerCourt_DCDRC_202903', '0', -1.6590517611669613, 48041],\n",
       "  ['ConsumerCourt_DCDRC_208296', '0', -5.7589012779646165, 122998],\n",
       "  ['ConsumerCourt_DCDRC_223817', '0', -35.48955141524125, 318582],\n",
       "  ['ConsumerCourt_DCDRC_226994', '0', 2.7415413089050062, 162],\n",
       "  ['ConsumerCourt_DCDRC_229911', '1', -11.770788051376826, 187348],\n",
       "  ['ConsumerCourt_DCDRC_41155', '1', -8.384933283050572, 151784],\n",
       "  ['ConsumerCourt_DCDRC_41262', '0', -23.62099567325119, 279674],\n",
       "  ['ConsumerCourt_DCDRC_41428', '0', -4.158780629423173, 103060],\n",
       "  ['ConsumerCourt_DCDRC_42411', '0', -28.26370566102674, 298994],\n",
       "  ['ConsumerCourt_DCDRC_46404', '0', -13.083261379456651, 200856],\n",
       "  ['ConsumerCourt_DCDRC_53679', '1', -47.54995903016243, 335329],\n",
       "  ['ConsumerCourt_DCDRC_57315', '1', -16.968941498902563, 236630],\n",
       "  ['ConsumerCourt_DCDRC_57465', '0', -23.64411939978431, 279791],\n",
       "  ['ConsumerCourt_DCDRC_57488', '0', -3.200565485844863, 85600],\n",
       "  ['ConsumerCourt_DCDRC_57914', '1', -14.343463468580499, 213218],\n",
       "  ['ConsumerCourt_DCDRC_66294', '0', -7.275409804857272, 139908],\n",
       "  ['ConsumerCourt_DCDRC_96799', '0', -6.410388155109576, 130254],\n",
       "  ['ConsumerCourt_NCDRC_1337', '1', -9.139068336970421, 159811],\n",
       "  ['ConsumerCourt_NCDRC_1338', '0', -9.139068336970421, 159810],\n",
       "  ['ConsumerCourt_NCDRC_2983', '1', -38.074551199275234, 323492],\n",
       "  ['ConsumerCourt_SCDRC_28656', '0', -21.363185712075758, 267629],\n",
       "  ['ConsumerCourt_SCDRC_33517', '1', -32.0291761374246, 310476],\n",
       "  ['ConsumerCourt_SCDRC_5122', '0', -3.125166167544359, 83851],\n",
       "  ['ConsumerCourt_SCDRC_71374', '1', -16.723006102526945, 234618]],\n",
       " '6': [['ConsumerCourt_DCDRC_103021', '1', 6.645158198271709, 30],\n",
       "  ['ConsumerCourt_DCDRC_119836', '1', -1.4840760939241813, 118117],\n",
       "  ['ConsumerCourt_DCDRC_125237', '1', -4.965506261489638, 241885],\n",
       "  ['ConsumerCourt_DCDRC_126276', '0', -3.7104163958977647, 200572],\n",
       "  ['ConsumerCourt_DCDRC_131266', '1', -14.473529234374679, 340800],\n",
       "  ['ConsumerCourt_DCDRC_133353', '1', 2.33733546946395, 661],\n",
       "  ['ConsumerCourt_DCDRC_133354', '0', 2.2857391815764228, 699],\n",
       "  ['ConsumerCourt_DCDRC_134804', '0', 4.776307208883162, 100],\n",
       "  ['ConsumerCourt_DCDRC_138617', '1', 5.364147363335844, 72],\n",
       "  ['ConsumerCourt_DCDRC_143983', '0', -4.244339705563194, 218952],\n",
       "  ['ConsumerCourt_DCDRC_207387', '1', -0.2863972221534228, 22852],\n",
       "  ['ConsumerCourt_DCDRC_220958', '1', -3.4608127967336735, 191566],\n",
       "  ['ConsumerCourt_DCDRC_223570', '1', 8.274145542100229, 11],\n",
       "  ['ConsumerCourt_DCDRC_223783', '0', 4.6553047458350925, 107],\n",
       "  ['ConsumerCourt_DCDRC_38192', '1', 3.573109281629833, 208],\n",
       "  ['ConsumerCourt_DCDRC_41485', '0', 5.8441704509882655, 56],\n",
       "  ['ConsumerCourt_DCDRC_41489', '0', 5.8441704509882655, 55],\n",
       "  ['ConsumerCourt_DCDRC_41520', '1', 3.5835029967418217, 205],\n",
       "  ['ConsumerCourt_DCDRC_45421', '0', -1.939460771126666, 136271],\n",
       "  ['ConsumerCourt_DCDRC_52148', '0', -1.111286449046042, 98226],\n",
       "  ['ConsumerCourt_DCDRC_70186', '0', 1.039275654756353, 2342],\n",
       "  ['ConsumerCourt_DCDRC_70341', '0', 2.3856890505860764, 630],\n",
       "  ['ConsumerCourt_DCDRC_90054', '0', -2.910420648732269, 171479],\n",
       "  ['ConsumerCourt_SCDRC_28640', '1', 1.0117505435108356, 2392],\n",
       "  ['ConsumerCourt_SCDRC_64152', '0', 4.695929891253959, 104],\n",
       "  ['ConsumerCourt_SCDRC_68718', '1', 7.2030124160584, 22],\n",
       "  ['ConsumerCourt_SCDRC_70632', '0', 1.9743053294104538, 967],\n",
       "  ['DelhiHC_2009_735', '1', -0.45355682056940694, 39694],\n",
       "  ['DelhiHC_2012_372', '0', -4.08384153834899, 213619],\n",
       "  ['DelhiHC_2012_374', '0', -4.08384153834899, 213618],\n",
       "  ['SupremeCourt_1996_416', '0', -0.8942192865919478, 81009]],\n",
       " '7': [['ConsumerCourt_DCDRC_119406', '1', 6.992295313311699, 25],\n",
       "  ['ConsumerCourt_DCDRC_121344', '0', 9.3059923662031, 5],\n",
       "  ['ConsumerCourt_DCDRC_127019', '0', 2.307246977431271, 527],\n",
       "  ['ConsumerCourt_DCDRC_130205', '0', 3.4021201495388285, 271],\n",
       "  ['ConsumerCourt_DCDRC_207672', '1', 4.644814598729962, 119],\n",
       "  ['ConsumerCourt_DCDRC_222487', '0', 8.596580099443873, 9],\n",
       "  ['ConsumerCourt_DCDRC_224805', '0', 8.209832033845782, 15],\n",
       "  ['ConsumerCourt_DCDRC_235755', '0', 13.154561769545015, 1],\n",
       "  ['ConsumerCourt_DCDRC_236026', '1', 6.565998962281462, 33],\n",
       "  ['ConsumerCourt_DCDRC_236229', '0', 4.856545758852157, 100],\n",
       "  ['ConsumerCourt_DCDRC_33939', '0', 4.492796707009443, 129],\n",
       "  ['ConsumerCourt_DCDRC_44337', '1', 5.707185208496858, 55],\n",
       "  ['ConsumerCourt_DCDRC_45534', '0', 8.498563409463161, 12],\n",
       "  ['ConsumerCourt_DCDRC_46470', '0', -0.20424246331165996, 19576],\n",
       "  ['ConsumerCourt_DCDRC_48811', '0', 4.818620066343316, 103],\n",
       "  ['ConsumerCourt_DCDRC_51454', '1', 7.093609542728565, 22],\n",
       "  ['ConsumerCourt_DCDRC_64180', '0', 9.985726386099845, 4],\n",
       "  ['ConsumerCourt_DCDRC_73953', '0', 1.1383773129441472, 1274],\n",
       "  ['ConsumerCourt_DCDRC_75554', '0', 4.947739234775692, 91],\n",
       "  ['ConsumerCourt_SCDRC_1050', '0', 3.010592766602242, 356],\n",
       "  ['ConsumerCourt_SCDRC_1387', '0', 10.677168237994128, 3],\n",
       "  ['ConsumerCourt_SCDRC_1418', '0', 4.963534397380871, 90],\n",
       "  ['ConsumerCourt_SCDRC_65323', '0', 6.679024674138532, 31],\n",
       "  ['ConsumerCourt_SCDRC_66203', '0', 5.299274039331772, 75],\n",
       "  ['DelhiHC_2012_2026', '0', -9.241947091444331, 311806]],\n",
       " '8': [['ConsumerCourt_DCDRC_101057', '1', -6.357643878206298, 279360],\n",
       "  ['ConsumerCourt_DCDRC_118168', '0', -0.8640167036137436, 88699],\n",
       "  ['ConsumerCourt_DCDRC_118989', '0', -3.8708471991295954, 217147],\n",
       "  ['ConsumerCourt_DCDRC_120003', '1', -5.973365951707554, 271953],\n",
       "  ['ConsumerCourt_DCDRC_120004', '1', -6.047565010237618, 273435],\n",
       "  ['ConsumerCourt_DCDRC_121058', '0', -4.529693484611164, 237109],\n",
       "  ['ConsumerCourt_DCDRC_125286', '0', -11.265633895281429, 328279],\n",
       "  ['ConsumerCourt_DCDRC_126274', '0', -15.49985095080993, 341957],\n",
       "  ['ConsumerCourt_DCDRC_128072', '1', -3.5670412850042794, 207365],\n",
       "  ['ConsumerCourt_DCDRC_129352', '0', -3.00450485041506, 187931],\n",
       "  ['ConsumerCourt_DCDRC_129820', '0', 6.374613119962228, 10],\n",
       "  ['ConsumerCourt_DCDRC_131144', '0', -0.5216647128009981, 57481],\n",
       "  ['ConsumerCourt_DCDRC_131587', '0', -6.300973473779887, 278333],\n",
       "  ['ConsumerCourt_DCDRC_131846', '0', -14.839714810406647, 340653],\n",
       "  ['ConsumerCourt_DCDRC_132917', '0', -6.0300349404473295, 273087],\n",
       "  ['ConsumerCourt_DCDRC_132928', '0', -4.611186678650025, 239363],\n",
       "  ['ConsumerCourt_DCDRC_134709', '0', 1.2680422053671272, 1252],\n",
       "  ['ConsumerCourt_DCDRC_140632', '0', -1.8459932870301117, 144228],\n",
       "  ['ConsumerCourt_DCDRC_140644', '0', -2.8730963349056724, 183268],\n",
       "  ['ConsumerCourt_DCDRC_145502', '0', 3.837990943481395, 26],\n",
       "  ['ConsumerCourt_DCDRC_169855', '0', 0.9283908133227576, 2487],\n",
       "  ['ConsumerCourt_DCDRC_202901', '0', 0.4049326822430319, 7435],\n",
       "  ['ConsumerCourt_DCDRC_203935', '0', 1.7557274123100304, 527],\n",
       "  ['ConsumerCourt_DCDRC_222781', '0', -0.20114390542827376, 28902],\n",
       "  ['ConsumerCourt_DCDRC_223340', '0', -2.9827531891869885, 187159],\n",
       "  ['ConsumerCourt_DCDRC_228779', '0', 9.770956198029872, 1],\n",
       "  ['ConsumerCourt_DCDRC_229540', '0', 0.1505648537175317, 11764],\n",
       "  ['ConsumerCourt_DCDRC_39867', '0', -2.7109003165221326, 177482],\n",
       "  ['ConsumerCourt_DCDRC_40822', '0', 6.9038006967313175, 5],\n",
       "  ['ConsumerCourt_DCDRC_41058', '0', 4.476135244792016, 19],\n",
       "  ['ConsumerCourt_DCDRC_41514', '0', 2.285439869633281, 193],\n",
       "  ['ConsumerCourt_DCDRC_57900', '1', -2.8106443710084763, 181080],\n",
       "  ['ConsumerCourt_DCDRC_69224', '0', -0.4637000056861682, 52256],\n",
       "  ['ConsumerCourt_DCDRC_71619', '0', -5.657070849974465, 265368],\n",
       "  ['ConsumerCourt_DCDRC_73864', '0', -5.994448798648568, 272346],\n",
       "  ['ConsumerCourt_DCDRC_75339', '0', -0.6228495193470893, 66128],\n",
       "  ['ConsumerCourt_DCDRC_75574', '1', -0.405469557424432, 46931],\n",
       "  ['ConsumerCourt_DCDRC_76123', '0', 0.2545315643795778, 9744],\n",
       "  ['ConsumerCourt_DCDRC_85243', '0', -4.175352070653288, 226541],\n",
       "  ['ConsumerCourt_SCDRC_29744', '0', 7.311415159230258, 3],\n",
       "  ['ConsumerCourt_SCDRC_33757', '0', 8.079167933911151, 2],\n",
       "  ['ConsumerCourt_SCDRC_53283', '0', 6.68026620912485, 7],\n",
       "  ['ConsumerCourt_SCDRC_63603', '0', -3.2494678400864316, 196546],\n",
       "  ['ConsumerCourt_SCDRC_66106', '1', -7.947179568402014, 302337],\n",
       "  ['ConsumerCourt_SCDRC_66890', '0', -3.878771023680603, 217382],\n",
       "  ['ConsumerCourt_SCDRC_67067', '0', -1.7357044101828425, 139705],\n",
       "  ['ConsumerCourt_SCDRC_67949', '0', -0.34535631579054504, 40298],\n",
       "  ['ConsumerCourt_SCDRC_67951', '0', -0.42469162594078025, 48343],\n",
       "  ['ConsumerCourt_SCDRC_72333', '1', 3.148581027477082, 53],\n",
       "  ['JodhpurHC_2008_1906', '0', 0.8657532526423313, 2974]],\n",
       " '9': [['ConsumerCourt_DCDRC_108097', '0', -37.022010479369655, 347640],\n",
       "  ['ConsumerCourt_DCDRC_119856', '1', -9.968283863279126, 255792],\n",
       "  ['ConsumerCourt_DCDRC_119986', '0', -16.921508527946294, 313041],\n",
       "  ['ConsumerCourt_DCDRC_128297', '0', -28.449159587700247, 341443],\n",
       "  ['ConsumerCourt_DCDRC_128836', '0', -15.36479012590636, 304772],\n",
       "  ['ConsumerCourt_DCDRC_130625', '0', -4.6581125609208165, 164315],\n",
       "  ['ConsumerCourt_DCDRC_133010', '0', -13.622910857739889, 293020],\n",
       "  ['ConsumerCourt_DCDRC_138306', '1', -4.989790503200744, 170944],\n",
       "  ['ConsumerCourt_DCDRC_139625', '0', -8.039598501854492, 227413],\n",
       "  ['ConsumerCourt_DCDRC_143537', '0', -9.81794500069855, 253814],\n",
       "  ['ConsumerCourt_DCDRC_202901', '0', -0.9973116294037934, 53705],\n",
       "  ['ConsumerCourt_DCDRC_202902', '0', 2.240844589854584, 419],\n",
       "  ['ConsumerCourt_DCDRC_202903', '0', -1.0315554052745757, 55098],\n",
       "  ['ConsumerCourt_DCDRC_222047', '1', 5.940316565941574, 11],\n",
       "  ['ConsumerCourt_DCDRC_224718', '1', -2.41487135122763, 114872],\n",
       "  ['ConsumerCourt_DCDRC_226994', '0', 0.9643641500049878, 2050],\n",
       "  ['ConsumerCourt_DCDRC_227115', '0', 5.726388496981976, 13],\n",
       "  ['ConsumerCourt_DCDRC_227445', '0', 0.7397289426210474, 2823],\n",
       "  ['ConsumerCourt_DCDRC_236013', '1', 4.912334208367791, 30],\n",
       "  ['ConsumerCourt_DCDRC_38039', '1', 7.835955790018382, 4],\n",
       "  ['ConsumerCourt_DCDRC_38552', '0', -0.553571751026503, 30054],\n",
       "  ['ConsumerCourt_DCDRC_45418', '0', 3.7716328020326593, 86],\n",
       "  ['ConsumerCourt_DCDRC_53237', '1', -9.693885470433388, 252191],\n",
       "  ['ConsumerCourt_DCDRC_56957', '0', 2.4078258851814347, 358],\n",
       "  ['ConsumerCourt_DCDRC_89958', '0', -7.521587663374003, 218505],\n",
       "  ['ConsumerCourt_NCDRC_2916', '0', 1.5522246745897448, 964],\n",
       "  ['ConsumerCourt_NCDRC_437', '0', -3.566508353910071, 142247],\n",
       "  ['ConsumerCourt_SCDRC_40659', '0', -7.1265204402907685, 211674],\n",
       "  ['ConsumerCourt_SCDRC_49689', '0', -4.315879839214979, 157376],\n",
       "  ['ConsumerCourt_SCDRC_53178', '0', -1.4364533440808316, 73917],\n",
       "  ['ConsumerCourt_SCDRC_65050', '0', -2.844378974707242, 126180],\n",
       "  ['ConsumerCourt_SCDRC_67634', '0', -19.392817595743242, 323071],\n",
       "  ['ConsumerCourt_SCDRC_68803', '0', 4.9030677207986155, 31],\n",
       "  ['DelhiHC_2008_1343', '0', -8.218680808797677, 230331],\n",
       "  ['DelhiHC_2009_453', '0', -2.4476578267125335, 115860],\n",
       "  ['DelhiHC_2010_4683', '0', -6.6287730590870915, 202672],\n",
       "  ['DelhiHC_2010_6192', '0', -14.55401053943769, 299601],\n",
       "  ['DelhiHC_2011_69', '0', -15.583591604932291, 306063],\n",
       "  ['DelhiHC_2013_811', '0', -8.557404716657956, 235684],\n",
       "  ['SupremeCourt_2008_278', '0', -4.4522369164890545, 160108]]}"
      ]
     },
     "execution_count": 15,
     "metadata": {},
     "output_type": "execute_result"
    }
   ],
   "source": [
    "tfidf_results"
   ]
  },
  {
   "cell_type": "code",
   "execution_count": null,
   "metadata": {
    "collapsed": true
   },
   "outputs": [],
   "source": []
  },
  {
   "cell_type": "code",
   "execution_count": null,
   "metadata": {
    "collapsed": true
   },
   "outputs": [],
   "source": []
  },
  {
   "cell_type": "code",
   "execution_count": null,
   "metadata": {
    "collapsed": true
   },
   "outputs": [],
   "source": []
  },
  {
   "cell_type": "code",
   "execution_count": 17,
   "metadata": {
    "collapsed": true
   },
   "outputs": [],
   "source": [
    "from openpyxl import Workbook\n",
    "from openpyxl.compat import range\n",
    "from openpyxl.utils import get_column_letter\n",
    "from openpyxl import load_workbook\n",
    "from scipy.stats import hmean\n"
   ]
  },
  {
   "cell_type": "code",
   "execution_count": null,
   "metadata": {
    "collapsed": true
   },
   "outputs": [],
   "source": [
    "wow = tfidf_results"
   ]
  },
  {
   "cell_type": "code",
   "execution_count": null,
   "metadata": {
    "collapsed": true
   },
   "outputs": [],
   "source": [
    "wb = Workbook()\n",
    "wb.save('LM_Dirichlet.xlsx')"
   ]
  },
  {
   "cell_type": "code",
   "execution_count": null,
   "metadata": {
    "collapsed": true,
    "scrolled": true
   },
   "outputs": [],
   "source": [
    "# save to excel\n",
    "wb2 = load_workbook('LM_Dirichlet.xlsx')\n",
    "ws1 = wb.create_sheet(title=\"MU = 2000|\")\n",
    "\n",
    "ws1.append(['Query','Filename', 'Relevance', 'Score', 'Rank'])\n",
    "for key,value in wow.iteritems():\n",
    "    for i in value:\n",
    "        ws1.append([int(key)]+ i)\n",
    "\n",
    "wb.save(filename = 'LM_Dirichlet.xlsx')"
   ]
  },
  {
   "cell_type": "code",
   "execution_count": 22,
   "metadata": {
    "collapsed": true
   },
   "outputs": [],
   "source": [
    "import pandas as pd\n",
    "\n",
    "f = pd.ExcelFile('LM_Dirichlet.xlsx')\n",
    "\n",
    "\n",
    "x = f.parse(0)\n"
   ]
  },
  {
   "cell_type": "code",
   "execution_count": 24,
   "metadata": {
    "collapsed": true
   },
   "outputs": [],
   "source": [
    "\n",
    "total_1 = (float)(x[x['Relevance'] == 1].shape[0])\n",
    "total_0 = (float)(x[x['Relevance'] == 0].shape[0])\n",
    "total = (float)(x.shape[0])"
   ]
  },
  {
   "cell_type": "code",
   "execution_count": 25,
   "metadata": {},
   "outputs": [
    {
     "data": {
      "text/plain": [
       "131.0"
      ]
     },
     "execution_count": 25,
     "metadata": {},
     "output_type": "execute_result"
    }
   ],
   "source": [
    "total_1"
   ]
  },
  {
   "cell_type": "code",
   "execution_count": 27,
   "metadata": {
    "scrolled": true
   },
   "outputs": [
    {
     "data": {
      "text/plain": [
       "21"
      ]
     },
     "execution_count": 27,
     "metadata": {},
     "output_type": "execute_result"
    }
   ],
   "source": [
    "i = 10\n",
    "x[np.logical_and(x['Relevance'] == 0 , x['Rank'] <= i)].shape[0]"
   ]
  },
  {
   "cell_type": "code",
   "execution_count": 18,
   "metadata": {
    "collapsed": true
   },
   "outputs": [],
   "source": [
    "import pandas as pd\n",
    "\n",
    "f = pd.ExcelFile('LM_Dirichlet.xlsx')\n",
    "\n",
    "\n",
    "x = f.parse(0)\n",
    "\n",
    "total_1 = (float)(x[x['Relevance'] == 1].shape[0])\n",
    "total_0 = (float)(x[x['Relevance'] == 0].shape[0])\n",
    "total = (float)(x.shape[0])\n",
    "\n",
    "\n",
    "model_name = 'LM_Dirichlet'\n",
    "places = 4\n",
    "wb = load_workbook('LM_Dirichlet.xlsx')\n",
    "ws1 = wb.create_sheet(title=\"evaluation\")\n",
    "\n",
    "ws1.append(['Docs considered', 'Precision/Recall', 'Model', 10, 50, 100, 500, 1000])\n",
    "\n",
    "\n",
    "for sheet in f.sheet_names:\n",
    "    \n",
    "    x = f.parse(sheet)\n",
    "    # precision 1\n",
    "    row = [1, 'P', model_name + ' :' + sheet]\n",
    "    for i in [10.0, 50.0, 100.0, 500.0, 1000.0]:\n",
    "        row.append(x[np.logical_and(x['Relevance'] == 1 , x['Rank'] <= i)].shape[0]/(i*10))\n",
    "    ws1.append(row);\n",
    "    p1 = row;\n",
    "    # precision 0\n",
    "    row = [0, 'P', model_name + ' :' + sheet]\n",
    "    for i in [10.0, 50.0, 100.0, 500.0, 1000.0]:\n",
    "        row.append(x[np.logical_and(x['Relevance'] == 0 , x['Rank'] <= i)].shape[0]/(i*10))    \n",
    "    ws1.append(row);\n",
    "    p0 = row;\n",
    "    #precision 10\n",
    "    row = [10, 'P', model_name + ' :' + sheet]\n",
    "    for i in [10.0, 50.0, 100.0, 500.0, 1000.0]:\n",
    "        row.append(x[x['Rank'] <= i].shape[0]/(i*10))  \n",
    "    ws1.append(row);\n",
    "    p10 = row;    \n",
    "    # recall 1\n",
    "    row = [1, 'R', model_name + ' :' + sheet]\n",
    "    for i in [10.0, 50.0, 100.0, 500.0, 1000.0]:\n",
    "        row.append(x[np.logical_and(x['Relevance'] == 1 , x['Rank'] <= i)].shape[0]/total_1)\n",
    "        row[-1] = round(row[-1],places)\n",
    "    ws1.append(row);\n",
    "    r1 = row;    \n",
    "    # recall 0\n",
    "    row = [0, 'R', model_name + ' :' + sheet]\n",
    "    for i in [10.0, 50.0, 100.0, 500.0, 1000.0]:\n",
    "        row.append(x[np.logical_and(x['Relevance'] == 0 , x['Rank'] <= i)].shape[0]/total_0)\n",
    "        row[-1] = round(row[-1],places)\n",
    "    ws1.append(row);\n",
    "    r0 = row;\n",
    "    #recall 10\n",
    "    row = [10, 'R', model_name + ' :' + sheet]\n",
    "    for i in [10.0, 50.0, 100.0, 500.0, 1000.0]:\n",
    "        row.append(x[x['Rank'] <= i].shape[0]/total)\n",
    "        row[-1] = round(row[-1],places)\n",
    "    ws1.append(row);\n",
    "    r10 = row;      \n",
    "    \n",
    "    \n",
    "    # F 1\n",
    "    row = [1, 'F', model_name + ' :' + sheet]\n",
    "    for i in [-5,-4,-3,-2,-1]:\n",
    "        if p1[i] == 0.0 :\n",
    "            row.append(0.0)\n",
    "        else:\n",
    "            row.append(hmean([p1[i],r1[i]]))\n",
    "        row[-1] = round(row[-1],places)\n",
    "    ws1.append(row);\n",
    "        \n",
    "    # F 0\n",
    "    row = [0, 'F', model_name + ' :' + sheet]\n",
    "    for i in [-5,-4,-3,-2,-1]:\n",
    "        if p0[i] == 0.0:\n",
    "            row.append(0.0)\n",
    "        else:\n",
    "            row.append(hmean([p0[i],r0[i]]))\n",
    "        row[-1] = round(row[-1],places)\n",
    "    ws1.append(row);\n",
    "    \n",
    "    # F 10\n",
    "    row = [10, 'F', model_name + ' :' + sheet]\n",
    "    for i  in [-5,-4,-3,-2,-1]:\n",
    "        if p10[i] == 0.0:\n",
    "            row.append(0.0)\n",
    "        else:\n",
    "            row.append(hmean([p10[i],r10[i]]))\n",
    "        row[-1] = round(row[-1],places)\n",
    "    ws1.append(row);\n",
    "        \n",
    "wb.save(filename = 'LM_Dirichlet.xlsx')"
   ]
  },
  {
   "cell_type": "code",
   "execution_count": 20,
   "metadata": {
    "collapsed": true
   },
   "outputs": [],
   "source": [
    "#Query wise\n",
    "\n",
    "import pandas as pd\n",
    "\n",
    "f = pd.ExcelFile('LM_Dirichlet.xlsx')\n",
    "\n",
    "from scipy.stats import hmean\n",
    "\n",
    "\n",
    "\n",
    "model_name = 'LM_Dirichlet'\n",
    "places = 4\n",
    "wb = load_workbook('LM_Dirichlet.xlsx')\n",
    "ws1 = wb.create_sheet(title=\"evaluation_Qwise\")\n",
    "\n",
    "ws1.append(['Query','Docs considered', 'Precision/Recall', 'Model', 10, 50, 100, 500, 1000])\n",
    "\n",
    "\n",
    "for sheet in f.sheet_names:\n",
    "    if(sheet == \"evaluation\"):\n",
    "        continue\n",
    "    for q in np.arange(1,11):\n",
    "\n",
    "        x = f.parse(sheet)\n",
    "        x = x[x['Query'] == q]\n",
    "        total_1 = (float)(x[x['Relevance'] == 1].shape[0])\n",
    "        total_0 = (float)(x[x['Relevance'] == 0].shape[0])\n",
    "        total = (float)(x.shape[0])\n",
    "        # precision 1\n",
    "        row = [q, 1, 'P', model_name + ' :' + sheet]\n",
    "        for i in [10.0, 50.0, 100.0, 500.0, 1000.0]:\n",
    "            row.append(x[np.logical_and(x['Relevance'] == 1 , x['Rank'] <= i)].shape[0]/i)\n",
    "        ws1.append(row);\n",
    "        p1 = row;\n",
    "        # precision 0\n",
    "        row = [q, 0, 'P', model_name + ' :' + sheet]\n",
    "        for i in [10.0, 50.0, 100.0, 500.0, 1000.0]:\n",
    "            row.append(x[np.logical_and(x['Relevance'] == 0 , x['Rank'] <= i)].shape[0]/i)    \n",
    "        ws1.append(row);\n",
    "        p0 = row;\n",
    "        #precision 10\n",
    "        row = [q, 10, 'P', model_name + ' :' + sheet]\n",
    "        for i in [10.0, 50.0, 100.0, 500.0, 1000.0]:\n",
    "            row.append(x[x['Rank'] <= i].shape[0]/i)  \n",
    "        ws1.append(row);\n",
    "        p10 = row;    \n",
    "        # recall 1\n",
    "        row = [q, 1, 'R', model_name + ' :' + sheet]\n",
    "        for i in [10.0, 50.0, 100.0, 500.0, 1000.0]:\n",
    "            row.append(x[np.logical_and(x['Relevance'] == 1 , x['Rank'] <= i)].shape[0]/total_1)\n",
    "            row[-1] = round(row[-1],places)\n",
    "        ws1.append(row);\n",
    "        r1 = row;    \n",
    "        # recall 0\n",
    "        row = [q, 0, 'R', model_name + ' :' + sheet]\n",
    "        for i in [10.0, 50.0, 100.0, 500.0, 1000.0]:\n",
    "            row.append(x[np.logical_and(x['Relevance'] == 0 , x['Rank'] <= i)].shape[0]/total_0)\n",
    "            row[-1] = round(row[-1],places)\n",
    "        ws1.append(row);\n",
    "        r0 = row;\n",
    "        #recall 10\n",
    "        row = [q, 10, 'R', model_name + ' :' + sheet]\n",
    "        for i in [10.0, 50.0, 100.0, 500.0, 1000.0]:\n",
    "            row.append(x[x['Rank'] <= i].shape[0]/total)\n",
    "            row[-1] = round(row[-1],places)\n",
    "        ws1.append(row);\n",
    "        r10 = row;      \n",
    "\n",
    "\n",
    "        # F 1\n",
    "        row = [q, 1, 'F', model_name + ' :' + sheet]\n",
    "        for i in [-5,-4,-3,-2,-1]:\n",
    "            if p1[i] == 0.0 :\n",
    "                row.append(0.0)\n",
    "            else:\n",
    "                row.append(hmean([p1[i],r1[i]]))\n",
    "            row[-1] = round(row[-1],places)\n",
    "        ws1.append(row);\n",
    "\n",
    "        # F 0\n",
    "        row = [q, 0, 'F', model_name + ' :' + sheet]\n",
    "        for i in [-5,-4,-3,-2,-1]:\n",
    "            if p0[i] == 0.0:\n",
    "                row.append(0.0)\n",
    "            else:\n",
    "                row.append(hmean([p0[i],r0[i]]))\n",
    "            row[-1] = round(row[-1],places)\n",
    "        ws1.append(row);\n",
    "\n",
    "        # F 10\n",
    "        row = [q, 10, 'F', model_name + ' :' + sheet]\n",
    "        for i  in [-5,-4,-3,-2,-1]:\n",
    "            if p10[i] == 0.0:\n",
    "                row.append(0.0)\n",
    "            else:\n",
    "                row.append(hmean([p10[i],r10[i]]))\n",
    "            row[-1] = round(row[-1],places)\n",
    "        ws1.append(row);\n",
    "        \n",
    "wb.save(filename = 'LM_Dirichlet.xlsx')"
   ]
  },
  {
   "cell_type": "code",
   "execution_count": 24,
   "metadata": {
    "collapsed": true
   },
   "outputs": [],
   "source": [
    "#Query wise Average precision\n",
    "\n",
    "def p_sum(z):\n",
    "    z = z.copy()\n",
    "    z.sort_values(inplace=True)\n",
    "    result = 0\n",
    "    for i,val in enumerate(z):\n",
    "        result += (i+1)/float(val) \n",
    "        #print result\n",
    "    return result\n",
    "\n",
    "\n",
    "import pandas as pd\n",
    "\n",
    "f = pd.ExcelFile('LM_Dirichlet.xlsx')\n",
    "\n",
    "from scipy.stats import hmean\n",
    "\n",
    "\n",
    "model_name = 'LM_Dirichlet'\n",
    "places = 4\n",
    "wb = load_workbook('LM_Dirichlet.xlsx')\n",
    "ws1 = wb.create_sheet(title=\"AP_Qwise\")\n",
    "\n",
    "ws1.append(['Query','Docs considered', 'Precision/Recall', 'Model', 1, 5 ,10, 25, 50, 100, 500, 1000])\n",
    "\n",
    "\n",
    "for sheet in f.sheet_names:\n",
    "    \n",
    "    if(sheet == \"evaluation\"or sheet == \"evaluation_Qwise\"):\n",
    "        continue\n",
    "    for q in np.arange(1,11):\n",
    "\n",
    "        x = f.parse(sheet)\n",
    "        x = x[x['Query'] == q]\n",
    "        total = {}\n",
    "        total[1] = (float)(x[x['Relevance'] == 1].shape[0])\n",
    "        total[0] = (float)(x[x['Relevance'] == 0].shape[0])\n",
    "        total[10] = (float)(x.shape[0])\n",
    "        \n",
    "        for rel in [1,0]:\n",
    "            # precision 1\n",
    "            row = [q, rel, 'AP', model_name + ' :' + sheet]\n",
    "            for i in [1.0, 5.0, 10.0, 25.0, 50.0, 100.0, 500.0, 1000.0]:\n",
    "                row.append(p_sum(x[np.logical_and(x['Relevance'] == rel, x['Rank'] <= i)]['Rank'])/total[rel])\n",
    "            ws1.append(row);\n",
    "\n",
    "        row = [q, 10, 'AP', model_name + ' :' + sheet]\n",
    "        for i in [1.0, 5.0, 10.0, 25.0, 50.0, 100.0, 500.0, 1000.0]:\n",
    "            row.append(p_sum(x[x['Rank'] <= i]['Rank'])/total[10])\n",
    "        ws1.append(row);\n",
    "wb.save(filename = 'LM_Dirichlet.xlsx')"
   ]
  },
  {
   "cell_type": "code",
   "execution_count": null,
   "metadata": {
    "collapsed": true
   },
   "outputs": [],
   "source": []
  },
  {
   "cell_type": "code",
   "execution_count": null,
   "metadata": {
    "collapsed": true
   },
   "outputs": [],
   "source": []
  },
  {
   "cell_type": "code",
   "execution_count": null,
   "metadata": {
    "collapsed": true
   },
   "outputs": [],
   "source": []
  },
  {
   "cell_type": "code",
   "execution_count": null,
   "metadata": {
    "collapsed": true
   },
   "outputs": [],
   "source": [
    "# given a corpus and document index and a query return intersecting words(scores from corpus) \n",
    "def common_words(index, query):\n",
    "    # quey words\n",
    "    q = [i[0] for i in dictionary.doc2bow(query)]   \n",
    "    q = set(q)\n",
    "    \n",
    "    return sorted([(dictionary.get(i[0]),i[1],j[1]) for i,j in zip(corpus[index],tfidf_corpus[index]) if i[0] in q], key= lambda x: x[1], reverse= True )        \n"
   ]
  },
  {
   "cell_type": "code",
   "execution_count": null,
   "metadata": {
    "collapsed": true
   },
   "outputs": [],
   "source": [
    "# uses ranklist\n",
    "# return top N documents and the respctive common words for every query given corpus\n",
    "def top_N(n, corp) :\n",
    "    top_results = [0]\n",
    "    for i in range(1,11):\n",
    "        x = sorted(range(len(rank_list[i])), key=lambda j: rank_list[i][j])[:n]\n",
    "        y = []\n",
    "        for j in x:\n",
    "            y.append([filenames[j],common_words(j, queries[i])])\n",
    "            \n",
    "        top_results.append(y)\n",
    "    return top_results"
   ]
  },
  {
   "cell_type": "code",
   "execution_count": null,
   "metadata": {
    "collapsed": true
   },
   "outputs": [],
   "source": [
    "# queries as bag of words\n",
    "# index starts from 1 for queries\n",
    "q_words = [0]\n",
    "for i,query in enumerate(files_to_tokens('LegalAdhocTask\\q*.txt')):\n",
    "    q_words.append(sorted([(dictionary.get(j[0]), j[1], k[1]) for j,k in zip(dictionary.doc2bow(query),tfidf[dictionary.doc2bow(query)])], reverse= True, key= lambda x:x[2]))"
   ]
  },
  {
   "cell_type": "code",
   "execution_count": null,
   "metadata": {
    "collapsed": true,
    "scrolled": false
   },
   "outputs": [],
   "source": [
    "# index starts from 1 for queries\n",
    "top_results = top_N(10,corpus)"
   ]
  },
  {
   "cell_type": "code",
   "execution_count": null,
   "metadata": {
    "collapsed": true,
    "scrolled": true
   },
   "outputs": [],
   "source": [
    "# ground truth ranks BoW query\n",
    "\n",
    "sorted(BQ['1'], key = lambda x: (-int(x[1]),x[3]))"
   ]
  },
  {
   "cell_type": "code",
   "execution_count": null,
   "metadata": {
    "collapsed": true,
    "scrolled": true
   },
   "outputs": [],
   "source": [
    "top_results[1]"
   ]
  },
  {
   "cell_type": "code",
   "execution_count": null,
   "metadata": {
    "collapsed": true
   },
   "outputs": [],
   "source": [
    "tfidf[dictionary.doc2bow([])]"
   ]
  },
  {
   "cell_type": "code",
   "execution_count": null,
   "metadata": {
    "collapsed": true,
    "scrolled": true
   },
   "outputs": [],
   "source": [
    "common_words(filenames.index( 'ConsumerCourt_DCDRC_118185' + '.txt'), queries[1])"
   ]
  },
  {
   "cell_type": "code",
   "execution_count": null,
   "metadata": {
    "collapsed": true
   },
   "outputs": [],
   "source": []
  }
 ],
 "metadata": {
  "kernelspec": {
   "display_name": "Python 2",
   "language": "python",
   "name": "python2"
  },
  "language_info": {
   "codemirror_mode": {
    "name": "ipython",
    "version": 2
   },
   "file_extension": ".py",
   "mimetype": "text/x-python",
   "name": "python",
   "nbconvert_exporter": "python",
   "pygments_lexer": "ipython2",
   "version": "2.7.13"
  }
 },
 "nbformat": 4,
 "nbformat_minor": 2
}
