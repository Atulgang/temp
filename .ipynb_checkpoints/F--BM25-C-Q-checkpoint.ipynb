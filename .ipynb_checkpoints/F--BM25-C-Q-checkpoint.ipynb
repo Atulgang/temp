{
 "cells": [
  {
   "cell_type": "code",
   "execution_count": 1,
   "metadata": {
    "collapsed": true
   },
   "outputs": [],
   "source": [
    "def only_alphabet(text):\n",
    "    return ''.join(i for i in text if (ord(i)<123 and ord(i)>96) or (ord(i)<91 and ord(i)>64) or ord(i)==32) "
   ]
  },
  {
   "cell_type": "code",
   "execution_count": 2,
   "metadata": {
    "collapsed": true
   },
   "outputs": [],
   "source": [
    "import logging\n",
    "logging.basicConfig(format='%(asctime)s : %(levelname)s : %(message)s', level=logging.INFO)"
   ]
  },
  {
   "cell_type": "code",
   "execution_count": 3,
   "metadata": {},
   "outputs": [
    {
     "name": "stderr",
     "output_type": "stream",
     "text": [
      "2018-01-04 13:14:28,375 : INFO : 'pattern' package not found; tag filters are not available for English\n"
     ]
    }
   ],
   "source": [
    "import nltk\n",
    "from nltk.tokenize import word_tokenize\n",
    "from stop_words import get_stop_words\n",
    "from nltk.stem import WordNetLemmatizer\n",
    "from gensim import corpora, models\n",
    "import gensim\n",
    "import glob2\n",
    "from itertools import chain\n",
    "import os\n",
    "import numpy as np\n",
    "import itertools"
   ]
  },
  {
   "cell_type": "code",
   "execution_count": 4,
   "metadata": {},
   "outputs": [],
   "source": [
    "# get stopwords as set\n",
    "# get Vocabulary and remove words with length less than 3 \n",
    "# vocab is sorted in descending order \n",
    "\n",
    "en_stop = set(get_stop_words('en'))\n",
    "vocab  = open(\"wordsEn.txt\").read().splitlines()\n",
    "vocab = [i for i in vocab  if len(i)>2]\n",
    "vocab.sort(key=len, reverse=True)\n",
    "\n",
    "vocab_set = set(vocab)\n"
   ]
  },
  {
   "cell_type": "code",
   "execution_count": 5,
   "metadata": {
    "collapsed": true
   },
   "outputs": [],
   "source": [
    "full_filenames = []\n",
    "x= ['LegalAdhocTask/ConsumerCourtAdhocdata/DCDRC/**/*.txt','LegalAdhocTask/ConsumerCourtAdhocdata/NCDRC/**/*.txt','LegalAdhocTask/ConsumerCourtAdhocdata/SCDRC/**/*.txt', 'LegalAdhocTask/SC-HCAdhocData/DelhiHC/**/*.txt','LegalAdhocTask/SC-HCAdhocData/JharkhandHC/**/*.txt', 'LegalAdhocTask/SC-HCAdhocData/JodhpurHC/**/*.txt' ,'LegalAdhocTask/SC-HCAdhocData/KolkataHC/**/*.txt', 'LegalAdhocTask/SC-HCAdhocData/SupremeCourt/**/*.txt']\n",
    "for glob_filenames in x:\n",
    "    glob_filenames = os.path.normpath(glob_filenames)\n",
    "    for filename in glob2.glob(glob_filenames):\n",
    "        full_filenames.append(filename)\n",
    "        if not os.path.isfile(filename):\n",
    "            print 'wtffff'\n",
    "            \n",
    "            \n",
    "filenames = []\n",
    "x= ['LegalAdhocTask/ConsumerCourtAdhocdata/DCDRC/**/*.txt','LegalAdhocTask/ConsumerCourtAdhocdata/NCDRC/**/*.txt','LegalAdhocTask/ConsumerCourtAdhocdata/SCDRC/**/*.txt', 'LegalAdhocTask/SC-HCAdhocData/DelhiHC/**/*.txt','LegalAdhocTask/SC-HCAdhocData/JharkhandHC/**/*.txt', 'LegalAdhocTask/SC-HCAdhocData/JodhpurHC/**/*.txt' ,'LegalAdhocTask/SC-HCAdhocData/KolkataHC/**/*.txt', 'LegalAdhocTask/SC-HCAdhocData/SupremeCourt/**/*.txt']\n",
    "for glob_filenames in x:\n",
    "    glob_filenames = os.path.normpath(glob_filenames)\n",
    "    for filename in glob2.glob(glob_filenames):\n",
    "        filenames.append(os.path.basename(filename))\n",
    "        if not os.path.isfile(filename):\n",
    "            print 'wtffff'\n",
    "\n",
    "# \"yield\" for each file return token list  i.e list of lists\n",
    "def files_to_tokens(glob_filenames):\n",
    "    glob_filenames = os.path.normpath(glob_filenames)\n",
    "    lemmatizer = WordNetLemmatizer()\n",
    "    for filename in glob2.glob(glob_filenames):\n",
    "        f = open(filename)\n",
    "        # read the whole file as lowercase string\n",
    "        string = only_alphabet(f.read()).lower()\n",
    "        \n",
    "        # tokenize that string\n",
    "        tokens =  word_tokenize(string)\n",
    "        \n",
    "        # remove stop words tokens and length two tokens\n",
    "        tokens = [lemmatizer.lemmatize(i) for i in tokens if i not in en_stop and len(i)>2]\n",
    "\n",
    "        #seperate words stuck together\n",
    "        for i,token in enumerate(tokens):\n",
    "            if token not in vocab_set:\n",
    "#                 print token\n",
    "                # both prefix and suffix incase one of the word is of len(2)\n",
    "                # prefix match\n",
    "                flag = 0\n",
    "                for j in range(len(token)-2,2,-1):\n",
    "                    if token[:j] in vocab_set:\n",
    "                            tokens.append(token[:j])\n",
    "                            tokens.append(token[j:])\n",
    "#                             print 'prefixx'\n",
    "#                             print token[:j], token[j:]\n",
    "                            del tokens[i]\n",
    "                            flag = 1\n",
    "                            break               \n",
    "                \n",
    "                if flag == 1:\n",
    "#                     print 'prefix milgaya'\n",
    "                    continue \n",
    "                # suffix match\n",
    "                flag = 0\n",
    "                for j in range(1,len(token)-2):\n",
    "                    if token[j:] in vocab_set:\n",
    "                            tokens.append(token[:j])\n",
    "                            tokens.append(token[j:])\n",
    "#                             print 'suffix'\n",
    "#                             print token[:j], token[j:]\n",
    "                            flag =1\n",
    "                            del tokens[i]                            \n",
    "                            break               \n",
    "#                 if flag == 0:\n",
    "#                     print 'couldnt break' \n",
    "        # again remove stop words and length two tokens AND WORDS not in vocab\n",
    "        tokens = [i for i in tokens if i not in en_stop and len(i)>2 and i in vocab_set]                \n",
    "        if len(tokens) == 0:\n",
    "            print \"empty document\"\n",
    "        yield tokens\n",
    "        f.close()\n",
    "\n",
    "        \n",
    "# yields token list for files specific to courts; needed for creating dictionaries\n",
    "class texts:\n",
    "    def DCDRC(self):\n",
    "        return files_to_tokens('LegalAdhocTask/ConsumerCourtAdhocdata/DCDRC/**/*.txt')\n",
    "    def NCDRC(self):\n",
    "        return files_to_tokens('LegalAdhocTask/ConsumerCourtAdhocdata/NCDRC/**/*.txt')\n",
    "    def SCDRC(self):\n",
    "        return files_to_tokens('LegalAdhocTask/ConsumerCourtAdhocdata/SCDRC/**/*.txt')\n",
    "    def DelhiHC(self):\n",
    "        return files_to_tokens('LegalAdhocTask/SC-HCAdhocData/DelhiHC/**/*.txt')\n",
    "    def JharkhandHC(self):\n",
    "        return files_to_tokens('LegalAdhocTask/SC-HCAdhocData/JharkhandHC/**/*.txt')\n",
    "    def JodhpurHC(self):\n",
    "        return files_to_tokens('LegalAdhocTask/SC-HCAdhocData/JodhpurHC/**/*.txt')\n",
    "    def KolkataHC(self):\n",
    "        return files_to_tokens('LegalAdhocTask/SC-HCAdhocData/KolkataHC/**/*.txt')\n",
    "    def SupremeCourt(self):\n",
    "        return files_to_tokens('LegalAdhocTask/SC-HCAdhocData/SupremeCourt/**/*.txt')\n",
    "\n",
    "# yields bow for each file - tuples id,fq ; needed to train models   \n",
    "class my_corpus:    \n",
    "    def DCDRC(self):\n",
    "        for text in files_to_tokens('LegalAdhocTask/ConsumerCourtAdhocdata/DCDRC/*.txt'):\n",
    "            yield dictionary.doc2bow(text)\n",
    "    def NCDRC(self):\n",
    "        for text in files_to_tokens('LegalAdhocTask/ConsumerCourtAdhocdata/NCDRC/**/*.txt'):\n",
    "            yield dictionary.doc2bow(text)            \n",
    "    def SCDRC(self):\n",
    "        for text in files_to_tokens('LegalAdhocTask/ConsumerCourtAdhocdata/SCDRC/**/*.txt'):\n",
    "            yield dictionary.doc2bow(text)\n",
    "    def DelhiHC(self):\n",
    "        for text in files_to_tokens('LegalAdhocTask/SC-HCAdhocData/DelhiHC/**/*.txt'):\n",
    "            yield dictionary.doc2bow(text)\n",
    "    def JharkhandHC(self):\n",
    "        for text in files_to_tokens('LegalAdhocTask/SC-HCAdhocData/JharkhandHC/**/*.txt'):\n",
    "            yield dictionary.doc2bow(text)\n",
    "    def JodhpurHC(self):\n",
    "        for text in  files_to_tokens('LegalAdhocTask/SC-HCAdhocData/JodhpurHC/**/*.txt'):\n",
    "            yield dictionary.doc2bow(text)\n",
    "    def KolkataHC(self):\n",
    "        for text in  files_to_tokens('LegalAdhocTask/SC-HCAdhocData/KolkataHC/**/*.txt'):\n",
    "            yield dictionary.doc2bow(text)\n",
    "    def SupremeCourt(self):\n",
    "        for text in  files_to_tokens('LegalAdhocTask/SC-HCAdhocData/SupremeCourt/**/*.txt'):\n",
    "            yield dictionary.doc2bow(text)\n",
    "    def everything(self):\n",
    "        return chain(self.DCDRC(), self.NCDRC(), self.SCDRC(), self.DelhiHC(),\n",
    "                     self.JharkhandHC(), self.JodhpurHC(), self.KolkataHC(), self.SupremeCourt())\n",
    "        \n",
    "        "
   ]
  },
  {
   "cell_type": "code",
   "execution_count": 6,
   "metadata": {
    "scrolled": true
   },
   "outputs": [
    {
     "name": "stderr",
     "output_type": "stream",
     "text": [
      "2018-01-04 13:14:45,089 : INFO : loading Dictionary object from newdictionary\n",
      "2018-01-04 13:14:45,100 : INFO : loaded newdictionary\n"
     ]
    }
   ],
   "source": [
    "#################################### laod the dictinary\n",
    "dictionary = corpora.Dictionary.load('newdictionary')"
   ]
  },
  {
   "cell_type": "code",
   "execution_count": 7,
   "metadata": {
    "scrolled": false
   },
   "outputs": [
    {
     "name": "stderr",
     "output_type": "stream",
     "text": [
      "2018-01-04 13:14:45,255 : INFO : loaded corpus index from newcorpus.mm.index\n",
      "2018-01-04 13:14:45,256 : INFO : initializing corpus reader from newcorpus.mm\n",
      "2018-01-04 13:14:45,257 : INFO : accepted corpus with 351985 documents, 35955 features, 88778565 non-zero entries\n"
     ]
    }
   ],
   "source": [
    "######################################## load BOW\n",
    "corpus = corpora.MmCorpus('newcorpus.mm')"
   ]
  },
  {
   "cell_type": "code",
   "execution_count": 8,
   "metadata": {},
   "outputs": [],
   "source": [
    "# get the query truth in dictionary\n",
    "query_truth = {}\n",
    "for i in range(1,11):\n",
    "    query_truth[str(i)]=[]\n",
    "    \n",
    "    \n",
    "f = open('LegalAdhocTask/Consumer.qrels')\n",
    "lines = [line.rstrip('\\n').split(\"\\t\") for line in f]\n",
    "for line in lines:\n",
    "    del line[1]\n",
    "    query_truth[line[0]].append(line[1:])\n"
   ]
  },
  {
   "cell_type": "code",
   "execution_count": 9,
   "metadata": {},
   "outputs": [],
   "source": [
    "from  scipy.stats import rankdata\n",
    "import copy\n"
   ]
  },
  {
   "cell_type": "code",
   "execution_count": 16,
   "metadata": {
    "collapsed": true
   },
   "outputs": [],
   "source": [
    "\n",
    "import math\n",
    "from six import iteritems\n",
    "from six.moves import xrange\n",
    "\n",
    "#     The variable k1 is a positive tuning parameter that calibrates the\n",
    "#     document term frequency scaling. A k1 value of 0 corresponds to a binary\n",
    "#     model (no term frequency), and a large value corresponds to using raw term\n",
    "#     frequency. b is another tuning parameter (0 ≤ b ≤ 1) which determines\n",
    "#     the scaling by document length: b = 1 corresponds to fully scaling the term\n",
    "#     weight by the document length, while b = 0 corresponds to no length normalization\n",
    "\n",
    "\n",
    "# BM25 parameters.\n",
    "PARAM_K1 = 1.5\n",
    "PARAM_B = 0\n",
    "\n",
    "# incase the idf is zero\n",
    "EPSILON = 0.01\n",
    "\n",
    "\n",
    "class BM25(object):\n",
    "\n",
    "    def __init__(self, corpus):\n",
    "        self.corpus_size = dictionary.num_docs\n",
    "        s = 0\n",
    "        for i in corpus:\n",
    "            for x in i:\n",
    "                s = s + x[1]\n",
    "        s = float(s)    \n",
    "        self.avgdl = s / self.corpus_size\n",
    "        self.corpus = corpus\n",
    "        self.df = dictionary.dfs\n",
    "        self.idf = {}\n",
    "        print 'wtf'\n",
    "        self.initialize()\n",
    "\n",
    "    def initialize(self):\n",
    "        for word, freq in iteritems(self.df):\n",
    "            self.idf[word] = math.log(self.corpus_size - freq + 0.5) - math.log(freq + 0.5)\n",
    "\n",
    "    # document here refers to query , index is of the document in the corpus\n",
    "    def get_score(self, query, index, average_idf):\n",
    "        score = 0\n",
    "        index_doc = dict(self.corpus[index])\n",
    "        \n",
    "        for word,freq in query:\n",
    "            if word not in index_doc:\n",
    "                continue\n",
    "            idf = self.idf[word] if self.idf[word] >= 0 else EPSILON * average_idf\n",
    "            # index_doc[word] instead of freq as freq. in the corpus document is needed not query\n",
    "            score += freq*((idf * index_doc[word] * (PARAM_K1 + 1)\n",
    "                      / (index_doc[word] + PARAM_K1 * (1 - PARAM_B + PARAM_B * self.corpus_size / self.avgdl))))\n",
    "        return score\n",
    "\n",
    "    def get_scores(self, query, average_idf):\n",
    "        scores = []\n",
    "        for index in xrange(self.corpus_size):\n",
    "            score = self.get_score(query, index, average_idf)\n",
    "            scores.append(score)\n",
    "        return scores\n",
    "\n"
   ]
  },
  {
   "cell_type": "code",
   "execution_count": 19,
   "metadata": {
    "scrolled": true
   },
   "outputs": [
    {
     "name": "stdout",
     "output_type": "stream",
     "text": [
      "wtf\n"
     ]
    }
   ],
   "source": [
    "# run it once for initializing the idf \n",
    "bm25 = BM25(corpus)"
   ]
  },
  {
   "cell_type": "code",
   "execution_count": 20,
   "metadata": {
    "collapsed": true
   },
   "outputs": [],
   "source": [
    "# need to pass it to the function that calculates the score\n",
    "average_idf = sum(map(lambda k: float(bm25.idf[k]), bm25.idf.keys())) / len(bm25.idf.keys())"
   ]
  },
  {
   "cell_type": "code",
   "execution_count": 21,
   "metadata": {},
   "outputs": [
    {
     "data": {
      "text/plain": [
       "1.5"
      ]
     },
     "execution_count": 21,
     "metadata": {},
     "output_type": "execute_result"
    }
   ],
   "source": [
    "PARAM_K1"
   ]
  },
  {
   "cell_type": "code",
   "execution_count": 22,
   "metadata": {
    "collapsed": true
   },
   "outputs": [],
   "source": [
    "# NEED TO CHANGE THESE\n",
    "# BM25 parameters.\n",
    "PARAM_K1 =1.2\n",
    "PARAM_B = 0.75\n",
    "\n",
    "# incase the idf is zero\n",
    "EPSILON = 0.01\n"
   ]
  },
  {
   "cell_type": "code",
   "execution_count": 23,
   "metadata": {
    "scrolled": true
   },
   "outputs": [
    {
     "name": "stdout",
     "output_type": "stream",
     "text": [
      "0\n",
      "1\n",
      "2\n",
      "3\n",
      "4\n",
      "5\n",
      "6\n",
      "7\n",
      "8\n",
      "9\n"
     ]
    }
   ],
   "source": [
    "tfidf_results = copy.deepcopy(query_truth)\n",
    "\n",
    "sim_list = [0]\n",
    "rank_list = [0]\n",
    "queries = [0]\n",
    "for i,query in enumerate(files_to_tokens('LegalAdhocTask/q*.txt')):\n",
    "    queries.append(query)\n",
    "    sims = bm25.get_scores(dictionary.doc2bow(query), average_idf)\n",
    "    sim_list.append(sims)\n",
    "    # rank of every document wrt similarity\n",
    "    ranks = rankdata(sims, method='ordinal')\n",
    "    ranks= len(ranks)+1 - ranks \n",
    "    rank_list.append(ranks)\n",
    "    \n",
    "    # update the query truth tuples with similarity score and the ranks\n",
    "    for x in tfidf_results[str(i+1)]:\n",
    "        x.append(sims[filenames.index(x[0]+'.txt')])\n",
    "        x.append(ranks[filenames.index(x[0]+'.txt')])\n",
    "        #x.append(common_words(filenames.index(x[0]+'.txt'), tfidf_corpus, query))\n",
    "    print i\n",
    "    # sort wrt relevance(from truth) and then ranks(from our model)\n",
    "    #tfidf_results[str(i+1)].sort(key=lambda x: (-int(x[1]),x[3]))     \n",
    "    \n",
    "        "
   ]
  },
  {
   "cell_type": "code",
   "execution_count": 24,
   "metadata": {
    "scrolled": true
   },
   "outputs": [
    {
     "data": {
      "text/plain": [
       "{'1': [['ConsumerCourt_DCDRC_100385', '1', 0.4198088399276692, 110436],\n",
       "  ['ConsumerCourt_DCDRC_106530', '0', 0.8472511023455076, 43347],\n",
       "  ['ConsumerCourt_DCDRC_107608', '1', 2.180936432375835, 7186],\n",
       "  ['ConsumerCourt_DCDRC_114291', '1', 0.11611557628714984, 220763],\n",
       "  ['ConsumerCourt_DCDRC_114382', '1', 0.4609735517849787, 100040],\n",
       "  ['ConsumerCourt_DCDRC_118185', '1', 0.5716922172201285, 77577],\n",
       "  ['ConsumerCourt_DCDRC_130318', '0', 0.21390884286707826, 179832],\n",
       "  ['ConsumerCourt_DCDRC_130570', '1', 0.34715455141350693, 131787],\n",
       "  ['ConsumerCourt_DCDRC_131146', '1', 0.18367134122427323, 191888],\n",
       "  ['ConsumerCourt_DCDRC_131717', '1', 0.4980570593943423, 91909],\n",
       "  ['ConsumerCourt_DCDRC_131741', '1', 0.1783940983394007, 194124],\n",
       "  ['ConsumerCourt_DCDRC_131818', '1', 0.11787261071391347, 219989],\n",
       "  ['ConsumerCourt_DCDRC_131950', '0', 0.3419119769737601, 133484],\n",
       "  ['ConsumerCourt_DCDRC_131972', '0', 0.7332937607508928, 54508],\n",
       "  ['ConsumerCourt_DCDRC_132932', '0', 1.7568157329781617, 11188],\n",
       "  ['ConsumerCourt_DCDRC_133592', '1', 0.17251942767854983, 196462],\n",
       "  ['ConsumerCourt_DCDRC_134386', '0', 0.5882285251457131, 74795],\n",
       "  ['ConsumerCourt_DCDRC_135474', '1', 0.016786487014121828, 304891],\n",
       "  ['ConsumerCourt_DCDRC_139024', '0', 0.37772981588817, 122145],\n",
       "  ['ConsumerCourt_DCDRC_139205', '0', 0.06305211857289159, 251547],\n",
       "  ['ConsumerCourt_DCDRC_140039', '1', 0.7355582327484789, 54269],\n",
       "  ['ConsumerCourt_DCDRC_145708', '0', 1.3869465728044441, 18053],\n",
       "  ['ConsumerCourt_DCDRC_187214', '1', 0.11022016732455751, 223478],\n",
       "  ['ConsumerCourt_DCDRC_207784', '1', 0.18851734896118, 189967],\n",
       "  ['ConsumerCourt_DCDRC_217344', '1', 0.6562511540973913, 64248],\n",
       "  ['ConsumerCourt_DCDRC_217471', '1', 0.2385381359124787, 170182],\n",
       "  ['ConsumerCourt_DCDRC_222797', '0', 0.223036976378479, 176232],\n",
       "  ['ConsumerCourt_DCDRC_222844', '1', 0.5584661605223834, 79893],\n",
       "  ['ConsumerCourt_DCDRC_224228', '0', 0.2166472260411844, 178680],\n",
       "  ['ConsumerCourt_DCDRC_224833', '0', 4.910163462394818, 863],\n",
       "  ['ConsumerCourt_DCDRC_226072', '1', 0.4266677410298645, 108640],\n",
       "  ['ConsumerCourt_DCDRC_38498', '0', 0.24874897212936514, 166262],\n",
       "  ['ConsumerCourt_DCDRC_39186', '1', 0.6413552843344035, 66465],\n",
       "  ['ConsumerCourt_DCDRC_41317', '1', 0.02350056715695637, 293799],\n",
       "  ['ConsumerCourt_DCDRC_41588', '1', 0.1285822931691917, 215272],\n",
       "  ['ConsumerCourt_DCDRC_42118', '1', 0.03512028831304479, 277642],\n",
       "  ['ConsumerCourt_DCDRC_42618', '1', 0.5523524511574073, 80997],\n",
       "  ['ConsumerCourt_DCDRC_42649', '1', 0.5705759941806158, 77767],\n",
       "  ['ConsumerCourt_DCDRC_44200', '1', 0.31930064756155313, 141179],\n",
       "  ['ConsumerCourt_DCDRC_46368', '1', 0.14197890254450737, 209361],\n",
       "  ['ConsumerCourt_DCDRC_46519', '1', 0.36314311457324927, 126618],\n",
       "  ['ConsumerCourt_DCDRC_46543', '1', 0.459580503685466, 100349],\n",
       "  ['ConsumerCourt_DCDRC_53138', '1', 0.4785655541290171, 96056],\n",
       "  ['ConsumerCourt_DCDRC_55517', '1', 0.9123466755384236, 38405],\n",
       "  ['ConsumerCourt_DCDRC_55612', '1', 0.7673380193881555, 50765],\n",
       "  ['ConsumerCourt_DCDRC_55678', '1', 2.951760565980746, 3444],\n",
       "  ['ConsumerCourt_DCDRC_55899', '1', 0.20179026179409343, 184661],\n",
       "  ['ConsumerCourt_DCDRC_57484', '0', 0.0422747502484527, 269758],\n",
       "  ['ConsumerCourt_DCDRC_74868', '1', 0.20532237808967269, 183257],\n",
       "  ['ConsumerCourt_DCDRC_80057', '1', 1.8737442694452837, 9868],\n",
       "  ['ConsumerCourt_DCDRC_83596', '0', 0.04028688221771577, 271729],\n",
       "  ['ConsumerCourt_DCDRC_83779', '0', 0.3724707716221061, 123685],\n",
       "  ['ConsumerCourt_DCDRC_96667', '1', 0.40750650412243145, 113802],\n",
       "  ['ConsumerCourt_DCDRC_98733', '1', 0.5873798441423482, 74951],\n",
       "  ['ConsumerCourt_SCDRC_52678', '0', 0.005463367868773596, 332098],\n",
       "  ['DelhiHC_2011_4267', '0', 0.39283578527378954, 117736],\n",
       "  ['KolkataHCOriginalSite_2012_36', '0', 0.4045688959142709, 114612]],\n",
       " '10': [['ConsumerCourt_DCDRC_220958', '0', 0.12603236261225972, 200254],\n",
       "  ['ConsumerCourt_DCDRC_222509', '0', 0.2444770141608191, 135051],\n",
       "  ['ConsumerCourt_DCDRC_223570', '0', 0.7321461074384698, 28651],\n",
       "  ['ConsumerCourt_DCDRC_227314', '0', 0, 351168],\n",
       "  ['ConsumerCourt_DCDRC_228688', '1', 0.6169811897606441, 39763],\n",
       "  ['ConsumerCourt_DCDRC_235883', '0', 0.7092807109767222, 30485],\n",
       "  ['ConsumerCourt_DCDRC_38192', '0', 0.12530503959539574, 200677],\n",
       "  ['ConsumerCourt_DCDRC_41485', '0', 0.07444895374055065, 233948],\n",
       "  ['ConsumerCourt_DCDRC_41489', '0', 0.1961832557172338, 159785],\n",
       "  ['ConsumerCourt_DCDRC_41520', '0', 0.18273011772948441, 167116],\n",
       "  ['ConsumerCourt_SCDRC_44836', '0', 0.4136935718538751, 75501],\n",
       "  ['ConsumerCourt_SCDRC_56350', '0', 0.15022534549246006, 185936],\n",
       "  ['ConsumerCourt_SCDRC_65898', '0', 0.04773721497110227, 255353],\n",
       "  ['ConsumerCourt_SCDRC_68718', '0', 0.12065758638938034, 203471],\n",
       "  ['ConsumerCourt_SCDRC_69937', '1', 0, 350652],\n",
       "  ['ConsumerCourt_SCDRC_70632', '0', 0.2041094532572106, 155393],\n",
       "  ['DelhiHC_2008_2771', '0', 1.0228232917434548, 14064],\n",
       "  ['DelhiHC_2008_2772', '0', 0.9386522641589992, 17105]],\n",
       " '2': [['ConsumerCourt_DCDRC_103241', '0', 0.22124271241833904, 68724],\n",
       "  ['ConsumerCourt_DCDRC_107786', '1', 0.2230672853540422, 67945],\n",
       "  ['ConsumerCourt_DCDRC_114305', '1', 0.06323765112918442, 194187],\n",
       "  ['ConsumerCourt_DCDRC_120930', '1', 0.31130815832403197, 39816],\n",
       "  ['ConsumerCourt_DCDRC_123490', '1', 0.17744374208270758, 92791],\n",
       "  ['ConsumerCourt_DCDRC_125352', '1', 0.12205436254484546, 135870],\n",
       "  ['ConsumerCourt_DCDRC_127791', '0', 0.12016904350572086, 137823],\n",
       "  ['ConsumerCourt_DCDRC_130071', '0', 0.09726087768231986, 159330],\n",
       "  ['ConsumerCourt_DCDRC_130920', '1', 0.25426806161961224, 55580],\n",
       "  ['ConsumerCourt_DCDRC_131972', '0', 0.30362835372675445, 41519],\n",
       "  ['ConsumerCourt_DCDRC_133106', '1', 0.5383828351397201, 13679],\n",
       "  ['ConsumerCourt_DCDRC_133260', '0', 0.11620670069276999, 141472],\n",
       "  ['ConsumerCourt_DCDRC_143284', '1', 0.11620670069276999, 141401],\n",
       "  ['ConsumerCourt_DCDRC_143334', '0', 0.1552651136278764, 108261],\n",
       "  ['ConsumerCourt_DCDRC_144440', '0', 0.22613573029910772, 66569],\n",
       "  ['ConsumerCourt_DCDRC_202900', '0', 0.2806794944329233, 47398],\n",
       "  ['ConsumerCourt_DCDRC_202903', '0', 0.0869863421884039, 169405],\n",
       "  ['ConsumerCourt_DCDRC_207376', '1', 0.11419681315446185, 143426],\n",
       "  ['ConsumerCourt_DCDRC_212601', '0', 4.60781007365237, 29],\n",
       "  ['ConsumerCourt_DCDRC_212692', '1', 0.005521578602615555, 278157],\n",
       "  ['ConsumerCourt_DCDRC_214518', '1', 0.01753690175619481, 246197],\n",
       "  ['ConsumerCourt_DCDRC_226924', '0', 0.09505964262165245, 161388],\n",
       "  ['ConsumerCourt_DCDRC_227866', '1', 0.24785079661634624, 57866],\n",
       "  ['ConsumerCourt_DCDRC_228749', '1', 0.2100981950856363, 74215],\n",
       "  ['ConsumerCourt_DCDRC_229221', '0', 0.2158280405349324, 71295],\n",
       "  ['ConsumerCourt_DCDRC_230361', '1', 0.21185415135284044, 73271],\n",
       "  ['ConsumerCourt_DCDRC_41190', '0', 0.2935973785136038, 43923],\n",
       "  ['ConsumerCourt_DCDRC_50671', '1', 0.1025448283600521, 154116],\n",
       "  ['ConsumerCourt_DCDRC_52620', '1', 0.13068772626243097, 128243],\n",
       "  ['ConsumerCourt_DCDRC_53093', '1', 0.23336563782947697, 63519],\n",
       "  ['ConsumerCourt_DCDRC_53138', '0', 0.18969387278648267, 85304],\n",
       "  ['ConsumerCourt_DCDRC_53153', '1', 0.20441417500330608, 77047],\n",
       "  ['ConsumerCourt_DCDRC_53432', '0', 0.05139620139596876, 207813],\n",
       "  ['ConsumerCourt_DCDRC_53875', '0', 0.1558534882330577, 107888],\n",
       "  ['ConsumerCourt_DCDRC_53881', '0', 0.32171922771748807, 37418],\n",
       "  ['ConsumerCourt_DCDRC_56471', '1', 0.24401320573275592, 59331],\n",
       "  ['ConsumerCourt_DCDRC_56761', '0', 0.10176210890671528, 155391],\n",
       "  ['ConsumerCourt_DCDRC_57453', '0', 0.10102025854149502, 155974],\n",
       "  ['ConsumerCourt_DCDRC_57583', '0', 0.02849824320094811, 232281],\n",
       "  ['ConsumerCourt_DCDRC_62986', '0', 0.025534993315263797, 237539],\n",
       "  ['ConsumerCourt_DCDRC_63724', '0', 0.1229519670600108, 135180],\n",
       "  ['ConsumerCourt_DCDRC_68765', '0', 0.3131770230140549, 39436],\n",
       "  ['ConsumerCourt_DCDRC_68808', '0', 0.35860736642909474, 30596],\n",
       "  ['ConsumerCourt_DCDRC_69863', '0', 0.23957239945467876, 61048],\n",
       "  ['ConsumerCourt_DCDRC_74887', '0', 0.1040265519224541, 152931],\n",
       "  ['ConsumerCourt_DCDRC_75562', '0', 0.023067792536034054, 240198],\n",
       "  ['ConsumerCourt_DCDRC_76114', '0', 0.2109782161177424, 73780],\n",
       "  ['ConsumerCourt_DCDRC_76186', '0', 0.13792706037853386, 122321],\n",
       "  ['ConsumerCourt_DCDRC_76270', '0', 0.056749392299778684, 202003],\n",
       "  ['ConsumerCourt_DCDRC_77085', '1', 0.14005199884300795, 120399],\n",
       "  ['ConsumerCourt_DCDRC_77280', '0', 0.15999472004025211, 104816],\n",
       "  ['ConsumerCourt_DCDRC_77935', '1', 0.30108399747692594, 42075],\n",
       "  ['ConsumerCourt_DCDRC_87186', '0', 0.42702375052586683, 21774],\n",
       "  ['ConsumerCourt_DCDRC_91864', '1', 0.23561042675402616, 62596],\n",
       "  ['ConsumerCourt_DCDRC_96244', '1', 1.088458783689155, 2601],\n",
       "  ['ConsumerCourt_NCDRC_1317', '0', 0.23281612356251524, 63759],\n",
       "  ['ConsumerCourt_SCDRC_49685', '0', 0.09583961186629691, 160766],\n",
       "  ['ConsumerCourt_SCDRC_60064', '1', 0.1325014847923814, 126918],\n",
       "  ['ConsumerCourt_SCDRC_62062', '1', 0.03733869088954557, 221123]],\n",
       " '3': [['ConsumerCourt_DCDRC_103355', '0', 0.10897739244082828, 174882],\n",
       "  ['ConsumerCourt_DCDRC_129293', '1', 0.19008073507875148, 118718],\n",
       "  ['ConsumerCourt_DCDRC_133013', '1', 0.0908341865111858, 190289],\n",
       "  ['ConsumerCourt_DCDRC_133017', '0', 0.04505262742881223, 236725],\n",
       "  ['ConsumerCourt_DCDRC_137661', '0', 0.05410560032597134, 226430],\n",
       "  ['ConsumerCourt_DCDRC_153064', '0', 0.22420746884223108, 101512],\n",
       "  ['ConsumerCourt_DCDRC_187619', '1', 0.2158474066294274, 105574],\n",
       "  ['ConsumerCourt_DCDRC_200840', '0', 0.821304181730705, 17054],\n",
       "  ['ConsumerCourt_DCDRC_222260', '1', 0.01742497031782655, 277749],\n",
       "  ['ConsumerCourt_DCDRC_222772', '1', 0.17318007445501207, 128705],\n",
       "  ['ConsumerCourt_DCDRC_223618', '1', 0.28073586879100204, 79165],\n",
       "  ['ConsumerCourt_DCDRC_228476', '0', 0.16098103646494707, 136282],\n",
       "  ['ConsumerCourt_DCDRC_228963', '1', 0.2053602401465209, 110518],\n",
       "  ['ConsumerCourt_DCDRC_230634', '1', 0.8434303252364632, 16227],\n",
       "  ['ConsumerCourt_DCDRC_235824', '0', 0.10368145695983247, 179337],\n",
       "  ['ConsumerCourt_DCDRC_45666', '0', 0.4611266215888972, 41377],\n",
       "  ['ConsumerCourt_DCDRC_47493', '1', 0.29347633922991634, 75244],\n",
       "  ['ConsumerCourt_DCDRC_52566', '0', 0.2102761766709309, 108208],\n",
       "  ['ConsumerCourt_DCDRC_73184', '0', 0.07981727290960174, 200431],\n",
       "  ['ConsumerCourt_DCDRC_73185', '0', 1.1781468177783556, 8754],\n",
       "  ['ConsumerCourt_NCDRC_2861', '1', 0.03949047903969564, 243942],\n",
       "  ['ConsumerCourt_NCDRC_2902', '0', 0.13143916076655346, 156946],\n",
       "  ['ConsumerCourt_NCDRC_2979', '0', 0.09642831126621317, 185460],\n",
       "  ['ConsumerCourt_NCDRC_632', '0', 0.1267594544932158, 160534],\n",
       "  ['ConsumerCourt_NCDRC_637', '0', 0.18902964318618246, 119292],\n",
       "  ['ConsumerCourt_SCDRC_2052', '0', 0, 346567],\n",
       "  ['ConsumerCourt_SCDRC_22704', '0', 0, 346040],\n",
       "  ['ConsumerCourt_SCDRC_29484', '0', 0.15194787413543132, 142233],\n",
       "  ['ConsumerCourt_SCDRC_29552', '0', 0.1603765968098905, 136649],\n",
       "  ['ConsumerCourt_SCDRC_30176', '0', 0, 348550],\n",
       "  ['ConsumerCourt_SCDRC_48394', '0', 0.14878838960648652, 144317],\n",
       "  ['ConsumerCourt_SCDRC_63569', '0', 0.06085707837987893, 219298],\n",
       "  ['ConsumerCourt_SCDRC_63609', '0', 0.09839681250760865, 183769],\n",
       "  ['ConsumerCourt_SCDRC_65919', '0', 0.25510290103190103, 88498],\n",
       "  ['ConsumerCourt_SCDRC_66200', '0', 0.17353188648566187, 128504],\n",
       "  ['ConsumerCourt_SCDRC_69801', '0', 0.09683666704270547, 185143],\n",
       "  ['ConsumerCourt_SCDRC_814', '0', 0.17913990456023535, 125154],\n",
       "  ['DelhiHC_2012_388', '0', 0.06570254707627972, 214342]],\n",
       " '4': [['ConsumerCourt_DCDRC_106570', '0', 0.27127045934127525, 40147],\n",
       "  ['ConsumerCourt_DCDRC_116129', '1', 0.09592140735499566, 135164],\n",
       "  ['ConsumerCourt_DCDRC_128836', '0', 0.16278402985376947, 83667],\n",
       "  ['ConsumerCourt_DCDRC_130725', '1', 0.10091248071351935, 130063],\n",
       "  ['ConsumerCourt_DCDRC_133137', '0', 0.06293023448298958, 170627],\n",
       "  ['ConsumerCourt_DCDRC_173376', '0', 0.06111369558165306, 172764],\n",
       "  ['ConsumerCourt_DCDRC_174292', '0', 0.3828459006136709, 21268],\n",
       "  ['ConsumerCourt_DCDRC_174300', '1', 0.12525207511805592, 109427],\n",
       "  ['ConsumerCourt_DCDRC_202903', '0', 0.09267493594487579, 138203],\n",
       "  ['ConsumerCourt_DCDRC_205816', '1', 0.1496977705599553, 91951],\n",
       "  ['ConsumerCourt_DCDRC_207155', '0', 0.10116498671447677, 129864],\n",
       "  ['ConsumerCourt_DCDRC_207197', '0', 0.028900390342717127, 213786],\n",
       "  ['ConsumerCourt_DCDRC_212467', '1', 0.5613844768866944, 9554],\n",
       "  ['ConsumerCourt_DCDRC_213156', '0', 0.059632944192759975, 174138],\n",
       "  ['ConsumerCourt_DCDRC_213473', '0', 0.06938147735992634, 162838],\n",
       "  ['ConsumerCourt_DCDRC_213784', '0', 0.21210411458652065, 58988],\n",
       "  ['ConsumerCourt_DCDRC_214475', '0', 0.006157467890758372, 267067],\n",
       "  ['ConsumerCourt_DCDRC_218582', '0', 0.06293023448298958, 170628],\n",
       "  ['ConsumerCourt_DCDRC_221177', '0', 0.21514366030507898, 57778],\n",
       "  ['ConsumerCourt_DCDRC_221424', '0', 0.028013564620778877, 214930],\n",
       "  ['ConsumerCourt_DCDRC_223275', '0', 0.14527123243132972, 94840],\n",
       "  ['ConsumerCourt_DCDRC_226909', '0', 2.5825437433090825, 193],\n",
       "  ['ConsumerCourt_DCDRC_227099', '0', 0.25604254892188727, 44122],\n",
       "  ['ConsumerCourt_DCDRC_229902', '0', 0.0305141159205441, 211569],\n",
       "  ['ConsumerCourt_DCDRC_47636', '0', 0, 350990],\n",
       "  ['ConsumerCourt_DCDRC_49131', '0', 0, 350850],\n",
       "  ['ConsumerCourt_DCDRC_51881', '0', 0.19032658261687282, 68504],\n",
       "  ['ConsumerCourt_DCDRC_52357', '0', 0.0855629883425311, 145461],\n",
       "  ['ConsumerCourt_DCDRC_53202', '0', 0.0819791265461164, 149362],\n",
       "  ['ConsumerCourt_DCDRC_53580', '1', 0.24942269299753986, 46046],\n",
       "  ['ConsumerCourt_DCDRC_54056', '1', 0.24178900086081753, 48271],\n",
       "  ['ConsumerCourt_DCDRC_70122', '0', 0.14493136358381387, 95038],\n",
       "  ['ConsumerCourt_DCDRC_73309', '0', 0.022484369163191083, 223756],\n",
       "  ['ConsumerCourt_NCDRC_2154', '0', 0.1644177538122108, 82590],\n",
       "  ['ConsumerCourt_NCDRC_3506', '0', 1.8820118116129967, 499],\n",
       "  ['ConsumerCourt_SCDRC_1143', '1', 0.1576898999874118, 86735],\n",
       "  ['ConsumerCourt_SCDRC_1288', '1', 0.007049231441772424, 263170],\n",
       "  ['ConsumerCourt_SCDRC_22830', '0', 0, 341761],\n",
       "  ['ConsumerCourt_SCDRC_37679', '1', 0.10713883681927101, 124584],\n",
       "  ['ConsumerCourt_SCDRC_471', '0', 0.02545371690691841, 220939],\n",
       "  ['ConsumerCourt_SCDRC_49973', '1', 0.07348322460001944, 157986],\n",
       "  ['ConsumerCourt_SCDRC_5406', '0', 0.1053369172256487, 126379],\n",
       "  ['ConsumerCourt_SCDRC_7046', '1', 0.052465946277407985, 182320],\n",
       "  ['DelhiHC_2012_3856', '0', 0.5118217571217595, 11670],\n",
       "  ['SupremeCourt_2009_1421', '0', 0.14543290945218185, 94760]],\n",
       " '5': [['ConsumerCourt_DCDRC_124651', '0', 0.041387912018408586, 219359],\n",
       "  ['ConsumerCourt_DCDRC_138545', '0', 0.5939744393323882, 10696],\n",
       "  ['ConsumerCourt_DCDRC_139183', '0', 0.2524034390143911, 60683],\n",
       "  ['ConsumerCourt_DCDRC_141380', '0', 0.15103320627055886, 113549],\n",
       "  ['ConsumerCourt_DCDRC_148691', '1', 0.5901927185457922, 10842],\n",
       "  ['ConsumerCourt_DCDRC_202903', '0', 0.07587217281471982, 179901],\n",
       "  ['ConsumerCourt_DCDRC_208296', '0', 1.191485989928886, 1541],\n",
       "  ['ConsumerCourt_DCDRC_223817', '0', 0.6036864759366973, 10052],\n",
       "  ['ConsumerCourt_DCDRC_226994', '0', 0.08174488785178209, 173847],\n",
       "  ['ConsumerCourt_DCDRC_229911', '1', 0.00830496637255631, 290953],\n",
       "  ['ConsumerCourt_DCDRC_41155', '1', 0.1725759684652722, 99157],\n",
       "  ['ConsumerCourt_DCDRC_41262', '0', 0.2358714334736227, 66872],\n",
       "  ['ConsumerCourt_DCDRC_41428', '0', 0.08410102198496838, 171508],\n",
       "  ['ConsumerCourt_DCDRC_42411', '0', 0.33517253059603125, 37832],\n",
       "  ['ConsumerCourt_DCDRC_46404', '0', 0.01880979188851522, 256163],\n",
       "  ['ConsumerCourt_DCDRC_53679', '1', 0.19528896820980607, 85989],\n",
       "  ['ConsumerCourt_DCDRC_57315', '1', 0.08758716381520532, 168131],\n",
       "  ['ConsumerCourt_DCDRC_57465', '0', 0.3491874963455037, 35076],\n",
       "  ['ConsumerCourt_DCDRC_57488', '0', 0.09324998164070278, 162455],\n",
       "  ['ConsumerCourt_DCDRC_57914', '1', 0.15135801843249058, 113321],\n",
       "  ['ConsumerCourt_DCDRC_66294', '0', 0.03142542711266681, 233898],\n",
       "  ['ConsumerCourt_DCDRC_96799', '0', 0.13224041710602516, 128053],\n",
       "  ['ConsumerCourt_NCDRC_1337', '1', 0.15404017160329744, 111399],\n",
       "  ['ConsumerCourt_NCDRC_1338', '0', 0.24764055819671657, 62400],\n",
       "  ['ConsumerCourt_NCDRC_2983', '1', 0.45446644670621367, 20161],\n",
       "  ['ConsumerCourt_SCDRC_28656', '0', 0, 339069],\n",
       "  ['ConsumerCourt_SCDRC_33517', '1', 0, 339830],\n",
       "  ['ConsumerCourt_SCDRC_5122', '0', 0.06384271659402765, 192824],\n",
       "  ['ConsumerCourt_SCDRC_71374', '1', 0, 346377]],\n",
       " '6': [['ConsumerCourt_DCDRC_103021', '1', 0.10629897154840963, 241828],\n",
       "  ['ConsumerCourt_DCDRC_119836', '1', 0.07324144136670538, 257354],\n",
       "  ['ConsumerCourt_DCDRC_125237', '1', 1.5300964265276649, 19610],\n",
       "  ['ConsumerCourt_DCDRC_126276', '0', 0.15261247442390022, 225295],\n",
       "  ['ConsumerCourt_DCDRC_131266', '1', 0.027625310655570348, 298953],\n",
       "  ['ConsumerCourt_DCDRC_133353', '1', 0.6570188078573022, 91653],\n",
       "  ['ConsumerCourt_DCDRC_133354', '0', 0.7377927158764439, 78166],\n",
       "  ['ConsumerCourt_DCDRC_134804', '0', 1.2967593152617811, 28121],\n",
       "  ['ConsumerCourt_DCDRC_138617', '1', 0.5127501483825154, 121806],\n",
       "  ['ConsumerCourt_DCDRC_143983', '0', 0.9379479128730599, 53270],\n",
       "  ['ConsumerCourt_DCDRC_207387', '1', 0.306716670149543, 177981],\n",
       "  ['ConsumerCourt_DCDRC_220958', '1', 0.25874410801203995, 192702],\n",
       "  ['ConsumerCourt_DCDRC_223570', '1', 1.6331788588964053, 16933],\n",
       "  ['ConsumerCourt_DCDRC_223783', '0', 1.1861674717786022, 33969],\n",
       "  ['ConsumerCourt_DCDRC_38192', '1', 0.31403926666308013, 175699],\n",
       "  ['ConsumerCourt_DCDRC_41485', '0', 0.10407861606999261, 242702],\n",
       "  ['ConsumerCourt_DCDRC_41489', '0', 0.5294512526257218, 117828],\n",
       "  ['ConsumerCourt_DCDRC_41520', '1', 0.46355623667366885, 133863],\n",
       "  ['ConsumerCourt_DCDRC_45421', '0', 0.2833297642876265, 185079],\n",
       "  ['ConsumerCourt_DCDRC_52148', '0', 0.39307216372326265, 152991],\n",
       "  ['ConsumerCourt_DCDRC_70186', '0', 0.5148652663885634, 121307],\n",
       "  ['ConsumerCourt_DCDRC_70341', '0', 1.273737939121662, 29211],\n",
       "  ['ConsumerCourt_DCDRC_90054', '0', 1.0565906084960772, 42838],\n",
       "  ['ConsumerCourt_SCDRC_28640', '1', 0.5854126113647673, 105559],\n",
       "  ['ConsumerCourt_SCDRC_64152', '0', 0.21080293756118712, 207194],\n",
       "  ['ConsumerCourt_SCDRC_68718', '1', 0.14514933476801287, 227902],\n",
       "  ['ConsumerCourt_SCDRC_70632', '0', 0.2472827450640412, 196040],\n",
       "  ['DelhiHC_2009_735', '1', 0.4033762148302467, 150235],\n",
       "  ['DelhiHC_2012_372', '0', 0.8928718759757542, 57990],\n",
       "  ['DelhiHC_2012_374', '0', 0.40625842250143845, 149407],\n",
       "  ['SupremeCourt_1996_416', '0', 1.260429525171432, 29865]],\n",
       " '7': [['ConsumerCourt_DCDRC_119406', '1', 0.20795684281801835, 215173],\n",
       "  ['ConsumerCourt_DCDRC_121344', '0', 0.4752993179590326, 143106],\n",
       "  ['ConsumerCourt_DCDRC_127019', '0', 0.946979085385204, 49106],\n",
       "  ['ConsumerCourt_DCDRC_130205', '0', 0.5850736996174507, 113423],\n",
       "  ['ConsumerCourt_DCDRC_207672', '1', 0.6332114471798862, 101809],\n",
       "  ['ConsumerCourt_DCDRC_222487', '0', 1.0046950386909275, 43088],\n",
       "  ['ConsumerCourt_DCDRC_224805', '0', 0.9519418522902637, 48557],\n",
       "  ['ConsumerCourt_DCDRC_235755', '0', 1.4154624719670934, 18251],\n",
       "  ['ConsumerCourt_DCDRC_236026', '1', 1.1253765469420929, 32755],\n",
       "  ['ConsumerCourt_DCDRC_236229', '0', 0.4289612070269257, 155737],\n",
       "  ['ConsumerCourt_DCDRC_33939', '0', 0.8754141045298741, 57766],\n",
       "  ['ConsumerCourt_DCDRC_44337', '1', 0.7099325978586722, 85426],\n",
       "  ['ConsumerCourt_DCDRC_45534', '0', 0.9409460660849861, 49800],\n",
       "  ['ConsumerCourt_DCDRC_46470', '0', 1.1909325754958342, 28400],\n",
       "  ['ConsumerCourt_DCDRC_48811', '0', 0.1663007676934602, 227139],\n",
       "  ['ConsumerCourt_DCDRC_51454', '1', 0.46419655598927134, 146138],\n",
       "  ['ConsumerCourt_DCDRC_64180', '0', 1.6872091827708218, 11579],\n",
       "  ['ConsumerCourt_DCDRC_73953', '0', 0.47850380443467455, 142272],\n",
       "  ['ConsumerCourt_DCDRC_75554', '0', 0.7787462259599952, 72531],\n",
       "  ['ConsumerCourt_SCDRC_1050', '0', 0.5023631800687994, 135701],\n",
       "  ['ConsumerCourt_SCDRC_1387', '0', 0, 349456],\n",
       "  ['ConsumerCourt_SCDRC_1418', '0', 0.3891963994874027, 166659],\n",
       "  ['ConsumerCourt_SCDRC_65323', '0', 0.10720656638527164, 245483],\n",
       "  ['ConsumerCourt_SCDRC_66203', '0', 0.31405467556545646, 186568],\n",
       "  ['DelhiHC_2012_2026', '0', 0.2235083969982575, 210962]],\n",
       " '8': [['ConsumerCourt_DCDRC_101057', '1', 0.4989662707133933, 118950],\n",
       "  ['ConsumerCourt_DCDRC_118168', '0', 0.43226168633414563, 136452],\n",
       "  ['ConsumerCourt_DCDRC_118989', '0', 0.26292876852263125, 189850],\n",
       "  ['ConsumerCourt_DCDRC_120003', '1', 1.1235735282274681, 36007],\n",
       "  ['ConsumerCourt_DCDRC_120004', '1', 0.22058862038217403, 204133],\n",
       "  ['ConsumerCourt_DCDRC_121058', '0', 1.1842743852434063, 32737],\n",
       "  ['ConsumerCourt_DCDRC_125286', '0', 3.4741367695660306, 2816],\n",
       "  ['ConsumerCourt_DCDRC_126274', '0', 0.4234618893328081, 139019],\n",
       "  ['ConsumerCourt_DCDRC_128072', '1', 0.39082335714611943, 148680],\n",
       "  ['ConsumerCourt_DCDRC_129352', '0', 0.8757837938224824, 55807],\n",
       "  ['ConsumerCourt_DCDRC_129820', '0', 0.49414512960179563, 120183],\n",
       "  ['ConsumerCourt_DCDRC_131144', '0', 0.1260203923489258, 238145],\n",
       "  ['ConsumerCourt_DCDRC_131587', '0', 0.5647259635062738, 103701],\n",
       "  ['ConsumerCourt_DCDRC_131846', '0', 0.2831073839852205, 183049],\n",
       "  ['ConsumerCourt_DCDRC_132917', '0', 0.0456437457407497, 284488],\n",
       "  ['ConsumerCourt_DCDRC_132928', '0', 0.47751893984044746, 124319],\n",
       "  ['ConsumerCourt_DCDRC_134709', '0', 0.1668210766662462, 223324],\n",
       "  ['ConsumerCourt_DCDRC_140632', '0', 0.21942738027537095, 204628],\n",
       "  ['ConsumerCourt_DCDRC_140644', '0', 0.6067439594647286, 94994],\n",
       "  ['ConsumerCourt_DCDRC_145502', '0', 0.30942047342324513, 174170],\n",
       "  ['ConsumerCourt_DCDRC_169855', '0', 0.21950644673285158, 204581],\n",
       "  ['ConsumerCourt_DCDRC_202901', '0', 0.15353027238265327, 227960],\n",
       "  ['ConsumerCourt_DCDRC_203935', '0', 0.6392589084880914, 89011],\n",
       "  ['ConsumerCourt_DCDRC_222781', '0', 1.0907244211816798, 38246],\n",
       "  ['ConsumerCourt_DCDRC_223340', '0', 0.47089812199205483, 126003],\n",
       "  ['ConsumerCourt_DCDRC_228779', '0', 0.6381924881728693, 89193],\n",
       "  ['ConsumerCourt_DCDRC_229540', '0', 0.4510551459502232, 131277],\n",
       "  ['ConsumerCourt_DCDRC_39867', '0', 1.357201729308197, 25020],\n",
       "  ['ConsumerCourt_DCDRC_40822', '0', 0.17956078426195102, 218609],\n",
       "  ['ConsumerCourt_DCDRC_41058', '0', 0.7893322164908525, 65838],\n",
       "  ['ConsumerCourt_DCDRC_41514', '0', 0.5532178439652352, 106195],\n",
       "  ['ConsumerCourt_DCDRC_57900', '1', 0.44401268204169264, 133199],\n",
       "  ['ConsumerCourt_DCDRC_69224', '0', 0.41092054827618624, 142622],\n",
       "  ['ConsumerCourt_DCDRC_71619', '0', 0.41922203701758143, 140264],\n",
       "  ['ConsumerCourt_DCDRC_73864', '0', 0.2288581928265984, 201273],\n",
       "  ['ConsumerCourt_DCDRC_75339', '0', 0.13059048125516146, 236412],\n",
       "  ['ConsumerCourt_DCDRC_75574', '1', 0.3743835267082966, 153676],\n",
       "  ['ConsumerCourt_DCDRC_76123', '0', 0.08827977146784567, 254643],\n",
       "  ['ConsumerCourt_DCDRC_85243', '0', 0.4553667012539652, 130143],\n",
       "  ['ConsumerCourt_SCDRC_29744', '0', 0.25201389977945265, 193490],\n",
       "  ['ConsumerCourt_SCDRC_33757', '0', 2.5192053328739226, 6322],\n",
       "  ['ConsumerCourt_SCDRC_53283', '0', 0, 346662],\n",
       "  ['ConsumerCourt_SCDRC_63603', '0', 0.3067529037640066, 175055],\n",
       "  ['ConsumerCourt_SCDRC_66106', '1', 0.38099839702206556, 151653],\n",
       "  ['ConsumerCourt_SCDRC_66890', '0', 0.5541343708530917, 105998],\n",
       "  ['ConsumerCourt_SCDRC_67067', '0', 0.010458564519368895, 325900],\n",
       "  ['ConsumerCourt_SCDRC_67949', '0', 0.46092670647594175, 128647],\n",
       "  ['ConsumerCourt_SCDRC_67951', '0', 0.4603073920459047, 128826],\n",
       "  ['ConsumerCourt_SCDRC_72333', '1', 0.5738972376914995, 101710],\n",
       "  ['JodhpurHC_2008_1906', '0', 0.1772662909226646, 219420]],\n",
       " '9': [['ConsumerCourt_DCDRC_108097', '0', 0.07949920795360899, 169540],\n",
       "  ['ConsumerCourt_DCDRC_119856', '1', 0.06778293520962814, 183226],\n",
       "  ['ConsumerCourt_DCDRC_119986', '0', 0.10238640933378157, 145180],\n",
       "  ['ConsumerCourt_DCDRC_128297', '0', 0.14663401871048945, 108134],\n",
       "  ['ConsumerCourt_DCDRC_128836', '0', 0.12269811773147246, 126644],\n",
       "  ['ConsumerCourt_DCDRC_130625', '0', 0.026027142061952623, 244984],\n",
       "  ['ConsumerCourt_DCDRC_133010', '0', 0.2640260433196954, 52610],\n",
       "  ['ConsumerCourt_DCDRC_138306', '1', 0.29486619099948974, 44856],\n",
       "  ['ConsumerCourt_DCDRC_139625', '0', 0.4443772411141987, 22380],\n",
       "  ['ConsumerCourt_DCDRC_143537', '0', 0.013200495037313457, 274947],\n",
       "  ['ConsumerCourt_DCDRC_202901', '0', 0.026887447471353, 240104],\n",
       "  ['ConsumerCourt_DCDRC_202902', '0', 0.1534579720838873, 103510],\n",
       "  ['ConsumerCourt_DCDRC_202903', '0', 0.03734325238817845, 224961],\n",
       "  ['ConsumerCourt_DCDRC_222047', '1', 0.13347520101015767, 118098],\n",
       "  ['ConsumerCourt_DCDRC_224718', '1', 0.20398429793167316, 74792],\n",
       "  ['ConsumerCourt_DCDRC_226994', '0', 0.08786748993633132, 160221],\n",
       "  ['ConsumerCourt_DCDRC_227115', '0', 0.08448603438950096, 163959],\n",
       "  ['ConsumerCourt_DCDRC_227445', '0', 0.1007864044786333, 146720],\n",
       "  ['ConsumerCourt_DCDRC_236013', '1', 0.06768077839317124, 183307],\n",
       "  ['ConsumerCourt_DCDRC_38039', '1', 0.027445194457096426, 238946],\n",
       "  ['ConsumerCourt_DCDRC_38552', '0', 0.014474446886626687, 261252],\n",
       "  ['ConsumerCourt_DCDRC_45418', '0', 0.01406776962951805, 263620],\n",
       "  ['ConsumerCourt_DCDRC_53237', '1', 0.0649023091939999, 187218],\n",
       "  ['ConsumerCourt_DCDRC_56957', '0', 0.039021613703644945, 223385],\n",
       "  ['ConsumerCourt_DCDRC_89958', '0', 0.5245162066448567, 16311],\n",
       "  ['ConsumerCourt_NCDRC_2916', '0', 0.1137782912383916, 134329],\n",
       "  ['ConsumerCourt_NCDRC_437', '0', 0.047649436885425986, 209675],\n",
       "  ['ConsumerCourt_SCDRC_40659', '0', 0.042827998682446355, 215945],\n",
       "  ['ConsumerCourt_SCDRC_49689', '0', 0.010765436615703046, 277602],\n",
       "  ['ConsumerCourt_SCDRC_53178', '0', 0.1402687621137061, 112761],\n",
       "  ['ConsumerCourt_SCDRC_65050', '0', 0.08304348846076592, 165513],\n",
       "  ['ConsumerCourt_SCDRC_67634', '0', 0, 345169],\n",
       "  ['ConsumerCourt_SCDRC_68803', '0', 0.027674941923940145, 238364],\n",
       "  ['DelhiHC_2008_1343', '0', 0.07389614683657715, 175752],\n",
       "  ['DelhiHC_2009_453', '0', 0, 337582],\n",
       "  ['DelhiHC_2010_4683', '0', 0.3023657247883878, 43207],\n",
       "  ['DelhiHC_2010_6192', '0', 0.03748482995963291, 224874],\n",
       "  ['DelhiHC_2011_69', '0', 1.2382650155921293, 2375],\n",
       "  ['DelhiHC_2013_811', '0', 0.30939637714656815, 41826],\n",
       "  ['SupremeCourt_2008_278', '0', 0.2953523521725927, 44744]]}"
      ]
     },
     "execution_count": 24,
     "metadata": {},
     "output_type": "execute_result"
    }
   ],
   "source": [
    "tfidf_results"
   ]
  },
  {
   "cell_type": "code",
   "execution_count": null,
   "metadata": {
    "collapsed": true
   },
   "outputs": [],
   "source": [
    "from openpyxl import Workbook\n",
    "from openpyxl.compat import range\n",
    "from openpyxl.utils import get_column_letter\n",
    "from openpyxl import load_workbook"
   ]
  },
  {
   "cell_type": "code",
   "execution_count": null,
   "metadata": {
    "collapsed": true
   },
   "outputs": [],
   "source": [
    "wow = tfidf_results"
   ]
  },
  {
   "cell_type": "code",
   "execution_count": null,
   "metadata": {
    "collapsed": true
   },
   "outputs": [],
   "source": [
    "wb = Workbook()\n",
    "wb.save('BM25result.xlsx')"
   ]
  },
  {
   "cell_type": "code",
   "execution_count": null,
   "metadata": {
    "scrolled": true
   },
   "outputs": [],
   "source": [
    "# save to excel\n",
    "wb = load_workbook('BM25result.xlsx')\n",
    "ws1 = wb.create_sheet(title=\"K1 = 1.2 B = 0.75 EPS = 0.01 corrected|\")\n",
    "\n",
    "ws1.append(['Query','Filename', 'Relevance', 'Score', 'Rank'])\n",
    "for key,value in wow.iteritems():\n",
    "    for i in value:\n",
    "        ws1.append([int(key)]+ i)\n",
    "\n",
    "wb.save('BM25result.xlsx')"
   ]
  },
  {
   "cell_type": "code",
   "execution_count": null,
   "metadata": {},
   "outputs": [],
   "source": [
    "# given a corpus and document index and a query return intersecting words(scores from corpus) \n",
    "def common_words(index, query):\n",
    "    # quey words\n",
    "    q = [i[0] for i in dictionary.doc2bow(query)]   \n",
    "    q = set(q)\n",
    "    \n",
    "    return sorted([(dictionary.get(i[0]),i[1],j[1]) for i,j in zip(corpus[index],tfidf_corpus[index]) if i[0] in q], key= lambda x: x[1], reverse= True )        \n"
   ]
  },
  {
   "cell_type": "code",
   "execution_count": null,
   "metadata": {
    "collapsed": true
   },
   "outputs": [],
   "source": [
    "# uses ranklist\n",
    "# return top N documents and the respctive common words for every query given corpus\n",
    "def top_N(n, corp) :\n",
    "    top_results = [0]\n",
    "    for i in range(1,11):\n",
    "        x = sorted(range(len(rank_list[i])), key=lambda j: rank_list[i][j])[:n]\n",
    "        y = []\n",
    "        for j in x:\n",
    "            y.append([filenames[j],common_words(j, queries[i])])\n",
    "            \n",
    "        top_results.append(y)\n",
    "    return top_results"
   ]
  },
  {
   "cell_type": "code",
   "execution_count": null,
   "metadata": {},
   "outputs": [],
   "source": [
    "# queries as bag of words\n",
    "# index starts from 1 for queries\n",
    "q_words = [0]\n",
    "for i,query in enumerate(files_to_tokens('LegalAdhocTask\\q*.txt')):\n",
    "    q_words.append(sorted([(dictionary.get(j[0]), j[1], k[1]) for j,k in zip(dictionary.doc2bow(query),tfidf[dictionary.doc2bow(query)])], reverse= True, key= lambda x:x[2]))"
   ]
  },
  {
   "cell_type": "code",
   "execution_count": null,
   "metadata": {
    "scrolled": false
   },
   "outputs": [],
   "source": [
    "# index starts from 1 for queries\n",
    "top_results = top_N(10,corpus)"
   ]
  },
  {
   "cell_type": "code",
   "execution_count": null,
   "metadata": {
    "scrolled": true
   },
   "outputs": [],
   "source": [
    "# ground truth ranks BoW query\n",
    "\n",
    "sorted(BQ['1'], key = lambda x: (-int(x[1]),x[3]))"
   ]
  },
  {
   "cell_type": "code",
   "execution_count": null,
   "metadata": {
    "scrolled": true
   },
   "outputs": [],
   "source": [
    "top_results[1]"
   ]
  },
  {
   "cell_type": "code",
   "execution_count": null,
   "metadata": {
    "collapsed": true
   },
   "outputs": [],
   "source": [
    "tfidf[dictionary.doc2bow([])]"
   ]
  },
  {
   "cell_type": "code",
   "execution_count": null,
   "metadata": {
    "scrolled": true
   },
   "outputs": [],
   "source": [
    "common_words(filenames.index( 'ConsumerCourt_DCDRC_118185' + '.txt'), queries[1])"
   ]
  },
  {
   "cell_type": "code",
   "execution_count": null,
   "metadata": {
    "collapsed": true
   },
   "outputs": [],
   "source": []
  }
 ],
 "metadata": {
  "kernelspec": {
   "display_name": "Python 2",
   "language": "python",
   "name": "python2"
  },
  "language_info": {
   "codemirror_mode": {
    "name": "ipython",
    "version": 2
   },
   "file_extension": ".py",
   "mimetype": "text/x-python",
   "name": "python",
   "nbconvert_exporter": "python",
   "pygments_lexer": "ipython2",
   "version": "2.7.13"
  }
 },
 "nbformat": 4,
 "nbformat_minor": 2
}
