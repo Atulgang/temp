{
 "cells": [
  {
   "cell_type": "code",
   "execution_count": 1,
   "metadata": {
    "collapsed": true
   },
   "outputs": [],
   "source": [
    "def only_alphabet(text):\n",
    "    return ''.join(i for i in text if (ord(i)<123 and ord(i)>96) or (ord(i)<91 and ord(i)>64) or ord(i)==32) "
   ]
  },
  {
   "cell_type": "code",
   "execution_count": 2,
   "metadata": {
    "collapsed": true
   },
   "outputs": [],
   "source": [
    "import logging\n",
    "logging.basicConfig(format='%(asctime)s : %(levelname)s : %(message)s', level=logging.INFO)"
   ]
  },
  {
   "cell_type": "code",
   "execution_count": 3,
   "metadata": {},
   "outputs": [
    {
     "name": "stderr",
     "output_type": "stream",
     "text": [
      "2018-01-04 16:14:58,537 : INFO : 'pattern' package not found; tag filters are not available for English\n"
     ]
    }
   ],
   "source": [
    "import nltk\n",
    "from nltk.tokenize import word_tokenize\n",
    "from stop_words import get_stop_words\n",
    "from nltk.stem import WordNetLemmatizer\n",
    "from gensim import corpora, models\n",
    "import gensim\n",
    "import glob2\n",
    "from itertools import chain\n",
    "import os\n",
    "import numpy as np\n",
    "import itertools\n",
    "import cPickle as pickle"
   ]
  },
  {
   "cell_type": "code",
   "execution_count": 4,
   "metadata": {},
   "outputs": [],
   "source": [
    "# get stopwords as set\n",
    "# get Vocabulary and remove words with length less than 3 \n",
    "# vocab is sorted in descending order \n",
    "\n",
    "en_stop = set(get_stop_words('en'))\n",
    "vocab  = open(\"wordsEn.txt\").read().splitlines()\n",
    "vocab = [i for i in vocab  if len(i)>2]\n",
    "vocab.sort(key=len, reverse=True)\n",
    "\n",
    "vocab_set = set(vocab)\n"
   ]
  },
  {
   "cell_type": "code",
   "execution_count": 5,
   "metadata": {
    "collapsed": true
   },
   "outputs": [],
   "source": [
    "full_filenames = []\n",
    "x= ['LegalAdhocTask\\ConsumerCourtAdhocdata\\DCDRC\\**\\*.txt','LegalAdhocTask\\ConsumerCourtAdhocdata\\NCDRC\\**\\*.txt','LegalAdhocTask\\ConsumerCourtAdhocdata\\SCDRC\\**\\*.txt', 'LegalAdhocTask\\SC-HCAdhocData\\DelhiHC\\**\\*.txt','LegalAdhocTask\\SC-HCAdhocData\\JharkhandHC\\**\\*.txt', 'LegalAdhocTask\\SC-HCAdhocData\\JodhpurHC\\**\\*.txt' ,'LegalAdhocTask\\SC-HCAdhocData\\KolkataHC\\**\\*.txt', 'LegalAdhocTask\\SC-HCAdhocData\\SupremeCourt\\**\\*.txt']\n",
    "for glob_filenames in x:\n",
    "    for filename in glob2.glob(glob_filenames):\n",
    "        full_filenames.append(filename)\n",
    "        if not os.path.isfile(filename):\n",
    "            print 'wtffff'"
   ]
  },
  {
   "cell_type": "code",
   "execution_count": 6,
   "metadata": {
    "collapsed": true
   },
   "outputs": [],
   "source": [
    "filenames = []\n",
    "x= ['LegalAdhocTask\\ConsumerCourtAdhocdata\\DCDRC\\**\\*.txt','LegalAdhocTask\\ConsumerCourtAdhocdata\\NCDRC\\**\\*.txt','LegalAdhocTask\\ConsumerCourtAdhocdata\\SCDRC\\**\\*.txt', 'LegalAdhocTask\\SC-HCAdhocData\\DelhiHC\\**\\*.txt','LegalAdhocTask\\SC-HCAdhocData\\JharkhandHC\\**\\*.txt', 'LegalAdhocTask\\SC-HCAdhocData\\JodhpurHC\\**\\*.txt' ,'LegalAdhocTask\\SC-HCAdhocData\\KolkataHC\\**\\*.txt', 'LegalAdhocTask\\SC-HCAdhocData\\SupremeCourt\\**\\*.txt']\n",
    "for glob_filenames in x:\n",
    "    for filename in glob2.glob(glob_filenames):\n",
    "        filenames.append(os.path.basename(filename))\n",
    "        if not os.path.isfile(filename):\n",
    "            print 'wtffff'"
   ]
  },
  {
   "cell_type": "code",
   "execution_count": 7,
   "metadata": {
    "collapsed": true
   },
   "outputs": [],
   "source": [
    "\n",
    "# \"yield\" for each file return token list  i.e list of lists\n",
    "def files_to_tokens(glob_filenames):\n",
    "    \n",
    "    lemmatizer = WordNetLemmatizer()\n",
    "    for filename in glob2.glob(glob_filenames):\n",
    "        f = open(filename)\n",
    "        # read the whole file as lowercase string\n",
    "        string = only_alphabet(f.read()).lower()\n",
    "        \n",
    "        # tokenize that string\n",
    "        tokens =  word_tokenize(string)\n",
    "        \n",
    "        # remove stop words tokens and length two tokens\n",
    "        tokens = [lemmatizer.lemmatize(i) for i in tokens if i not in en_stop and len(i)>2]\n",
    "\n",
    "        #seperate words stuck together\n",
    "        for i,token in enumerate(tokens):\n",
    "            if token not in vocab_set:\n",
    "#                 print token\n",
    "                # both prefix and suffix incase one of the word is of len(2)\n",
    "                # prefix match\n",
    "                flag = 0\n",
    "                for j in range(len(token)-2,2,-1):\n",
    "                    if token[:j] in vocab_set:\n",
    "                            tokens.append(token[:j])\n",
    "                            tokens.append(token[j:])\n",
    "#                             print 'prefixx'\n",
    "#                             print token[:j], token[j:]\n",
    "                            del tokens[i]\n",
    "                            flag = 1\n",
    "                            break               \n",
    "                \n",
    "                if flag == 1:\n",
    "#                     print 'prefix milgaya'\n",
    "                    continue \n",
    "                # suffix match\n",
    "                flag = 0\n",
    "                for j in range(1,len(token)-2):\n",
    "                    if token[j:] in vocab_set:\n",
    "                            tokens.append(token[:j])\n",
    "                            tokens.append(token[j:])\n",
    "#                             print 'suffix'\n",
    "#                             print token[:j], token[j:]\n",
    "                            flag =1\n",
    "                            del tokens[i]                            \n",
    "                            break               \n",
    "#                 if flag == 0:\n",
    "#                     print 'couldnt break' \n",
    "        # again remove stop words and length two tokens AND WORDS not in vocab\n",
    "        tokens = [i for i in tokens if i not in en_stop and len(i)>2 and i in vocab_set]                \n",
    "        if len(tokens) == 0:\n",
    "            print \"empty document\"\n",
    "        yield tokens\n",
    "        f.close()"
   ]
  },
  {
   "cell_type": "code",
   "execution_count": 8,
   "metadata": {
    "collapsed": true
   },
   "outputs": [],
   "source": [
    "# yields token list for files specific to courts; needed for creating dictionaries\n",
    "class texts:\n",
    "    def DCDRC(self):\n",
    "        return files_to_tokens('LegalAdhocTask\\ConsumerCourtAdhocdata\\DCDRC\\**\\*.txt')\n",
    "    def NCDRC(self):\n",
    "        return files_to_tokens('LegalAdhocTask\\ConsumerCourtAdhocdata\\NCDRC\\**\\*.txt')\n",
    "    def SCDRC(self):\n",
    "        return files_to_tokens('LegalAdhocTask\\ConsumerCourtAdhocdata\\SCDRC\\**\\*.txt')\n",
    "    def DelhiHC(self):\n",
    "        return files_to_tokens('LegalAdhocTask\\SC-HCAdhocData\\DelhiHC\\**\\*.txt')\n",
    "    def JharkhandHC(self):\n",
    "        return files_to_tokens('LegalAdhocTask\\SC-HCAdhocData\\JharkhandHC\\**\\*.txt')\n",
    "    def JodhpurHC(self):\n",
    "        return files_to_tokens('LegalAdhocTask\\SC-HCAdhocData\\JodhpurHC\\**\\*.txt')\n",
    "    def KolkataHC(self):\n",
    "        return files_to_tokens('LegalAdhocTask\\SC-HCAdhocData\\KolkataHC\\**\\*.txt')\n",
    "    def SupremeCourt(self):\n",
    "        return files_to_tokens('LegalAdhocTask\\SC-HCAdhocData\\SupremeCourt\\**\\*.txt')\n",
    "\n",
    "# yields bow for each file - tuples id,fq ; needed to train models   \n",
    "class my_corpus:    \n",
    "    def DCDRC(self):\n",
    "        for text in files_to_tokens('LegalAdhocTask\\ConsumerCourtAdhocdata\\DCDRC\\*.txt'):\n",
    "            yield dictionary.doc2bow(text)\n",
    "    def NCDRC(self):\n",
    "        for text in files_to_tokens('LegalAdhocTask\\ConsumerCourtAdhocdata\\NCDRC\\**\\*.txt'):\n",
    "            yield dictionary.doc2bow(text)            \n",
    "    def SCDRC(self):\n",
    "        for text in files_to_tokens('LegalAdhocTask\\ConsumerCourtAdhocdata\\SCDRC\\**\\*.txt'):\n",
    "            yield dictionary.doc2bow(text)\n",
    "    def DelhiHC(self):\n",
    "        for text in files_to_tokens('LegalAdhocTask\\SC-HCAdhocData\\DelhiHC\\**\\*.txt'):\n",
    "            yield dictionary.doc2bow(text)\n",
    "    def JharkhandHC(self):\n",
    "        for text in files_to_tokens('LegalAdhocTask\\SC-HCAdhocData\\JharkhandHC\\**\\*.txt'):\n",
    "            yield dictionary.doc2bow(text)\n",
    "    def JodhpurHC(self):\n",
    "        for text in  files_to_tokens('LegalAdhocTask\\SC-HCAdhocData\\JodhpurHC\\**\\*.txt'):\n",
    "            yield dictionary.doc2bow(text)\n",
    "    def KolkataHC(self):\n",
    "        for text in  files_to_tokens('LegalAdhocTask\\SC-HCAdhocData\\KolkataHC\\**\\*.txt'):\n",
    "            yield dictionary.doc2bow(text)\n",
    "    def SupremeCourt(self):\n",
    "        for text in  files_to_tokens('LegalAdhocTask\\SC-HCAdhocData\\SupremeCourt\\**\\*.txt'):\n",
    "            yield dictionary.doc2bow(text)\n",
    "    def everything(self):\n",
    "        return chain(self.DCDRC(), self.NCDRC(), self.SCDRC(), self.DelhiHC(),\n",
    "                     self.JharkhandHC(), self.JodhpurHC(), self.KolkataHC(), self.SupremeCourt())\n",
    "        \n",
    "        "
   ]
  },
  {
   "cell_type": "code",
   "execution_count": 9,
   "metadata": {
    "scrolled": true
   },
   "outputs": [
    {
     "name": "stderr",
     "output_type": "stream",
     "text": [
      "2018-01-04 16:15:03,913 : INFO : loading Dictionary object from newdictionary\n",
      "2018-01-04 16:15:03,933 : INFO : loaded newdictionary\n"
     ]
    }
   ],
   "source": [
    "#################################### laod the dictinary\n",
    "dictionary = corpora.Dictionary.load('newdictionary')"
   ]
  },
  {
   "cell_type": "code",
   "execution_count": 10,
   "metadata": {
    "scrolled": false
   },
   "outputs": [
    {
     "name": "stderr",
     "output_type": "stream",
     "text": [
      "2018-01-04 16:15:04,592 : INFO : loaded corpus index from newcorpus.mm.index\n",
      "2018-01-04 16:15:04,593 : INFO : initializing corpus reader from newcorpus.mm\n",
      "2018-01-04 16:15:04,594 : INFO : accepted corpus with 351985 documents, 35955 features, 88778565 non-zero entries\n"
     ]
    }
   ],
   "source": [
    "######################################## load BOW\n",
    "corpus = corpora.MmCorpus('newcorpus.mm')"
   ]
  },
  {
   "cell_type": "code",
   "execution_count": 11,
   "metadata": {
    "collapsed": true
   },
   "outputs": [],
   "source": [
    "# get the query truth in dictionary\n",
    "query_truth = {}\n",
    "for i in range(1,11):\n",
    "    query_truth[str(i)]=[]\n",
    "    \n",
    "    \n",
    "f = open('LegalAdhocTask/Consumer.qrels')\n",
    "lines = [line.rstrip('\\n').split(\"\\t\") for line in f]\n",
    "for line in lines:\n",
    "    del line[1]\n",
    "    query_truth[line[0]].append(line[1:])\n"
   ]
  },
  {
   "cell_type": "code",
   "execution_count": 12,
   "metadata": {
    "collapsed": true
   },
   "outputs": [],
   "source": [
    "from  scipy.stats import rankdata\n",
    "import copy\n"
   ]
  },
  {
   "cell_type": "code",
   "execution_count": 13,
   "metadata": {},
   "outputs": [
    {
     "ename": "KeyboardInterrupt",
     "evalue": "",
     "output_type": "error",
     "traceback": [
      "\u001b[0;31m---------------------------------------------------------------------------\u001b[0m",
      "\u001b[0;31mKeyboardInterrupt\u001b[0m                         Traceback (most recent call last)",
      "\u001b[0;32m<ipython-input-13-0cd49adaecbe>\u001b[0m in \u001b[0;36m<module>\u001b[0;34m()\u001b[0m\n\u001b[1;32m      3\u001b[0m \u001b[0mwc_C\u001b[0m \u001b[0;34m=\u001b[0m \u001b[0;34m{\u001b[0m\u001b[0;34m}\u001b[0m\u001b[0;34m\u001b[0m\u001b[0m\n\u001b[1;32m      4\u001b[0m \u001b[0mtotal_C\u001b[0m \u001b[0;34m=\u001b[0m \u001b[0;36m0\u001b[0m\u001b[0;34m\u001b[0m\u001b[0m\n\u001b[0;32m----> 5\u001b[0;31m \u001b[0;32mfor\u001b[0m \u001b[0mdoc\u001b[0m \u001b[0;32min\u001b[0m \u001b[0mcorpus\u001b[0m\u001b[0;34m:\u001b[0m\u001b[0;34m\u001b[0m\u001b[0m\n\u001b[0m\u001b[1;32m      6\u001b[0m     \u001b[0;32mfor\u001b[0m \u001b[0mword\u001b[0m\u001b[0;34m,\u001b[0m\u001b[0mfreq\u001b[0m \u001b[0;32min\u001b[0m \u001b[0mdoc\u001b[0m\u001b[0;34m:\u001b[0m\u001b[0;34m\u001b[0m\u001b[0m\n\u001b[1;32m      7\u001b[0m         \u001b[0mtotal_C\u001b[0m \u001b[0;34m+=\u001b[0m \u001b[0mfreq\u001b[0m\u001b[0;34m\u001b[0m\u001b[0m\n",
      "\u001b[0;32m/home/atulgang/anaconda3/envs/python2/lib/python2.7/site-packages/gensim/corpora/mmcorpus.pyc\u001b[0m in \u001b[0;36m__iter__\u001b[0;34m(self)\u001b[0m\n\u001b[1;32m     35\u001b[0m         \u001b[0;34m(\u001b[0m\u001b[0myielding\u001b[0m \u001b[0mone\u001b[0m \u001b[0mdocument\u001b[0m \u001b[0mat\u001b[0m \u001b[0ma\u001b[0m \u001b[0mtime\u001b[0m\u001b[0;34m)\u001b[0m\u001b[0;34m.\u001b[0m\u001b[0;34m\u001b[0m\u001b[0m\n\u001b[1;32m     36\u001b[0m         \"\"\"\n\u001b[0;32m---> 37\u001b[0;31m         \u001b[0;32mfor\u001b[0m \u001b[0mdoc_id\u001b[0m\u001b[0;34m,\u001b[0m \u001b[0mdoc\u001b[0m \u001b[0;32min\u001b[0m \u001b[0msuper\u001b[0m\u001b[0;34m(\u001b[0m\u001b[0mMmCorpus\u001b[0m\u001b[0;34m,\u001b[0m \u001b[0mself\u001b[0m\u001b[0;34m)\u001b[0m\u001b[0;34m.\u001b[0m\u001b[0m__iter__\u001b[0m\u001b[0;34m(\u001b[0m\u001b[0;34m)\u001b[0m\u001b[0;34m:\u001b[0m\u001b[0;34m\u001b[0m\u001b[0m\n\u001b[0m\u001b[1;32m     38\u001b[0m             \u001b[0;32myield\u001b[0m \u001b[0mdoc\u001b[0m  \u001b[0;31m# get rid of doc id, return the sparse vector only\u001b[0m\u001b[0;34m\u001b[0m\u001b[0m\n\u001b[1;32m     39\u001b[0m \u001b[0;34m\u001b[0m\u001b[0m\n",
      "\u001b[0;32m/home/atulgang/anaconda3/envs/python2/lib/python2.7/site-packages/gensim/matutils.pyc\u001b[0m in \u001b[0;36m__iter__\u001b[0;34m(self)\u001b[0m\n\u001b[1;32m    845\u001b[0m             \u001b[0mprevid\u001b[0m \u001b[0;34m=\u001b[0m \u001b[0;34m-\u001b[0m\u001b[0;36m1\u001b[0m\u001b[0;34m\u001b[0m\u001b[0m\n\u001b[1;32m    846\u001b[0m             \u001b[0;32mfor\u001b[0m \u001b[0mline\u001b[0m \u001b[0;32min\u001b[0m \u001b[0mlines\u001b[0m\u001b[0;34m:\u001b[0m\u001b[0;34m\u001b[0m\u001b[0m\n\u001b[0;32m--> 847\u001b[0;31m                 \u001b[0mdocid\u001b[0m\u001b[0;34m,\u001b[0m \u001b[0mtermid\u001b[0m\u001b[0;34m,\u001b[0m \u001b[0mval\u001b[0m \u001b[0;34m=\u001b[0m \u001b[0mutils\u001b[0m\u001b[0;34m.\u001b[0m\u001b[0mto_unicode\u001b[0m\u001b[0;34m(\u001b[0m\u001b[0mline\u001b[0m\u001b[0;34m)\u001b[0m\u001b[0;34m.\u001b[0m\u001b[0msplit\u001b[0m\u001b[0;34m(\u001b[0m\u001b[0;34m)\u001b[0m  \u001b[0;31m# needed for python3\u001b[0m\u001b[0;34m\u001b[0m\u001b[0m\n\u001b[0m\u001b[1;32m    848\u001b[0m                 \u001b[0;32mif\u001b[0m \u001b[0;32mnot\u001b[0m \u001b[0mself\u001b[0m\u001b[0;34m.\u001b[0m\u001b[0mtransposed\u001b[0m\u001b[0;34m:\u001b[0m\u001b[0;34m\u001b[0m\u001b[0m\n\u001b[1;32m    849\u001b[0m                     \u001b[0mtermid\u001b[0m\u001b[0;34m,\u001b[0m \u001b[0mdocid\u001b[0m \u001b[0;34m=\u001b[0m \u001b[0mdocid\u001b[0m\u001b[0;34m,\u001b[0m \u001b[0mtermid\u001b[0m\u001b[0;34m\u001b[0m\u001b[0m\n",
      "\u001b[0;32m/home/atulgang/anaconda3/envs/python2/lib/python2.7/site-packages/gensim/utils.pyc\u001b[0m in \u001b[0;36many2unicode\u001b[0;34m(text, encoding, errors)\u001b[0m\n\u001b[1;32m    240\u001b[0m     \u001b[0;32mif\u001b[0m \u001b[0misinstance\u001b[0m\u001b[0;34m(\u001b[0m\u001b[0mtext\u001b[0m\u001b[0;34m,\u001b[0m \u001b[0municode\u001b[0m\u001b[0;34m)\u001b[0m\u001b[0;34m:\u001b[0m\u001b[0;34m\u001b[0m\u001b[0m\n\u001b[1;32m    241\u001b[0m         \u001b[0;32mreturn\u001b[0m \u001b[0mtext\u001b[0m\u001b[0;34m\u001b[0m\u001b[0m\n\u001b[0;32m--> 242\u001b[0;31m     \u001b[0;32mreturn\u001b[0m \u001b[0municode\u001b[0m\u001b[0;34m(\u001b[0m\u001b[0mtext\u001b[0m\u001b[0;34m,\u001b[0m \u001b[0mencoding\u001b[0m\u001b[0;34m,\u001b[0m \u001b[0merrors\u001b[0m\u001b[0;34m=\u001b[0m\u001b[0merrors\u001b[0m\u001b[0;34m)\u001b[0m\u001b[0;34m\u001b[0m\u001b[0m\n\u001b[0m\u001b[1;32m    243\u001b[0m \u001b[0;34m\u001b[0m\u001b[0m\n\u001b[1;32m    244\u001b[0m \u001b[0;34m\u001b[0m\u001b[0m\n",
      "\u001b[0;32m/home/atulgang/anaconda3/envs/python2/lib/python2.7/encodings/utf_8.pyc\u001b[0m in \u001b[0;36mdecode\u001b[0;34m(input, errors)\u001b[0m\n\u001b[1;32m     14\u001b[0m \u001b[0;34m\u001b[0m\u001b[0m\n\u001b[1;32m     15\u001b[0m \u001b[0;32mdef\u001b[0m \u001b[0mdecode\u001b[0m\u001b[0;34m(\u001b[0m\u001b[0minput\u001b[0m\u001b[0;34m,\u001b[0m \u001b[0merrors\u001b[0m\u001b[0;34m=\u001b[0m\u001b[0;34m'strict'\u001b[0m\u001b[0;34m)\u001b[0m\u001b[0;34m:\u001b[0m\u001b[0;34m\u001b[0m\u001b[0m\n\u001b[0;32m---> 16\u001b[0;31m     \u001b[0;32mreturn\u001b[0m \u001b[0mcodecs\u001b[0m\u001b[0;34m.\u001b[0m\u001b[0mutf_8_decode\u001b[0m\u001b[0;34m(\u001b[0m\u001b[0minput\u001b[0m\u001b[0;34m,\u001b[0m \u001b[0merrors\u001b[0m\u001b[0;34m,\u001b[0m \u001b[0mTrue\u001b[0m\u001b[0;34m)\u001b[0m\u001b[0;34m\u001b[0m\u001b[0m\n\u001b[0m\u001b[1;32m     17\u001b[0m \u001b[0;34m\u001b[0m\u001b[0m\n\u001b[1;32m     18\u001b[0m \u001b[0;32mclass\u001b[0m \u001b[0mIncrementalEncoder\u001b[0m\u001b[0;34m(\u001b[0m\u001b[0mcodecs\u001b[0m\u001b[0;34m.\u001b[0m\u001b[0mIncrementalEncoder\u001b[0m\u001b[0;34m)\u001b[0m\u001b[0;34m:\u001b[0m\u001b[0;34m\u001b[0m\u001b[0m\n",
      "\u001b[0;31mKeyboardInterrupt\u001b[0m: "
     ]
    }
   ],
   "source": [
    "# HAS BEEN SAVED\n",
    "\n",
    "wc_C = {}\n",
    "total_C = 0\n",
    "for doc in corpus:\n",
    "    for word,freq in doc:\n",
    "        total_C += freq\n",
    "        if word in wc_C:\n",
    "            wc_C[word] += freq\n",
    "        else:\n",
    "            wc_C[word] = freq\n",
    "\n",
    "            \n",
    "# probability of a word in the colllection\n",
    "p_C = {}            \n",
    "for key in wc_C.iterkeys():\n",
    "    p_C[key] = float(wc_C[key])/float(total_C)\n",
    "    \n",
    "    "
   ]
  },
  {
   "cell_type": "code",
   "execution_count": null,
   "metadata": {
    "collapsed": true
   },
   "outputs": [],
   "source": []
  },
  {
   "cell_type": "code",
   "execution_count": null,
   "metadata": {
    "collapsed": true
   },
   "outputs": [],
   "source": [
    "import cPickle as pickle\n",
    "with open('p_C.pkl', 'wb') as output:\n",
    "    pickle.dump(p_C, output, pickle.HIGHEST_PROTOCOL)"
   ]
  },
  {
   "cell_type": "code",
   "execution_count": 17,
   "metadata": {
    "collapsed": true
   },
   "outputs": [],
   "source": [
    "# load p_C\n",
    "with open('p_C.pkl', 'rb') as ip:\n",
    "    p_C = pickle.load(ip)"
   ]
  },
  {
   "cell_type": "code",
   "execution_count": null,
   "metadata": {
    "collapsed": true
   },
   "outputs": [],
   "source": [
    "doc_len = []\n",
    "for doc in corpus:\n",
    "    temp = 0\n",
    "    for word, freq in doc:\n",
    "        temp += freq \n",
    "    doc_len.append(temp)"
   ]
  },
  {
   "cell_type": "code",
   "execution_count": null,
   "metadata": {
    "collapsed": true
   },
   "outputs": [],
   "source": [
    "with open('doc_len.pkl', 'wb') as output:\n",
    "    pickle.dump(doc_len, output, pickle.HIGHEST_PROTOCOL)"
   ]
  },
  {
   "cell_type": "code",
   "execution_count": 18,
   "metadata": {
    "collapsed": true
   },
   "outputs": [],
   "source": [
    "# load doc_len\n",
    "with open('doc_len.pkl', 'rb') as ip:\n",
    "    doc_len = pickle.load(ip)"
   ]
  },
  {
   "cell_type": "code",
   "execution_count": null,
   "metadata": {
    "collapsed": true
   },
   "outputs": [],
   "source": [
    "min(p_C.values())"
   ]
  },
  {
   "cell_type": "code",
   "execution_count": null,
   "metadata": {
    "collapsed": true
   },
   "outputs": [],
   "source": [
    "max(p_C.values())"
   ]
  },
  {
   "cell_type": "code",
   "execution_count": null,
   "metadata": {
    "collapsed": true,
    "scrolled": true
   },
   "outputs": [],
   "source": [
    "data = p_C.values()\n",
    "binwidth = (max(data) - min(data))/10000\n",
    "import matplotlib.pyplot as plt\n",
    "%matplotlib inline\n",
    "import numpy as np\n",
    "plt.figure(figsize=(20,8))\n",
    "\n",
    "plt.hist(data, bins=np.arange(min(data), max(data) + binwidth, binwidth))\n"
   ]
  },
  {
   "cell_type": "code",
   "execution_count": 19,
   "metadata": {
    "collapsed": true
   },
   "outputs": [],
   "source": [
    "\n",
    "import math\n",
    "from six import iteritems\n",
    "from six.moves import xrange\n",
    "\n",
    "\n",
    "# JM parameter\n",
    "LAMBDA = 0.7\n",
    "\n",
    "\n",
    "class JM(object):\n",
    "\n",
    "    def __init__(self, corpus):\n",
    "        self.corpus = corpus\n",
    "        self.corpus_size = dictionary.num_docs\n",
    "\n",
    "    # document here refers to query , index is of the document in the corpus\n",
    "    def get_score(self, query, index, query_len):\n",
    "        # as a python dict\n",
    "        index_doc = dict(self.corpus[index])\n",
    "        score = 0\n",
    "        for word,freq in query:\n",
    "            if word not in index_doc:\n",
    "                continue\n",
    "            p_ml = float(freq)/float(doc_len[index])\n",
    "            \n",
    "            score += math.log(1 + (1 - LAMBDA) * p_ml / (LAMBDA * p_C[word]) )\n",
    "        return score + query_len * math.log(LAMBDA)\n",
    "\n",
    "    def get_scores(self, query):\n",
    "        scores = []\n",
    "        query_len = 0\n",
    "        for word, freq in query:\n",
    "            query_len += freq\n",
    "        for index in xrange(self.corpus_size):\n",
    "            score = self.get_score(query, index, query_len)\n",
    "            scores.append(score)\n",
    "        return scores\n",
    "\n"
   ]
  },
  {
   "cell_type": "code",
   "execution_count": 20,
   "metadata": {
    "collapsed": true
   },
   "outputs": [],
   "source": [
    "# run it once for initializing the idf \n",
    "jm = JM(corpus)"
   ]
  },
  {
   "cell_type": "code",
   "execution_count": 21,
   "metadata": {
    "collapsed": true
   },
   "outputs": [],
   "source": [
    "LAMBDA = 0.7"
   ]
  },
  {
   "cell_type": "code",
   "execution_count": 22,
   "metadata": {
    "scrolled": true
   },
   "outputs": [
    {
     "name": "stdout",
     "output_type": "stream",
     "text": [
      "0\n",
      "1\n",
      "2\n",
      "3\n",
      "4\n",
      "5\n",
      "6\n",
      "7\n",
      "8\n",
      "9\n"
     ]
    }
   ],
   "source": [
    "tfidf_results = copy.deepcopy(query_truth)\n",
    "\n",
    "sim_list = [0]\n",
    "rank_list = [0]\n",
    "queries = [0]\n",
    "for i,query in enumerate(files_to_tokens('LegalAdhocTask\\q*.txt')):\n",
    "    queries.append(query)\n",
    "    sims = jm.get_scores(dictionary.doc2bow(query))\n",
    "    sim_list.append(sims)\n",
    "    # rank of every document wrt similarity\n",
    "    ranks = rankdata(sims, method='ordinal')\n",
    "    ranks= len(ranks)+1 - ranks \n",
    "    rank_list.append(ranks)\n",
    "    \n",
    "    # update the query truth tuples with similarity score and the ranks\n",
    "    for x in tfidf_results[str(i+1)]:\n",
    "        x.append(sims[filenames.index(x[0]+'.txt')])\n",
    "        x.append(ranks[filenames.index(x[0]+'.txt')])\n",
    "        #x.append(common_words(filenames.index(x[0]+'.txt'), tfidf_corpus, query))\n",
    "    print i\n",
    "    # sort wrt relevance(from truth) and then ranks(from our model)\n",
    "    #tfidf_results[str(i+1)].sort(key=lambda x: (-int(x[1]),x[3]))     \n",
    "    \n",
    "        "
   ]
  },
  {
   "cell_type": "code",
   "execution_count": null,
   "metadata": {
    "collapsed": true
   },
   "outputs": [],
   "source": [
    "tfidf_results"
   ]
  },
  {
   "cell_type": "code",
   "execution_count": 23,
   "metadata": {},
   "outputs": [
    {
     "data": {
      "text/plain": [
       "{'1': [['ConsumerCourt_DCDRC_100385', '1', -0.3738370165230691, 712],\n",
       "  ['ConsumerCourt_DCDRC_106530', '0', 7.533694951006389, 33],\n",
       "  ['ConsumerCourt_DCDRC_107608', '1', -6.303977683612205, 4881],\n",
       "  ['ConsumerCourt_DCDRC_114291', '1', -8.148543137581235, 9945],\n",
       "  ['ConsumerCourt_DCDRC_114382', '1', -7.489858363057056, 7724],\n",
       "  ['ConsumerCourt_DCDRC_118185', '1', -4.88539489829779, 2885],\n",
       "  ['ConsumerCourt_DCDRC_130318', '0', 9.844085994948856, 13],\n",
       "  ['ConsumerCourt_DCDRC_130570', '1', 2.298402632737247, 306],\n",
       "  ['ConsumerCourt_DCDRC_131146', '1', -3.5333743994821454, 1827],\n",
       "  ['ConsumerCourt_DCDRC_131717', '1', -6.164573516166758, 4624],\n",
       "  ['ConsumerCourt_DCDRC_131741', '1', -4.900053753649106, 2910],\n",
       "  ['ConsumerCourt_DCDRC_131818', '1', -0.2644772677461056, 685],\n",
       "  ['ConsumerCourt_DCDRC_131950', '0', -5.4229004775788745, 3540],\n",
       "  ['ConsumerCourt_DCDRC_131972', '0', 4.957189405486467, 112],\n",
       "  ['ConsumerCourt_DCDRC_132932', '0', 5.72178055963375, 77],\n",
       "  ['ConsumerCourt_DCDRC_133592', '1', 6.678062048261985, 52],\n",
       "  ['ConsumerCourt_DCDRC_134386', '0', -0.35509910988661275, 705],\n",
       "  ['ConsumerCourt_DCDRC_135474', '1', 0.139877749843631, 611],\n",
       "  ['ConsumerCourt_DCDRC_139024', '0', 3.534496281068108, 204],\n",
       "  ['ConsumerCourt_DCDRC_139205', '0', 5.729732859374323, 76],\n",
       "  ['ConsumerCourt_DCDRC_140039', '1', 5.277953252970242, 99],\n",
       "  ['ConsumerCourt_DCDRC_145708', '0', 4.574891719242885, 136],\n",
       "  ['ConsumerCourt_DCDRC_187214', '1', 5.1065285302241215, 105],\n",
       "  ['ConsumerCourt_DCDRC_207784', '1', 5.643508815844534, 80],\n",
       "  ['ConsumerCourt_DCDRC_217344', '1', 6.025350743649334, 65],\n",
       "  ['ConsumerCourt_DCDRC_217471', '1', 4.844356239405439, 121],\n",
       "  ['ConsumerCourt_DCDRC_222797', '0', 7.096799508365244, 43],\n",
       "  ['ConsumerCourt_DCDRC_222844', '1', 12.345641485112541, 6],\n",
       "  ['ConsumerCourt_DCDRC_224228', '0', -0.28642695490790615, 690],\n",
       "  ['ConsumerCourt_DCDRC_224833', '0', 13.448516314292675, 4],\n",
       "  ['ConsumerCourt_DCDRC_226072', '1', 2.3497457208143757, 301],\n",
       "  ['ConsumerCourt_DCDRC_38498', '0', 8.796497147692026, 18],\n",
       "  ['ConsumerCourt_DCDRC_39186', '1', 3.6867558737438735, 192],\n",
       "  ['ConsumerCourt_DCDRC_41317', '1', 1.9823415754924731, 338],\n",
       "  ['ConsumerCourt_DCDRC_41588', '1', 14.582825406902774, 2],\n",
       "  ['ConsumerCourt_DCDRC_42118', '1', 1.9334272310988112, 349],\n",
       "  ['ConsumerCourt_DCDRC_42618', '1', 8.011761644646107, 26],\n",
       "  ['ConsumerCourt_DCDRC_42649', '1', 2.4518467909034527, 288],\n",
       "  ['ConsumerCourt_DCDRC_44200', '1', 5.774208280393431, 74],\n",
       "  ['ConsumerCourt_DCDRC_46368', '1', 3.038806255745097, 241],\n",
       "  ['ConsumerCourt_DCDRC_46519', '1', 13.693743924649535, 3],\n",
       "  ['ConsumerCourt_DCDRC_46543', '1', 8.385741882356587, 21],\n",
       "  ['ConsumerCourt_DCDRC_53138', '1', 10.582722070059152, 10],\n",
       "  ['ConsumerCourt_DCDRC_55517', '1', 1.9811931288551747, 339],\n",
       "  ['ConsumerCourt_DCDRC_55612', '1', 1.9443796268889528, 343],\n",
       "  ['ConsumerCourt_DCDRC_55678', '1', 1.1754185716600496, 447],\n",
       "  ['ConsumerCourt_DCDRC_55899', '1', 5.626124054327576, 83],\n",
       "  ['ConsumerCourt_DCDRC_57484', '0', 11.474966327155386, 8],\n",
       "  ['ConsumerCourt_DCDRC_74868', '1', -0.01841308207938397, 642],\n",
       "  ['ConsumerCourt_DCDRC_80057', '1', 7.341492058142155, 37],\n",
       "  ['ConsumerCourt_DCDRC_83596', '0', 8.753988260171607, 19],\n",
       "  ['ConsumerCourt_DCDRC_83779', '0', 7.0389735328712355, 46],\n",
       "  ['ConsumerCourt_DCDRC_96667', '1', 15.589277004033274, 1],\n",
       "  ['ConsumerCourt_DCDRC_98733', '1', 9.33257862301269, 17],\n",
       "  ['ConsumerCourt_SCDRC_52678', '0', -0.12378055066008997, 656],\n",
       "  ['DelhiHC_2011_4267', '0', -3.3814578256577636, 1740],\n",
       "  ['KolkataHCOriginalSite_2012_36', '0', -8.01783084387157, 9474]],\n",
       " '10': [['ConsumerCourt_DCDRC_220958', '0', 6.940386383011095, 7],\n",
       "  ['ConsumerCourt_DCDRC_222509', '0', -5.488573634291004, 221],\n",
       "  ['ConsumerCourt_DCDRC_223570', '0', 2.4754051514257434, 19],\n",
       "  ['ConsumerCourt_DCDRC_227314', '0', 4.090623179841778, 13],\n",
       "  ['ConsumerCourt_DCDRC_228688', '1', 13.140877310594576, 4],\n",
       "  ['ConsumerCourt_DCDRC_235883', '0', 4.437880854255248, 11],\n",
       "  ['ConsumerCourt_DCDRC_38192', '0', 12.93600117461665, 5],\n",
       "  ['ConsumerCourt_DCDRC_41485', '0', -0.6320520194425647, 42],\n",
       "  ['ConsumerCourt_DCDRC_41489', '0', -0.6320520194425647, 41],\n",
       "  ['ConsumerCourt_DCDRC_41520', '0', 4.8663791928296405, 9],\n",
       "  ['ConsumerCourt_SCDRC_44836', '0', 5.074499755424469, 8],\n",
       "  ['ConsumerCourt_SCDRC_56350', '0', 19.52290203227497, 3],\n",
       "  ['ConsumerCourt_SCDRC_65898', '0', -3.796688342933294, 112],\n",
       "  ['ConsumerCourt_SCDRC_68718', '0', 21.594073831915054, 2],\n",
       "  ['ConsumerCourt_SCDRC_69937', '1', 63.10227667828261, 1],\n",
       "  ['ConsumerCourt_SCDRC_70632', '0', 10.168367274892177, 6],\n",
       "  ['DelhiHC_2008_2771', '0', -18.719867078683155, 121758],\n",
       "  ['DelhiHC_2008_2772', '0', -18.719867078683155, 121757]],\n",
       " '2': [['ConsumerCourt_DCDRC_103241', '0', -19.147350160355046, 34356],\n",
       "  ['ConsumerCourt_DCDRC_107786', '1', -0.3128798269344024, 32],\n",
       "  ['ConsumerCourt_DCDRC_114305', '1', -20.80222286818228, 62325],\n",
       "  ['ConsumerCourt_DCDRC_120930', '1', -10.51804014632614, 1145],\n",
       "  ['ConsumerCourt_DCDRC_123490', '1', -15.159491946840184, 7210],\n",
       "  ['ConsumerCourt_DCDRC_125352', '1', -19.052722418829195, 33141],\n",
       "  ['ConsumerCourt_DCDRC_127791', '0', -2.9886565449330185, 64],\n",
       "  ['ConsumerCourt_DCDRC_130071', '0', -16.499515014121073, 12156],\n",
       "  ['ConsumerCourt_DCDRC_130920', '1', -15.284993944432756, 7586],\n",
       "  ['ConsumerCourt_DCDRC_131972', '0', -15.511355748896811, 8301],\n",
       "  ['ConsumerCourt_DCDRC_133106', '1', -16.082349342009124, 10363],\n",
       "  ['ConsumerCourt_DCDRC_133260', '0', -0.1310850000995103, 30],\n",
       "  ['ConsumerCourt_DCDRC_143284', '1', -12.787607022347377, 2765],\n",
       "  ['ConsumerCourt_DCDRC_143334', '0', -4.321831869321745, 101],\n",
       "  ['ConsumerCourt_DCDRC_144440', '0', -15.49481260884016, 8234],\n",
       "  ['ConsumerCourt_DCDRC_202900', '0', -13.451300327801832, 3602],\n",
       "  ['ConsumerCourt_DCDRC_202903', '0', -8.676220820145385, 584],\n",
       "  ['ConsumerCourt_DCDRC_207376', '1', 1.74241215123131, 14],\n",
       "  ['ConsumerCourt_DCDRC_212601', '0', -16.143393982071863, 10621],\n",
       "  ['ConsumerCourt_DCDRC_212692', '1', -8.41469387433284, 531],\n",
       "  ['ConsumerCourt_DCDRC_214518', '1', -2.0823385839454964, 47],\n",
       "  ['ConsumerCourt_DCDRC_226924', '0', -5.752925980619693, 166],\n",
       "  ['ConsumerCourt_DCDRC_227866', '1', -9.743194761899968, 827],\n",
       "  ['ConsumerCourt_DCDRC_228749', '1', 0.08072881462093662, 24],\n",
       "  ['ConsumerCourt_DCDRC_229221', '0', -5.857732258232463, 181],\n",
       "  ['ConsumerCourt_DCDRC_230361', '1', -9.634683876276306, 805],\n",
       "  ['ConsumerCourt_DCDRC_41190', '0', -17.39651011676149, 17311],\n",
       "  ['ConsumerCourt_DCDRC_50671', '1', -15.06848968298468, 6936],\n",
       "  ['ConsumerCourt_DCDRC_52620', '1', -12.167341266917862, 2177],\n",
       "  ['ConsumerCourt_DCDRC_53093', '1', -6.41804348468979, 239],\n",
       "  ['ConsumerCourt_DCDRC_53138', '0', 1.7811912044046245, 13],\n",
       "  ['ConsumerCourt_DCDRC_53153', '1', -5.840747558675929, 179],\n",
       "  ['ConsumerCourt_DCDRC_53432', '0', -8.059852693863515, 464],\n",
       "  ['ConsumerCourt_DCDRC_53875', '0', -11.807663136089015, 1878],\n",
       "  ['ConsumerCourt_DCDRC_53881', '0', -11.807663136089015, 1877],\n",
       "  ['ConsumerCourt_DCDRC_56471', '1', -11.457510499596065, 1642],\n",
       "  ['ConsumerCourt_DCDRC_56761', '0', -7.069945195141479, 307],\n",
       "  ['ConsumerCourt_DCDRC_57453', '0', -7.317883302072669, 338],\n",
       "  ['ConsumerCourt_DCDRC_57583', '0', -16.985590025286847, 14753],\n",
       "  ['ConsumerCourt_DCDRC_62986', '0', -1.9548392027348669, 44],\n",
       "  ['ConsumerCourt_DCDRC_63724', '0', -9.49343119624493, 768],\n",
       "  ['ConsumerCourt_DCDRC_68765', '0', -7.992917215935087, 449],\n",
       "  ['ConsumerCourt_DCDRC_68808', '0', -11.986433950011605, 2041],\n",
       "  ['ConsumerCourt_DCDRC_69863', '0', -13.634390362902927, 3883],\n",
       "  ['ConsumerCourt_DCDRC_74887', '0', -12.727722020830544, 2702],\n",
       "  ['ConsumerCourt_DCDRC_75562', '0', -13.882547704769475, 4298],\n",
       "  ['ConsumerCourt_DCDRC_76114', '0', -17.40847277395101, 17408],\n",
       "  ['ConsumerCourt_DCDRC_76186', '0', -17.509871687105694, 18145],\n",
       "  ['ConsumerCourt_DCDRC_76270', '0', -14.076030773113082, 4639],\n",
       "  ['ConsumerCourt_DCDRC_77085', '1', -5.073641521949405, 132],\n",
       "  ['ConsumerCourt_DCDRC_77280', '0', -9.313000552970383, 716],\n",
       "  ['ConsumerCourt_DCDRC_77935', '1', -9.908251809968924, 894],\n",
       "  ['ConsumerCourt_DCDRC_87186', '0', -8.697529018934194, 590],\n",
       "  ['ConsumerCourt_DCDRC_91864', '1', -11.849478797903178, 1916],\n",
       "  ['ConsumerCourt_DCDRC_96244', '1', -12.615575142256947, 2588],\n",
       "  ['ConsumerCourt_NCDRC_1317', '0', -9.297711724212494, 711],\n",
       "  ['ConsumerCourt_SCDRC_49685', '0', -5.6470593646679355, 161],\n",
       "  ['ConsumerCourt_SCDRC_60064', '1', -15.534753151602157, 8374],\n",
       "  ['ConsumerCourt_SCDRC_62062', '1', -20.10938154727298, 48810]],\n",
       " '3': [['ConsumerCourt_DCDRC_103355', '0', -24.41920912058326, 4840],\n",
       "  ['ConsumerCourt_DCDRC_129293', '1', -12.8218670547962, 130],\n",
       "  ['ConsumerCourt_DCDRC_133013', '1', -13.734830703862674, 166],\n",
       "  ['ConsumerCourt_DCDRC_133017', '0', -26.536889132916286, 10001],\n",
       "  ['ConsumerCourt_DCDRC_137661', '0', -11.6521745725106, 81],\n",
       "  ['ConsumerCourt_DCDRC_153064', '0', -26.25042970810211, 9065],\n",
       "  ['ConsumerCourt_DCDRC_187619', '1', -5.7936611503853115, 9],\n",
       "  ['ConsumerCourt_DCDRC_200840', '0', -14.26193064755251, 190],\n",
       "  ['ConsumerCourt_DCDRC_222260', '1', -4.214188732760434, 8],\n",
       "  ['ConsumerCourt_DCDRC_222772', '1', -9.177925017518426, 34],\n",
       "  ['ConsumerCourt_DCDRC_223618', '1', -3.645178865022338, 6],\n",
       "  ['ConsumerCourt_DCDRC_228476', '0', 1.986618647447898, 2],\n",
       "  ['ConsumerCourt_DCDRC_228963', '1', 10.652772149222386, 1],\n",
       "  ['ConsumerCourt_DCDRC_230634', '1', -9.013886523153921, 32],\n",
       "  ['ConsumerCourt_DCDRC_235824', '0', -15.38452510836077, 276],\n",
       "  ['ConsumerCourt_DCDRC_45666', '0', -8.209711733131321, 24],\n",
       "  ['ConsumerCourt_DCDRC_47493', '1', -19.484922031269367, 1025],\n",
       "  ['ConsumerCourt_DCDRC_52566', '0', -3.8696396811609475, 7],\n",
       "  ['ConsumerCourt_DCDRC_73184', '0', -22.303623108839545, 2453],\n",
       "  ['ConsumerCourt_DCDRC_73185', '0', -22.11132869281689, 2331],\n",
       "  ['ConsumerCourt_NCDRC_2861', '1', -14.62409990532003, 212],\n",
       "  ['ConsumerCourt_NCDRC_2902', '0', -14.771384758377689, 221],\n",
       "  ['ConsumerCourt_NCDRC_2979', '0', -18.836143660492446, 816],\n",
       "  ['ConsumerCourt_NCDRC_632', '0', -11.17436078344533, 72],\n",
       "  ['ConsumerCourt_NCDRC_637', '0', -11.158720939665464, 71],\n",
       "  ['ConsumerCourt_SCDRC_2052', '0', -16.947015913957575, 455],\n",
       "  ['ConsumerCourt_SCDRC_22704', '0', -19.553820879510372, 1059],\n",
       "  ['ConsumerCourt_SCDRC_29484', '0', -24.1784038070805, 4499],\n",
       "  ['ConsumerCourt_SCDRC_29552', '0', -18.160270599338453, 653],\n",
       "  ['ConsumerCourt_SCDRC_30176', '0', -34.43935651295892, 128452],\n",
       "  ['ConsumerCourt_SCDRC_48394', '0', -9.853468557940488, 43],\n",
       "  ['ConsumerCourt_SCDRC_63569', '0', -25.738423049347883, 7576],\n",
       "  ['ConsumerCourt_SCDRC_63609', '0', -7.231369627776928, 16],\n",
       "  ['ConsumerCourt_SCDRC_65919', '0', 1.9252873510964932, 3],\n",
       "  ['ConsumerCourt_SCDRC_66200', '0', -11.267601963076913, 74],\n",
       "  ['ConsumerCourt_SCDRC_69801', '0', -10.686817761118505, 54],\n",
       "  ['ConsumerCourt_SCDRC_814', '0', -13.67857722659165, 162],\n",
       "  ['DelhiHC_2012_388', '0', -26.121943540862638, 8697]],\n",
       " '4': [['ConsumerCourt_DCDRC_106570', '0', 2.6810270747102436, 26],\n",
       "  ['ConsumerCourt_DCDRC_116129', '1', -6.827150674530536, 8072],\n",
       "  ['ConsumerCourt_DCDRC_128836', '0', -8.063845054770194, 17840],\n",
       "  ['ConsumerCourt_DCDRC_130725', '1', -8.573874133680679, 24254],\n",
       "  ['ConsumerCourt_DCDRC_133137', '0', -5.022430053077937, 2511],\n",
       "  ['ConsumerCourt_DCDRC_173376', '0', -5.201570506806535, 2786],\n",
       "  ['ConsumerCourt_DCDRC_174292', '0', -3.1100537408383655, 759],\n",
       "  ['ConsumerCourt_DCDRC_174300', '1', 1.5575899957249746, 52],\n",
       "  ['ConsumerCourt_DCDRC_202903', '0', -6.011126040901923, 4781],\n",
       "  ['ConsumerCourt_DCDRC_205816', '1', -4.649796798660743, 1947],\n",
       "  ['ConsumerCourt_DCDRC_207155', '0', 1.4720641509890733, 58],\n",
       "  ['ConsumerCourt_DCDRC_207197', '0', 0.04793552496464493, 124],\n",
       "  ['ConsumerCourt_DCDRC_212467', '1', -7.151064868442676, 9983],\n",
       "  ['ConsumerCourt_DCDRC_213156', '0', 7.712794574373863, 1],\n",
       "  ['ConsumerCourt_DCDRC_213473', '0', 2.9901548681559937, 22],\n",
       "  ['ConsumerCourt_DCDRC_213784', '0', 1.9630540329449637, 36],\n",
       "  ['ConsumerCourt_DCDRC_214475', '0', 1.5399504290116433, 55],\n",
       "  ['ConsumerCourt_DCDRC_218582', '0', -0.7042022552336409, 177],\n",
       "  ['ConsumerCourt_DCDRC_221177', '0', -2.4199017231039353, 496],\n",
       "  ['ConsumerCourt_DCDRC_221424', '0', -7.6675372928089764, 13891],\n",
       "  ['ConsumerCourt_DCDRC_223275', '0', -5.325474626110713, 3029],\n",
       "  ['ConsumerCourt_DCDRC_226909', '0', -4.8530626925582645, 2236],\n",
       "  ['ConsumerCourt_DCDRC_227099', '0', 3.8337456153181364, 11],\n",
       "  ['ConsumerCourt_DCDRC_229902', '0', 1.0352234944555185, 78],\n",
       "  ['ConsumerCourt_DCDRC_47636', '0', -0.9830205122866857, 205],\n",
       "  ['ConsumerCourt_DCDRC_49131', '0', 2.3232985976996225, 31],\n",
       "  ['ConsumerCourt_DCDRC_51881', '0', -3.2666878213706276, 834],\n",
       "  ['ConsumerCourt_DCDRC_52357', '0', -0.2665666650982974, 143],\n",
       "  ['ConsumerCourt_DCDRC_53202', '0', 4.002358292873797, 9],\n",
       "  ['ConsumerCourt_DCDRC_53580', '1', -1.0804606724897265, 215],\n",
       "  ['ConsumerCourt_DCDRC_54056', '1', -3.610726122005948, 1024],\n",
       "  ['ConsumerCourt_DCDRC_70122', '0', -8.303024089311114, 20628],\n",
       "  ['ConsumerCourt_DCDRC_73309', '0', 1.28566917873599, 64],\n",
       "  ['ConsumerCourt_NCDRC_2154', '0', -9.100076638227634, 33274],\n",
       "  ['ConsumerCourt_NCDRC_3506', '0', -6.616330576617031, 7063],\n",
       "  ['ConsumerCourt_SCDRC_1143', '1', -0.8003552291365814, 190],\n",
       "  ['ConsumerCourt_SCDRC_1288', '1', -4.414444361663394, 1694],\n",
       "  ['ConsumerCourt_SCDRC_22830', '0', -10.689986196300957, 78943],\n",
       "  ['ConsumerCourt_SCDRC_37679', '1', -3.753928203466632, 1125],\n",
       "  ['ConsumerCourt_SCDRC_471', '0', 0.5341010464093969, 92],\n",
       "  ['ConsumerCourt_SCDRC_49973', '1', 1.5638228527486184, 51],\n",
       "  ['ConsumerCourt_SCDRC_5406', '0', -8.896054890792486, 29405],\n",
       "  ['ConsumerCourt_SCDRC_7046', '1', -4.855793255856613, 2239],\n",
       "  ['DelhiHC_2012_3856', '0', -1.3389938951477944, 254],\n",
       "  ['SupremeCourt_2009_1421', '0', -13.364858564266417, 220872]],\n",
       " '5': [['ConsumerCourt_DCDRC_124651', '0', -12.807461998509018, 4461],\n",
       "  ['ConsumerCourt_DCDRC_138545', '0', -4.334165830020929, 29],\n",
       "  ['ConsumerCourt_DCDRC_139183', '0', -9.614770533707645, 812],\n",
       "  ['ConsumerCourt_DCDRC_141380', '0', -11.056073960471554, 1847],\n",
       "  ['ConsumerCourt_DCDRC_148691', '1', -7.944723073733062, 324],\n",
       "  ['ConsumerCourt_DCDRC_202903', '0', -14.763521726693863, 11428],\n",
       "  ['ConsumerCourt_DCDRC_208296', '0', -10.721119249433542, 1578],\n",
       "  ['ConsumerCourt_DCDRC_223817', '0', -10.578884675490372, 1464],\n",
       "  ['ConsumerCourt_DCDRC_226994', '0', -1.1175391387853253, 7],\n",
       "  ['ConsumerCourt_DCDRC_229911', '1', -11.19838178681978, 1994],\n",
       "  ['ConsumerCourt_DCDRC_41155', '1', -8.446422087585859, 424],\n",
       "  ['ConsumerCourt_DCDRC_41262', '0', -14.146257760245653, 8605],\n",
       "  ['ConsumerCourt_DCDRC_41428', '0', -8.565015204492742, 467],\n",
       "  ['ConsumerCourt_DCDRC_42411', '0', -11.820576223168533, 2729],\n",
       "  ['ConsumerCourt_DCDRC_46404', '0', -13.338916021166176, 5834],\n",
       "  ['ConsumerCourt_DCDRC_53679', '1', -14.027474595462067, 8109],\n",
       "  ['ConsumerCourt_DCDRC_57315', '1', -19.116084904369323, 68604],\n",
       "  ['ConsumerCourt_DCDRC_57465', '0', -14.969947397707168, 12581],\n",
       "  ['ConsumerCourt_DCDRC_57488', '0', -17.408633594622863, 35538],\n",
       "  ['ConsumerCourt_DCDRC_57914', '1', -15.683096844097294, 17183],\n",
       "  ['ConsumerCourt_DCDRC_66294', '0', -11.855432086240114, 2775],\n",
       "  ['ConsumerCourt_DCDRC_96799', '0', -5.7795582543518655, 82],\n",
       "  ['ConsumerCourt_NCDRC_1337', '1', -3.593790555330628, 20],\n",
       "  ['ConsumerCourt_NCDRC_1338', '0', -3.593790555330628, 19],\n",
       "  ['ConsumerCourt_NCDRC_2983', '1', -9.842428538316007, 935],\n",
       "  ['ConsumerCourt_SCDRC_28656', '0', -17.62920721138154, 38834],\n",
       "  ['ConsumerCourt_SCDRC_33517', '1', -15.186177850356009, 13804],\n",
       "  ['ConsumerCourt_SCDRC_5122', '0', -9.229352080680133, 655],\n",
       "  ['ConsumerCourt_SCDRC_71374', '1', -13.089195979794473, 5144]],\n",
       " '6': [['ConsumerCourt_DCDRC_103021', '1', 6.570745016507223, 30],\n",
       "  ['ConsumerCourt_DCDRC_119836', '1', -1.0499341054404416, 2555],\n",
       "  ['ConsumerCourt_DCDRC_125237', '1', -3.427165425227752, 17637],\n",
       "  ['ConsumerCourt_DCDRC_126276', '0', 0.5670547805431365, 746],\n",
       "  ['ConsumerCourt_DCDRC_131266', '1', -3.916759414155484, 25756],\n",
       "  ['ConsumerCourt_DCDRC_133353', '1', 2.6953673772043434, 222],\n",
       "  ['ConsumerCourt_DCDRC_133354', '0', 2.6597269733261744, 225],\n",
       "  ['ConsumerCourt_DCDRC_134804', '0', 3.9885494182484855, 118],\n",
       "  ['ConsumerCourt_DCDRC_138617', '1', 5.110464653104934, 66],\n",
       "  ['ConsumerCourt_DCDRC_143983', '0', -5.008757694915538, 59773],\n",
       "  ['ConsumerCourt_DCDRC_207387', '1', -1.8395293888785043, 4772],\n",
       "  ['ConsumerCourt_DCDRC_220958', '1', 0.11708115037323719, 1027],\n",
       "  ['ConsumerCourt_DCDRC_223570', '1', 8.29779783784907, 9],\n",
       "  ['ConsumerCourt_DCDRC_223783', '0', 4.622157816783714, 84],\n",
       "  ['ConsumerCourt_DCDRC_38192', '1', 3.8055716101060906, 128],\n",
       "  ['ConsumerCourt_DCDRC_41485', '0', 6.408383016104006, 34],\n",
       "  ['ConsumerCourt_DCDRC_41489', '0', 6.408383016104006, 33],\n",
       "  ['ConsumerCourt_DCDRC_41520', '1', 3.3138731730118174, 165],\n",
       "  ['ConsumerCourt_DCDRC_45421', '0', -3.024379584666888, 12810],\n",
       "  ['ConsumerCourt_DCDRC_52148', '0', -2.866371716433754, 11193],\n",
       "  ['ConsumerCourt_DCDRC_70186', '0', 0.11177181816676729, 1033],\n",
       "  ['ConsumerCourt_DCDRC_70341', '0', 1.3288837620181866, 473],\n",
       "  ['ConsumerCourt_DCDRC_90054', '0', -5.190847031079633, 68638],\n",
       "  ['ConsumerCourt_SCDRC_28640', '1', 2.430077731318425, 263],\n",
       "  ['ConsumerCourt_SCDRC_64152', '0', 3.7090791051777323, 133],\n",
       "  ['ConsumerCourt_SCDRC_68718', '1', 7.879810735426739, 13],\n",
       "  ['ConsumerCourt_SCDRC_70632', '0', 2.117257288838868, 307],\n",
       "  ['DelhiHC_2009_735', '1', 3.0737255451145007, 189],\n",
       "  ['DelhiHC_2012_372', '0', 0.10273349828499256, 1039],\n",
       "  ['DelhiHC_2012_374', '0', 0.10273349828499256, 1038],\n",
       "  ['SupremeCourt_1996_416', '0', 4.95345624122926, 74]],\n",
       " '7': [['ConsumerCourt_DCDRC_119406', '1', 7.316819957081114, 24],\n",
       "  ['ConsumerCourt_DCDRC_121344', '0', 9.337121941333079, 9],\n",
       "  ['ConsumerCourt_DCDRC_127019', '0', 2.2195666134748198, 305],\n",
       "  ['ConsumerCourt_DCDRC_130205', '0', 2.5481784201615554, 253],\n",
       "  ['ConsumerCourt_DCDRC_207672', '1', 4.719283368237242, 74],\n",
       "  ['ConsumerCourt_DCDRC_222487', '0', 7.4990050316309365, 21],\n",
       "  ['ConsumerCourt_DCDRC_224805', '0', 8.014462878227134, 18],\n",
       "  ['ConsumerCourt_DCDRC_235755', '0', 14.968029267101548, 1],\n",
       "  ['ConsumerCourt_DCDRC_236026', '1', 6.9002130590034145, 32],\n",
       "  ['ConsumerCourt_DCDRC_236229', '0', 2.2088826499177188, 309],\n",
       "  ['ConsumerCourt_DCDRC_33939', '0', 4.494817541178021, 86],\n",
       "  ['ConsumerCourt_DCDRC_44337', '1', 6.084204329959942, 45],\n",
       "  ['ConsumerCourt_DCDRC_45534', '0', 8.493721678146267, 15],\n",
       "  ['ConsumerCourt_DCDRC_46470', '0', 1.154949215573847, 578],\n",
       "  ['ConsumerCourt_DCDRC_48811', '0', 4.877622703853371, 68],\n",
       "  ['ConsumerCourt_DCDRC_51454', '1', 7.227595739353314, 26],\n",
       "  ['ConsumerCourt_DCDRC_64180', '0', 9.65477871484959, 7],\n",
       "  ['ConsumerCourt_DCDRC_73953', '0', 2.0254049747550287, 351],\n",
       "  ['ConsumerCourt_DCDRC_75554', '0', 4.848808514777083, 70],\n",
       "  ['ConsumerCourt_SCDRC_1050', '0', 3.2555737961811353, 168],\n",
       "  ['ConsumerCourt_SCDRC_1387', '0', 10.62442823635511, 4],\n",
       "  ['ConsumerCourt_SCDRC_1418', '0', 3.545270068746463, 148],\n",
       "  ['ConsumerCourt_SCDRC_65323', '0', 6.799328744139348, 34],\n",
       "  ['ConsumerCourt_SCDRC_66203', '0', 5.19140605468942, 57],\n",
       "  ['DelhiHC_2012_2026', '0', 0.43180051973152445, 874]],\n",
       " '8': [['ConsumerCourt_DCDRC_101057', '1', -5.032155859410828, 96368],\n",
       "  ['ConsumerCourt_DCDRC_118168', '0', -0.9776998582729197, 3107],\n",
       "  ['ConsumerCourt_DCDRC_118989', '0', -4.275422111008156, 56389],\n",
       "  ['ConsumerCourt_DCDRC_120003', '1', -3.42721238884723, 28589],\n",
       "  ['ConsumerCourt_DCDRC_120004', '1', -3.4519468303637932, 29137],\n",
       "  ['ConsumerCourt_DCDRC_121058', '0', -3.302000991598021, 25776],\n",
       "  ['ConsumerCourt_DCDRC_125286', '0', -6.263671366946793, 189541],\n",
       "  ['ConsumerCourt_DCDRC_126274', '0', -5.800467972605377, 151997],\n",
       "  ['ConsumerCourt_DCDRC_128072', '1', 1.8593207140081969, 184],\n",
       "  ['ConsumerCourt_DCDRC_129352', '0', -3.6677928776305633, 34808],\n",
       "  ['ConsumerCourt_DCDRC_129820', '0', 5.4395903226482645, 6],\n",
       "  ['ConsumerCourt_DCDRC_131144', '0', 3.1632506758234555, 55],\n",
       "  ['ConsumerCourt_DCDRC_131587', '0', 1.274450699668435, 326],\n",
       "  ['ConsumerCourt_DCDRC_131846', '0', -4.914153716706364, 88889],\n",
       "  ['ConsumerCourt_DCDRC_132917', '0', -3.1368416310928513, 22456],\n",
       "  ['ConsumerCourt_DCDRC_132928', '0', -2.9012664842149594, 18597],\n",
       "  ['ConsumerCourt_DCDRC_134709', '0', 2.841295169127836, 73],\n",
       "  ['ConsumerCourt_DCDRC_140632', '0', -2.869907420755732, 18067],\n",
       "  ['ConsumerCourt_DCDRC_140644', '0', -2.431673129931145, 12378],\n",
       "  ['ConsumerCourt_DCDRC_145502', '0', 2.519159730883594, 98],\n",
       "  ['ConsumerCourt_DCDRC_169855', '0', -2.49650021962231, 13130],\n",
       "  ['ConsumerCourt_DCDRC_202901', '0', -3.2863348383914905, 25449],\n",
       "  ['ConsumerCourt_DCDRC_203935', '0', 0.65308398226618, 611],\n",
       "  ['ConsumerCourt_DCDRC_222781', '0', -1.0826688045800692, 3412],\n",
       "  ['ConsumerCourt_DCDRC_223340', '0', -4.99910019462227, 94184],\n",
       "  ['ConsumerCourt_DCDRC_228779', '0', 9.653693443643972, 1],\n",
       "  ['ConsumerCourt_DCDRC_229540', '0', -2.481805947927273, 12959],\n",
       "  ['ConsumerCourt_DCDRC_39867', '0', -4.84980202517053, 85096],\n",
       "  ['ConsumerCourt_DCDRC_40822', '0', 6.365648420118223, 3],\n",
       "  ['ConsumerCourt_DCDRC_41058', '0', 2.840157440880608, 74],\n",
       "  ['ConsumerCourt_DCDRC_41514', '0', 3.481491967975076, 36],\n",
       "  ['ConsumerCourt_DCDRC_57900', '1', -5.3131908640766214, 115263],\n",
       "  ['ConsumerCourt_DCDRC_69224', '0', -1.1591709304534321, 3690],\n",
       "  ['ConsumerCourt_DCDRC_71619', '0', -2.6056066427687723, 14385],\n",
       "  ['ConsumerCourt_DCDRC_73864', '0', -2.1937650198267944, 9792],\n",
       "  ['ConsumerCourt_DCDRC_75339', '0', -0.7506020999274936, 2472],\n",
       "  ['ConsumerCourt_DCDRC_75574', '1', -0.7511283808434026, 2474],\n",
       "  ['ConsumerCourt_DCDRC_76123', '0', 2.850186206561336, 72],\n",
       "  ['ConsumerCourt_DCDRC_85243', '0', -4.764644411340581, 80027],\n",
       "  ['ConsumerCourt_SCDRC_29744', '0', 5.227002615970719, 9],\n",
       "  ['ConsumerCourt_SCDRC_33757', '0', 5.421998561639114, 7],\n",
       "  ['ConsumerCourt_SCDRC_53283', '0', 6.0293794119114335, 5],\n",
       "  ['ConsumerCourt_SCDRC_63603', '0', -2.718297607970616, 15870],\n",
       "  ['ConsumerCourt_SCDRC_66106', '1', -6.239173508639304, 187600],\n",
       "  ['ConsumerCourt_SCDRC_66890', '0', -3.793420267013669, 38541],\n",
       "  ['ConsumerCourt_SCDRC_67067', '0', -0.794588074512558, 2594],\n",
       "  ['ConsumerCourt_SCDRC_67949', '0', -3.0208539701434303, 20471],\n",
       "  ['ConsumerCourt_SCDRC_67951', '0', -2.5084429068471774, 13259],\n",
       "  ['ConsumerCourt_SCDRC_72333', '1', 3.24413807334515, 51],\n",
       "  ['JodhpurHC_2008_1906', '0', -1.9816862541917821, 7976]],\n",
       " '9': [['ConsumerCourt_DCDRC_108097', '0', -10.599637530631304, 126915],\n",
       "  ['ConsumerCourt_DCDRC_119856', '1', -3.55452120555036, 2567],\n",
       "  ['ConsumerCourt_DCDRC_119986', '0', -7.630586140816589, 27658],\n",
       "  ['ConsumerCourt_DCDRC_128297', '0', -8.20251634065028, 37798],\n",
       "  ['ConsumerCourt_DCDRC_128836', '0', -10.492313950238875, 120890],\n",
       "  ['ConsumerCourt_DCDRC_130625', '0', -7.68164872023027, 28435],\n",
       "  ['ConsumerCourt_DCDRC_133010', '0', -4.0241388507727205, 3404],\n",
       "  ['ConsumerCourt_DCDRC_138306', '1', -2.8142494483342446, 1625],\n",
       "  ['ConsumerCourt_DCDRC_139625', '0', -3.7807236943633917, 2936],\n",
       "  ['ConsumerCourt_DCDRC_143537', '0', -1.9334452268003233, 934],\n",
       "  ['ConsumerCourt_DCDRC_202901', '0', -9.629688831485192, 80033],\n",
       "  ['ConsumerCourt_DCDRC_202902', '0', -1.0218562510749116, 556],\n",
       "  ['ConsumerCourt_DCDRC_202903', '0', -7.736462231163754, 29301],\n",
       "  ['ConsumerCourt_DCDRC_222047', '1', 5.431303143958001, 10],\n",
       "  ['ConsumerCourt_DCDRC_224718', '1', -2.1588463384715855, 1086],\n",
       "  ['ConsumerCourt_DCDRC_226994', '0', -0.43841798135404986, 383],\n",
       "  ['ConsumerCourt_DCDRC_227115', '0', 6.773963879833467, 6],\n",
       "  ['ConsumerCourt_DCDRC_227445', '0', 0.41619509116753406, 216],\n",
       "  ['ConsumerCourt_DCDRC_236013', '1', 1.5477969117231005, 105],\n",
       "  ['ConsumerCourt_DCDRC_38039', '1', 6.070005505767849, 8],\n",
       "  ['ConsumerCourt_DCDRC_38552', '0', 1.641716875982329, 96],\n",
       "  ['ConsumerCourt_DCDRC_45418', '0', 3.072522752563028, 41],\n",
       "  ['ConsumerCourt_DCDRC_53237', '1', -4.278577134790945, 4003],\n",
       "  ['ConsumerCourt_DCDRC_56957', '0', 4.3794120378628705, 20],\n",
       "  ['ConsumerCourt_DCDRC_89958', '0', -3.352892702203217, 2282],\n",
       "  ['ConsumerCourt_NCDRC_2916', '0', -0.5497976659046699, 409],\n",
       "  ['ConsumerCourt_NCDRC_437', '0', -7.555387985017737, 26622],\n",
       "  ['ConsumerCourt_SCDRC_40659', '0', -0.18211424676925958, 327],\n",
       "  ['ConsumerCourt_SCDRC_49689', '0', -1.5082722844459635, 738],\n",
       "  ['ConsumerCourt_SCDRC_53178', '0', -0.8095177710183084, 484],\n",
       "  ['ConsumerCourt_SCDRC_65050', '0', -0.7695585119435275, 472],\n",
       "  ['ConsumerCourt_SCDRC_67634', '0', -8.946524618814276, 56222],\n",
       "  ['ConsumerCourt_SCDRC_68803', '0', 4.938138955185636, 16],\n",
       "  ['DelhiHC_2008_1343', '0', -9.505226304639883, 75206],\n",
       "  ['DelhiHC_2009_453', '0', -4.606521665975103, 4813],\n",
       "  ['DelhiHC_2010_4683', '0', -5.96517746363074, 10723],\n",
       "  ['DelhiHC_2010_6192', '0', -1.5434770567126694, 751],\n",
       "  ['DelhiHC_2011_69', '0', -9.188609720382729, 63989],\n",
       "  ['DelhiHC_2013_811', '0', -8.198394236237739, 37696],\n",
       "  ['SupremeCourt_2008_278', '0', -10.527971367117022, 122942]]}"
      ]
     },
     "execution_count": 23,
     "metadata": {},
     "output_type": "execute_result"
    }
   ],
   "source": [
    "tfidf_results"
   ]
  },
  {
   "cell_type": "code",
   "execution_count": null,
   "metadata": {
    "collapsed": true
   },
   "outputs": [],
   "source": []
  },
  {
   "cell_type": "code",
   "execution_count": null,
   "metadata": {
    "collapsed": true
   },
   "outputs": [],
   "source": []
  },
  {
   "cell_type": "code",
   "execution_count": null,
   "metadata": {
    "collapsed": true
   },
   "outputs": [],
   "source": []
  },
  {
   "cell_type": "code",
   "execution_count": 1,
   "metadata": {
    "collapsed": true
   },
   "outputs": [],
   "source": [
    "from openpyxl import Workbook\n",
    "from openpyxl.compat import range\n",
    "from openpyxl.utils import get_column_letter\n",
    "from openpyxl import load_workbook\n",
    "from scipy.stats import hmean\n"
   ]
  },
  {
   "cell_type": "code",
   "execution_count": null,
   "metadata": {
    "collapsed": true
   },
   "outputs": [],
   "source": [
    "wow = tfidf_results"
   ]
  },
  {
   "cell_type": "code",
   "execution_count": null,
   "metadata": {
    "collapsed": true
   },
   "outputs": [],
   "source": [
    "wb = Workbook()\n",
    "wb.save('LM_JM.xlsx')"
   ]
  },
  {
   "cell_type": "code",
   "execution_count": null,
   "metadata": {
    "collapsed": true,
    "scrolled": true
   },
   "outputs": [],
   "source": [
    "# The ranking are beign saved here\n",
    "\n",
    "\n",
    "# save to excel\n",
    "wb2 = load_workbook('LM_JM.xlsx')\n",
    "ws1 = wb.create_sheet(title=\"Lambda=0.7|\")\n",
    "\n",
    "ws1.append(['Query','Filename', 'Relevance', 'Score', 'Rank'])\n",
    "for key,value in wow.iteritems():\n",
    "    for i in value:\n",
    "        ws1.append([int(key)]+ i)\n",
    "\n",
    "wb.save(filename = 'LM_JM.xlsx')"
   ]
  },
  {
   "cell_type": "code",
   "execution_count": 4,
   "metadata": {
    "collapsed": true,
    "scrolled": true
   },
   "outputs": [],
   "source": [
    "\n",
    "### for all k values consider the result of all queries as one and then calculate precision , r, and F\n",
    "\n",
    "\n",
    "\n",
    "import pandas as pd\n",
    "\n",
    "f = pd.ExcelFile('LM_JM.xlsx')\n",
    "\n",
    "\n",
    "x = f.parse(0)\n",
    "\n",
    "total_1 = (float)(x[x['Relevance'] == 1].shape[0])\n",
    "total_0 = (float)(x[x['Relevance'] == 0].shape[0])\n",
    "total = (float)(x.shape[0])\n",
    "\n",
    "\n",
    "model_name = 'LM_JM'\n",
    "places = 4\n",
    "wb = load_workbook('LM_JM.xlsx')\n",
    "ws1 = wb.create_sheet(title=\"evaluation\")\n",
    "\n",
    "ws1.append(['Docs considered', 'Precision/Recall', 'Model', 10, 50, 100, 500, 1000])\n",
    "\n",
    "\n",
    "#### there is(was at the time code ran) only one sheet.\n",
    "for sheet in f.sheet_names:\n",
    "    \n",
    "    x = f.parse(sheet)\n",
    "    \n",
    "    \n",
    "    # precision 1\n",
    "    row = [1, 'P', model_name + ' :' + sheet]\n",
    "    for i in [10.0, 50.0, 100.0, 500.0, 1000.0]:\n",
    "        row.append(x[np.logical_and(x['Relevance'] == 1 , x['Rank'] <= i)].shape[0]/(i*10))\n",
    "    ws1.append(row);\n",
    "    p1 = row;\n",
    "    # precision 0\n",
    "    row = [0, 'P', model_name + ' :' + sheet]\n",
    "    for i in [10.0, 50.0, 100.0, 500.0, 1000.0]:\n",
    "        row.append(x[np.logical_and(x['Relevance'] == 0 , x['Rank'] <= i)].shape[0]/(i*10))    \n",
    "    ws1.append(row);\n",
    "    p0 = row;\n",
    "    #precision 10\n",
    "    row = [10, 'P', model_name + ' :' + sheet]\n",
    "    for i in [10.0, 50.0, 100.0, 500.0, 1000.0]:\n",
    "        row.append(x[x['Rank'] <= i].shape[0]/(i*10))  \n",
    "    ws1.append(row);\n",
    "    p10 = row;    \n",
    "    # recall 1\n",
    "    row = [1, 'R', model_name + ' :' + sheet]\n",
    "    for i in [10.0, 50.0, 100.0, 500.0, 1000.0]:\n",
    "        row.append(x[np.logical_and(x['Relevance'] == 1 , x['Rank'] <= i)].shape[0]/total_1)\n",
    "        row[-1] = round(row[-1],places)\n",
    "    ws1.append(row);\n",
    "    r1 = row;    \n",
    "    # recall 0\n",
    "    row = [0, 'R', model_name + ' :' + sheet]\n",
    "    for i in [10.0, 50.0, 100.0, 500.0, 1000.0]:\n",
    "        row.append(x[np.logical_and(x['Relevance'] == 0 , x['Rank'] <= i)].shape[0]/total_0)\n",
    "        row[-1] = round(row[-1],places)\n",
    "    ws1.append(row);\n",
    "    r0 = row;\n",
    "    #recall 10\n",
    "    row = [10, 'R', model_name + ' :' + sheet]\n",
    "    for i in [10.0, 50.0, 100.0, 500.0, 1000.0]:\n",
    "        row.append(x[x['Rank'] <= i].shape[0]/total)\n",
    "        row[-1] = round(row[-1],places)\n",
    "    ws1.append(row);\n",
    "    r10 = row;      \n",
    "    \n",
    "    \n",
    "    # F 1\n",
    "    row = [1, 'F', model_name + ' :' + sheet]\n",
    "    for i in [-5,-4,-3,-2,-1]:\n",
    "        if p1[i] == 0.0 :\n",
    "            row.append(0.0)\n",
    "        else:\n",
    "            row.append(hmean([p1[i],r1[i]]))\n",
    "        row[-1] = round(row[-1],places)\n",
    "    ws1.append(row);\n",
    "        \n",
    "    # F 0\n",
    "    row = [0, 'F', model_name + ' :' + sheet]\n",
    "    for i in [-5,-4,-3,-2,-1]:\n",
    "        if p0[i] == 0.0:\n",
    "            row.append(0.0)\n",
    "        else:\n",
    "            row.append(hmean([p0[i],r0[i]]))\n",
    "        row[-1] = round(row[-1],places)\n",
    "    ws1.append(row);\n",
    "    \n",
    "    # F 10\n",
    "    row = [10, 'F', model_name + ' :' + sheet]\n",
    "    for i  in [-5,-4,-3,-2,-1]:\n",
    "        if p10[i] == 0.0:\n",
    "            row.append(0.0)\n",
    "        else:\n",
    "            row.append(hmean([p10[i],r10[i]]))\n",
    "        row[-1] = round(row[-1],places)\n",
    "    ws1.append(row);\n",
    "        \n",
    "wb.save(filename = 'LM_JM.xlsx')"
   ]
  },
  {
   "cell_type": "code",
   "execution_count": 6,
   "metadata": {
    "collapsed": true
   },
   "outputs": [],
   "source": [
    "#Query wise\n",
    "\n",
    "import pandas as pd\n",
    "\n",
    "f = pd.ExcelFile('LM_JM.xlsx')\n",
    "\n",
    "from scipy.stats import hmean\n",
    "\n",
    "\n",
    "\n",
    "model_name = 'LM_JM'\n",
    "places = 4\n",
    "wb = load_workbook('LM_JM.xlsx')\n",
    "ws1 = wb.create_sheet(title=\"evaluation_Qwise\")\n",
    "\n",
    "ws1.append(['Query','Docs considered', 'Precision/Recall', 'Model', 10, 50, 100, 500, 1000])\n",
    "\n",
    "\n",
    "for sheet in f.sheet_names:\n",
    "    if(sheet == \"evaluation\"):\n",
    "        continue\n",
    "    for q in np.arange(1,11):\n",
    "\n",
    "        x = f.parse(sheet)\n",
    "        x = x[x['Query'] == q]\n",
    "        total_1 = (float)(x[x['Relevance'] == 1].shape[0])\n",
    "        total_0 = (float)(x[x['Relevance'] == 0].shape[0])\n",
    "        total = (float)(x.shape[0])\n",
    "        # precision 1\n",
    "        row = [q, 1, 'P', model_name + ' :' + sheet]\n",
    "        for i in [10.0, 50.0, 100.0, 500.0, 1000.0]:\n",
    "            row.append(x[np.logical_and(x['Relevance'] == 1 , x['Rank'] <= i)].shape[0]/i)\n",
    "        ws1.append(row);\n",
    "        p1 = row;\n",
    "        # precision 0\n",
    "        row = [q, 0, 'P', model_name + ' :' + sheet]\n",
    "        for i in [10.0, 50.0, 100.0, 500.0, 1000.0]:\n",
    "            row.append(x[np.logical_and(x['Relevance'] == 0 , x['Rank'] <= i)].shape[0]/i)    \n",
    "        ws1.append(row);\n",
    "        p0 = row;\n",
    "        #precision 10\n",
    "        row = [q, 10, 'P', model_name + ' :' + sheet]\n",
    "        for i in [10.0, 50.0, 100.0, 500.0, 1000.0]:\n",
    "            row.append(x[x['Rank'] <= i].shape[0]/i)  \n",
    "        ws1.append(row);\n",
    "        p10 = row;    \n",
    "        # recall 1\n",
    "        row = [q, 1, 'R', model_name + ' :' + sheet]\n",
    "        for i in [10.0, 50.0, 100.0, 500.0, 1000.0]:\n",
    "            row.append(x[np.logical_and(x['Relevance'] == 1 , x['Rank'] <= i)].shape[0]/total_1)\n",
    "            row[-1] = round(row[-1],places)\n",
    "        ws1.append(row);\n",
    "        r1 = row;    \n",
    "        # recall 0\n",
    "        row = [q, 0, 'R', model_name + ' :' + sheet]\n",
    "        for i in [10.0, 50.0, 100.0, 500.0, 1000.0]:\n",
    "            row.append(x[np.logical_and(x['Relevance'] == 0 , x['Rank'] <= i)].shape[0]/total_0)\n",
    "            row[-1] = round(row[-1],places)\n",
    "        ws1.append(row);\n",
    "        r0 = row;\n",
    "        #recall 10\n",
    "        row = [q, 10, 'R', model_name + ' :' + sheet]\n",
    "        for i in [10.0, 50.0, 100.0, 500.0, 1000.0]:\n",
    "            row.append(x[x['Rank'] <= i].shape[0]/total)\n",
    "            row[-1] = round(row[-1],places)\n",
    "        ws1.append(row);\n",
    "        r10 = row;      \n",
    "\n",
    "\n",
    "        # F 1\n",
    "        row = [q, 1, 'F', model_name + ' :' + sheet]\n",
    "        for i in [-5,-4,-3,-2,-1]:\n",
    "            if p1[i] == 0.0 :\n",
    "                row.append(0.0)\n",
    "            else:\n",
    "                row.append(hmean([p1[i],r1[i]]))\n",
    "            row[-1] = round(row[-1],places)\n",
    "        ws1.append(row);\n",
    "\n",
    "        # F 0\n",
    "        row = [q, 0, 'F', model_name + ' :' + sheet]\n",
    "        for i in [-5,-4,-3,-2,-1]:\n",
    "            if p0[i] == 0.0:\n",
    "                row.append(0.0)\n",
    "            else:\n",
    "                row.append(hmean([p0[i],r0[i]]))\n",
    "            row[-1] = round(row[-1],places)\n",
    "        ws1.append(row);\n",
    "\n",
    "        # F 10\n",
    "        row = [q, 10, 'F', model_name + ' :' + sheet]\n",
    "        for i  in [-5,-4,-3,-2,-1]:\n",
    "            if p10[i] == 0.0:\n",
    "                row.append(0.0)\n",
    "            else:\n",
    "                row.append(hmean([p10[i],r10[i]]))\n",
    "            row[-1] = round(row[-1],places)\n",
    "        ws1.append(row);\n",
    "        \n",
    "wb.save(filename = 'LM_JM.xlsx')"
   ]
  },
  {
   "cell_type": "code",
   "execution_count": 52,
   "metadata": {
    "collapsed": true
   },
   "outputs": [],
   "source": [
    "#Query wise Average precision\n",
    "\n",
    "# function to calculate the precision sum(numerator in AP formula)\n",
    "def p_sum(z):\n",
    "    z = z.copy()\n",
    "    z.sort_values(inplace=True)\n",
    "    result = 0\n",
    "    # enumerate - i gives the no. of relevant till now\n",
    "    for i,val in enumerate(z):\n",
    "        result += (i+1)/float(val) \n",
    "        #print result\n",
    "    return result\n",
    "\n",
    "\n",
    "import pandas as pd\n",
    "\n",
    "f = pd.ExcelFile('LM_JM.xlsx')\n",
    "\n",
    "from scipy.stats import hmean\n",
    "\n",
    "\n",
    "model_name = 'LM_JM'\n",
    "places = 4\n",
    "wb = load_workbook('LM_JM.xlsx')\n",
    "ws1 = wb.create_sheet(title=\"AP_Qwise\")\n",
    "\n",
    "ws1.append(['Query','Docs considered', 'Precision/Recall', 'Model', 1, 5 ,10, 25, 50, 100, 500, 1000])\n",
    "\n",
    "\n",
    "for sheet in f.sheet_names:\n",
    "    \n",
    "    if(sheet == \"evaluation\"or sheet == \"evaluation_Qwise\"):\n",
    "        continue\n",
    "    for q in np.arange(1,11):\n",
    "\n",
    "        x = f.parse(sheet)\n",
    "        x = x[x['Query'] == q]\n",
    "        total[1] = (float)(x[x['Relevance'] == 1].shape[0])\n",
    "        total[0] = (float)(x[x['Relevance'] == 0].shape[0])\n",
    "        total[10] = (float)(x.shape[0])\n",
    "        \n",
    "        for rel in [1,0]:\n",
    "            # precision 1\n",
    "            row = [q, rel, 'AP', model_name + ' :' + sheet]\n",
    "            for i in [1.0, 5.0, 10.0, 25.0, 50.0, 100.0, 500.0, 1000.0]:\n",
    "                row.append(p_sum(x[np.logical_and(x['Relevance'] == rel, x['Rank'] <= i)]['Rank'])/total[rel])\n",
    "            ws1.append(row);\n",
    "\n",
    "        row = [q, 10, 'AP', model_name + ' :' + sheet]\n",
    "        for i in [1.0, 5.0, 10.0, 25.0, 50.0, 100.0, 500.0, 1000.0]:\n",
    "            row.append(p_sum(x[x['Rank'] <= i]['Rank'])/total[10])\n",
    "        ws1.append(row);\n",
    "\n",
    "        \n",
    "wb.save(filename = 'LM_JM.xlsx')"
   ]
  },
  {
   "cell_type": "code",
   "execution_count": null,
   "metadata": {
    "collapsed": true
   },
   "outputs": [],
   "source": [
    "\n"
   ]
  },
  {
   "cell_type": "code",
   "execution_count": null,
   "metadata": {
    "collapsed": true
   },
   "outputs": [],
   "source": []
  },
  {
   "cell_type": "code",
   "execution_count": null,
   "metadata": {
    "collapsed": true
   },
   "outputs": [],
   "source": [
    "# given a corpus and document index and a query return intersecting words(scores from corpus) \n",
    "def common_words(index, query):\n",
    "    # quey words\n",
    "    q = [i[0] for i in dictionary.doc2bow(query)]   \n",
    "    q = set(q)\n",
    "    \n",
    "    return sorted([(dictionary.get(i[0]),i[1],j[1]) for i,j in zip(corpus[index],tfidf_corpus[index]) if i[0] in q], key= lambda x: x[1], reverse= True )        \n"
   ]
  },
  {
   "cell_type": "code",
   "execution_count": null,
   "metadata": {
    "collapsed": true
   },
   "outputs": [],
   "source": [
    "# uses ranklist\n",
    "# return top N documents and the respctive common words for every query given corpus\n",
    "def top_N(n, corp) :\n",
    "    top_results = [0]\n",
    "    for i in range(1,11):\n",
    "        x = sorted(range(len(rank_list[i])), key=lambda j: rank_list[i][j])[:n]\n",
    "        y = []\n",
    "        for j in x:\n",
    "            y.append([filenames[j],common_words(j, queries[i])])\n",
    "            \n",
    "        top_results.append(y)\n",
    "    return top_results"
   ]
  },
  {
   "cell_type": "code",
   "execution_count": null,
   "metadata": {
    "collapsed": true
   },
   "outputs": [],
   "source": [
    "# queries as bag of words\n",
    "# index starts from 1 for queries\n",
    "q_words = [0]\n",
    "for i,query in enumerate(files_to_tokens('LegalAdhocTask\\q*.txt')):\n",
    "    q_words.append(sorted([(dictionary.get(j[0]), j[1], k[1]) for j,k in zip(dictionary.doc2bow(query),tfidf[dictionary.doc2bow(query)])], reverse= True, key= lambda x:x[2]))"
   ]
  },
  {
   "cell_type": "code",
   "execution_count": null,
   "metadata": {
    "collapsed": true,
    "scrolled": false
   },
   "outputs": [],
   "source": [
    "# index starts from 1 for queries\n",
    "top_results = top_N(10,corpus)"
   ]
  },
  {
   "cell_type": "code",
   "execution_count": null,
   "metadata": {
    "collapsed": true,
    "scrolled": true
   },
   "outputs": [],
   "source": [
    "# ground truth ranks BoW query\n",
    "\n",
    "sorted(BQ['1'], key = lambda x: (-int(x[1]),x[3]))"
   ]
  },
  {
   "cell_type": "code",
   "execution_count": null,
   "metadata": {
    "collapsed": true,
    "scrolled": true
   },
   "outputs": [],
   "source": [
    "top_results[1]"
   ]
  },
  {
   "cell_type": "code",
   "execution_count": null,
   "metadata": {
    "collapsed": true
   },
   "outputs": [],
   "source": [
    "tfidf[dictionary.doc2bow([])]"
   ]
  },
  {
   "cell_type": "code",
   "execution_count": null,
   "metadata": {
    "collapsed": true,
    "scrolled": true
   },
   "outputs": [],
   "source": [
    "common_words(filenames.index( 'ConsumerCourt_DCDRC_118185' + '.txt'), queries[1])"
   ]
  },
  {
   "cell_type": "code",
   "execution_count": null,
   "metadata": {
    "collapsed": true
   },
   "outputs": [],
   "source": []
  }
 ],
 "metadata": {
  "kernelspec": {
   "display_name": "Python 2",
   "language": "python",
   "name": "python2"
  },
  "language_info": {
   "codemirror_mode": {
    "name": "ipython",
    "version": 2
   },
   "file_extension": ".py",
   "mimetype": "text/x-python",
   "name": "python",
   "nbconvert_exporter": "python",
   "pygments_lexer": "ipython2",
   "version": "2.7.13"
  }
 },
 "nbformat": 4,
 "nbformat_minor": 2
}
