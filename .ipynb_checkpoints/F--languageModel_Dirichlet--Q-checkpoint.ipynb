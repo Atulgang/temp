{
 "cells": [
  {
   "cell_type": "code",
   "execution_count": 1,
   "metadata": {
    "collapsed": true
   },
   "outputs": [],
   "source": [
    "def only_alphabet(text):\n",
    "    return ''.join(i for i in text if (ord(i)<123 and ord(i)>96) or (ord(i)<91 and ord(i)>64) or ord(i)==32) "
   ]
  },
  {
   "cell_type": "code",
   "execution_count": 2,
   "metadata": {
    "collapsed": true
   },
   "outputs": [],
   "source": [
    "import logging\n",
    "logging.basicConfig(format='%(asctime)s : %(levelname)s : %(message)s', level=logging.INFO)"
   ]
  },
  {
   "cell_type": "code",
   "execution_count": 3,
   "metadata": {},
   "outputs": [
    {
     "name": "stderr",
     "output_type": "stream",
     "text": [
      "2018-01-04 19:31:43,648 : INFO : 'pattern' package not found; tag filters are not available for English\n"
     ]
    }
   ],
   "source": [
    "import nltk\n",
    "from nltk.tokenize import word_tokenize\n",
    "from stop_words import get_stop_words\n",
    "from nltk.stem import WordNetLemmatizer\n",
    "from gensim import corpora, models\n",
    "import gensim\n",
    "import glob2\n",
    "from itertools import chain\n",
    "import os\n",
    "import numpy as np\n",
    "import itertools\n",
    "from  scipy.stats import rankdata\n",
    "import copy\n"
   ]
  },
  {
   "cell_type": "code",
   "execution_count": 4,
   "metadata": {
    "collapsed": true
   },
   "outputs": [],
   "source": [
    "# get stopwords as set\n",
    "# get Vocabulary and remove words with length less than 3 \n",
    "# vocab is sorted in descending order \n",
    "\n",
    "en_stop = set(get_stop_words('en'))\n",
    "vocab  = open(\"wordsEn.txt\").read().splitlines()\n",
    "vocab = [i for i in vocab  if len(i)>2]\n",
    "vocab.sort(key=len, reverse=True)\n",
    "\n",
    "vocab_set = set(vocab)\n"
   ]
  },
  {
   "cell_type": "code",
   "execution_count": 5,
   "metadata": {
    "collapsed": true
   },
   "outputs": [],
   "source": [
    "full_filenames = []\n",
    "x= ['LegalAdhocTask/ConsumerCourtAdhocdata/DCDRC/**/*.txt','LegalAdhocTask/ConsumerCourtAdhocdata/NCDRC/**/*.txt','LegalAdhocTask/ConsumerCourtAdhocdata/SCDRC/**/*.txt', 'LegalAdhocTask/SC-HCAdhocData/DelhiHC/**/*.txt','LegalAdhocTask/SC-HCAdhocData/JharkhandHC/**/*.txt', 'LegalAdhocTask/SC-HCAdhocData/JodhpurHC/**/*.txt' ,'LegalAdhocTask/SC-HCAdhocData/KolkataHC/**/*.txt', 'LegalAdhocTask/SC-HCAdhocData/SupremeCourt/**/*.txt']\n",
    "for glob_filenames in x:\n",
    "    glob_filenames = os.path.normpath(glob_filenames)\n",
    "    for filename in sorted(glob2.glob(glob_filenames)):\n",
    "        full_filenames.append(filename)\n",
    "        if not os.path.isfile(filename):\n",
    "            print 'wtffff'\n",
    "            \n",
    "            \n",
    "filenames = []\n",
    "x= ['LegalAdhocTask/ConsumerCourtAdhocdata/DCDRC/**/*.txt','LegalAdhocTask/ConsumerCourtAdhocdata/NCDRC/**/*.txt','LegalAdhocTask/ConsumerCourtAdhocdata/SCDRC/**/*.txt', 'LegalAdhocTask/SC-HCAdhocData/DelhiHC/**/*.txt','LegalAdhocTask/SC-HCAdhocData/JharkhandHC/**/*.txt', 'LegalAdhocTask/SC-HCAdhocData/JodhpurHC/**/*.txt' ,'LegalAdhocTask/SC-HCAdhocData/KolkataHC/**/*.txt', 'LegalAdhocTask/SC-HCAdhocData/SupremeCourt/**/*.txt']\n",
    "for glob_filenames in x:\n",
    "    glob_filenames = os.path.normpath(glob_filenames)\n",
    "    for filename in sorted(glob2.glob(glob_filenames)):\n",
    "        filenames.append(os.path.basename(filename))\n",
    "        if not os.path.isfile(filename):\n",
    "            print 'wtffff'\n",
    "\n",
    "# \"yield\" for each file return token list  i.e list of lists\n",
    "def files_to_tokens(glob_filenames):\n",
    "    glob_filenames = os.path.normpath(glob_filenames)\n",
    "    lemmatizer = WordNetLemmatizer()\n",
    "    for filename in sorted(glob2.glob(glob_filenames)):\n",
    "        f = open(filename)\n",
    "        # read the whole file as lowercase string\n",
    "        string = only_alphabet(f.read()).lower()\n",
    "        \n",
    "        # tokenize that string\n",
    "        tokens =  word_tokenize(string)\n",
    "        \n",
    "        # remove stop words tokens and length two tokens\n",
    "        tokens = [lemmatizer.lemmatize(i) for i in tokens if i not in en_stop and len(i)>2]\n",
    "\n",
    "        #seperate words stuck together\n",
    "        for i,token in enumerate(tokens):\n",
    "            if token not in vocab_set:\n",
    "#                 print token\n",
    "                # both prefix and suffix incase one of the word is of len(2)\n",
    "                # prefix match\n",
    "                flag = 0\n",
    "                for j in range(len(token)-2,2,-1):\n",
    "                    if token[:j] in vocab_set:\n",
    "                            tokens.append(token[:j])\n",
    "                            tokens.append(token[j:])\n",
    "#                             print 'prefixx'\n",
    "#                             print token[:j], token[j:]\n",
    "                            del tokens[i]\n",
    "                            flag = 1\n",
    "                            break               \n",
    "                \n",
    "                if flag == 1:\n",
    "#                     print 'prefix milgaya'\n",
    "                    continue \n",
    "                # suffix match\n",
    "                flag = 0\n",
    "                for j in range(1,len(token)-2):\n",
    "                    if token[j:] in vocab_set:\n",
    "                            tokens.append(token[:j])\n",
    "                            tokens.append(token[j:])\n",
    "#                             print 'suffix'\n",
    "#                             print token[:j], token[j:]\n",
    "                            flag =1\n",
    "                            del tokens[i]                            \n",
    "                            break               \n",
    "#                 if flag == 0:\n",
    "#                     print 'couldnt break' \n",
    "        # again remove stop words and length two tokens AND WORDS not in vocab\n",
    "        tokens = [i for i in tokens if i not in en_stop and len(i)>2 and i in vocab_set]                \n",
    "        if len(tokens) == 0:\n",
    "            print \"empty document\"\n",
    "        yield tokens\n",
    "        f.close()\n",
    "\n",
    "        \n",
    "# yields token list for files specific to courts; needed for creating dictionaries\n",
    "class texts:\n",
    "    def DCDRC(self):\n",
    "        return files_to_tokens('LegalAdhocTask/ConsumerCourtAdhocdata/DCDRC/**/*.txt')\n",
    "    def NCDRC(self):\n",
    "        return files_to_tokens('LegalAdhocTask/ConsumerCourtAdhocdata/NCDRC/**/*.txt')\n",
    "    def SCDRC(self):\n",
    "        return files_to_tokens('LegalAdhocTask/ConsumerCourtAdhocdata/SCDRC/**/*.txt')\n",
    "    def DelhiHC(self):\n",
    "        return files_to_tokens('LegalAdhocTask/SC-HCAdhocData/DelhiHC/**/*.txt')\n",
    "    def JharkhandHC(self):\n",
    "        return files_to_tokens('LegalAdhocTask/SC-HCAdhocData/JharkhandHC/**/*.txt')\n",
    "    def JodhpurHC(self):\n",
    "        return files_to_tokens('LegalAdhocTask/SC-HCAdhocData/JodhpurHC/**/*.txt')\n",
    "    def KolkataHC(self):\n",
    "        return files_to_tokens('LegalAdhocTask/SC-HCAdhocData/KolkataHC/**/*.txt')\n",
    "    def SupremeCourt(self):\n",
    "        return files_to_tokens('LegalAdhocTask/SC-HCAdhocData/SupremeCourt/**/*.txt')\n",
    "\n",
    "# yields bow for each file - tuples id,fq ; needed to train models   \n",
    "class my_corpus:    \n",
    "    def DCDRC(self):\n",
    "        for text in files_to_tokens('LegalAdhocTask/ConsumerCourtAdhocdata/DCDRC/*.txt'):\n",
    "            yield dictionary.doc2bow(text)\n",
    "    def NCDRC(self):\n",
    "        for text in files_to_tokens('LegalAdhocTask/ConsumerCourtAdhocdata/NCDRC/**/*.txt'):\n",
    "            yield dictionary.doc2bow(text)            \n",
    "    def SCDRC(self):\n",
    "        for text in files_to_tokens('LegalAdhocTask/ConsumerCourtAdhocdata/SCDRC/**/*.txt'):\n",
    "            yield dictionary.doc2bow(text)\n",
    "    def DelhiHC(self):\n",
    "        for text in files_to_tokens('LegalAdhocTask/SC-HCAdhocData/DelhiHC/**/*.txt'):\n",
    "            yield dictionary.doc2bow(text)\n",
    "    def JharkhandHC(self):\n",
    "        for text in files_to_tokens('LegalAdhocTask/SC-HCAdhocData/JharkhandHC/**/*.txt'):\n",
    "            yield dictionary.doc2bow(text)\n",
    "    def JodhpurHC(self):\n",
    "        for text in  files_to_tokens('LegalAdhocTask/SC-HCAdhocData/JodhpurHC/**/*.txt'):\n",
    "            yield dictionary.doc2bow(text)\n",
    "    def KolkataHC(self):\n",
    "        for text in  files_to_tokens('LegalAdhocTask/SC-HCAdhocData/KolkataHC/**/*.txt'):\n",
    "            yield dictionary.doc2bow(text)\n",
    "    def SupremeCourt(self):\n",
    "        for text in  files_to_tokens('LegalAdhocTask/SC-HCAdhocData/SupremeCourt/**/*.txt'):\n",
    "            yield dictionary.doc2bow(text)\n",
    "    def everything(self):\n",
    "        return chain(self.DCDRC(), self.NCDRC(), self.SCDRC(), self.DelhiHC(),\n",
    "                     self.JharkhandHC(), self.JodhpurHC(), self.KolkataHC(), self.SupremeCourt())\n",
    "        \n",
    "        "
   ]
  },
  {
   "cell_type": "code",
   "execution_count": 6,
   "metadata": {
    "scrolled": true
   },
   "outputs": [
    {
     "name": "stderr",
     "output_type": "stream",
     "text": [
      "2018-01-04 19:32:00,953 : INFO : loading Dictionary object from newdictionary\n",
      "2018-01-04 19:32:00,965 : INFO : loaded newdictionary\n"
     ]
    }
   ],
   "source": [
    "#################################### laod the dictinary\n",
    "dictionary = corpora.Dictionary.load('newdictionary')"
   ]
  },
  {
   "cell_type": "code",
   "execution_count": 7,
   "metadata": {
    "scrolled": false
   },
   "outputs": [
    {
     "name": "stderr",
     "output_type": "stream",
     "text": [
      "2018-01-04 19:32:01,210 : INFO : loaded corpus index from newcorpus.mm.index\n",
      "2018-01-04 19:32:01,211 : INFO : initializing corpus reader from newcorpus.mm\n",
      "2018-01-04 19:32:01,213 : INFO : accepted corpus with 351985 documents, 35955 features, 88778565 non-zero entries\n"
     ]
    }
   ],
   "source": [
    "######################################## load BOW\n",
    "corpus = corpora.MmCorpus('newcorpus.mm')"
   ]
  },
  {
   "cell_type": "code",
   "execution_count": 8,
   "metadata": {
    "collapsed": true
   },
   "outputs": [],
   "source": [
    "# get the query truth in dictionary\n",
    "query_truth = {}\n",
    "for i in range(1,11):\n",
    "    query_truth[str(i)]=[]\n",
    "    \n",
    "    \n",
    "f = open('LegalAdhocTask/Consumer.qrels')\n",
    "lines = [line.rstrip('\\n').split(\"\\t\") for line in f]\n",
    "for line in lines:\n",
    "    del line[1]\n",
    "    query_truth[line[0]].append(line[1:])\n"
   ]
  },
  {
   "cell_type": "code",
   "execution_count": 9,
   "metadata": {
    "collapsed": true
   },
   "outputs": [],
   "source": [
    "import cPickle as pickle\n",
    "\n",
    "# load p_C\n",
    "with open('p_C.pkl', 'rb') as ip:\n",
    "    p_C = pickle.load(ip)"
   ]
  },
  {
   "cell_type": "code",
   "execution_count": 10,
   "metadata": {
    "collapsed": true
   },
   "outputs": [],
   "source": [
    "# load doc_len\n",
    "with open('doc_len.pkl', 'rb') as ip:\n",
    "    doc_len = pickle.load(ip)"
   ]
  },
  {
   "cell_type": "code",
   "execution_count": 11,
   "metadata": {
    "collapsed": true
   },
   "outputs": [],
   "source": [
    "\n",
    "import math\n",
    "from six import iteritems\n",
    "from six.moves import xrange\n",
    "\n",
    "\n",
    "# Dirichlet parameter\n",
    "MU = 2000\n",
    "\n",
    "\n",
    "class Dirichlet(object):\n",
    "\n",
    "    def __init__(self, corpus):\n",
    "        self.corpus = corpus\n",
    "        self.corpus_size = dictionary.num_docs\n",
    "\n",
    "    # document here refers to query , index is of the document in the corpus\n",
    "    def get_score(self, query, index, query_len):\n",
    "        # as a python dict\n",
    "        index_doc = dict(self.corpus[index])\n",
    "        score = 0\n",
    "        for word,freq in query:\n",
    "            if word not in index_doc:\n",
    "                continue\n",
    "            score += freq*(math.log( 1 + freq/ (MU * p_C[word]) ))\n",
    "        return score + query_len * math.log(MU/(doc_len[index] + MU))\n",
    "\n",
    "    def get_scores(self, query):\n",
    "        scores = []\n",
    "        query_len = 0\n",
    "        for word, freq in query:\n",
    "            query_len += freq\n",
    "        for index in xrange(self.corpus_size):\n",
    "            score = self.get_score(query, index, query_len)\n",
    "            scores.append(score)\n",
    "        return scores\n",
    "\n"
   ]
  },
  {
   "cell_type": "code",
   "execution_count": 12,
   "metadata": {
    "collapsed": true
   },
   "outputs": [],
   "source": [
    "# run it once for initializing the idf \n",
    "D = Dirichlet(corpus)"
   ]
  },
  {
   "cell_type": "code",
   "execution_count": 13,
   "metadata": {
    "collapsed": true
   },
   "outputs": [],
   "source": [
    "MU = 2000"
   ]
  },
  {
   "cell_type": "code",
   "execution_count": 14,
   "metadata": {
    "scrolled": true
   },
   "outputs": [
    {
     "name": "stdout",
     "output_type": "stream",
     "text": [
      "0\n",
      "1\n",
      "2\n",
      "3\n",
      "4\n",
      "5\n",
      "6\n",
      "7\n",
      "8\n",
      "9\n"
     ]
    }
   ],
   "source": [
    "tfidf_results = copy.deepcopy(query_truth)\n",
    "\n",
    "sim_list = [0]\n",
    "rank_list = [0]\n",
    "queries = [0]\n",
    "for i,query in enumerate(files_to_tokens('LegalAdhocTask/q*.txt')):\n",
    "    queries.append(query)\n",
    "    sims = D.get_scores(dictionary.doc2bow(query))\n",
    "    sim_list.append(sims)\n",
    "    # rank of every document wrt similarity\n",
    "    ranks = rankdata(sims, method='ordinal')\n",
    "    ranks= len(ranks)+1 - ranks \n",
    "    rank_list.append(ranks)\n",
    "    \n",
    "    # update the query truth tuples with similarity score and the ranks\n",
    "    for x in tfidf_results[str(i+1)]:\n",
    "        x.append(sims[filenames.index(x[0]+'.txt')])\n",
    "        x.append(ranks[filenames.index(x[0]+'.txt')])\n",
    "        #x.append(common_words(filenames.index(x[0]+'.txt'), tfidf_corpus, query))\n",
    "    print i\n",
    "    # sort wrt relevance(from truth) and then ranks(from our model)\n",
    "    #tfidf_results[str(i+1)].sort(key=lambda x: (-int(x[1]),x[3]))     \n",
    "    \n",
    "        "
   ]
  },
  {
   "cell_type": "code",
   "execution_count": 15,
   "metadata": {
    "scrolled": false
   },
   "outputs": [
    {
     "data": {
      "text/plain": [
       "{'1': [['ConsumerCourt_DCDRC_100385', '1', 6.397094186557014, 5014],\n",
       "  ['ConsumerCourt_DCDRC_106530', '0', 23.227639037376093, 258],\n",
       "  ['ConsumerCourt_DCDRC_107608', '1', -16.919173435758434, 296666],\n",
       "  ['ConsumerCourt_DCDRC_114291', '1', -8.38777568603551, 210283],\n",
       "  ['ConsumerCourt_DCDRC_114382', '1', -14.943993103916295, 283354],\n",
       "  ['ConsumerCourt_DCDRC_118185', '1', -1.5625659556644003, 76853],\n",
       "  ['ConsumerCourt_DCDRC_130318', '0', 31.287888688883783, 51],\n",
       "  ['ConsumerCourt_DCDRC_130570', '1', 22.418623099176042, 292],\n",
       "  ['ConsumerCourt_DCDRC_131146', '1', -4.738953509765956, 156222],\n",
       "  ['ConsumerCourt_DCDRC_131717', '1', -11.107147129725078, 246044],\n",
       "  ['ConsumerCourt_DCDRC_131741', '1', 1.549087127659611, 15899],\n",
       "  ['ConsumerCourt_DCDRC_131818', '1', 5.67682582115453, 6301],\n",
       "  ['ConsumerCourt_DCDRC_131950', '0', -3.830483764660862, 141225],\n",
       "  ['ConsumerCourt_DCDRC_131972', '0', 21.667132335803906, 320],\n",
       "  ['ConsumerCourt_DCDRC_132932', '0', 17.38979506050225, 618],\n",
       "  ['ConsumerCourt_DCDRC_133592', '1', 21.617292100452044, 322],\n",
       "  ['ConsumerCourt_DCDRC_134386', '0', 20.83477512824127, 359],\n",
       "  ['ConsumerCourt_DCDRC_135474', '1', 10.083532752103563, 1709],\n",
       "  ['ConsumerCourt_DCDRC_139024', '0', 27.07770196881496, 120],\n",
       "  ['ConsumerCourt_DCDRC_139205', '0', 33.4970136460379, 32],\n",
       "  ['ConsumerCourt_DCDRC_140039', '1', 24.153792414142615, 215],\n",
       "  ['ConsumerCourt_DCDRC_145708', '0', 32.81944204391405, 39],\n",
       "  ['ConsumerCourt_DCDRC_187214', '1', 16.863343179489394, 667],\n",
       "  ['ConsumerCourt_DCDRC_207784', '1', 23.68927571788344, 241],\n",
       "  ['ConsumerCourt_DCDRC_217344', '1', 26.077848698474423, 151],\n",
       "  ['ConsumerCourt_DCDRC_217471', '1', 25.369055193726716, 175],\n",
       "  ['ConsumerCourt_DCDRC_222797', '0', 26.640702983834, 133],\n",
       "  ['ConsumerCourt_DCDRC_222844', '1', 32.90049882450292, 38],\n",
       "  ['ConsumerCourt_DCDRC_224228', '0', 16.61470955851238, 690],\n",
       "  ['ConsumerCourt_DCDRC_224833', '0', 35.19236373196536, 15],\n",
       "  ['ConsumerCourt_DCDRC_226072', '1', 20.29819114422805, 394],\n",
       "  ['ConsumerCourt_DCDRC_38498', '0', 29.530722035512625, 69],\n",
       "  ['ConsumerCourt_DCDRC_39186', '1', 20.75296384133024, 362],\n",
       "  ['ConsumerCourt_DCDRC_41317', '1', 14.985915018076225, 866],\n",
       "  ['ConsumerCourt_DCDRC_41588', '1', 40.76961362693427, 1],\n",
       "  ['ConsumerCourt_DCDRC_42118', '1', 9.64595388380993, 1851],\n",
       "  ['ConsumerCourt_DCDRC_42618', '1', 27.108418653053285, 118],\n",
       "  ['ConsumerCourt_DCDRC_42649', '1', 27.830855414714577, 93],\n",
       "  ['ConsumerCourt_DCDRC_44200', '1', 23.569759159256037, 247],\n",
       "  ['ConsumerCourt_DCDRC_46368', '1', 18.36113859354522, 543],\n",
       "  ['ConsumerCourt_DCDRC_46519', '1', 40.46896165648431, 2],\n",
       "  ['ConsumerCourt_DCDRC_46543', '1', 33.983103947233005, 24],\n",
       "  ['ConsumerCourt_DCDRC_53138', '1', 33.93632336876952, 25],\n",
       "  ['ConsumerCourt_DCDRC_55517', '1', 28.757670438535214, 84],\n",
       "  ['ConsumerCourt_DCDRC_55612', '1', 25.633764868708557, 163],\n",
       "  ['ConsumerCourt_DCDRC_55678', '1', 24.462114069187606, 207],\n",
       "  ['ConsumerCourt_DCDRC_55899', '1', 30.156432632100596, 63],\n",
       "  ['ConsumerCourt_DCDRC_57484', '0', 38.925255758588676, 5],\n",
       "  ['ConsumerCourt_DCDRC_74868', '1', 6.438381633759079, 4946],\n",
       "  ['ConsumerCourt_DCDRC_80057', '1', 36.79505363292885, 11],\n",
       "  ['ConsumerCourt_DCDRC_83596', '0', 37.98493582140632, 6],\n",
       "  ['ConsumerCourt_DCDRC_83779', '0', 34.861839482636796, 18],\n",
       "  ['ConsumerCourt_DCDRC_96667', '1', 35.792497255770684, 14],\n",
       "  ['ConsumerCourt_DCDRC_98733', '1', 37.68436822185056, 7],\n",
       "  ['ConsumerCourt_SCDRC_52678', '0', 15.789071088118702, 777],\n",
       "  ['DelhiHC_2011_4267', '0', -7.9945195742057855, 204895],\n",
       "  ['KolkataHCOriginalSite_2012_36', '0', -20.748603206352087, 315472]],\n",
       " '10': [['ConsumerCourt_DCDRC_220958', '0', 26.727885563339214, 13],\n",
       "  ['ConsumerCourt_DCDRC_222509', '0', 12.755417394701517, 450],\n",
       "  ['ConsumerCourt_DCDRC_223570', '0', 29.370342513311094, 10],\n",
       "  ['ConsumerCourt_DCDRC_227314', '0', 23.018730471618603, 33],\n",
       "  ['ConsumerCourt_DCDRC_228688', '1', 38.992895453537514, 5],\n",
       "  ['ConsumerCourt_DCDRC_235883', '0', 26.375586948083917, 18],\n",
       "  ['ConsumerCourt_DCDRC_38192', '0', 49.42560030885475, 3],\n",
       "  ['ConsumerCourt_DCDRC_41485', '0', 13.675736015010251, 349],\n",
       "  ['ConsumerCourt_DCDRC_41489', '0', 13.675736015010251, 348],\n",
       "  ['ConsumerCourt_DCDRC_41520', '0', 32.875553751202794, 7],\n",
       "  ['ConsumerCourt_SCDRC_44836', '0', 30.219626985494045, 9],\n",
       "  ['ConsumerCourt_SCDRC_56350', '0', 50.06767871710926, 2],\n",
       "  ['ConsumerCourt_SCDRC_65898', '0', 15.830405348260026, 170],\n",
       "  ['ConsumerCourt_SCDRC_68718', '0', 39.00848212285402, 4],\n",
       "  ['ConsumerCourt_SCDRC_69937', '1', 114.60987762170535, 1],\n",
       "  ['ConsumerCourt_SCDRC_70632', '0', 30.33206641214715, 8],\n",
       "  ['DelhiHC_2008_2771', '0', -153.8554459407884, 351972],\n",
       "  ['DelhiHC_2008_2772', '0', -153.8554459407884, 351971]],\n",
       " '2': [['ConsumerCourt_DCDRC_103241', '0', -90.86845565939387, 350317],\n",
       "  ['ConsumerCourt_DCDRC_107786', '1', 8.063660812026324, 929],\n",
       "  ['ConsumerCourt_DCDRC_114305', '1', -63.05681475684553, 344800],\n",
       "  ['ConsumerCourt_DCDRC_120930', '1', -6.204065370802933, 145523],\n",
       "  ['ConsumerCourt_DCDRC_123490', '1', -22.226282772208478, 280646],\n",
       "  ['ConsumerCourt_DCDRC_125352', '1', -43.95771735901093, 332808],\n",
       "  ['ConsumerCourt_DCDRC_127791', '0', 3.6109728772031104, 1930],\n",
       "  ['ConsumerCourt_DCDRC_130071', '0', -12.118014137265948, 207919],\n",
       "  ['ConsumerCourt_DCDRC_130920', '1', -5.196902159017773, 132919],\n",
       "  ['ConsumerCourt_DCDRC_131972', '0', -37.29720988800093, 323926],\n",
       "  ['ConsumerCourt_DCDRC_133106', '1', -13.360747349842597, 219733],\n",
       "  ['ConsumerCourt_DCDRC_133260', '0', 11.62373278100036, 681],\n",
       "  ['ConsumerCourt_DCDRC_143284', '1', -11.45114022842278, 201448],\n",
       "  ['ConsumerCourt_DCDRC_143334', '0', 1.358709945163909, 5680],\n",
       "  ['ConsumerCourt_DCDRC_144440', '0', -14.324666200131333, 228262],\n",
       "  ['ConsumerCourt_DCDRC_202900', '0', -1.0716515555151584, 38963],\n",
       "  ['ConsumerCourt_DCDRC_202903', '0', 4.9436026507234185, 1349],\n",
       "  ['ConsumerCourt_DCDRC_207376', '1', 8.835468167942679, 869],\n",
       "  ['ConsumerCourt_DCDRC_212601', '0', -31.423989810936234, 312319],\n",
       "  ['ConsumerCourt_DCDRC_212692', '1', -7.461853671579341, 159999],\n",
       "  ['ConsumerCourt_DCDRC_214518', '1', 4.789254053980002, 1388],\n",
       "  ['ConsumerCourt_DCDRC_226924', '0', 8.742953469068064, 876],\n",
       "  ['ConsumerCourt_DCDRC_227866', '1', 2.5774690862103036, 3273],\n",
       "  ['ConsumerCourt_DCDRC_228749', '1', 9.40863082025911, 825],\n",
       "  ['ConsumerCourt_DCDRC_229221', '0', 5.847753488909138, 1167],\n",
       "  ['ConsumerCourt_DCDRC_230361', '1', 2.750117054996867, 3060],\n",
       "  ['ConsumerCourt_DCDRC_41190', '0', -5.813300538296691, 140695],\n",
       "  ['ConsumerCourt_DCDRC_50671', '1', -13.091795908332937, 217233],\n",
       "  ['ConsumerCourt_DCDRC_52620', '1', -26.88728434804372, 299247],\n",
       "  ['ConsumerCourt_DCDRC_53093', '1', -2.9069871731909487, 92781],\n",
       "  ['ConsumerCourt_DCDRC_53138', '0', 11.484861493572758, 692],\n",
       "  ['ConsumerCourt_DCDRC_53153', '1', -3.196423087814722, 99491],\n",
       "  ['ConsumerCourt_DCDRC_53432', '0', -5.032722134212889, 130730],\n",
       "  ['ConsumerCourt_DCDRC_53875', '0', -0.22538682243031616, 18701],\n",
       "  ['ConsumerCourt_DCDRC_53881', '0', -0.22538682243031616, 18700],\n",
       "  ['ConsumerCourt_DCDRC_56471', '1', -12.331119602479362, 209955],\n",
       "  ['ConsumerCourt_DCDRC_56761', '0', 1.8860605279788416, 4378],\n",
       "  ['ConsumerCourt_DCDRC_57453', '0', -9.371023991744707, 180197],\n",
       "  ['ConsumerCourt_DCDRC_57583', '0', -17.982520743581336, 256183],\n",
       "  ['ConsumerCourt_DCDRC_62986', '0', 9.037689727065775, 856],\n",
       "  ['ConsumerCourt_DCDRC_63724', '0', -1.7222607987793062, 59351],\n",
       "  ['ConsumerCourt_DCDRC_68765', '0', 1.8907506232934672, 4367],\n",
       "  ['ConsumerCourt_DCDRC_68808', '0', -1.0755184236917792, 39031],\n",
       "  ['ConsumerCourt_DCDRC_69863', '0', -0.6764559476339613, 29481],\n",
       "  ['ConsumerCourt_DCDRC_74887', '0', 1.1979619874794238, 6244],\n",
       "  ['ConsumerCourt_DCDRC_75562', '0', -5.187152121785999, 132793],\n",
       "  ['ConsumerCourt_DCDRC_76114', '0', -1.4122911300287537, 48913],\n",
       "  ['ConsumerCourt_DCDRC_76186', '0', -0.8270020631187052, 32902],\n",
       "  ['ConsumerCourt_DCDRC_76270', '0', 1.2114258100570083, 6190],\n",
       "  ['ConsumerCourt_DCDRC_77085', '1', 27.048669845293094, 38],\n",
       "  ['ConsumerCourt_DCDRC_77280', '0', -3.1809545331602536, 99040],\n",
       "  ['ConsumerCourt_DCDRC_77935', '1', -2.0280484838235644, 68691],\n",
       "  ['ConsumerCourt_DCDRC_87186', '0', 5.3317803722297175, 1262],\n",
       "  ['ConsumerCourt_DCDRC_91864', '1', -3.506342798700551, 105968],\n",
       "  ['ConsumerCourt_DCDRC_96244', '1', 0.03840993120749303, 14187],\n",
       "  ['ConsumerCourt_NCDRC_1317', '0', 1.5880355547756757, 5022],\n",
       "  ['ConsumerCourt_SCDRC_49685', '0', -1.2632741578705442, 44398],\n",
       "  ['ConsumerCourt_SCDRC_60064', '1', -6.46109614605745, 148658],\n",
       "  ['ConsumerCourt_SCDRC_62062', '1', -8.585916617528746, 172009]],\n",
       " '3': [['ConsumerCourt_DCDRC_103355', '0', -38.54623257060193, 298666],\n",
       "  ['ConsumerCourt_DCDRC_129293', '1', 71.9520111059147, 13],\n",
       "  ['ConsumerCourt_DCDRC_133013', '1', 24.925498542226634, 1442],\n",
       "  ['ConsumerCourt_DCDRC_133017', '0', -17.235499352530745, 201717],\n",
       "  ['ConsumerCourt_DCDRC_137661', '0', 21.734103801669207, 1838],\n",
       "  ['ConsumerCourt_DCDRC_153064', '0', -53.45339481240195, 324258],\n",
       "  ['ConsumerCourt_DCDRC_187619', '1', 80.60809242904229, 6],\n",
       "  ['ConsumerCourt_DCDRC_200840', '0', 49.34697981557688, 138],\n",
       "  ['ConsumerCourt_DCDRC_222260', '1', 96.32125401485143, 4],\n",
       "  ['ConsumerCourt_DCDRC_222772', '1', 65.23853192194647, 31],\n",
       "  ['ConsumerCourt_DCDRC_223618', '1', 77.61452430531799, 8],\n",
       "  ['ConsumerCourt_DCDRC_228476', '0', 64.2055318856789, 38],\n",
       "  ['ConsumerCourt_DCDRC_228963', '1', 109.23798506173304, 1],\n",
       "  ['ConsumerCourt_DCDRC_230634', '1', 65.452955773726, 30],\n",
       "  ['ConsumerCourt_DCDRC_235824', '0', 52.158716944067585, 112],\n",
       "  ['ConsumerCourt_DCDRC_45666', '0', 60.88209534594639, 51],\n",
       "  ['ConsumerCourt_DCDRC_47493', '1', 46.39008484190766, 178],\n",
       "  ['ConsumerCourt_DCDRC_52566', '0', 98.21616164788233, 3],\n",
       "  ['ConsumerCourt_DCDRC_73184', '0', 29.258704210587595, 959],\n",
       "  ['ConsumerCourt_DCDRC_73185', '0', 27.738413913256025, 1131],\n",
       "  ['ConsumerCourt_NCDRC_2861', '1', -2.023395165243045, 50108],\n",
       "  ['ConsumerCourt_NCDRC_2902', '0', 2.437710126209865, 8276],\n",
       "  ['ConsumerCourt_NCDRC_2979', '0', 10.053904304101223, 3912],\n",
       "  ['ConsumerCourt_NCDRC_632', '0', 56.71904090642491, 71],\n",
       "  ['ConsumerCourt_NCDRC_637', '0', 56.78061042577356, 70],\n",
       "  ['ConsumerCourt_SCDRC_2052', '0', 37.00470694598885, 414],\n",
       "  ['ConsumerCourt_SCDRC_22704', '0', 17.862467765187333, 2373],\n",
       "  ['ConsumerCourt_SCDRC_29484', '0', -15.223247432766982, 187772],\n",
       "  ['ConsumerCourt_SCDRC_29552', '0', -19.61513214874408, 217506],\n",
       "  ['ConsumerCourt_SCDRC_30176', '0', 31.24258210016824, 764],\n",
       "  ['ConsumerCourt_SCDRC_48394', '0', 34.05827861286504, 574],\n",
       "  ['ConsumerCourt_SCDRC_63569', '0', -27.53451604905605, 260932],\n",
       "  ['ConsumerCourt_SCDRC_63609', '0', 63.89077539667748, 39],\n",
       "  ['ConsumerCourt_SCDRC_65919', '0', 106.4646609301273, 2],\n",
       "  ['ConsumerCourt_SCDRC_66200', '0', 62.75299178327617, 43],\n",
       "  ['ConsumerCourt_SCDRC_69801', '0', 40.31655039009921, 300],\n",
       "  ['ConsumerCourt_SCDRC_814', '0', 25.31836966088475, 1394],\n",
       "  ['DelhiHC_2012_388', '0', 3.7071756629723893, 6727]],\n",
       " '4': [['ConsumerCourt_DCDRC_106570', '0', 11.755606564710236, 92],\n",
       "  ['ConsumerCourt_DCDRC_116129', '1', -4.43475053215478, 191668],\n",
       "  ['ConsumerCourt_DCDRC_128836', '0', -4.427638549466831, 191545],\n",
       "  ['ConsumerCourt_DCDRC_130725', '1', -10.450506828157433, 276693],\n",
       "  ['ConsumerCourt_DCDRC_133137', '0', -3.226670572131386, 166994],\n",
       "  ['ConsumerCourt_DCDRC_173376', '0', -0.5143757292316824, 58442],\n",
       "  ['ConsumerCourt_DCDRC_174292', '0', 7.451433794100209, 1118],\n",
       "  ['ConsumerCourt_DCDRC_174300', '1', 11.110826529268087, 134],\n",
       "  ['ConsumerCourt_DCDRC_202903', '0', 0.5937907342589472, 29916],\n",
       "  ['ConsumerCourt_DCDRC_205816', '1', 4.151251438555008, 7111],\n",
       "  ['ConsumerCourt_DCDRC_207155', '0', 15.385637410509977, 14],\n",
       "  ['ConsumerCourt_DCDRC_207197', '0', 14.424309231351023, 20],\n",
       "  ['ConsumerCourt_DCDRC_212467', '1', -7.48802153217143, 241995],\n",
       "  ['ConsumerCourt_DCDRC_213156', '0', 17.15865650835255, 4],\n",
       "  ['ConsumerCourt_DCDRC_213473', '0', 11.93455598272715, 85],\n",
       "  ['ConsumerCourt_DCDRC_213784', '0', 12.411796330475736, 66],\n",
       "  ['ConsumerCourt_DCDRC_214475', '0', 8.614431728415184, 573],\n",
       "  ['ConsumerCourt_DCDRC_218582', '0', 10.046635938995315, 239],\n",
       "  ['ConsumerCourt_DCDRC_221177', '0', 7.157301876371772, 1323],\n",
       "  ['ConsumerCourt_DCDRC_221424', '0', 2.6292454770815095, 14165],\n",
       "  ['ConsumerCourt_DCDRC_223275', '0', 5.829951688308711, 2875],\n",
       "  ['ConsumerCourt_DCDRC_226909', '0', 3.232711570111597, 10930],\n",
       "  ['ConsumerCourt_DCDRC_227099', '0', 12.882060700868458, 43],\n",
       "  ['ConsumerCourt_DCDRC_229902', '0', 12.019505521441362, 81],\n",
       "  ['ConsumerCourt_DCDRC_47636', '0', 10.742434314251575, 172],\n",
       "  ['ConsumerCourt_DCDRC_49131', '0', 12.368194718864427, 67],\n",
       "  ['ConsumerCourt_DCDRC_51881', '0', 5.718138713766784, 3038],\n",
       "  ['ConsumerCourt_DCDRC_52357', '0', 5.394613398032046, 3655],\n",
       "  ['ConsumerCourt_DCDRC_53202', '0', 13.461957410986875, 33],\n",
       "  ['ConsumerCourt_DCDRC_53580', '1', 3.943006801797722, 7842],\n",
       "  ['ConsumerCourt_DCDRC_54056', '1', 4.335698730648687, 6435],\n",
       "  ['ConsumerCourt_DCDRC_70122', '0', -2.9948716940561155, 161528],\n",
       "  ['ConsumerCourt_DCDRC_73309', '0', 8.780046968610986, 521],\n",
       "  ['ConsumerCourt_NCDRC_2154', '0', 5.86295507837182, 2829],\n",
       "  ['ConsumerCourt_NCDRC_3506', '0', -2.6810075411295458, 153573],\n",
       "  ['ConsumerCourt_SCDRC_1143', '1', 7.624291221465523, 1021],\n",
       "  ['ConsumerCourt_SCDRC_1288', '1', -1.2444366947131584, 95314],\n",
       "  ['ConsumerCourt_SCDRC_22830', '0', -3.262178471190328, 167785],\n",
       "  ['ConsumerCourt_SCDRC_37679', '1', -2.719110008086549, 154588],\n",
       "  ['ConsumerCourt_SCDRC_471', '0', 8.189277516194538, 753],\n",
       "  ['ConsumerCourt_SCDRC_49973', '1', 12.678360367204963, 52],\n",
       "  ['ConsumerCourt_SCDRC_5406', '0', 1.6040943973093498, 20861],\n",
       "  ['ConsumerCourt_SCDRC_7046', '1', 3.014439744554796, 12065],\n",
       "  ['DelhiHC_2012_3856', '0', 0.8212517568923552, 27659],\n",
       "  ['SupremeCourt_2009_1421', '0', -45.33294252260938, 350336]],\n",
       " '5': [['ConsumerCourt_DCDRC_124651', '0', 9.178577283850366, 2277],\n",
       "  ['ConsumerCourt_DCDRC_138545', '0', 15.918225714774685, 382],\n",
       "  ['ConsumerCourt_DCDRC_139183', '0', 6.323490789184234, 4861],\n",
       "  ['ConsumerCourt_DCDRC_141380', '0', -9.588110212301828, 207218],\n",
       "  ['ConsumerCourt_DCDRC_148691', '1', 11.53335727375238, 1212],\n",
       "  ['ConsumerCourt_DCDRC_202903', '0', 2.919171613212698, 13032],\n",
       "  ['ConsumerCourt_DCDRC_208296', '0', 15.436911225025778, 424],\n",
       "  ['ConsumerCourt_DCDRC_223817', '0', -14.083474002578171, 248773],\n",
       "  ['ConsumerCourt_DCDRC_226994', '0', 16.15018445899271, 352],\n",
       "  ['ConsumerCourt_DCDRC_229911', '1', 10.457849882210517, 1612],\n",
       "  ['ConsumerCourt_DCDRC_41155', '1', 11.533463908057655, 1211],\n",
       "  ['ConsumerCourt_DCDRC_41262', '0', -2.0975907908543476, 95329],\n",
       "  ['ConsumerCourt_DCDRC_41428', '0', 11.014621660076607, 1397],\n",
       "  ['ConsumerCourt_DCDRC_42411', '0', -8.033541880173722, 190260],\n",
       "  ['ConsumerCourt_DCDRC_46404', '0', 6.362260692094875, 4811],\n",
       "  ['ConsumerCourt_DCDRC_53679', '1', -21.57999223841182, 292484],\n",
       "  ['ConsumerCourt_DCDRC_57315', '1', -5.370099434698421, 157809],\n",
       "  ['ConsumerCourt_DCDRC_57465', '0', -4.065111228324085, 139063],\n",
       "  ['ConsumerCourt_DCDRC_57488', '0', 6.854586498958371, 4176],\n",
       "  ['ConsumerCourt_DCDRC_57914', '1', 5.666384695892795, 5935],\n",
       "  ['ConsumerCourt_DCDRC_66294', '0', 6.861630006419979, 4168],\n",
       "  ['ConsumerCourt_DCDRC_96799', '0', 15.128620987866302, 456],\n",
       "  ['ConsumerCourt_NCDRC_1337', '1', 15.217631568560705, 449],\n",
       "  ['ConsumerCourt_NCDRC_1338', '0', 15.217631568560705, 448],\n",
       "  ['ConsumerCourt_NCDRC_2983', '1', -8.86716812412682, 199369],\n",
       "  ['ConsumerCourt_SCDRC_28656', '0', -0.27356062130989756, 42209],\n",
       "  ['ConsumerCourt_SCDRC_33517', '1', -8.561596073173774, 196109],\n",
       "  ['ConsumerCourt_SCDRC_5122', '0', 11.682727340462723, 1168],\n",
       "  ['ConsumerCourt_SCDRC_71374', '1', 2.7533521020194414, 13643]],\n",
       " '6': [['ConsumerCourt_DCDRC_103021', '1', 6.645158198271709, 30],\n",
       "  ['ConsumerCourt_DCDRC_119836', '1', -1.4840760939241813, 118117],\n",
       "  ['ConsumerCourt_DCDRC_125237', '1', -4.965506261489638, 241885],\n",
       "  ['ConsumerCourt_DCDRC_126276', '0', -3.7104163958977647, 200572],\n",
       "  ['ConsumerCourt_DCDRC_131266', '1', -14.473529234374679, 340800],\n",
       "  ['ConsumerCourt_DCDRC_133353', '1', 2.33733546946395, 661],\n",
       "  ['ConsumerCourt_DCDRC_133354', '0', 2.2857391815764228, 699],\n",
       "  ['ConsumerCourt_DCDRC_134804', '0', 4.776307208883162, 100],\n",
       "  ['ConsumerCourt_DCDRC_138617', '1', 5.364147363335844, 72],\n",
       "  ['ConsumerCourt_DCDRC_143983', '0', -4.244339705563194, 218952],\n",
       "  ['ConsumerCourt_DCDRC_207387', '1', -0.2863972221534228, 22852],\n",
       "  ['ConsumerCourt_DCDRC_220958', '1', -3.4608127967336735, 191566],\n",
       "  ['ConsumerCourt_DCDRC_223570', '1', 8.274145542100229, 11],\n",
       "  ['ConsumerCourt_DCDRC_223783', '0', 4.6553047458350925, 107],\n",
       "  ['ConsumerCourt_DCDRC_38192', '1', 3.573109281629833, 208],\n",
       "  ['ConsumerCourt_DCDRC_41485', '0', 5.8441704509882655, 56],\n",
       "  ['ConsumerCourt_DCDRC_41489', '0', 5.8441704509882655, 55],\n",
       "  ['ConsumerCourt_DCDRC_41520', '1', 3.5835029967418217, 205],\n",
       "  ['ConsumerCourt_DCDRC_45421', '0', -1.939460771126666, 136271],\n",
       "  ['ConsumerCourt_DCDRC_52148', '0', -1.111286449046042, 98226],\n",
       "  ['ConsumerCourt_DCDRC_70186', '0', 1.039275654756353, 2342],\n",
       "  ['ConsumerCourt_DCDRC_70341', '0', 2.3856890505860764, 630],\n",
       "  ['ConsumerCourt_DCDRC_90054', '0', -2.910420648732269, 171479],\n",
       "  ['ConsumerCourt_SCDRC_28640', '1', 1.0117505435108356, 2392],\n",
       "  ['ConsumerCourt_SCDRC_64152', '0', 4.695929891253959, 104],\n",
       "  ['ConsumerCourt_SCDRC_68718', '1', 7.2030124160584, 22],\n",
       "  ['ConsumerCourt_SCDRC_70632', '0', 1.9743053294104538, 967],\n",
       "  ['DelhiHC_2009_735', '1', -0.45355682056940694, 39694],\n",
       "  ['DelhiHC_2012_372', '0', -4.08384153834899, 213619],\n",
       "  ['DelhiHC_2012_374', '0', -4.08384153834899, 213618],\n",
       "  ['SupremeCourt_1996_416', '0', -0.8942192865919478, 81009]],\n",
       " '7': [['ConsumerCourt_DCDRC_119406', '1', 7.665419336289672, 58],\n",
       "  ['ConsumerCourt_DCDRC_121344', '0', 17.122030505540813, 3],\n",
       "  ['ConsumerCourt_DCDRC_127019', '0', 10.123285116768987, 32],\n",
       "  ['ConsumerCourt_DCDRC_130205', '0', 11.218158288876541, 25],\n",
       "  ['ConsumerCourt_DCDRC_207672', '1', 4.644814598729962, 185],\n",
       "  ['ConsumerCourt_DCDRC_222487', '0', 16.41261823878159, 4],\n",
       "  ['ConsumerCourt_DCDRC_224805', '0', 16.025870173183492, 6],\n",
       "  ['ConsumerCourt_DCDRC_235755', '0', 13.827685792522988, 9],\n",
       "  ['ConsumerCourt_DCDRC_236026', '1', 7.239122985259431, 66],\n",
       "  ['ConsumerCourt_DCDRC_236229', '0', 12.672583898189872, 18],\n",
       "  ['ConsumerCourt_DCDRC_33939', '0', 5.165920729987413, 140],\n",
       "  ['ConsumerCourt_DCDRC_44337', '1', 6.380309231474827, 85],\n",
       "  ['ConsumerCourt_DCDRC_45534', '0', 16.314601548800873, 5],\n",
       "  ['ConsumerCourt_DCDRC_46470', '0', 7.6117956760260554, 59],\n",
       "  ['ConsumerCourt_DCDRC_48811', '0', 5.491744089321285, 123],\n",
       "  ['ConsumerCourt_DCDRC_51454', '1', 7.766733565706534, 55],\n",
       "  ['ConsumerCourt_DCDRC_64180', '0', 17.801764525437562, 2],\n",
       "  ['ConsumerCourt_DCDRC_73953', '0', 1.8115013359221166, 1099],\n",
       "  ['ConsumerCourt_DCDRC_75554', '0', 5.620863257753661, 113],\n",
       "  ['ConsumerCourt_SCDRC_1050', '0', 3.6837167895802114, 328],\n",
       "  ['ConsumerCourt_SCDRC_1387', '0', 18.493206377331838, 1],\n",
       "  ['ConsumerCourt_SCDRC_1418', '0', 12.77957253671859, 16],\n",
       "  ['ConsumerCourt_SCDRC_65323', '0', 7.352148697116501, 65],\n",
       "  ['ConsumerCourt_SCDRC_66203', '0', 5.9723980623097415, 102],\n",
       "  ['DelhiHC_2012_2026', '0', -1.4259089521066173, 126400]],\n",
       " '8': [['ConsumerCourt_DCDRC_101057', '1', -5.649811185457573, 272226],\n",
       "  ['ConsumerCourt_DCDRC_118168', '0', 1.232257983878406, 3715],\n",
       "  ['ConsumerCourt_DCDRC_118989', '0', -3.8708471991295954, 226569],\n",
       "  ['ConsumerCourt_DCDRC_120003', '1', -5.973365951707554, 278390],\n",
       "  ['ConsumerCourt_DCDRC_120004', '1', -6.047565010237618, 279809],\n",
       "  ['ConsumerCourt_DCDRC_121058', '0', -4.529693484611164, 245525],\n",
       "  ['ConsumerCourt_DCDRC_125286', '0', -10.557801202532705, 326994],\n",
       "  ['ConsumerCourt_DCDRC_126274', '0', -14.792018258061205, 341596],\n",
       "  ['ConsumerCourt_DCDRC_128072', '1', 6.329286561064425, 52],\n",
       "  ['ConsumerCourt_DCDRC_129352', '0', -3.00450485041506, 197755],\n",
       "  ['ConsumerCourt_DCDRC_129820', '0', 16.978773658779662, 4],\n",
       "  ['ConsumerCourt_DCDRC_131144', '0', 10.08249582601644, 28],\n",
       "  ['ConsumerCourt_DCDRC_131587', '0', 3.5953543722888206, 306],\n",
       "  ['ConsumerCourt_DCDRC_131846', '0', -14.839714810406647, 341706],\n",
       "  ['ConsumerCourt_DCDRC_132917', '0', -5.3222022476986055, 265179],\n",
       "  ['ConsumerCourt_DCDRC_132928', '0', -1.8070792984091515, 151587],\n",
       "  ['ConsumerCourt_DCDRC_134709', '0', 11.164370051435839, 24],\n",
       "  ['ConsumerCourt_DCDRC_140632', '0', -1.1381605942813868, 118464],\n",
       "  ['ConsumerCourt_DCDRC_140644', '0', -2.8730963349056724, 193148],\n",
       "  ['ConsumerCourt_DCDRC_145502', '0', 11.638044102057954, 21],\n",
       "  ['ConsumerCourt_DCDRC_169855', '0', 3.7324981935636306, 264],\n",
       "  ['ConsumerCourt_DCDRC_202901', '0', 0.4049326822430319, 12296],\n",
       "  ['ConsumerCourt_DCDRC_203935', '0', 2.4635601050587543, 1031],\n",
       "  ['ConsumerCourt_DCDRC_222781', '0', -0.20114390542827376, 35525],\n",
       "  ['ConsumerCourt_DCDRC_223340', '0', -2.9827531891869885, 196987],\n",
       "  ['ConsumerCourt_DCDRC_228779', '0', 20.3751167368473, 1],\n",
       "  ['ConsumerCourt_DCDRC_229540', '0', 0.1505648537175317, 17622],\n",
       "  ['ConsumerCourt_DCDRC_39867', '0', -2.7109003165221326, 187246],\n",
       "  ['ConsumerCourt_DCDRC_40822', '0', 15.411686548056604, 9],\n",
       "  ['ConsumerCourt_DCDRC_41058', '0', 12.276188403368579, 19],\n",
       "  ['ConsumerCourt_DCDRC_41514', '0', 12.889600408450717, 18],\n",
       "  ['ConsumerCourt_DCDRC_57900', '1', -2.8106443710084763, 190924],\n",
       "  ['ConsumerCourt_DCDRC_69224', '0', 0.24413268706255664, 15455],\n",
       "  ['ConsumerCourt_DCDRC_71619', '0', -4.949238157225739, 256317],\n",
       "  ['ConsumerCourt_DCDRC_73864', '0', -5.286616105899844, 264395],\n",
       "  ['ConsumerCourt_DCDRC_75339', '0', 1.4734251681450594, 2881],\n",
       "  ['ConsumerCourt_DCDRC_75574', '1', 0.3023631353242928, 14255],\n",
       "  ['ConsumerCourt_DCDRC_76123', '0', 8.762417415704864, 37],\n",
       "  ['ConsumerCourt_DCDRC_85243', '0', -4.175352070653288, 235654],\n",
       "  ['ConsumerCourt_SCDRC_29744', '0', 17.207743005298962, 3],\n",
       "  ['ConsumerCourt_SCDRC_33757', '0', 17.975495779979855, 2],\n",
       "  ['ConsumerCourt_SCDRC_53283', '0', 16.57659405519356, 5],\n",
       "  ['ConsumerCourt_SCDRC_63603', '0', -3.2494678400864316, 206263],\n",
       "  ['ConsumerCourt_SCDRC_66106', '1', -7.947179568402014, 306697],\n",
       "  ['ConsumerCourt_SCDRC_66890', '0', -3.170938330931878, 203528],\n",
       "  ['ConsumerCourt_SCDRC_67067', '0', -1.0278717174341168, 110393],\n",
       "  ['ConsumerCourt_SCDRC_67949', '0', 1.7509183717016032, 2177],\n",
       "  ['ConsumerCourt_SCDRC_67951', '0', 1.6715830615513685, 2345],\n",
       "  ['ConsumerCourt_SCDRC_72333', '1', 3.148581027477082, 509],\n",
       "  ['JodhpurHC_2008_1906', '0', 0.8657532526423313, 6106]],\n",
       " '9': [['ConsumerCourt_DCDRC_108097', '0', -35.42605885132313, 347640],\n",
       "  ['ConsumerCourt_DCDRC_119856', '1', -7.5474697921997524, 234424],\n",
       "  ['ConsumerCourt_DCDRC_119986', '0', -15.32555689989976, 311107],\n",
       "  ['ConsumerCourt_DCDRC_128297', '0', -26.853207959653716, 341354],\n",
       "  ['ConsumerCourt_DCDRC_128836', '0', -14.512116964555613, 306479],\n",
       "  ['ConsumerCourt_DCDRC_130625', '0', -3.062160932874286, 145055],\n",
       "  ['ConsumerCourt_DCDRC_133010', '0', -11.202096786660515, 281756],\n",
       "  ['ConsumerCourt_DCDRC_138306', '1', -4.137117341849999, 168989],\n",
       "  ['ConsumerCourt_DCDRC_139625', '0', -6.443646873807964, 215249],\n",
       "  ['ConsumerCourt_DCDRC_143537', '0', -7.3971309296191805, 232029],\n",
       "  ['ConsumerCourt_DCDRC_202901', '0', -0.25403316270800813, 25324],\n",
       "  ['ConsumerCourt_DCDRC_202902', '0', 3.8367962179011146, 274],\n",
       "  ['ConsumerCourt_DCDRC_202903', '0', -0.17888224392382934, 21634],\n",
       "  ['ConsumerCourt_DCDRC_222047', '1', 7.617852170325159, 11],\n",
       "  ['ConsumerCourt_DCDRC_224718', '1', 0.0059427198517418844, 15346],\n",
       "  ['ConsumerCourt_DCDRC_226994', '0', 2.6418997543885734, 819],\n",
       "  ['ConsumerCourt_DCDRC_227115', '0', 7.322340125028507, 15],\n",
       "  ['ConsumerCourt_DCDRC_227445', '0', 3.1605430137004173, 478],\n",
       "  ['ConsumerCourt_DCDRC_236013', '1', 4.912334208367791, 131],\n",
       "  ['ConsumerCourt_DCDRC_38039', '1', 9.513491394401969, 3],\n",
       "  ['ConsumerCourt_DCDRC_38552', '0', 1.1239638533570862, 3844],\n",
       "  ['ConsumerCourt_DCDRC_45418', '0', 6.192446873112033, 42],\n",
       "  ['ConsumerCourt_DCDRC_53237', '1', -7.27307139935402, 229851],\n",
       "  ['ConsumerCourt_DCDRC_56957', '0', 4.003777513227966, 244],\n",
       "  ['ConsumerCourt_DCDRC_89958', '0', -5.100773592294637, 189339],\n",
       "  ['ConsumerCourt_NCDRC_2916', '0', 2.404897835940492, 1041],\n",
       "  ['ConsumerCourt_NCDRC_437', '0', -2.7138351925593245, 136358],\n",
       "  ['ConsumerCourt_SCDRC_40659', '0', -6.273847278940021, 212119],\n",
       "  ['ConsumerCourt_SCDRC_49689', '0', -2.6383442348313935, 134288],\n",
       "  ['ConsumerCourt_SCDRC_53178', '0', 0.9843607269985419, 4626],\n",
       "  ['ConsumerCourt_SCDRC_65050', '0', -0.42356490362787014, 32934],\n",
       "  ['ConsumerCourt_SCDRC_67634', '0', -17.79686596769671, 321957],\n",
       "  ['ConsumerCourt_SCDRC_68803', '0', 7.323881791877989, 14],\n",
       "  ['DelhiHC_2008_1343', '0', -6.622729180751146, 218451],\n",
       "  ['DelhiHC_2009_453', '0', -0.8517061986660028, 57189],\n",
       "  ['DelhiHC_2010_4683', '0', -5.776099897736346, 202710],\n",
       "  ['DelhiHC_2010_6192', '0', -12.95805891139116, 296347],\n",
       "  ['DelhiHC_2011_69', '0', -13.98763997688576, 303254],\n",
       "  ['DelhiHC_2013_811', '0', -6.9614530886114245, 224465],\n",
       "  ['SupremeCourt_2008_278', '0', -3.599563755138308, 157417]]}"
      ]
     },
     "execution_count": 15,
     "metadata": {},
     "output_type": "execute_result"
    }
   ],
   "source": [
    "tfidf_results"
   ]
  },
  {
   "cell_type": "code",
   "execution_count": null,
   "metadata": {
    "collapsed": true
   },
   "outputs": [],
   "source": []
  },
  {
   "cell_type": "code",
   "execution_count": null,
   "metadata": {
    "collapsed": true
   },
   "outputs": [],
   "source": []
  },
  {
   "cell_type": "code",
   "execution_count": null,
   "metadata": {
    "collapsed": true
   },
   "outputs": [],
   "source": []
  },
  {
   "cell_type": "code",
   "execution_count": 17,
   "metadata": {
    "collapsed": true
   },
   "outputs": [],
   "source": [
    "from openpyxl import Workbook\n",
    "from openpyxl.compat import range\n",
    "from openpyxl.utils import get_column_letter\n",
    "from openpyxl import load_workbook\n",
    "from scipy.stats import hmean\n"
   ]
  },
  {
   "cell_type": "code",
   "execution_count": null,
   "metadata": {
    "collapsed": true
   },
   "outputs": [],
   "source": [
    "wow = tfidf_results"
   ]
  },
  {
   "cell_type": "code",
   "execution_count": null,
   "metadata": {
    "collapsed": true
   },
   "outputs": [],
   "source": [
    "wb = Workbook()\n",
    "wb.save('LM_Dirichlet.xlsx')"
   ]
  },
  {
   "cell_type": "code",
   "execution_count": null,
   "metadata": {
    "collapsed": true,
    "scrolled": true
   },
   "outputs": [],
   "source": [
    "# save to excel\n",
    "wb2 = load_workbook('LM_Dirichlet.xlsx')\n",
    "ws1 = wb.create_sheet(title=\"MU = 2000|\")\n",
    "\n",
    "ws1.append(['Query','Filename', 'Relevance', 'Score', 'Rank'])\n",
    "for key,value in wow.iteritems():\n",
    "    for i in value:\n",
    "        ws1.append([int(key)]+ i)\n",
    "\n",
    "wb.save(filename = 'LM_Dirichlet.xlsx')"
   ]
  },
  {
   "cell_type": "code",
   "execution_count": 22,
   "metadata": {
    "collapsed": true
   },
   "outputs": [],
   "source": [
    "import pandas as pd\n",
    "\n",
    "f = pd.ExcelFile('LM_Dirichlet.xlsx')\n",
    "\n",
    "\n",
    "x = f.parse(0)\n"
   ]
  },
  {
   "cell_type": "code",
   "execution_count": 24,
   "metadata": {
    "collapsed": true
   },
   "outputs": [],
   "source": [
    "\n",
    "total_1 = (float)(x[x['Relevance'] == 1].shape[0])\n",
    "total_0 = (float)(x[x['Relevance'] == 0].shape[0])\n",
    "total = (float)(x.shape[0])"
   ]
  },
  {
   "cell_type": "code",
   "execution_count": 25,
   "metadata": {},
   "outputs": [
    {
     "data": {
      "text/plain": [
       "131.0"
      ]
     },
     "execution_count": 25,
     "metadata": {},
     "output_type": "execute_result"
    }
   ],
   "source": [
    "total_1"
   ]
  },
  {
   "cell_type": "code",
   "execution_count": 27,
   "metadata": {
    "scrolled": true
   },
   "outputs": [
    {
     "data": {
      "text/plain": [
       "21"
      ]
     },
     "execution_count": 27,
     "metadata": {},
     "output_type": "execute_result"
    }
   ],
   "source": [
    "i = 10\n",
    "x[np.logical_and(x['Relevance'] == 0 , x['Rank'] <= i)].shape[0]"
   ]
  },
  {
   "cell_type": "code",
   "execution_count": 18,
   "metadata": {
    "collapsed": true
   },
   "outputs": [],
   "source": [
    "import pandas as pd\n",
    "\n",
    "f = pd.ExcelFile('LM_Dirichlet.xlsx')\n",
    "\n",
    "\n",
    "x = f.parse(0)\n",
    "\n",
    "total_1 = (float)(x[x['Relevance'] == 1].shape[0])\n",
    "total_0 = (float)(x[x['Relevance'] == 0].shape[0])\n",
    "total = (float)(x.shape[0])\n",
    "\n",
    "\n",
    "model_name = 'LM_Dirichlet'\n",
    "places = 4\n",
    "wb = load_workbook('LM_Dirichlet.xlsx')\n",
    "ws1 = wb.create_sheet(title=\"evaluation\")\n",
    "\n",
    "ws1.append(['Docs considered', 'Precision/Recall', 'Model', 10, 50, 100, 500, 1000])\n",
    "\n",
    "\n",
    "for sheet in f.sheet_names:\n",
    "    \n",
    "    x = f.parse(sheet)\n",
    "    # precision 1\n",
    "    row = [1, 'P', model_name + ' :' + sheet]\n",
    "    for i in [10.0, 50.0, 100.0, 500.0, 1000.0]:\n",
    "        row.append(x[np.logical_and(x['Relevance'] == 1 , x['Rank'] <= i)].shape[0]/(i*10))\n",
    "    ws1.append(row);\n",
    "    p1 = row;\n",
    "    # precision 0\n",
    "    row = [0, 'P', model_name + ' :' + sheet]\n",
    "    for i in [10.0, 50.0, 100.0, 500.0, 1000.0]:\n",
    "        row.append(x[np.logical_and(x['Relevance'] == 0 , x['Rank'] <= i)].shape[0]/(i*10))    \n",
    "    ws1.append(row);\n",
    "    p0 = row;\n",
    "    #precision 10\n",
    "    row = [10, 'P', model_name + ' :' + sheet]\n",
    "    for i in [10.0, 50.0, 100.0, 500.0, 1000.0]:\n",
    "        row.append(x[x['Rank'] <= i].shape[0]/(i*10))  \n",
    "    ws1.append(row);\n",
    "    p10 = row;    \n",
    "    # recall 1\n",
    "    row = [1, 'R', model_name + ' :' + sheet]\n",
    "    for i in [10.0, 50.0, 100.0, 500.0, 1000.0]:\n",
    "        row.append(x[np.logical_and(x['Relevance'] == 1 , x['Rank'] <= i)].shape[0]/total_1)\n",
    "        row[-1] = round(row[-1],places)\n",
    "    ws1.append(row);\n",
    "    r1 = row;    \n",
    "    # recall 0\n",
    "    row = [0, 'R', model_name + ' :' + sheet]\n",
    "    for i in [10.0, 50.0, 100.0, 500.0, 1000.0]:\n",
    "        row.append(x[np.logical_and(x['Relevance'] == 0 , x['Rank'] <= i)].shape[0]/total_0)\n",
    "        row[-1] = round(row[-1],places)\n",
    "    ws1.append(row);\n",
    "    r0 = row;\n",
    "    #recall 10\n",
    "    row = [10, 'R', model_name + ' :' + sheet]\n",
    "    for i in [10.0, 50.0, 100.0, 500.0, 1000.0]:\n",
    "        row.append(x[x['Rank'] <= i].shape[0]/total)\n",
    "        row[-1] = round(row[-1],places)\n",
    "    ws1.append(row);\n",
    "    r10 = row;      \n",
    "    \n",
    "    \n",
    "    # F 1\n",
    "    row = [1, 'F', model_name + ' :' + sheet]\n",
    "    for i in [-5,-4,-3,-2,-1]:\n",
    "        if p1[i] == 0.0 :\n",
    "            row.append(0.0)\n",
    "        else:\n",
    "            row.append(hmean([p1[i],r1[i]]))\n",
    "        row[-1] = round(row[-1],places)\n",
    "    ws1.append(row);\n",
    "        \n",
    "    # F 0\n",
    "    row = [0, 'F', model_name + ' :' + sheet]\n",
    "    for i in [-5,-4,-3,-2,-1]:\n",
    "        if p0[i] == 0.0:\n",
    "            row.append(0.0)\n",
    "        else:\n",
    "            row.append(hmean([p0[i],r0[i]]))\n",
    "        row[-1] = round(row[-1],places)\n",
    "    ws1.append(row);\n",
    "    \n",
    "    # F 10\n",
    "    row = [10, 'F', model_name + ' :' + sheet]\n",
    "    for i  in [-5,-4,-3,-2,-1]:\n",
    "        if p10[i] == 0.0:\n",
    "            row.append(0.0)\n",
    "        else:\n",
    "            row.append(hmean([p10[i],r10[i]]))\n",
    "        row[-1] = round(row[-1],places)\n",
    "    ws1.append(row);\n",
    "        \n",
    "wb.save(filename = 'LM_Dirichlet.xlsx')"
   ]
  },
  {
   "cell_type": "code",
   "execution_count": 20,
   "metadata": {
    "collapsed": true
   },
   "outputs": [],
   "source": [
    "#Query wise\n",
    "\n",
    "import pandas as pd\n",
    "\n",
    "f = pd.ExcelFile('LM_Dirichlet.xlsx')\n",
    "\n",
    "from scipy.stats import hmean\n",
    "\n",
    "\n",
    "\n",
    "model_name = 'LM_Dirichlet'\n",
    "places = 4\n",
    "wb = load_workbook('LM_Dirichlet.xlsx')\n",
    "ws1 = wb.create_sheet(title=\"evaluation_Qwise\")\n",
    "\n",
    "ws1.append(['Query','Docs considered', 'Precision/Recall', 'Model', 10, 50, 100, 500, 1000])\n",
    "\n",
    "\n",
    "for sheet in f.sheet_names:\n",
    "    if(sheet == \"evaluation\"):\n",
    "        continue\n",
    "    for q in np.arange(1,11):\n",
    "\n",
    "        x = f.parse(sheet)\n",
    "        x = x[x['Query'] == q]\n",
    "        total_1 = (float)(x[x['Relevance'] == 1].shape[0])\n",
    "        total_0 = (float)(x[x['Relevance'] == 0].shape[0])\n",
    "        total = (float)(x.shape[0])\n",
    "        # precision 1\n",
    "        row = [q, 1, 'P', model_name + ' :' + sheet]\n",
    "        for i in [10.0, 50.0, 100.0, 500.0, 1000.0]:\n",
    "            row.append(x[np.logical_and(x['Relevance'] == 1 , x['Rank'] <= i)].shape[0]/i)\n",
    "        ws1.append(row);\n",
    "        p1 = row;\n",
    "        # precision 0\n",
    "        row = [q, 0, 'P', model_name + ' :' + sheet]\n",
    "        for i in [10.0, 50.0, 100.0, 500.0, 1000.0]:\n",
    "            row.append(x[np.logical_and(x['Relevance'] == 0 , x['Rank'] <= i)].shape[0]/i)    \n",
    "        ws1.append(row);\n",
    "        p0 = row;\n",
    "        #precision 10\n",
    "        row = [q, 10, 'P', model_name + ' :' + sheet]\n",
    "        for i in [10.0, 50.0, 100.0, 500.0, 1000.0]:\n",
    "            row.append(x[x['Rank'] <= i].shape[0]/i)  \n",
    "        ws1.append(row);\n",
    "        p10 = row;    \n",
    "        # recall 1\n",
    "        row = [q, 1, 'R', model_name + ' :' + sheet]\n",
    "        for i in [10.0, 50.0, 100.0, 500.0, 1000.0]:\n",
    "            row.append(x[np.logical_and(x['Relevance'] == 1 , x['Rank'] <= i)].shape[0]/total_1)\n",
    "            row[-1] = round(row[-1],places)\n",
    "        ws1.append(row);\n",
    "        r1 = row;    \n",
    "        # recall 0\n",
    "        row = [q, 0, 'R', model_name + ' :' + sheet]\n",
    "        for i in [10.0, 50.0, 100.0, 500.0, 1000.0]:\n",
    "            row.append(x[np.logical_and(x['Relevance'] == 0 , x['Rank'] <= i)].shape[0]/total_0)\n",
    "            row[-1] = round(row[-1],places)\n",
    "        ws1.append(row);\n",
    "        r0 = row;\n",
    "        #recall 10\n",
    "        row = [q, 10, 'R', model_name + ' :' + sheet]\n",
    "        for i in [10.0, 50.0, 100.0, 500.0, 1000.0]:\n",
    "            row.append(x[x['Rank'] <= i].shape[0]/total)\n",
    "            row[-1] = round(row[-1],places)\n",
    "        ws1.append(row);\n",
    "        r10 = row;      \n",
    "\n",
    "\n",
    "        # F 1\n",
    "        row = [q, 1, 'F', model_name + ' :' + sheet]\n",
    "        for i in [-5,-4,-3,-2,-1]:\n",
    "            if p1[i] == 0.0 :\n",
    "                row.append(0.0)\n",
    "            else:\n",
    "                row.append(hmean([p1[i],r1[i]]))\n",
    "            row[-1] = round(row[-1],places)\n",
    "        ws1.append(row);\n",
    "\n",
    "        # F 0\n",
    "        row = [q, 0, 'F', model_name + ' :' + sheet]\n",
    "        for i in [-5,-4,-3,-2,-1]:\n",
    "            if p0[i] == 0.0:\n",
    "                row.append(0.0)\n",
    "            else:\n",
    "                row.append(hmean([p0[i],r0[i]]))\n",
    "            row[-1] = round(row[-1],places)\n",
    "        ws1.append(row);\n",
    "\n",
    "        # F 10\n",
    "        row = [q, 10, 'F', model_name + ' :' + sheet]\n",
    "        for i  in [-5,-4,-3,-2,-1]:\n",
    "            if p10[i] == 0.0:\n",
    "                row.append(0.0)\n",
    "            else:\n",
    "                row.append(hmean([p10[i],r10[i]]))\n",
    "            row[-1] = round(row[-1],places)\n",
    "        ws1.append(row);\n",
    "        \n",
    "wb.save(filename = 'LM_Dirichlet.xlsx')"
   ]
  },
  {
   "cell_type": "code",
   "execution_count": 24,
   "metadata": {
    "collapsed": true
   },
   "outputs": [],
   "source": [
    "#Query wise Average precision\n",
    "\n",
    "def p_sum(z):\n",
    "    z = z.copy()\n",
    "    z.sort_values(inplace=True)\n",
    "    result = 0\n",
    "    for i,val in enumerate(z):\n",
    "        result += (i+1)/float(val) \n",
    "        #print result\n",
    "    return result\n",
    "\n",
    "\n",
    "import pandas as pd\n",
    "\n",
    "f = pd.ExcelFile('LM_Dirichlet.xlsx')\n",
    "\n",
    "from scipy.stats import hmean\n",
    "\n",
    "\n",
    "model_name = 'LM_Dirichlet'\n",
    "places = 4\n",
    "wb = load_workbook('LM_Dirichlet.xlsx')\n",
    "ws1 = wb.create_sheet(title=\"AP_Qwise\")\n",
    "\n",
    "ws1.append(['Query','Docs considered', 'Precision/Recall', 'Model', 1, 5 ,10, 25, 50, 100, 500, 1000])\n",
    "\n",
    "\n",
    "for sheet in f.sheet_names:\n",
    "    \n",
    "    if(sheet == \"evaluation\"or sheet == \"evaluation_Qwise\"):\n",
    "        continue\n",
    "    for q in np.arange(1,11):\n",
    "\n",
    "        x = f.parse(sheet)\n",
    "        x = x[x['Query'] == q]\n",
    "        total = {}\n",
    "        total[1] = (float)(x[x['Relevance'] == 1].shape[0])\n",
    "        total[0] = (float)(x[x['Relevance'] == 0].shape[0])\n",
    "        total[10] = (float)(x.shape[0])\n",
    "        \n",
    "        for rel in [1,0]:\n",
    "            # precision 1\n",
    "            row = [q, rel, 'AP', model_name + ' :' + sheet]\n",
    "            for i in [1.0, 5.0, 10.0, 25.0, 50.0, 100.0, 500.0, 1000.0]:\n",
    "                row.append(p_sum(x[np.logical_and(x['Relevance'] == rel, x['Rank'] <= i)]['Rank'])/total[rel])\n",
    "            ws1.append(row);\n",
    "\n",
    "        row = [q, 10, 'AP', model_name + ' :' + sheet]\n",
    "        for i in [1.0, 5.0, 10.0, 25.0, 50.0, 100.0, 500.0, 1000.0]:\n",
    "            row.append(p_sum(x[x['Rank'] <= i]['Rank'])/total[10])\n",
    "        ws1.append(row);\n",
    "wb.save(filename = 'LM_Dirichlet.xlsx')"
   ]
  },
  {
   "cell_type": "code",
   "execution_count": null,
   "metadata": {
    "collapsed": true
   },
   "outputs": [],
   "source": []
  },
  {
   "cell_type": "code",
   "execution_count": null,
   "metadata": {
    "collapsed": true
   },
   "outputs": [],
   "source": []
  },
  {
   "cell_type": "code",
   "execution_count": null,
   "metadata": {
    "collapsed": true
   },
   "outputs": [],
   "source": []
  },
  {
   "cell_type": "code",
   "execution_count": null,
   "metadata": {
    "collapsed": true
   },
   "outputs": [],
   "source": [
    "# given a corpus and document index and a query return intersecting words(scores from corpus) \n",
    "def common_words(index, query):\n",
    "    # quey words\n",
    "    q = [i[0] for i in dictionary.doc2bow(query)]   \n",
    "    q = set(q)\n",
    "    \n",
    "    return sorted([(dictionary.get(i[0]),i[1],j[1]) for i,j in zip(corpus[index],tfidf_corpus[index]) if i[0] in q], key= lambda x: x[1], reverse= True )        \n"
   ]
  },
  {
   "cell_type": "code",
   "execution_count": null,
   "metadata": {
    "collapsed": true
   },
   "outputs": [],
   "source": [
    "# uses ranklist\n",
    "# return top N documents and the respctive common words for every query given corpus\n",
    "def top_N(n, corp) :\n",
    "    top_results = [0]\n",
    "    for i in range(1,11):\n",
    "        x = sorted(range(len(rank_list[i])), key=lambda j: rank_list[i][j])[:n]\n",
    "        y = []\n",
    "        for j in x:\n",
    "            y.append([filenames[j],common_words(j, queries[i])])\n",
    "            \n",
    "        top_results.append(y)\n",
    "    return top_results"
   ]
  },
  {
   "cell_type": "code",
   "execution_count": null,
   "metadata": {
    "collapsed": true
   },
   "outputs": [],
   "source": [
    "# queries as bag of words\n",
    "# index starts from 1 for queries\n",
    "q_words = [0]\n",
    "for i,query in enumerate(files_to_tokens('LegalAdhocTask\\q*.txt')):\n",
    "    q_words.append(sorted([(dictionary.get(j[0]), j[1], k[1]) for j,k in zip(dictionary.doc2bow(query),tfidf[dictionary.doc2bow(query)])], reverse= True, key= lambda x:x[2]))"
   ]
  },
  {
   "cell_type": "code",
   "execution_count": null,
   "metadata": {
    "collapsed": true,
    "scrolled": false
   },
   "outputs": [],
   "source": [
    "# index starts from 1 for queries\n",
    "top_results = top_N(10,corpus)"
   ]
  },
  {
   "cell_type": "code",
   "execution_count": null,
   "metadata": {
    "collapsed": true,
    "scrolled": true
   },
   "outputs": [],
   "source": [
    "# ground truth ranks BoW query\n",
    "\n",
    "sorted(BQ['1'], key = lambda x: (-int(x[1]),x[3]))"
   ]
  },
  {
   "cell_type": "code",
   "execution_count": null,
   "metadata": {
    "collapsed": true,
    "scrolled": true
   },
   "outputs": [],
   "source": [
    "top_results[1]"
   ]
  },
  {
   "cell_type": "code",
   "execution_count": null,
   "metadata": {
    "collapsed": true
   },
   "outputs": [],
   "source": [
    "tfidf[dictionary.doc2bow([])]"
   ]
  },
  {
   "cell_type": "code",
   "execution_count": null,
   "metadata": {
    "collapsed": true,
    "scrolled": true
   },
   "outputs": [],
   "source": [
    "common_words(filenames.index( 'ConsumerCourt_DCDRC_118185' + '.txt'), queries[1])"
   ]
  },
  {
   "cell_type": "code",
   "execution_count": null,
   "metadata": {
    "collapsed": true
   },
   "outputs": [],
   "source": []
  }
 ],
 "metadata": {
  "kernelspec": {
   "display_name": "Python 2",
   "language": "python",
   "name": "python2"
  },
  "language_info": {
   "codemirror_mode": {
    "name": "ipython",
    "version": 2
   },
   "file_extension": ".py",
   "mimetype": "text/x-python",
   "name": "python",
   "nbconvert_exporter": "python",
   "pygments_lexer": "ipython2",
   "version": "2.7.13"
  }
 },
 "nbformat": 4,
 "nbformat_minor": 2
}
