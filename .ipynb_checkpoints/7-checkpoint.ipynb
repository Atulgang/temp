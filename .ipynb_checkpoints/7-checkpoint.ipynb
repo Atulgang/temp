{
 "cells": [
  {
   "cell_type": "code",
   "execution_count": 1,
   "metadata": {
    "collapsed": true
   },
   "outputs": [],
   "source": [
    "def only_alphabet(text):\n",
    "    return ''.join(i for i in text if (ord(i)<123 and ord(i)>96) or (ord(i)<91 and ord(i)>64) or ord(i)==32) "
   ]
  },
  {
   "cell_type": "code",
   "execution_count": 2,
   "metadata": {
    "collapsed": true
   },
   "outputs": [],
   "source": [
    "import logging\n",
    "logging.basicConfig(format='%(asctime)s : %(levelname)s : %(message)s', level=logging.INFO)"
   ]
  },
  {
   "cell_type": "code",
   "execution_count": 3,
   "metadata": {},
   "outputs": [
    {
     "name": "stderr",
     "output_type": "stream",
     "text": [
      "2018-01-04 19:30:37,413 : INFO : 'pattern' package not found; tag filters are not available for English\n"
     ]
    }
   ],
   "source": [
    "import nltk\n",
    "from nltk.tokenize import word_tokenize\n",
    "from stop_words import get_stop_words\n",
    "from nltk.stem import WordNetLemmatizer\n",
    "from gensim import corpora, models\n",
    "import gensim\n",
    "import glob2\n",
    "from itertools import chain\n",
    "import os\n",
    "import numpy as np\n",
    "import itertools\n",
    "from  scipy.stats import rankdata\n",
    "import copy\n"
   ]
  },
  {
   "cell_type": "code",
   "execution_count": 4,
   "metadata": {
    "collapsed": true
   },
   "outputs": [],
   "source": [
    "# get stopwords as set\n",
    "# get Vocabulary and remove words with length less than 3 \n",
    "# vocab is sorted in descending order \n",
    "\n",
    "en_stop = set(get_stop_words('en'))\n",
    "vocab  = open(\"wordsEn.txt\").read().splitlines()\n",
    "vocab = [i for i in vocab  if len(i)>2]\n",
    "vocab.sort(key=len, reverse=True)\n",
    "\n",
    "vocab_set = set(vocab)\n"
   ]
  },
  {
   "cell_type": "code",
   "execution_count": 5,
   "metadata": {
    "collapsed": true
   },
   "outputs": [],
   "source": [
    "full_filenames = []\n",
    "x= ['LegalAdhocTask/ConsumerCourtAdhocdata/DCDRC/**/*.txt','LegalAdhocTask/ConsumerCourtAdhocdata/NCDRC/**/*.txt','LegalAdhocTask/ConsumerCourtAdhocdata/SCDRC/**/*.txt', 'LegalAdhocTask/SC-HCAdhocData/DelhiHC/**/*.txt','LegalAdhocTask/SC-HCAdhocData/JharkhandHC/**/*.txt', 'LegalAdhocTask/SC-HCAdhocData/JodhpurHC/**/*.txt' ,'LegalAdhocTask/SC-HCAdhocData/KolkataHC/**/*.txt', 'LegalAdhocTask/SC-HCAdhocData/SupremeCourt/**/*.txt']\n",
    "for glob_filenames in x:\n",
    "    glob_filenames = os.path.normpath(glob_filenames)\n",
    "    for filename in sorted(glob2.glob(glob_filenames)):\n",
    "        full_filenames.append(filename)\n",
    "        if not os.path.isfile(filename):\n",
    "            print 'wtffff'\n",
    "            \n",
    "            \n",
    "filenames = []\n",
    "x= ['LegalAdhocTask/ConsumerCourtAdhocdata/DCDRC/**/*.txt','LegalAdhocTask/ConsumerCourtAdhocdata/NCDRC/**/*.txt','LegalAdhocTask/ConsumerCourtAdhocdata/SCDRC/**/*.txt', 'LegalAdhocTask/SC-HCAdhocData/DelhiHC/**/*.txt','LegalAdhocTask/SC-HCAdhocData/JharkhandHC/**/*.txt', 'LegalAdhocTask/SC-HCAdhocData/JodhpurHC/**/*.txt' ,'LegalAdhocTask/SC-HCAdhocData/KolkataHC/**/*.txt', 'LegalAdhocTask/SC-HCAdhocData/SupremeCourt/**/*.txt']\n",
    "for glob_filenames in x:\n",
    "    glob_filenames = os.path.normpath(glob_filenames)\n",
    "    for filename in sorted(glob2.glob(glob_filenames)):\n",
    "        filenames.append(os.path.basename(filename))\n",
    "        if not os.path.isfile(filename):\n",
    "            print 'wtffff'\n",
    "\n",
    "# \"yield\" for each file return token list  i.e list of lists\n",
    "def files_to_tokens(glob_filenames):\n",
    "    glob_filenames = os.path.normpath(glob_filenames)\n",
    "    lemmatizer = WordNetLemmatizer()\n",
    "    for filename in sorted(glob2.glob(glob_filenames)):\n",
    "        f = open(filename)\n",
    "        # read the whole file as lowercase string\n",
    "        string = only_alphabet(f.read()).lower()\n",
    "        \n",
    "        # tokenize that string\n",
    "        tokens =  word_tokenize(string)\n",
    "        \n",
    "        # remove stop words tokens and length two tokens\n",
    "        tokens = [lemmatizer.lemmatize(i) for i in tokens if i not in en_stop and len(i)>2]\n",
    "\n",
    "        #seperate words stuck together\n",
    "        for i,token in enumerate(tokens):\n",
    "            if token not in vocab_set:\n",
    "#                 print token\n",
    "                # both prefix and suffix incase one of the word is of len(2)\n",
    "                # prefix match\n",
    "                flag = 0\n",
    "                for j in range(len(token)-2,2,-1):\n",
    "                    if token[:j] in vocab_set:\n",
    "                            tokens.append(token[:j])\n",
    "                            tokens.append(token[j:])\n",
    "#                             print 'prefixx'\n",
    "#                             print token[:j], token[j:]\n",
    "                            del tokens[i]\n",
    "                            flag = 1\n",
    "                            break               \n",
    "                \n",
    "                if flag == 1:\n",
    "#                     print 'prefix milgaya'\n",
    "                    continue \n",
    "                # suffix match\n",
    "                flag = 0\n",
    "                for j in range(1,len(token)-2):\n",
    "                    if token[j:] in vocab_set:\n",
    "                            tokens.append(token[:j])\n",
    "                            tokens.append(token[j:])\n",
    "#                             print 'suffix'\n",
    "#                             print token[:j], token[j:]\n",
    "                            flag =1\n",
    "                            del tokens[i]                            \n",
    "                            break               \n",
    "#                 if flag == 0:\n",
    "#                     print 'couldnt break' \n",
    "        # again remove stop words and length two tokens AND WORDS not in vocab\n",
    "        tokens = [i for i in tokens if i not in en_stop and len(i)>2 and i in vocab_set]                \n",
    "        if len(tokens) == 0:\n",
    "            print \"empty document\"\n",
    "        yield tokens\n",
    "        f.close()\n",
    "\n",
    "        \n",
    "# yields token list for files specific to courts; needed for creating dictionaries\n",
    "class texts:\n",
    "    def DCDRC(self):\n",
    "        return files_to_tokens('LegalAdhocTask/ConsumerCourtAdhocdata/DCDRC/**/*.txt')\n",
    "    def NCDRC(self):\n",
    "        return files_to_tokens('LegalAdhocTask/ConsumerCourtAdhocdata/NCDRC/**/*.txt')\n",
    "    def SCDRC(self):\n",
    "        return files_to_tokens('LegalAdhocTask/ConsumerCourtAdhocdata/SCDRC/**/*.txt')\n",
    "    def DelhiHC(self):\n",
    "        return files_to_tokens('LegalAdhocTask/SC-HCAdhocData/DelhiHC/**/*.txt')\n",
    "    def JharkhandHC(self):\n",
    "        return files_to_tokens('LegalAdhocTask/SC-HCAdhocData/JharkhandHC/**/*.txt')\n",
    "    def JodhpurHC(self):\n",
    "        return files_to_tokens('LegalAdhocTask/SC-HCAdhocData/JodhpurHC/**/*.txt')\n",
    "    def KolkataHC(self):\n",
    "        return files_to_tokens('LegalAdhocTask/SC-HCAdhocData/KolkataHC/**/*.txt')\n",
    "    def SupremeCourt(self):\n",
    "        return files_to_tokens('LegalAdhocTask/SC-HCAdhocData/SupremeCourt/**/*.txt')\n",
    "\n",
    "# yields bow for each file - tuples id,fq ; needed to train models   \n",
    "class my_corpus:    \n",
    "    def DCDRC(self):\n",
    "        for text in files_to_tokens('LegalAdhocTask/ConsumerCourtAdhocdata/DCDRC/*.txt'):\n",
    "            yield dictionary.doc2bow(text)\n",
    "    def NCDRC(self):\n",
    "        for text in files_to_tokens('LegalAdhocTask/ConsumerCourtAdhocdata/NCDRC/**/*.txt'):\n",
    "            yield dictionary.doc2bow(text)            \n",
    "    def SCDRC(self):\n",
    "        for text in files_to_tokens('LegalAdhocTask/ConsumerCourtAdhocdata/SCDRC/**/*.txt'):\n",
    "            yield dictionary.doc2bow(text)\n",
    "    def DelhiHC(self):\n",
    "        for text in files_to_tokens('LegalAdhocTask/SC-HCAdhocData/DelhiHC/**/*.txt'):\n",
    "            yield dictionary.doc2bow(text)\n",
    "    def JharkhandHC(self):\n",
    "        for text in files_to_tokens('LegalAdhocTask/SC-HCAdhocData/JharkhandHC/**/*.txt'):\n",
    "            yield dictionary.doc2bow(text)\n",
    "    def JodhpurHC(self):\n",
    "        for text in  files_to_tokens('LegalAdhocTask/SC-HCAdhocData/JodhpurHC/**/*.txt'):\n",
    "            yield dictionary.doc2bow(text)\n",
    "    def KolkataHC(self):\n",
    "        for text in  files_to_tokens('LegalAdhocTask/SC-HCAdhocData/KolkataHC/**/*.txt'):\n",
    "            yield dictionary.doc2bow(text)\n",
    "    def SupremeCourt(self):\n",
    "        for text in  files_to_tokens('LegalAdhocTask/SC-HCAdhocData/SupremeCourt/**/*.txt'):\n",
    "            yield dictionary.doc2bow(text)\n",
    "    def everything(self):\n",
    "        return chain(self.DCDRC(), self.NCDRC(), self.SCDRC(), self.DelhiHC(),\n",
    "                     self.JharkhandHC(), self.JodhpurHC(), self.KolkataHC(), self.SupremeCourt())\n",
    "        \n",
    "        "
   ]
  },
  {
   "cell_type": "code",
   "execution_count": 6,
   "metadata": {
    "scrolled": true
   },
   "outputs": [
    {
     "name": "stderr",
     "output_type": "stream",
     "text": [
      "2018-01-04 19:30:53,205 : INFO : loading Dictionary object from newdictionary\n",
      "2018-01-04 19:30:53,217 : INFO : loaded newdictionary\n"
     ]
    }
   ],
   "source": [
    "#################################### laod the dictinary\n",
    "dictionary = corpora.Dictionary.load('newdictionary')"
   ]
  },
  {
   "cell_type": "code",
   "execution_count": 7,
   "metadata": {
    "scrolled": false
   },
   "outputs": [
    {
     "name": "stderr",
     "output_type": "stream",
     "text": [
      "2018-01-04 19:30:53,671 : INFO : loaded corpus index from newcorpus.mm.index\n",
      "2018-01-04 19:30:53,672 : INFO : initializing corpus reader from newcorpus.mm\n",
      "2018-01-04 19:30:53,673 : INFO : accepted corpus with 351985 documents, 35955 features, 88778565 non-zero entries\n"
     ]
    }
   ],
   "source": [
    "######################################## load BOW\n",
    "corpus = corpora.MmCorpus('newcorpus.mm')"
   ]
  },
  {
   "cell_type": "code",
   "execution_count": 8,
   "metadata": {
    "collapsed": true
   },
   "outputs": [],
   "source": [
    "# get the query truth in dictionary\n",
    "query_truth = {}\n",
    "for i in range(1,11):\n",
    "    query_truth[str(i)]=[]\n",
    "    \n",
    "    \n",
    "f = open('LegalAdhocTask/Consumer.qrels')\n",
    "lines = [line.rstrip('\\n').split(\"\\t\") for line in f]\n",
    "for line in lines:\n",
    "    del line[1]\n",
    "    query_truth[line[0]].append(line[1:])\n"
   ]
  },
  {
   "cell_type": "code",
   "execution_count": 9,
   "metadata": {
    "collapsed": true
   },
   "outputs": [],
   "source": [
    "import cPickle as pickle\n",
    "\n",
    "# load p_C\n",
    "with open('p_C.pkl', 'rb') as ip:\n",
    "    p_C = pickle.load(ip)"
   ]
  },
  {
   "cell_type": "code",
   "execution_count": 10,
   "metadata": {
    "collapsed": true
   },
   "outputs": [],
   "source": [
    "# load doc_len\n",
    "with open('doc_len.pkl', 'rb') as ip:\n",
    "    doc_len = pickle.load(ip)"
   ]
  },
  {
   "cell_type": "code",
   "execution_count": 11,
   "metadata": {
    "collapsed": true
   },
   "outputs": [],
   "source": [
    "\n",
    "import math\n",
    "from six import iteritems\n",
    "from six.moves import xrange\n",
    "\n",
    "\n",
    "# Dirichlet parameter\n",
    "MU = 2000\n",
    "\n",
    "\n",
    "class Dirichlet(object):\n",
    "\n",
    "    def __init__(self, corpus):\n",
    "        self.corpus = corpus\n",
    "        self.corpus_size = dictionary.num_docs\n",
    "\n",
    "    # document here refers to query , index is of the document in the corpus\n",
    "    def get_score(self, query, index, query_len):\n",
    "        # as a python dict\n",
    "        index_doc = dict(self.corpus[index])\n",
    "        score = 0\n",
    "        for word,freq in query:\n",
    "            if word not in index_doc:\n",
    "                continue\n",
    "            score += math.log( 1 + index_doc[word]/ (MU * p_C[word]) )\n",
    "        return score + query_len * math.log(MU/(doc_len[index] + MU))\n",
    "\n",
    "    def get_scores(self, query):\n",
    "        scores = []\n",
    "        query_len = 0\n",
    "        for word, freq in query:\n",
    "            query_len += freq\n",
    "        for index in xrange(self.corpus_size):\n",
    "            score = self.get_score(query, index, query_len)\n",
    "            scores.append(score)\n",
    "        return scores\n",
    "\n"
   ]
  },
  {
   "cell_type": "code",
   "execution_count": 12,
   "metadata": {
    "collapsed": true
   },
   "outputs": [],
   "source": [
    "# run it once for initializing the idf \n",
    "D = Dirichlet(corpus)"
   ]
  },
  {
   "cell_type": "code",
   "execution_count": 13,
   "metadata": {
    "collapsed": true
   },
   "outputs": [],
   "source": [
    "MU = 2000"
   ]
  },
  {
   "cell_type": "code",
   "execution_count": 14,
   "metadata": {
    "scrolled": true
   },
   "outputs": [
    {
     "name": "stdout",
     "output_type": "stream",
     "text": [
      "0\n",
      "1\n",
      "2\n",
      "3\n",
      "4\n",
      "5\n",
      "6\n",
      "7\n",
      "8\n",
      "9\n"
     ]
    }
   ],
   "source": [
    "tfidf_results = copy.deepcopy(query_truth)\n",
    "\n",
    "sim_list = [0]\n",
    "rank_list = [0]\n",
    "queries = [0]\n",
    "for i,query in enumerate(files_to_tokens('LegalAdhocTask/q*.txt')):\n",
    "    queries.append(query)\n",
    "    sims = D.get_scores(dictionary.doc2bow(query))\n",
    "    sim_list.append(sims)\n",
    "    # rank of every document wrt similarity\n",
    "    ranks = rankdata(sims, method='ordinal')\n",
    "    ranks= len(ranks)+1 - ranks \n",
    "    rank_list.append(ranks)\n",
    "    \n",
    "    # update the query truth tuples with similarity score and the ranks\n",
    "    for x in tfidf_results[str(i+1)]:\n",
    "        x.append(sims[filenames.index(x[0]+'.txt')])\n",
    "        x.append(ranks[filenames.index(x[0]+'.txt')])\n",
    "        #x.append(common_words(filenames.index(x[0]+'.txt'), tfidf_corpus, query))\n",
    "    print i\n",
    "    # sort wrt relevance(from truth) and then ranks(from our model)\n",
    "    #tfidf_results[str(i+1)].sort(key=lambda x: (-int(x[1]),x[3]))     \n",
    "    \n",
    "        "
   ]
  },
  {
   "cell_type": "code",
   "execution_count": 15,
   "metadata": {
    "scrolled": true
   },
   "outputs": [
    {
     "data": {
      "text/plain": [
       "{'1': [['ConsumerCourt_DCDRC_100385', '1', 10.22582131999477, 239],\n",
       "  ['ConsumerCourt_DCDRC_106530', '0', 14.404844018752994, 48],\n",
       "  ['ConsumerCourt_DCDRC_107608', '1', 0.5760067535820568, 5943],\n",
       "  ['ConsumerCourt_DCDRC_114291', '1', -9.198467035394607, 220183],\n",
       "  ['ConsumerCourt_DCDRC_114382', '1', 1.8758934568194547, 3156],\n",
       "  ['ConsumerCourt_DCDRC_118185', '1', 4.455815875576526, 1352],\n",
       "  ['ConsumerCourt_DCDRC_130318', '0', 17.990907958761724, 14],\n",
       "  ['ConsumerCourt_DCDRC_130570', '1', 9.180866921085503, 315],\n",
       "  ['ConsumerCourt_DCDRC_131146', '1', 8.970320387906781, 329],\n",
       "  ['ConsumerCourt_DCDRC_131717', '1', 10.860532155532095, 195],\n",
       "  ['ConsumerCourt_DCDRC_131741', '1', 10.127405008093966, 244],\n",
       "  ['ConsumerCourt_DCDRC_131818', '1', 18.175809066945924, 12],\n",
       "  ['ConsumerCourt_DCDRC_131950', '0', 3.0993510791723935, 2074],\n",
       "  ['ConsumerCourt_DCDRC_131972', '0', 21.32006344073138, 5],\n",
       "  ['ConsumerCourt_DCDRC_132932', '0', 16.27626211664984, 27],\n",
       "  ['ConsumerCourt_DCDRC_133592', '1', 17.001451434682, 18],\n",
       "  ['ConsumerCourt_DCDRC_134386', '0', 14.60259545491508, 44],\n",
       "  ['ConsumerCourt_DCDRC_135474', '1', 7.933125964644537, 468],\n",
       "  ['ConsumerCourt_DCDRC_139024', '0', 16.081715644954446, 28],\n",
       "  ['ConsumerCourt_DCDRC_139205', '0', 14.129040914797532, 54],\n",
       "  ['ConsumerCourt_DCDRC_140039', '1', 14.167672952308505, 52],\n",
       "  ['ConsumerCourt_DCDRC_145708', '0', 13.88941058526251, 57],\n",
       "  ['ConsumerCourt_DCDRC_187214', '1', 15.42337411341359, 32],\n",
       "  ['ConsumerCourt_DCDRC_207784', '1', 7.504653454673917, 525],\n",
       "  ['ConsumerCourt_DCDRC_217344', '1', 18.155481784178573, 13],\n",
       "  ['ConsumerCourt_DCDRC_217471', '1', 12.53094248740201, 102],\n",
       "  ['ConsumerCourt_DCDRC_222797', '0', 16.33443005629573, 26],\n",
       "  ['ConsumerCourt_DCDRC_222844', '1', 22.9588618773499, 2],\n",
       "  ['ConsumerCourt_DCDRC_224228', '0', 8.244815149175292, 420],\n",
       "  ['ConsumerCourt_DCDRC_224833', '0', 16.70035371374807, 21],\n",
       "  ['ConsumerCourt_DCDRC_226072', '1', 10.363983923442792, 227],\n",
       "  ['ConsumerCourt_DCDRC_38498', '0', 20.939665624277872, 6],\n",
       "  ['ConsumerCourt_DCDRC_39186', '1', 15.604922332512704, 31],\n",
       "  ['ConsumerCourt_DCDRC_41317', '1', 7.40018779546236, 536],\n",
       "  ['ConsumerCourt_DCDRC_41588', '1', 23.309451638637057, 1],\n",
       "  ['ConsumerCourt_DCDRC_42118', '1', 12.522446705800277, 103],\n",
       "  ['ConsumerCourt_DCDRC_42618', '1', 15.265283058344341, 34],\n",
       "  ['ConsumerCourt_DCDRC_42649', '1', 17.338975177899016, 17],\n",
       "  ['ConsumerCourt_DCDRC_44200', '1', 16.582529061402816, 24],\n",
       "  ['ConsumerCourt_DCDRC_46368', '1', 12.90470970182818, 92],\n",
       "  ['ConsumerCourt_DCDRC_46519', '1', 21.882838616876494, 4],\n",
       "  ['ConsumerCourt_DCDRC_46543', '1', 15.20161286431831, 37],\n",
       "  ['ConsumerCourt_DCDRC_53138', '1', 17.45493605518239, 16],\n",
       "  ['ConsumerCourt_DCDRC_55517', '1', 14.801900398194626, 42],\n",
       "  ['ConsumerCourt_DCDRC_55612', '1', 14.270072131786424, 49],\n",
       "  ['ConsumerCourt_DCDRC_55678', '1', 13.75798992874013, 62],\n",
       "  ['ConsumerCourt_DCDRC_55899', '1', 18.651187128958526, 10],\n",
       "  ['ConsumerCourt_DCDRC_57484', '0', 18.403092527056838, 11],\n",
       "  ['ConsumerCourt_DCDRC_74868', '1', 7.57040110322594, 518],\n",
       "  ['ConsumerCourt_DCDRC_80057', '1', 15.098264358471786, 40],\n",
       "  ['ConsumerCourt_DCDRC_83596', '0', 15.224381853297688, 35],\n",
       "  ['ConsumerCourt_DCDRC_83779', '0', 16.602123496712075, 23],\n",
       "  ['ConsumerCourt_DCDRC_96667', '1', 22.649015785826787, 3],\n",
       "  ['ConsumerCourt_DCDRC_98733', '1', 13.86775490262151, 59],\n",
       "  ['ConsumerCourt_SCDRC_52678', '0', 7.281592382472079, 559],\n",
       "  ['DelhiHC_2011_4267', '0', -3.9300905073516006, 133477],\n",
       "  ['KolkataHCOriginalSite_2012_36', '0', -16.9398244566714, 299659]],\n",
       " '10': [['ConsumerCourt_DCDRC_220958', '0', 14.704940444214387, 10],\n",
       "  ['ConsumerCourt_DCDRC_222509', '0', 2.9606428910996705, 360],\n",
       "  ['ConsumerCourt_DCDRC_223570', '0', 14.511924572741137, 11],\n",
       "  ['ConsumerCourt_DCDRC_227314', '0', 12.68244646066296, 13],\n",
       "  ['ConsumerCourt_DCDRC_228688', '1', 25.253013353312607, 4],\n",
       "  ['ConsumerCourt_DCDRC_235883', '0', 17.11679571609852, 7],\n",
       "  ['ConsumerCourt_DCDRC_38192', '0', 24.943578894055975, 5],\n",
       "  ['ConsumerCourt_DCDRC_41485', '0', 11.12465421286204, 16],\n",
       "  ['ConsumerCourt_DCDRC_41489', '0', 11.12465421286204, 15],\n",
       "  ['ConsumerCourt_DCDRC_41520', '0', 12.2306584649223, 14],\n",
       "  ['ConsumerCourt_SCDRC_44836', '0', 17.08144921322667, 8],\n",
       "  ['ConsumerCourt_SCDRC_56350', '0', 31.893121240384065, 2],\n",
       "  ['ConsumerCourt_SCDRC_65898', '0', 7.883872658484616, 31],\n",
       "  ['ConsumerCourt_SCDRC_68718', '0', 29.790430627931517, 3],\n",
       "  ['ConsumerCourt_SCDRC_69937', '1', 92.51946486574313, 1],\n",
       "  ['ConsumerCourt_SCDRC_70632', '0', 19.428132356947458, 6],\n",
       "  ['DelhiHC_2008_2771', '0', -94.04233163580614, 351786],\n",
       "  ['DelhiHC_2008_2772', '0', -94.04233163580614, 351785]],\n",
       " '2': [['ConsumerCourt_DCDRC_103241', '0', -32.65522162409229, 319702],\n",
       "  ['ConsumerCourt_DCDRC_107786', '1', 9.845775310954668, 31],\n",
       "  ['ConsumerCourt_DCDRC_114305', '1', -24.293344299487543, 292637],\n",
       "  ['ConsumerCourt_DCDRC_120930', '1', -4.3418206235853205, 103084],\n",
       "  ['ConsumerCourt_DCDRC_123490', '1', -3.7683877957280174, 92873],\n",
       "  ['ConsumerCourt_DCDRC_125352', '1', -21.66592173555179, 279028],\n",
       "  ['ConsumerCourt_DCDRC_127791', '0', 17.018914160858934, 2],\n",
       "  ['ConsumerCourt_DCDRC_130071', '0', -3.971823627864868, 96693],\n",
       "  ['ConsumerCourt_DCDRC_130920', '1', -2.391015656753858, 58184],\n",
       "  ['ConsumerCourt_DCDRC_131972', '0', -16.00700045763373, 236703],\n",
       "  ['ConsumerCourt_DCDRC_133106', '1', -7.090635640411392, 139719],\n",
       "  ['ConsumerCourt_DCDRC_133260', '0', 8.020364571061858, 52],\n",
       "  ['ConsumerCourt_DCDRC_143284', '1', -7.500266529115606, 144432],\n",
       "  ['ConsumerCourt_DCDRC_143334', '0', 7.545038265599544, 64],\n",
       "  ['ConsumerCourt_DCDRC_144440', '0', -5.280407649642008, 116935],\n",
       "  ['ConsumerCourt_DCDRC_202900', '0', 0.5650987004966161, 2065],\n",
       "  ['ConsumerCourt_DCDRC_202903', '0', 3.9521461972875915, 270],\n",
       "  ['ConsumerCourt_DCDRC_207376', '1', 17.18094639042087, 1],\n",
       "  ['ConsumerCourt_DCDRC_212601', '0', -12.040361378054499, 196516],\n",
       "  ['ConsumerCourt_DCDRC_212692', '1', -0.4499366179832833, 9880],\n",
       "  ['ConsumerCourt_DCDRC_214518', '1', 11.952088973347564, 17],\n",
       "  ['ConsumerCourt_DCDRC_226924', '0', 7.12276537865157, 77],\n",
       "  ['ConsumerCourt_DCDRC_227866', '1', 0.8603885551952359, 1694],\n",
       "  ['ConsumerCourt_DCDRC_228749', '1', 13.316826758988853, 7],\n",
       "  ['ConsumerCourt_DCDRC_229221', '0', 6.709357218873837, 89],\n",
       "  ['ConsumerCourt_DCDRC_230361', '1', 1.0330365239817993, 1487],\n",
       "  ['ConsumerCourt_DCDRC_41190', '0', -2.462111809553619, 60187],\n",
       "  ['ConsumerCourt_DCDRC_50671', '1', -7.498582189667953, 144399],\n",
       "  ['ConsumerCourt_DCDRC_52620', '1', -4.748421965623876, 109484],\n",
       "  ['ConsumerCourt_DCDRC_53093', '1', 12.786912240570096, 12],\n",
       "  ['ConsumerCourt_DCDRC_53138', '0', 12.044647108605979, 15],\n",
       "  ['ConsumerCourt_DCDRC_53153', '1', 12.943794267179896, 10],\n",
       "  ['ConsumerCourt_DCDRC_53432', '0', 6.761449980734284, 86],\n",
       "  ['ConsumerCourt_DCDRC_53875', '0', -2.073084388043185, 49323],\n",
       "  ['ConsumerCourt_DCDRC_53881', '0', -2.073084388043185, 49322],\n",
       "  ['ConsumerCourt_DCDRC_56471', '1', 3.9534468241316105, 269],\n",
       "  ['ConsumerCourt_DCDRC_56761', '0', -6.301498329574137, 130101],\n",
       "  ['ConsumerCourt_DCDRC_57453', '0', -6.0428235727851245, 126895],\n",
       "  ['ConsumerCourt_DCDRC_57583', '0', -14.887936925446951, 226193],\n",
       "  ['ConsumerCourt_DCDRC_62986', '0', 7.990515943303759, 54],\n",
       "  ['ConsumerCourt_DCDRC_63724', '0', -3.237110822660412, 81346],\n",
       "  ['ConsumerCourt_DCDRC_68765', '0', -0.696026835940021, 14154],\n",
       "  ['ConsumerCourt_DCDRC_68808', '0', -2.0089962569449114, 47509],\n",
       "  ['ConsumerCourt_DCDRC_69863', '0', 0.5504643290828888, 2089],\n",
       "  ['ConsumerCourt_DCDRC_74887', '0', -0.6049415606222368, 12564],\n",
       "  ['ConsumerCourt_DCDRC_75562', '0', -3.2700038218249965, 81988],\n",
       "  ['ConsumerCourt_DCDRC_76114', '0', -2.219199644036973, 53402],\n",
       "  ['ConsumerCourt_DCDRC_76186', '0', -1.4984461891320873, 32508],\n",
       "  ['ConsumerCourt_DCDRC_76270', '0', 1.9672266840755501, 651],\n",
       "  ['ConsumerCourt_DCDRC_77085', '1', 3.517760527522924, 317],\n",
       "  ['ConsumerCourt_DCDRC_77280', '0', 2.031761678653332, 625],\n",
       "  ['ConsumerCourt_DCDRC_77935', '1', 5.3927202281644355, 147],\n",
       "  ['ConsumerCourt_DCDRC_87186', '0', 1.3066059915276806, 1121],\n",
       "  ['ConsumerCourt_DCDRC_91864', '1', 0.5959517226229458, 2010],\n",
       "  ['ConsumerCourt_DCDRC_96244', '1', -0.33629652719458036, 7592],\n",
       "  ['ConsumerCourt_NCDRC_1317', '0', 1.4556601108111415, 960],\n",
       "  ['ConsumerCourt_SCDRC_49685', '0', 5.374329530176244, 150],\n",
       "  ['ConsumerCourt_SCDRC_60064', '1', -4.442587308209603, 104716],\n",
       "  ['ConsumerCourt_SCDRC_62062', '1', -12.50572248960938, 201535]],\n",
       " '3': [['ConsumerCourt_DCDRC_103355', '0', -61.84891364722317, 331587],\n",
       "  ['ConsumerCourt_DCDRC_129293', '1', 4.451597572224845, 15],\n",
       "  ['ConsumerCourt_DCDRC_133013', '1', -17.972201120059964, 181827],\n",
       "  ['ConsumerCourt_DCDRC_133017', '0', -38.15536389074282, 290370],\n",
       "  ['ConsumerCourt_DCDRC_137661', '0', -19.9375368899412, 195840],\n",
       "  ['ConsumerCourt_DCDRC_153064', '0', -66.02829834251044, 334961],\n",
       "  ['ConsumerCourt_DCDRC_187619', '1', 0.00409722485627384, 1696],\n",
       "  ['ConsumerCourt_DCDRC_200840', '0', -1.901678457838294, 27945],\n",
       "  ['ConsumerCourt_DCDRC_222260', '1', -2.9153354192885033, 45201],\n",
       "  ['ConsumerCourt_DCDRC_222772', '1', -22.30391389677898, 212451],\n",
       "  ['ConsumerCourt_DCDRC_223618', '1', 6.269368057985766, 6],\n",
       "  ['ConsumerCourt_DCDRC_228476', '0', 13.717078413580484, 2],\n",
       "  ['ConsumerCourt_DCDRC_228963', '1', 22.969779220299433, 1],\n",
       "  ['ConsumerCourt_DCDRC_230634', '1', 4.762521159720016, 11],\n",
       "  ['ConsumerCourt_DCDRC_235824', '0', 1.268633949532866, 274],\n",
       "  ['ConsumerCourt_DCDRC_45666', '0', 0.3046683332542415, 1132],\n",
       "  ['ConsumerCourt_DCDRC_47493', '1', -11.801159574933127, 138559],\n",
       "  ['ConsumerCourt_DCDRC_52566', '0', -8.290665173142045, 113565],\n",
       "  ['ConsumerCourt_DCDRC_73184', '0', -20.050000291221252, 196651],\n",
       "  ['ConsumerCourt_DCDRC_73185', '0', -21.47277890862409, 206721],\n",
       "  ['ConsumerCourt_NCDRC_2861', '1', -40.805637658604425, 298166],\n",
       "  ['ConsumerCourt_NCDRC_2902', '0', -37.69134703760646, 288832],\n",
       "  ['ConsumerCourt_NCDRC_2979', '0', -32.57862129363261, 269498],\n",
       "  ['ConsumerCourt_NCDRC_632', '0', -28.967652821707603, 252347],\n",
       "  ['ConsumerCourt_NCDRC_637', '0', -28.95534959991, 252291],\n",
       "  ['ConsumerCourt_SCDRC_2052', '0', -12.814220740297493, 145535],\n",
       "  ['ConsumerCourt_SCDRC_22704', '0', -22.46113681154386, 213550],\n",
       "  ['ConsumerCourt_SCDRC_29484', '0', -53.44172688474187, 322461],\n",
       "  ['ConsumerCourt_SCDRC_29552', '0', -47.202383332285834, 312496],\n",
       "  ['ConsumerCourt_SCDRC_30176', '0', -3.294062528323618, 50544],\n",
       "  ['ConsumerCourt_SCDRC_48394', '0', -10.320975336446132, 128251],\n",
       "  ['ConsumerCourt_SCDRC_63569', '0', -58.86643927136738, 328897],\n",
       "  ['ConsumerCourt_SCDRC_63609', '0', 4.543055538769785, 14],\n",
       "  ['ConsumerCourt_SCDRC_65919', '0', 4.715458094620814, 13],\n",
       "  ['ConsumerCourt_SCDRC_66200', '0', -11.897964774234609, 139235],\n",
       "  ['ConsumerCourt_SCDRC_69801', '0', -5.945168774986286, 92715],\n",
       "  ['ConsumerCourt_SCDRC_814', '0', -16.02929282946367, 167899],\n",
       "  ['DelhiHC_2012_388', '0', -48.320608725045815, 314519]],\n",
       " '4': [['ConsumerCourt_DCDRC_106570', '0', 7.309079544848403, 63],\n",
       "  ['ConsumerCourt_DCDRC_116129', '1', -1.0488755031566903, 53426],\n",
       "  ['ConsumerCourt_DCDRC_128836', '0', -1.2528403465222766, 62275],\n",
       "  ['ConsumerCourt_DCDRC_130725', '1', -0.887013160688408, 44987],\n",
       "  ['ConsumerCourt_DCDRC_133137', '0', 5.56523816474062, 134],\n",
       "  ['ConsumerCourt_DCDRC_173376', '0', -0.20333096819604535, 13445],\n",
       "  ['ConsumerCourt_DCDRC_174292', '0', 4.249896833551757, 274],\n",
       "  ['ConsumerCourt_DCDRC_174300', '1', 8.319690829699601, 38],\n",
       "  ['ConsumerCourt_DCDRC_202903', '0', 0.008644841334288778, 7065],\n",
       "  ['ConsumerCourt_DCDRC_205816', '1', 4.908547907879843, 186],\n",
       "  ['ConsumerCourt_DCDRC_207155', '0', 6.07021665113283, 100],\n",
       "  ['ConsumerCourt_DCDRC_207197', '0', 6.45601058646313, 83],\n",
       "  ['ConsumerCourt_DCDRC_212467', '1', 2.973018381899905, 613],\n",
       "  ['ConsumerCourt_DCDRC_213156', '0', 13.148286306254283, 1],\n",
       "  ['ConsumerCourt_DCDRC_213473', '0', 12.79849641676682, 3],\n",
       "  ['ConsumerCourt_DCDRC_213784', '0', 10.465439808631503, 9],\n",
       "  ['ConsumerCourt_DCDRC_214475', '0', 8.40024078551522, 36],\n",
       "  ['ConsumerCourt_DCDRC_218582', '0', 7.519913264185391, 53],\n",
       "  ['ConsumerCourt_DCDRC_221177', '0', 8.512290042546468, 34],\n",
       "  ['ConsumerCourt_DCDRC_221424', '0', 0.17080017329987562, 5586],\n",
       "  ['ConsumerCourt_DCDRC_223275', '0', 2.839511799563425, 659],\n",
       "  ['ConsumerCourt_DCDRC_226909', '0', 2.905368585954257, 637],\n",
       "  ['ConsumerCourt_DCDRC_227099', '0', 11.5973147791772, 5],\n",
       "  ['ConsumerCourt_DCDRC_229902', '0', 4.862340764643779, 188],\n",
       "  ['ConsumerCourt_DCDRC_47636', '0', 3.2492679830171287, 512],\n",
       "  ['ConsumerCourt_DCDRC_49131', '0', 9.971625600256779, 18],\n",
       "  ['ConsumerCourt_DCDRC_51881', '0', 7.1858443111611905, 66],\n",
       "  ['ConsumerCourt_DCDRC_52357', '0', 10.446418406315871, 10],\n",
       "  ['ConsumerCourt_DCDRC_53202', '0', 9.580471827589198, 20],\n",
       "  ['ConsumerCourt_DCDRC_53580', '1', 9.419971074086543, 22],\n",
       "  ['ConsumerCourt_DCDRC_54056', '1', 4.01079433874639, 337],\n",
       "  ['ConsumerCourt_DCDRC_70122', '0', 1.6303035702401374, 1436],\n",
       "  ['ConsumerCourt_DCDRC_73309', '0', 10.356774922561158, 13],\n",
       "  ['ConsumerCourt_NCDRC_2154', '0', -4.55085708322755, 165413],\n",
       "  ['ConsumerCourt_NCDRC_3506', '0', 1.8169680094898464, 1261],\n",
       "  ['ConsumerCourt_SCDRC_1143', '1', 6.922869738416946, 70],\n",
       "  ['ConsumerCourt_SCDRC_1288', '1', 4.262154000477512, 270],\n",
       "  ['ConsumerCourt_SCDRC_22830', '0', -4.011778402543049, 152993],\n",
       "  ['ConsumerCourt_SCDRC_37679', '1', 4.4916428984043115, 235],\n",
       "  ['ConsumerCourt_SCDRC_471', '0', 5.5581424887161415, 135],\n",
       "  ['ConsumerCourt_SCDRC_49973', '1', 10.475731000131795, 8],\n",
       "  ['ConsumerCourt_SCDRC_5406', '0', -0.6400474845275888, 31829],\n",
       "  ['ConsumerCourt_SCDRC_7046', '1', 9.299937429283833, 25],\n",
       "  ['DelhiHC_2012_3856', '0', 5.693471100498158, 126],\n",
       "  ['SupremeCourt_2009_1421', '0', -27.107361406803882, 342357]],\n",
       " '5': [['ConsumerCourt_DCDRC_124651', '0', -11.145913538137204, 190269],\n",
       "  ['ConsumerCourt_DCDRC_138545', '0', 0.6962409982206736, 2067],\n",
       "  ['ConsumerCourt_DCDRC_139183', '0', -3.642031194282829, 93189],\n",
       "  ['ConsumerCourt_DCDRC_141380', '0', -17.988546532072988, 259782],\n",
       "  ['ConsumerCourt_DCDRC_148691', '1', 0.1591234041878522, 4275],\n",
       "  ['ConsumerCourt_DCDRC_202903', '0', -0.549879775851422, 16647],\n",
       "  ['ConsumerCourt_DCDRC_208296', '0', -3.5771799433182068, 91845],\n",
       "  ['ConsumerCourt_DCDRC_223817', '0', -4.009267583885304, 99994],\n",
       "  ['ConsumerCourt_DCDRC_226994', '0', 6.146663617324183, 7],\n",
       "  ['ConsumerCourt_DCDRC_229911', '1', -8.762183048595965, 161404],\n",
       "  ['ConsumerCourt_DCDRC_41155', '1', -3.2948549787438246, 85472],\n",
       "  ['ConsumerCourt_DCDRC_41262', '0', -18.29561283861158, 262068],\n",
       "  ['ConsumerCourt_DCDRC_41428', '0', 2.6789982225701117, 122],\n",
       "  ['ConsumerCourt_DCDRC_42411', '0', -16.510232682281348, 247298],\n",
       "  ['ConsumerCourt_DCDRC_46404', '0', -9.53885584595512, 170812],\n",
       "  ['ConsumerCourt_DCDRC_53679', '1', -24.676978486758266, 298524],\n",
       "  ['ConsumerCourt_DCDRC_57315', '1', -11.854143613937186, 198660],\n",
       "  ['ConsumerCourt_DCDRC_57465', '0', -15.11502648549181, 234235],\n",
       "  ['ConsumerCourt_DCDRC_57488', '0', -1.946213360419896, 51642],\n",
       "  ['ConsumerCourt_DCDRC_57914', '1', -9.313052415077479, 168045],\n",
       "  ['ConsumerCourt_DCDRC_66294', '0', -5.484089102494716, 120872],\n",
       "  ['ConsumerCourt_DCDRC_96799', '0', 1.7276591947375124, 347],\n",
       "  ['ConsumerCourt_NCDRC_1337', '1', 2.9155961648755095, 100],\n",
       "  ['ConsumerCourt_NCDRC_1338', '0', 2.9155961648755095, 99],\n",
       "  ['ConsumerCourt_NCDRC_2983', '1', -21.37793719063179, 282354],\n",
       "  ['ConsumerCourt_SCDRC_28656', '0', -12.510139481973667, 206314],\n",
       "  ['ConsumerCourt_SCDRC_33517', '1', -17.348557111537318, 254524],\n",
       "  ['ConsumerCourt_SCDRC_5122', '0', -0.16963681184180146, 8579],\n",
       "  ['ConsumerCourt_SCDRC_71374', '1', -8.177562580418105, 154337]],\n",
       " '6': [['ConsumerCourt_DCDRC_103021', '1', 14.825884792672534, 11],\n",
       "  ['ConsumerCourt_DCDRC_119836', '1', 3.5677743750446265, 798],\n",
       "  ['ConsumerCourt_DCDRC_125237', '1', -0.7767555669497348, 82065],\n",
       "  ['ConsumerCourt_DCDRC_126276', '0', 9.95623781641908, 73],\n",
       "  ['ConsumerCourt_DCDRC_131266', '1', -2.2614902752275796, 170979],\n",
       "  ['ConsumerCourt_DCDRC_133353', '1', 7.534234315784618, 188],\n",
       "  ['ConsumerCourt_DCDRC_133354', '0', 7.4826380278970905, 194],\n",
       "  ['ConsumerCourt_DCDRC_134804', '0', 7.554537119361827, 186],\n",
       "  ['ConsumerCourt_DCDRC_138617', '1', 11.134808594841607, 46],\n",
       "  ['ConsumerCourt_DCDRC_143983', '0', -3.197604152806877, 211143],\n",
       "  ['ConsumerCourt_DCDRC_207387', '1', 3.634849082350616, 772],\n",
       "  ['ConsumerCourt_DCDRC_220958', '1', 11.75894445258634, 39],\n",
       "  ['ConsumerCourt_DCDRC_223570', '1', 14.848004684632912, 10],\n",
       "  ['ConsumerCourt_DCDRC_223783', '0', 11.919080901063603, 36],\n",
       "  ['ConsumerCourt_DCDRC_38192', '1', 12.809716516486725, 22],\n",
       "  ['ConsumerCourt_DCDRC_41485', '0', 16.213659779468934, 5],\n",
       "  ['ConsumerCourt_DCDRC_41489', '0', 16.213659779468934, 4],\n",
       "  ['ConsumerCourt_DCDRC_41520', '1', 9.119750137944866, 106],\n",
       "  ['ConsumerCourt_DCDRC_45421', '0', -0.22490560751630806, 25630],\n",
       "  ['ConsumerCourt_DCDRC_52148', '0', 0.4626903269092617, 7816],\n",
       "  ['ConsumerCourt_DCDRC_70186', '0', 5.497015634500422, 358],\n",
       "  ['ConsumerCourt_DCDRC_70341', '0', 6.441470107620351, 261],\n",
       "  ['ConsumerCourt_DCDRC_90054', '0', -1.69432364688158, 145145],\n",
       "  ['ConsumerCourt_SCDRC_28640', '1', 9.2282040761312, 98],\n",
       "  ['ConsumerCourt_SCDRC_64152', '0', 6.423581688205106, 264],\n",
       "  ['ConsumerCourt_SCDRC_68718', '1', 9.253519954449477, 97],\n",
       "  ['ConsumerCourt_SCDRC_70632', '0', 9.380094531290855, 88],\n",
       "  ['DelhiHC_2009_735', '1', 12.156871007640497, 32],\n",
       "  ['DelhiHC_2012_372', '0', 4.401586148742904, 544],\n",
       "  ['DelhiHC_2012_374', '0', 4.401586148742904, 543],\n",
       "  ['SupremeCourt_1996_416', '0', 0.6645112249981713, 6704]],\n",
       " '7': [['ConsumerCourt_DCDRC_119406', '1', 13.575401678332378, 14],\n",
       "  ['ConsumerCourt_DCDRC_121344', '0', 11.411807442819704, 33],\n",
       "  ['ConsumerCourt_DCDRC_127019', '0', 4.747128155552474, 508],\n",
       "  ['ConsumerCourt_DCDRC_130205', '0', 6.312535336686309, 263],\n",
       "  ['ConsumerCourt_DCDRC_207672', '1', 17.197864628978923, 1],\n",
       "  ['ConsumerCourt_DCDRC_222487', '0', 12.924381672341706, 20],\n",
       "  ['ConsumerCourt_DCDRC_224805', '0', 10.18581835102527, 58],\n",
       "  ['ConsumerCourt_DCDRC_235755', '0', 16.84956073535658, 2],\n",
       "  ['ConsumerCourt_DCDRC_236026', '1', 10.490439976749098, 47],\n",
       "  ['ConsumerCourt_DCDRC_236229', '0', 6.231343494502198, 272],\n",
       "  ['ConsumerCourt_DCDRC_33939', '0', 15.896451429029971, 6],\n",
       "  ['ConsumerCourt_DCDRC_44337', '1', 10.326739434653641, 50],\n",
       "  ['ConsumerCourt_DCDRC_45534', '0', 13.8274347687412, 13],\n",
       "  ['ConsumerCourt_DCDRC_46470', '0', 5.16456143373704, 421],\n",
       "  ['ConsumerCourt_DCDRC_48811', '0', 14.56537815139068, 9],\n",
       "  ['ConsumerCourt_DCDRC_51454', '1', 14.909654961652624, 8],\n",
       "  ['ConsumerCourt_DCDRC_64180', '0', 16.02461493517459, 4],\n",
       "  ['ConsumerCourt_DCDRC_73953', '0', 10.302572640052906, 52],\n",
       "  ['ConsumerCourt_DCDRC_75554', '0', 11.928851971138606, 27],\n",
       "  ['ConsumerCourt_SCDRC_1050', '0', 9.079543456730377, 84],\n",
       "  ['ConsumerCourt_SCDRC_1387', '0', 15.13674762973713, 7],\n",
       "  ['ConsumerCourt_SCDRC_1418', '0', 6.7871726992575665, 218],\n",
       "  ['ConsumerCourt_SCDRC_65323', '0', 16.247446057566602, 3],\n",
       "  ['ConsumerCourt_SCDRC_66203', '0', 10.583040433018963, 44],\n",
       "  ['DelhiHC_2012_2026', '0', -0.6633102217470004, 69756]],\n",
       " '8': [['ConsumerCourt_DCDRC_101057', '1', 1.2364910650588392, 7707],\n",
       "  ['ConsumerCourt_DCDRC_118168', '0', 3.0239427467581246, 1249],\n",
       "  ['ConsumerCourt_DCDRC_118989', '0', 2.3413804142965446, 2554],\n",
       "  ['ConsumerCourt_DCDRC_120003', '1', 5.884218483514601, 68],\n",
       "  ['ConsumerCourt_DCDRC_120004', '1', 5.810019424984537, 73],\n",
       "  ['ConsumerCourt_DCDRC_121058', '0', 0.696394032131753, 14768],\n",
       "  ['ConsumerCourt_DCDRC_125286', '0', -4.662507837468777, 275241],\n",
       "  ['ConsumerCourt_DCDRC_126274', '0', -4.104420459276884, 260735],\n",
       "  ['ConsumerCourt_DCDRC_128072', '1', 2.7914894993347232, 1626],\n",
       "  ['ConsumerCourt_DCDRC_129352', '0', 1.6129728242494448, 5210],\n",
       "  ['ConsumerCourt_DCDRC_129820', '0', 7.10846153573108, 18],\n",
       "  ['ConsumerCourt_DCDRC_131144', '0', 6.998966326730198, 21],\n",
       "  ['ConsumerCourt_DCDRC_131587', '0', -0.7403133457104545, 100671],\n",
       "  ['ConsumerCourt_DCDRC_131846', '0', -2.9563311941274293, 223462],\n",
       "  ['ConsumerCourt_DCDRC_132917', '0', 0.23219966852460416, 24732],\n",
       "  ['ConsumerCourt_DCDRC_132928', '0', 4.765410310105803, 225],\n",
       "  ['ConsumerCourt_DCDRC_134709', '0', 6.505525243798374, 42],\n",
       "  ['ConsumerCourt_DCDRC_140632', '0', 1.4519324878747346, 6142],\n",
       "  ['ConsumerCourt_DCDRC_140644', '0', 3.2059912508726374, 1034],\n",
       "  ['ConsumerCourt_DCDRC_145502', '0', 4.9430706036449825, 188],\n",
       "  ['ConsumerCourt_DCDRC_169855', '0', 0.05861693105375232, 30151],\n",
       "  ['ConsumerCourt_DCDRC_202901', '0', 2.0890741677315683, 3248],\n",
       "  ['ConsumerCourt_DCDRC_203935', '0', 5.080919359220852, 165],\n",
       "  ['ConsumerCourt_DCDRC_222781', '0', 2.5713337858516265, 2005],\n",
       "  ['ConsumerCourt_DCDRC_223340', '0', 0.4952324783761508, 18548],\n",
       "  ['ConsumerCourt_DCDRC_228779', '0', 8.761053663581533, 4],\n",
       "  ['ConsumerCourt_DCDRC_229540', '0', 0.5880354721063117, 16703],\n",
       "  ['ConsumerCourt_DCDRC_39867', '0', -0.7196890179637179, 98488],\n",
       "  ['ConsumerCourt_DCDRC_40822', '0', 8.226348328027338, 5],\n",
       "  ['ConsumerCourt_DCDRC_41058', '0', 6.814515610621437, 29],\n",
       "  ['ConsumerCourt_DCDRC_41514', '0', 3.9837667120495315, 489],\n",
       "  ['ConsumerCourt_DCDRC_57900', '1', -1.8080316452100202, 175700],\n",
       "  ['ConsumerCourt_DCDRC_69224', '0', 3.905568283477659, 527],\n",
       "  ['ConsumerCourt_DCDRC_71619', '0', 2.92401093270008, 1395],\n",
       "  ['ConsumerCourt_DCDRC_73864', '0', 2.2344655745513755, 2821],\n",
       "  ['ConsumerCourt_DCDRC_75339', '0', 5.766183077813164, 75],\n",
       "  ['ConsumerCourt_DCDRC_75574', '1', 5.349499585842585, 117],\n",
       "  ['ConsumerCourt_DCDRC_76123', '0', 3.0295000175651943, 1240],\n",
       "  ['ConsumerCourt_DCDRC_85243', '0', -1.5529126652060317, 163167],\n",
       "  ['ConsumerCourt_SCDRC_29744', '0', 6.618677607959409, 35],\n",
       "  ['ConsumerCourt_SCDRC_33757', '0', 6.809209820099546, 30],\n",
       "  ['ConsumerCourt_SCDRC_53283', '0', 7.955227242434141, 6],\n",
       "  ['ConsumerCourt_SCDRC_63603', '0', -0.13948838100236394, 42199],\n",
       "  ['ConsumerCourt_SCDRC_66106', '1', -4.016453812850094, 258256],\n",
       "  ['ConsumerCourt_SCDRC_66890', '0', -2.594398160455251, 209501],\n",
       "  ['ConsumerCourt_SCDRC_67067', '0', 0.9825920049283674, 10131],\n",
       "  ['ConsumerCourt_SCDRC_67949', '0', -0.8461252965277786, 112201],\n",
       "  ['ConsumerCourt_SCDRC_67951', '0', 0.944321764237845, 10609],\n",
       "  ['ConsumerCourt_SCDRC_72333', '1', 3.737932482259427, 627],\n",
       "  ['JodhpurHC_2008_1906', '0', 0.8657532526423313, 11762]],\n",
       " '9': [['ConsumerCourt_DCDRC_108097', '0', -11.27726152617781, 296553],\n",
       "  ['ConsumerCourt_DCDRC_119856', '1', 11.266711039066717, 22],\n",
       "  ['ConsumerCourt_DCDRC_119986', '0', 2.3683620620206263, 1958],\n",
       "  ['ConsumerCourt_DCDRC_128297', '0', -4.269264078361296, 180127],\n",
       "  ['ConsumerCourt_DCDRC_128836', '0', -8.634999712609089, 265396],\n",
       "  ['ConsumerCourt_DCDRC_130625', '0', -2.799855177527757, 143106],\n",
       "  ['ConsumerCourt_DCDRC_133010', '0', 7.197652252517649, 175],\n",
       "  ['ConsumerCourt_DCDRC_138306', '1', 6.480899935954355, 242],\n",
       "  ['ConsumerCourt_DCDRC_139625', '0', 9.765481077666532, 45],\n",
       "  ['ConsumerCourt_DCDRC_143537', '0', 6.803823199793939, 208],\n",
       "  ['ConsumerCourt_DCDRC_202901', '0', -1.3014264667043036, 79362],\n",
       "  ['ConsumerCourt_DCDRC_202902', '0', 1.936729752554073, 2650],\n",
       "  ['ConsumerCourt_DCDRC_202903', '0', -1.0780640302912268, 68349],\n",
       "  ['ConsumerCourt_DCDRC_222047', '1', 13.079175000641117, 10],\n",
       "  ['ConsumerCourt_DCDRC_224718', '1', 7.967047636157204, 108],\n",
       "  ['ConsumerCourt_DCDRC_226994', '0', 7.8005831764402735, 125],\n",
       "  ['ConsumerCourt_DCDRC_227115', '0', 14.566785788818517, 4],\n",
       "  ['ConsumerCourt_DCDRC_227445', '0', 10.370897465208829, 29],\n",
       "  ['ConsumerCourt_DCDRC_236013', '1', 11.167390689080882, 24],\n",
       "  ['ConsumerCourt_DCDRC_38039', '1', 14.883150042928767, 3],\n",
       "  ['ConsumerCourt_DCDRC_38552', '0', 10.955947206208531, 25],\n",
       "  ['ConsumerCourt_DCDRC_45418', '0', 15.398897251055253, 1],\n",
       "  ['ConsumerCourt_DCDRC_53237', '1', 6.997606120259697, 193],\n",
       "  ['ConsumerCourt_DCDRC_56957', '0', 15.224215159974289, 2],\n",
       "  ['ConsumerCourt_DCDRC_89958', '0', 4.796006912732093, 525],\n",
       "  ['ConsumerCourt_NCDRC_2916', '0', 7.071065242923822, 187],\n",
       "  ['ConsumerCourt_NCDRC_437', '0', -2.5030482115697046, 134282],\n",
       "  ['ConsumerCourt_SCDRC_40659', '0', 3.6661301227477843, 937],\n",
       "  ['ConsumerCourt_SCDRC_49689', '0', 4.840245564461476, 516],\n",
       "  ['ConsumerCourt_SCDRC_53178', '0', 4.466667733028771, 640],\n",
       "  ['ConsumerCourt_SCDRC_65050', '0', 6.9012248060799415, 202],\n",
       "  ['ConsumerCourt_SCDRC_67634', '0', -10.175110017698223, 285277],\n",
       "  ['ConsumerCourt_SCDRC_68803', '0', 13.236627458242952, 9],\n",
       "  ['DelhiHC_2008_1343', '0', -5.262918110931758, 202588],\n",
       "  ['DelhiHC_2009_453', '0', -0.5256779670471072, 36697],\n",
       "  ['DelhiHC_2010_4683', '0', -0.9105959380135058, 59634],\n",
       "  ['DelhiHC_2010_6192', '0', 2.517351521721473, 1756],\n",
       "  ['DelhiHC_2011_69', '0', -8.458610487733896, 262780],\n",
       "  ['DelhiHC_2013_811', '0', -4.434043234659459, 183938],\n",
       "  ['SupremeCourt_2008_278', '0', -3.4535019064811263, 160267]]}"
      ]
     },
     "execution_count": 15,
     "metadata": {},
     "output_type": "execute_result"
    }
   ],
   "source": [
    "tfidf_results"
   ]
  },
  {
   "cell_type": "code",
   "execution_count": null,
   "metadata": {
    "collapsed": true
   },
   "outputs": [],
   "source": []
  },
  {
   "cell_type": "code",
   "execution_count": null,
   "metadata": {
    "collapsed": true
   },
   "outputs": [],
   "source": []
  },
  {
   "cell_type": "code",
   "execution_count": null,
   "metadata": {
    "collapsed": true
   },
   "outputs": [],
   "source": []
  },
  {
   "cell_type": "code",
   "execution_count": 17,
   "metadata": {
    "collapsed": true
   },
   "outputs": [],
   "source": [
    "from openpyxl import Workbook\n",
    "from openpyxl.compat import range\n",
    "from openpyxl.utils import get_column_letter\n",
    "from openpyxl import load_workbook\n",
    "from scipy.stats import hmean\n"
   ]
  },
  {
   "cell_type": "code",
   "execution_count": null,
   "metadata": {
    "collapsed": true
   },
   "outputs": [],
   "source": [
    "wow = tfidf_results"
   ]
  },
  {
   "cell_type": "code",
   "execution_count": null,
   "metadata": {
    "collapsed": true
   },
   "outputs": [],
   "source": [
    "wb = Workbook()\n",
    "wb.save('LM_Dirichlet.xlsx')"
   ]
  },
  {
   "cell_type": "code",
   "execution_count": null,
   "metadata": {
    "collapsed": true,
    "scrolled": true
   },
   "outputs": [],
   "source": [
    "# save to excel\n",
    "wb2 = load_workbook('LM_Dirichlet.xlsx')\n",
    "ws1 = wb.create_sheet(title=\"MU = 2000|\")\n",
    "\n",
    "ws1.append(['Query','Filename', 'Relevance', 'Score', 'Rank'])\n",
    "for key,value in wow.iteritems():\n",
    "    for i in value:\n",
    "        ws1.append([int(key)]+ i)\n",
    "\n",
    "wb.save(filename = 'LM_Dirichlet.xlsx')"
   ]
  },
  {
   "cell_type": "code",
   "execution_count": 22,
   "metadata": {
    "collapsed": true
   },
   "outputs": [],
   "source": [
    "import pandas as pd\n",
    "\n",
    "f = pd.ExcelFile('LM_Dirichlet.xlsx')\n",
    "\n",
    "\n",
    "x = f.parse(0)\n"
   ]
  },
  {
   "cell_type": "code",
   "execution_count": 24,
   "metadata": {
    "collapsed": true
   },
   "outputs": [],
   "source": [
    "\n",
    "total_1 = (float)(x[x['Relevance'] == 1].shape[0])\n",
    "total_0 = (float)(x[x['Relevance'] == 0].shape[0])\n",
    "total = (float)(x.shape[0])"
   ]
  },
  {
   "cell_type": "code",
   "execution_count": 25,
   "metadata": {},
   "outputs": [
    {
     "data": {
      "text/plain": [
       "131.0"
      ]
     },
     "execution_count": 25,
     "metadata": {},
     "output_type": "execute_result"
    }
   ],
   "source": [
    "total_1"
   ]
  },
  {
   "cell_type": "code",
   "execution_count": 27,
   "metadata": {
    "scrolled": true
   },
   "outputs": [
    {
     "data": {
      "text/plain": [
       "21"
      ]
     },
     "execution_count": 27,
     "metadata": {},
     "output_type": "execute_result"
    }
   ],
   "source": [
    "i = 10\n",
    "x[np.logical_and(x['Relevance'] == 0 , x['Rank'] <= i)].shape[0]"
   ]
  },
  {
   "cell_type": "code",
   "execution_count": 18,
   "metadata": {
    "collapsed": true
   },
   "outputs": [],
   "source": [
    "import pandas as pd\n",
    "\n",
    "f = pd.ExcelFile('LM_Dirichlet.xlsx')\n",
    "\n",
    "\n",
    "x = f.parse(0)\n",
    "\n",
    "total_1 = (float)(x[x['Relevance'] == 1].shape[0])\n",
    "total_0 = (float)(x[x['Relevance'] == 0].shape[0])\n",
    "total = (float)(x.shape[0])\n",
    "\n",
    "\n",
    "model_name = 'LM_Dirichlet'\n",
    "places = 4\n",
    "wb = load_workbook('LM_Dirichlet.xlsx')\n",
    "ws1 = wb.create_sheet(title=\"evaluation\")\n",
    "\n",
    "ws1.append(['Docs considered', 'Precision/Recall', 'Model', 10, 50, 100, 500, 1000])\n",
    "\n",
    "\n",
    "for sheet in f.sheet_names:\n",
    "    \n",
    "    x = f.parse(sheet)\n",
    "    # precision 1\n",
    "    row = [1, 'P', model_name + ' :' + sheet]\n",
    "    for i in [10.0, 50.0, 100.0, 500.0, 1000.0]:\n",
    "        row.append(x[np.logical_and(x['Relevance'] == 1 , x['Rank'] <= i)].shape[0]/(i*10))\n",
    "    ws1.append(row);\n",
    "    p1 = row;\n",
    "    # precision 0\n",
    "    row = [0, 'P', model_name + ' :' + sheet]\n",
    "    for i in [10.0, 50.0, 100.0, 500.0, 1000.0]:\n",
    "        row.append(x[np.logical_and(x['Relevance'] == 0 , x['Rank'] <= i)].shape[0]/(i*10))    \n",
    "    ws1.append(row);\n",
    "    p0 = row;\n",
    "    #precision 10\n",
    "    row = [10, 'P', model_name + ' :' + sheet]\n",
    "    for i in [10.0, 50.0, 100.0, 500.0, 1000.0]:\n",
    "        row.append(x[x['Rank'] <= i].shape[0]/(i*10))  \n",
    "    ws1.append(row);\n",
    "    p10 = row;    \n",
    "    # recall 1\n",
    "    row = [1, 'R', model_name + ' :' + sheet]\n",
    "    for i in [10.0, 50.0, 100.0, 500.0, 1000.0]:\n",
    "        row.append(x[np.logical_and(x['Relevance'] == 1 , x['Rank'] <= i)].shape[0]/total_1)\n",
    "        row[-1] = round(row[-1],places)\n",
    "    ws1.append(row);\n",
    "    r1 = row;    \n",
    "    # recall 0\n",
    "    row = [0, 'R', model_name + ' :' + sheet]\n",
    "    for i in [10.0, 50.0, 100.0, 500.0, 1000.0]:\n",
    "        row.append(x[np.logical_and(x['Relevance'] == 0 , x['Rank'] <= i)].shape[0]/total_0)\n",
    "        row[-1] = round(row[-1],places)\n",
    "    ws1.append(row);\n",
    "    r0 = row;\n",
    "    #recall 10\n",
    "    row = [10, 'R', model_name + ' :' + sheet]\n",
    "    for i in [10.0, 50.0, 100.0, 500.0, 1000.0]:\n",
    "        row.append(x[x['Rank'] <= i].shape[0]/total)\n",
    "        row[-1] = round(row[-1],places)\n",
    "    ws1.append(row);\n",
    "    r10 = row;      \n",
    "    \n",
    "    \n",
    "    # F 1\n",
    "    row = [1, 'F', model_name + ' :' + sheet]\n",
    "    for i in [-5,-4,-3,-2,-1]:\n",
    "        if p1[i] == 0.0 :\n",
    "            row.append(0.0)\n",
    "        else:\n",
    "            row.append(hmean([p1[i],r1[i]]))\n",
    "        row[-1] = round(row[-1],places)\n",
    "    ws1.append(row);\n",
    "        \n",
    "    # F 0\n",
    "    row = [0, 'F', model_name + ' :' + sheet]\n",
    "    for i in [-5,-4,-3,-2,-1]:\n",
    "        if p0[i] == 0.0:\n",
    "            row.append(0.0)\n",
    "        else:\n",
    "            row.append(hmean([p0[i],r0[i]]))\n",
    "        row[-1] = round(row[-1],places)\n",
    "    ws1.append(row);\n",
    "    \n",
    "    # F 10\n",
    "    row = [10, 'F', model_name + ' :' + sheet]\n",
    "    for i  in [-5,-4,-3,-2,-1]:\n",
    "        if p10[i] == 0.0:\n",
    "            row.append(0.0)\n",
    "        else:\n",
    "            row.append(hmean([p10[i],r10[i]]))\n",
    "        row[-1] = round(row[-1],places)\n",
    "    ws1.append(row);\n",
    "        \n",
    "wb.save(filename = 'LM_Dirichlet.xlsx')"
   ]
  },
  {
   "cell_type": "code",
   "execution_count": 20,
   "metadata": {
    "collapsed": true
   },
   "outputs": [],
   "source": [
    "#Query wise\n",
    "\n",
    "import pandas as pd\n",
    "\n",
    "f = pd.ExcelFile('LM_Dirichlet.xlsx')\n",
    "\n",
    "from scipy.stats import hmean\n",
    "\n",
    "\n",
    "\n",
    "model_name = 'LM_Dirichlet'\n",
    "places = 4\n",
    "wb = load_workbook('LM_Dirichlet.xlsx')\n",
    "ws1 = wb.create_sheet(title=\"evaluation_Qwise\")\n",
    "\n",
    "ws1.append(['Query','Docs considered', 'Precision/Recall', 'Model', 10, 50, 100, 500, 1000])\n",
    "\n",
    "\n",
    "for sheet in f.sheet_names:\n",
    "    if(sheet == \"evaluation\"):\n",
    "        continue\n",
    "    for q in np.arange(1,11):\n",
    "\n",
    "        x = f.parse(sheet)\n",
    "        x = x[x['Query'] == q]\n",
    "        total_1 = (float)(x[x['Relevance'] == 1].shape[0])\n",
    "        total_0 = (float)(x[x['Relevance'] == 0].shape[0])\n",
    "        total = (float)(x.shape[0])\n",
    "        # precision 1\n",
    "        row = [q, 1, 'P', model_name + ' :' + sheet]\n",
    "        for i in [10.0, 50.0, 100.0, 500.0, 1000.0]:\n",
    "            row.append(x[np.logical_and(x['Relevance'] == 1 , x['Rank'] <= i)].shape[0]/i)\n",
    "        ws1.append(row);\n",
    "        p1 = row;\n",
    "        # precision 0\n",
    "        row = [q, 0, 'P', model_name + ' :' + sheet]\n",
    "        for i in [10.0, 50.0, 100.0, 500.0, 1000.0]:\n",
    "            row.append(x[np.logical_and(x['Relevance'] == 0 , x['Rank'] <= i)].shape[0]/i)    \n",
    "        ws1.append(row);\n",
    "        p0 = row;\n",
    "        #precision 10\n",
    "        row = [q, 10, 'P', model_name + ' :' + sheet]\n",
    "        for i in [10.0, 50.0, 100.0, 500.0, 1000.0]:\n",
    "            row.append(x[x['Rank'] <= i].shape[0]/i)  \n",
    "        ws1.append(row);\n",
    "        p10 = row;    \n",
    "        # recall 1\n",
    "        row = [q, 1, 'R', model_name + ' :' + sheet]\n",
    "        for i in [10.0, 50.0, 100.0, 500.0, 1000.0]:\n",
    "            row.append(x[np.logical_and(x['Relevance'] == 1 , x['Rank'] <= i)].shape[0]/total_1)\n",
    "            row[-1] = round(row[-1],places)\n",
    "        ws1.append(row);\n",
    "        r1 = row;    \n",
    "        # recall 0\n",
    "        row = [q, 0, 'R', model_name + ' :' + sheet]\n",
    "        for i in [10.0, 50.0, 100.0, 500.0, 1000.0]:\n",
    "            row.append(x[np.logical_and(x['Relevance'] == 0 , x['Rank'] <= i)].shape[0]/total_0)\n",
    "            row[-1] = round(row[-1],places)\n",
    "        ws1.append(row);\n",
    "        r0 = row;\n",
    "        #recall 10\n",
    "        row = [q, 10, 'R', model_name + ' :' + sheet]\n",
    "        for i in [10.0, 50.0, 100.0, 500.0, 1000.0]:\n",
    "            row.append(x[x['Rank'] <= i].shape[0]/total)\n",
    "            row[-1] = round(row[-1],places)\n",
    "        ws1.append(row);\n",
    "        r10 = row;      \n",
    "\n",
    "\n",
    "        # F 1\n",
    "        row = [q, 1, 'F', model_name + ' :' + sheet]\n",
    "        for i in [-5,-4,-3,-2,-1]:\n",
    "            if p1[i] == 0.0 :\n",
    "                row.append(0.0)\n",
    "            else:\n",
    "                row.append(hmean([p1[i],r1[i]]))\n",
    "            row[-1] = round(row[-1],places)\n",
    "        ws1.append(row);\n",
    "\n",
    "        # F 0\n",
    "        row = [q, 0, 'F', model_name + ' :' + sheet]\n",
    "        for i in [-5,-4,-3,-2,-1]:\n",
    "            if p0[i] == 0.0:\n",
    "                row.append(0.0)\n",
    "            else:\n",
    "                row.append(hmean([p0[i],r0[i]]))\n",
    "            row[-1] = round(row[-1],places)\n",
    "        ws1.append(row);\n",
    "\n",
    "        # F 10\n",
    "        row = [q, 10, 'F', model_name + ' :' + sheet]\n",
    "        for i  in [-5,-4,-3,-2,-1]:\n",
    "            if p10[i] == 0.0:\n",
    "                row.append(0.0)\n",
    "            else:\n",
    "                row.append(hmean([p10[i],r10[i]]))\n",
    "            row[-1] = round(row[-1],places)\n",
    "        ws1.append(row);\n",
    "        \n",
    "wb.save(filename = 'LM_Dirichlet.xlsx')"
   ]
  },
  {
   "cell_type": "code",
   "execution_count": 24,
   "metadata": {
    "collapsed": true
   },
   "outputs": [],
   "source": [
    "#Query wise Average precision\n",
    "\n",
    "def p_sum(z):\n",
    "    z = z.copy()\n",
    "    z.sort_values(inplace=True)\n",
    "    result = 0\n",
    "    for i,val in enumerate(z):\n",
    "        result += (i+1)/float(val) \n",
    "        #print result\n",
    "    return result\n",
    "\n",
    "\n",
    "import pandas as pd\n",
    "\n",
    "f = pd.ExcelFile('LM_Dirichlet.xlsx')\n",
    "\n",
    "from scipy.stats import hmean\n",
    "\n",
    "\n",
    "model_name = 'LM_Dirichlet'\n",
    "places = 4\n",
    "wb = load_workbook('LM_Dirichlet.xlsx')\n",
    "ws1 = wb.create_sheet(title=\"AP_Qwise\")\n",
    "\n",
    "ws1.append(['Query','Docs considered', 'Precision/Recall', 'Model', 1, 5 ,10, 25, 50, 100, 500, 1000])\n",
    "\n",
    "\n",
    "for sheet in f.sheet_names:\n",
    "    \n",
    "    if(sheet == \"evaluation\"or sheet == \"evaluation_Qwise\"):\n",
    "        continue\n",
    "    for q in np.arange(1,11):\n",
    "\n",
    "        x = f.parse(sheet)\n",
    "        x = x[x['Query'] == q]\n",
    "        total = {}\n",
    "        total[1] = (float)(x[x['Relevance'] == 1].shape[0])\n",
    "        total[0] = (float)(x[x['Relevance'] == 0].shape[0])\n",
    "        total[10] = (float)(x.shape[0])\n",
    "        \n",
    "        for rel in [1,0]:\n",
    "            # precision 1\n",
    "            row = [q, rel, 'AP', model_name + ' :' + sheet]\n",
    "            for i in [1.0, 5.0, 10.0, 25.0, 50.0, 100.0, 500.0, 1000.0]:\n",
    "                row.append(p_sum(x[np.logical_and(x['Relevance'] == rel, x['Rank'] <= i)]['Rank'])/total[rel])\n",
    "            ws1.append(row);\n",
    "\n",
    "        row = [q, 10, 'AP', model_name + ' :' + sheet]\n",
    "        for i in [1.0, 5.0, 10.0, 25.0, 50.0, 100.0, 500.0, 1000.0]:\n",
    "            row.append(p_sum(x[x['Rank'] <= i]['Rank'])/total[10])\n",
    "        ws1.append(row);\n",
    "wb.save(filename = 'LM_Dirichlet.xlsx')"
   ]
  },
  {
   "cell_type": "code",
   "execution_count": null,
   "metadata": {
    "collapsed": true
   },
   "outputs": [],
   "source": []
  },
  {
   "cell_type": "code",
   "execution_count": null,
   "metadata": {
    "collapsed": true
   },
   "outputs": [],
   "source": []
  },
  {
   "cell_type": "code",
   "execution_count": null,
   "metadata": {
    "collapsed": true
   },
   "outputs": [],
   "source": []
  },
  {
   "cell_type": "code",
   "execution_count": null,
   "metadata": {
    "collapsed": true
   },
   "outputs": [],
   "source": [
    "# given a corpus and document index and a query return intersecting words(scores from corpus) \n",
    "def common_words(index, query):\n",
    "    # quey words\n",
    "    q = [i[0] for i in dictionary.doc2bow(query)]   \n",
    "    q = set(q)\n",
    "    \n",
    "    return sorted([(dictionary.get(i[0]),i[1],j[1]) for i,j in zip(corpus[index],tfidf_corpus[index]) if i[0] in q], key= lambda x: x[1], reverse= True )        \n"
   ]
  },
  {
   "cell_type": "code",
   "execution_count": null,
   "metadata": {
    "collapsed": true
   },
   "outputs": [],
   "source": [
    "# uses ranklist\n",
    "# return top N documents and the respctive common words for every query given corpus\n",
    "def top_N(n, corp) :\n",
    "    top_results = [0]\n",
    "    for i in range(1,11):\n",
    "        x = sorted(range(len(rank_list[i])), key=lambda j: rank_list[i][j])[:n]\n",
    "        y = []\n",
    "        for j in x:\n",
    "            y.append([filenames[j],common_words(j, queries[i])])\n",
    "            \n",
    "        top_results.append(y)\n",
    "    return top_results"
   ]
  },
  {
   "cell_type": "code",
   "execution_count": null,
   "metadata": {
    "collapsed": true
   },
   "outputs": [],
   "source": [
    "# queries as bag of words\n",
    "# index starts from 1 for queries\n",
    "q_words = [0]\n",
    "for i,query in enumerate(files_to_tokens('LegalAdhocTask\\q*.txt')):\n",
    "    q_words.append(sorted([(dictionary.get(j[0]), j[1], k[1]) for j,k in zip(dictionary.doc2bow(query),tfidf[dictionary.doc2bow(query)])], reverse= True, key= lambda x:x[2]))"
   ]
  },
  {
   "cell_type": "code",
   "execution_count": null,
   "metadata": {
    "collapsed": true,
    "scrolled": false
   },
   "outputs": [],
   "source": [
    "# index starts from 1 for queries\n",
    "top_results = top_N(10,corpus)"
   ]
  },
  {
   "cell_type": "code",
   "execution_count": null,
   "metadata": {
    "collapsed": true,
    "scrolled": true
   },
   "outputs": [],
   "source": [
    "# ground truth ranks BoW query\n",
    "\n",
    "sorted(BQ['1'], key = lambda x: (-int(x[1]),x[3]))"
   ]
  },
  {
   "cell_type": "code",
   "execution_count": null,
   "metadata": {
    "collapsed": true,
    "scrolled": true
   },
   "outputs": [],
   "source": [
    "top_results[1]"
   ]
  },
  {
   "cell_type": "code",
   "execution_count": null,
   "metadata": {
    "collapsed": true
   },
   "outputs": [],
   "source": [
    "tfidf[dictionary.doc2bow([])]"
   ]
  },
  {
   "cell_type": "code",
   "execution_count": null,
   "metadata": {
    "collapsed": true,
    "scrolled": true
   },
   "outputs": [],
   "source": [
    "common_words(filenames.index( 'ConsumerCourt_DCDRC_118185' + '.txt'), queries[1])"
   ]
  },
  {
   "cell_type": "code",
   "execution_count": null,
   "metadata": {
    "collapsed": true
   },
   "outputs": [],
   "source": []
  }
 ],
 "metadata": {
  "kernelspec": {
   "display_name": "Python 2",
   "language": "python",
   "name": "python2"
  },
  "language_info": {
   "codemirror_mode": {
    "name": "ipython",
    "version": 2
   },
   "file_extension": ".py",
   "mimetype": "text/x-python",
   "name": "python",
   "nbconvert_exporter": "python",
   "pygments_lexer": "ipython2",
   "version": "2.7.13"
  }
 },
 "nbformat": 4,
 "nbformat_minor": 2
}
