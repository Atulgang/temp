{
 "cells": [
  {
   "cell_type": "code",
   "execution_count": 1,
   "metadata": {
    "collapsed": true
   },
   "outputs": [],
   "source": [
    "def only_alphabet(text):\n",
    "    return ''.join(i for i in text if (ord(i)<123 and ord(i)>96) or (ord(i)<91 and ord(i)>64) or ord(i)==32) "
   ]
  },
  {
   "cell_type": "code",
   "execution_count": 2,
   "metadata": {
    "collapsed": true
   },
   "outputs": [],
   "source": [
    "import logging\n",
    "logging.basicConfig(format='%(asctime)s : %(levelname)s : %(message)s', level=logging.INFO)"
   ]
  },
  {
   "cell_type": "code",
   "execution_count": 3,
   "metadata": {},
   "outputs": [
    {
     "name": "stderr",
     "output_type": "stream",
     "text": [
      "2018-01-04 11:43:26,881 : INFO : 'pattern' package not found; tag filters are not available for English\n"
     ]
    }
   ],
   "source": [
    "import nltk\n",
    "from nltk.tokenize import word_tokenize\n",
    "from stop_words import get_stop_words\n",
    "from nltk.stem import WordNetLemmatizer\n",
    "from gensim import corpora, models\n",
    "import gensim\n",
    "import glob2\n",
    "from itertools import chain\n",
    "import os\n",
    "import numpy as np\n",
    "import itertools\n",
    "import cPickle as pickle"
   ]
  },
  {
   "cell_type": "code",
   "execution_count": 4,
   "metadata": {
    "collapsed": true
   },
   "outputs": [],
   "source": [
    "# get stopwords as set\n",
    "# get Vocabulary and remove words with length less than 3 \n",
    "# vocab is sorted in descending order \n",
    "\n",
    "en_stop = set(get_stop_words('en'))\n",
    "vocab  = open(\"wordsEn.txt\").read().splitlines()\n",
    "vocab = [i for i in vocab  if len(i)>2]\n",
    "vocab.sort(key=len, reverse=True)\n",
    "\n",
    "vocab_set = set(vocab)\n"
   ]
  },
  {
   "cell_type": "code",
   "execution_count": 5,
   "metadata": {
    "collapsed": true
   },
   "outputs": [],
   "source": [
    "full_filenames = []\n",
    "x= ['LegalAdhocTask/ConsumerCourtAdhocdata/DCDRC/**/*.txt','LegalAdhocTask/ConsumerCourtAdhocdata/NCDRC/**/*.txt','LegalAdhocTask/ConsumerCourtAdhocdata/SCDRC/**/*.txt', 'LegalAdhocTask/SC-HCAdhocData/DelhiHC/**/*.txt','LegalAdhocTask/SC-HCAdhocData/JharkhandHC/**/*.txt', 'LegalAdhocTask/SC-HCAdhocData/JodhpurHC/**/*.txt' ,'LegalAdhocTask/SC-HCAdhocData/KolkataHC/**/*.txt', 'LegalAdhocTask/SC-HCAdhocData/SupremeCourt/**/*.txt']\n",
    "for glob_filenames in x:\n",
    "    glob_filenames = os.path.normpath(glob_filenames)\n",
    "    for filename in glob2.glob(glob_filenames):\n",
    "        full_filenames.append(filename)\n",
    "        if not os.path.isfile(filename):\n",
    "            print 'wtffff'\n",
    "            \n",
    "            \n",
    "filenames = []\n",
    "x= ['LegalAdhocTask/ConsumerCourtAdhocdata/DCDRC/**/*.txt','LegalAdhocTask/ConsumerCourtAdhocdata/NCDRC/**/*.txt','LegalAdhocTask/ConsumerCourtAdhocdata/SCDRC/**/*.txt', 'LegalAdhocTask/SC-HCAdhocData/DelhiHC/**/*.txt','LegalAdhocTask/SC-HCAdhocData/JharkhandHC/**/*.txt', 'LegalAdhocTask/SC-HCAdhocData/JodhpurHC/**/*.txt' ,'LegalAdhocTask/SC-HCAdhocData/KolkataHC/**/*.txt', 'LegalAdhocTask/SC-HCAdhocData/SupremeCourt/**/*.txt']\n",
    "for glob_filenames in x:\n",
    "    glob_filenames = os.path.normpath(glob_filenames)\n",
    "    for filename in glob2.glob(glob_filenames):\n",
    "        filenames.append(os.path.basename(filename))\n",
    "        if not os.path.isfile(filename):\n",
    "            print 'wtffff'\n",
    "\n",
    "# \"yield\" for each file return token list  i.e list of lists\n",
    "def files_to_tokens(glob_filenames):\n",
    "    glob_filenames = os.path.normpath(glob_filenames)\n",
    "    lemmatizer = WordNetLemmatizer()\n",
    "    for filename in glob2.glob(glob_filenames):\n",
    "        f = open(filename)\n",
    "        # read the whole file as lowercase string\n",
    "        string = only_alphabet(f.read()).lower()\n",
    "        \n",
    "        # tokenize that string\n",
    "        tokens =  word_tokenize(string)\n",
    "        \n",
    "        # remove stop words tokens and length two tokens\n",
    "        tokens = [lemmatizer.lemmatize(i) for i in tokens if i not in en_stop and len(i)>2]\n",
    "\n",
    "        #seperate words stuck together\n",
    "        for i,token in enumerate(tokens):\n",
    "            if token not in vocab_set:\n",
    "#                 print token\n",
    "                # both prefix and suffix incase one of the word is of len(2)\n",
    "                # prefix match\n",
    "                flag = 0\n",
    "                for j in range(len(token)-2,2,-1):\n",
    "                    if token[:j] in vocab_set:\n",
    "                            tokens.append(token[:j])\n",
    "                            tokens.append(token[j:])\n",
    "#                             print 'prefixx'\n",
    "#                             print token[:j], token[j:]\n",
    "                            del tokens[i]\n",
    "                            flag = 1\n",
    "                            break               \n",
    "                \n",
    "                if flag == 1:\n",
    "#                     print 'prefix milgaya'\n",
    "                    continue \n",
    "                # suffix match\n",
    "                flag = 0\n",
    "                for j in range(1,len(token)-2):\n",
    "                    if token[j:] in vocab_set:\n",
    "                            tokens.append(token[:j])\n",
    "                            tokens.append(token[j:])\n",
    "#                             print 'suffix'\n",
    "#                             print token[:j], token[j:]\n",
    "                            flag =1\n",
    "                            del tokens[i]                            \n",
    "                            break               \n",
    "#                 if flag == 0:\n",
    "#                     print 'couldnt break' \n",
    "        # again remove stop words and length two tokens AND WORDS not in vocab\n",
    "        tokens = [i for i in tokens if i not in en_stop and len(i)>2 and i in vocab_set]                \n",
    "        if len(tokens) == 0:\n",
    "            print \"empty document\"\n",
    "        yield tokens\n",
    "        f.close()\n",
    "\n",
    "        \n",
    "# yields token list for files specific to courts; needed for creating dictionaries\n",
    "class texts:\n",
    "    def DCDRC(self):\n",
    "        return files_to_tokens('LegalAdhocTask/ConsumerCourtAdhocdata/DCDRC/**/*.txt')\n",
    "    def NCDRC(self):\n",
    "        return files_to_tokens('LegalAdhocTask/ConsumerCourtAdhocdata/NCDRC/**/*.txt')\n",
    "    def SCDRC(self):\n",
    "        return files_to_tokens('LegalAdhocTask/ConsumerCourtAdhocdata/SCDRC/**/*.txt')\n",
    "    def DelhiHC(self):\n",
    "        return files_to_tokens('LegalAdhocTask/SC-HCAdhocData/DelhiHC/**/*.txt')\n",
    "    def JharkhandHC(self):\n",
    "        return files_to_tokens('LegalAdhocTask/SC-HCAdhocData/JharkhandHC/**/*.txt')\n",
    "    def JodhpurHC(self):\n",
    "        return files_to_tokens('LegalAdhocTask/SC-HCAdhocData/JodhpurHC/**/*.txt')\n",
    "    def KolkataHC(self):\n",
    "        return files_to_tokens('LegalAdhocTask/SC-HCAdhocData/KolkataHC/**/*.txt')\n",
    "    def SupremeCourt(self):\n",
    "        return files_to_tokens('LegalAdhocTask/SC-HCAdhocData/SupremeCourt/**/*.txt')\n",
    "\n",
    "# yields bow for each file - tuples id,fq ; needed to train models   \n",
    "class my_corpus:    \n",
    "    def DCDRC(self):\n",
    "        for text in files_to_tokens('LegalAdhocTask/ConsumerCourtAdhocdata/DCDRC/*.txt'):\n",
    "            yield dictionary.doc2bow(text)\n",
    "    def NCDRC(self):\n",
    "        for text in files_to_tokens('LegalAdhocTask/ConsumerCourtAdhocdata/NCDRC/**/*.txt'):\n",
    "            yield dictionary.doc2bow(text)            \n",
    "    def SCDRC(self):\n",
    "        for text in files_to_tokens('LegalAdhocTask/ConsumerCourtAdhocdata/SCDRC/**/*.txt'):\n",
    "            yield dictionary.doc2bow(text)\n",
    "    def DelhiHC(self):\n",
    "        for text in files_to_tokens('LegalAdhocTask/SC-HCAdhocData/DelhiHC/**/*.txt'):\n",
    "            yield dictionary.doc2bow(text)\n",
    "    def JharkhandHC(self):\n",
    "        for text in files_to_tokens('LegalAdhocTask/SC-HCAdhocData/JharkhandHC/**/*.txt'):\n",
    "            yield dictionary.doc2bow(text)\n",
    "    def JodhpurHC(self):\n",
    "        for text in  files_to_tokens('LegalAdhocTask/SC-HCAdhocData/JodhpurHC/**/*.txt'):\n",
    "            yield dictionary.doc2bow(text)\n",
    "    def KolkataHC(self):\n",
    "        for text in  files_to_tokens('LegalAdhocTask/SC-HCAdhocData/KolkataHC/**/*.txt'):\n",
    "            yield dictionary.doc2bow(text)\n",
    "    def SupremeCourt(self):\n",
    "        for text in  files_to_tokens('LegalAdhocTask/SC-HCAdhocData/SupremeCourt/**/*.txt'):\n",
    "            yield dictionary.doc2bow(text)\n",
    "    def everything(self):\n",
    "        return chain(self.DCDRC(), self.NCDRC(), self.SCDRC(), self.DelhiHC(),\n",
    "                     self.JharkhandHC(), self.JodhpurHC(), self.KolkataHC(), self.SupremeCourt())\n",
    "        \n",
    "        "
   ]
  },
  {
   "cell_type": "code",
   "execution_count": 9,
   "metadata": {
    "scrolled": false
   },
   "outputs": [
    {
     "name": "stderr",
     "output_type": "stream",
     "text": [
      "2018-01-04 11:43:42,063 : INFO : loading Dictionary object from newdictionary\n",
      "2018-01-04 11:43:42,075 : INFO : loaded newdictionary\n"
     ]
    }
   ],
   "source": [
    "#################################### laod the dictinary\n",
    "dictionary = corpora.Dictionary.load('newdictionary')"
   ]
  },
  {
   "cell_type": "code",
   "execution_count": 10,
   "metadata": {
    "scrolled": false
   },
   "outputs": [
    {
     "name": "stderr",
     "output_type": "stream",
     "text": [
      "2018-01-04 11:43:42,249 : INFO : loaded corpus index from newcorpus.mm.index\n",
      "2018-01-04 11:43:42,250 : INFO : initializing corpus reader from newcorpus.mm\n",
      "2018-01-04 11:43:42,251 : INFO : accepted corpus with 351985 documents, 35955 features, 88778565 non-zero entries\n"
     ]
    }
   ],
   "source": [
    "######################################## load BOW\n",
    "corpus = corpora.MmCorpus('newcorpus.mm')"
   ]
  },
  {
   "cell_type": "code",
   "execution_count": 11,
   "metadata": {
    "collapsed": true
   },
   "outputs": [],
   "source": [
    "# get the query truth in dictionary\n",
    "query_truth = {}\n",
    "for i in range(1,11):\n",
    "    query_truth[str(i)]=[]\n",
    "    \n",
    "    \n",
    "f = open('LegalAdhocTask/Consumer.qrels')\n",
    "lines = [line.rstrip('\\n').split(\"\\t\") for line in f]\n",
    "for line in lines:\n",
    "    del line[1]\n",
    "    query_truth[line[0]].append(line[1:])\n"
   ]
  },
  {
   "cell_type": "code",
   "execution_count": 12,
   "metadata": {
    "collapsed": true
   },
   "outputs": [],
   "source": [
    "from  scipy.stats import rankdata\n",
    "import copy\n"
   ]
  },
  {
   "cell_type": "code",
   "execution_count": null,
   "metadata": {
    "collapsed": true
   },
   "outputs": [],
   "source": [
    "# HAS BEEN SAVED\n",
    "# capital C denotes collection\n",
    "wc_C = {}\n",
    "total_C = 0\n",
    "for doc in corpus:\n",
    "    for word,freq in doc:\n",
    "        total_C += freq\n",
    "        if word in wc_C:\n",
    "            wc_C[word] += freq\n",
    "        else:\n",
    "            wc_C[word] = freq\n",
    "\n",
    "            \n",
    "# probability of a word in the colllection\n",
    "p_C = {}            \n",
    "for key in wc_C.iterkeys():\n",
    "    p_C[key] = float(wc_C[key])/float(total_C)\n",
    "    \n",
    "    "
   ]
  },
  {
   "cell_type": "code",
   "execution_count": null,
   "metadata": {
    "collapsed": true
   },
   "outputs": [],
   "source": [
    "import cPickle as pickle\n",
    "with open('p_C.pkl', 'wb') as output:\n",
    "    pickle.dump(p_C, output, pickle.HIGHEST_PROTOCOL)"
   ]
  },
  {
   "cell_type": "code",
   "execution_count": 13,
   "metadata": {
    "collapsed": true
   },
   "outputs": [],
   "source": [
    "# load p_C\n",
    "with open('p_C.pkl', 'rb') as ip:\n",
    "    p_C = pickle.load(ip)"
   ]
  },
  {
   "cell_type": "code",
   "execution_count": null,
   "metadata": {
    "collapsed": true
   },
   "outputs": [],
   "source": [
    "# list of document lengths in the corpus\n",
    "doc_len = []\n",
    "for doc in corpus:\n",
    "    temp = 0\n",
    "    for word, freq in doc:\n",
    "        temp += freq \n",
    "    doc_len.append(temp)"
   ]
  },
  {
   "cell_type": "code",
   "execution_count": null,
   "metadata": {
    "collapsed": true
   },
   "outputs": [],
   "source": [
    "with open('doc_len.pkl', 'wb') as output:\n",
    "    pickle.dump(doc_len, output, pickle.HIGHEST_PROTOCOL)"
   ]
  },
  {
   "cell_type": "code",
   "execution_count": 14,
   "metadata": {
    "collapsed": true
   },
   "outputs": [],
   "source": [
    "# load doc_len\n",
    "with open('doc_len.pkl', 'rb') as ip:\n",
    "    doc_len = pickle.load(ip)"
   ]
  },
  {
   "cell_type": "code",
   "execution_count": 55,
   "metadata": {},
   "outputs": [
    {
     "data": {
      "text/plain": [
       "1955.0"
      ]
     },
     "execution_count": 55,
     "metadata": {},
     "output_type": "execute_result"
    }
   ],
   "source": [
    "doc_len[2]"
   ]
  },
  {
   "cell_type": "code",
   "execution_count": null,
   "metadata": {
    "collapsed": true
   },
   "outputs": [],
   "source": [
    "min(p_C.values())"
   ]
  },
  {
   "cell_type": "code",
   "execution_count": null,
   "metadata": {
    "collapsed": true
   },
   "outputs": [],
   "source": [
    "max(p_C.values())"
   ]
  },
  {
   "cell_type": "code",
   "execution_count": null,
   "metadata": {
    "collapsed": true,
    "scrolled": true
   },
   "outputs": [],
   "source": [
    "# plot what?\n",
    "data = p_C.values()\n",
    "binwidth = (max(data) - min(data))/10000\n",
    "import matplotlib.pyplot as plt\n",
    "%matplotlib inline\n",
    "import numpy as np\n",
    "plt.figure(figsize=(20,8))\n",
    "\n",
    "plt.hist(data, bins=np.arange(min(data), max(data) + binwidth, binwidth))\n"
   ]
  },
  {
   "cell_type": "code",
   "execution_count": 15,
   "metadata": {
    "collapsed": true
   },
   "outputs": [],
   "source": [
    "\n",
    "import math\n",
    "from six import iteritems\n",
    "from six.moves import xrange\n",
    "\n",
    "\n",
    "# JM parameter\n",
    "LAMBDA = 0.7\n",
    "\n",
    "\n",
    "class JM(object):\n",
    "\n",
    "    def __init__(self, corpus):\n",
    "        self.corpus = corpus\n",
    "        self.corpus_size = dictionary.num_docs\n",
    "\n",
    "    \n",
    "    def get_score(self, query, index, query_len):\n",
    "        # word -> freq of doc.\n",
    "        index_doc = dict(self.corpus[index])\n",
    "        score = 0\n",
    "        for word,freq in query:\n",
    "            if word not in index_doc:\n",
    "                continue\n",
    "            p_ml = float(freq)/float(doc_len[index])\n",
    "            \n",
    "            score += math.log(1 + (1 - LAMBDA) * p_ml / (LAMBDA * p_C[word]) )\n",
    "        return score + query_len * math.log(LAMBDA)\n",
    "\n",
    "    def get_scores(self, query):\n",
    "        scores = []\n",
    "        query_len = 0\n",
    "        for word, freq in query:\n",
    "            query_len += freq\n",
    "        for index in xrange(self.corpus_size):\n",
    "            score = self.get_score(query, index, query_len)\n",
    "            scores.append(score)\n",
    "        return scores\n",
    "\n"
   ]
  },
  {
   "cell_type": "code",
   "execution_count": 16,
   "metadata": {
    "collapsed": true
   },
   "outputs": [],
   "source": [
    "# run it once for initializing the idf \n",
    "jm = JM(corpus)"
   ]
  },
  {
   "cell_type": "code",
   "execution_count": 17,
   "metadata": {
    "collapsed": true
   },
   "outputs": [],
   "source": [
    "LAMBDA = 0.7"
   ]
  },
  {
   "cell_type": "code",
   "execution_count": 18,
   "metadata": {
    "scrolled": true
   },
   "outputs": [
    {
     "name": "stdout",
     "output_type": "stream",
     "text": [
      "0\n",
      "1\n",
      "2\n",
      "3\n",
      "4\n",
      "5\n",
      "6\n",
      "7\n",
      "8\n",
      "9\n"
     ]
    }
   ],
   "source": [
    "tfidf_results = copy.deepcopy(query_truth)\n",
    "\n",
    "sim_list = [0]\n",
    "rank_list = [0]\n",
    "queries = [0]\n",
    "for i,query in enumerate(files_to_tokens('LegalAdhocTask/q*.txt')):\n",
    "    queries.append(query)\n",
    "    sims = jm.get_scores(dictionary.doc2bow(query))\n",
    "    sim_list.append(sims)\n",
    "    # rank of every document wrt similarity\n",
    "    ranks = rankdata(sims, method='ordinal')\n",
    "    ranks= len(ranks)+1 - ranks \n",
    "    rank_list.append(ranks)\n",
    "    \n",
    "    # update the query truth tuples with similarity score and the ranks\n",
    "    for x in tfidf_results[str(i+1)]:\n",
    "        x.append(sims[filenames.index(x[0]+'.txt')])\n",
    "        x.append(ranks[filenames.index(x[0]+'.txt')])\n",
    "        #x.append(common_words(filenames.index(x[0]+'.txt'), tfidf_corpus, query))\n",
    "    print i\n",
    "    # sort wrt relevance(from truth) and then ranks(from our model)\n",
    "    #tfidf_results[str(i+1)].sort(key=lambda x: (-int(x[1]),x[3]))     \n",
    "    \n",
    "        "
   ]
  },
  {
   "cell_type": "code",
   "execution_count": 19,
   "metadata": {},
   "outputs": [
    {
     "data": {
      "text/plain": [
       "{'1': [['ConsumerCourt_DCDRC_100385', '1', -20.475714767617376, 109374],\n",
       "  ['ConsumerCourt_DCDRC_106530', '0', -21.463536804246065, 147154],\n",
       "  ['ConsumerCourt_DCDRC_107608', '1', -14.457562345007968, 9985],\n",
       "  ['ConsumerCourt_DCDRC_114291', '1', -20.916387948259647, 125345],\n",
       "  ['ConsumerCourt_DCDRC_114382', '1', -20.368197675817555, 105735],\n",
       "  ['ConsumerCourt_DCDRC_118185', '1', -8.665591959087855, 482],\n",
       "  ['ConsumerCourt_DCDRC_130318', '0', -23.036089602687028, 215677],\n",
       "  ['ConsumerCourt_DCDRC_130570', '1', -22.53547021722838, 193990],\n",
       "  ['ConsumerCourt_DCDRC_131146', '1', -13.367906402670577, 5923],\n",
       "  ['ConsumerCourt_DCDRC_131717', '1', -16.80258240231581, 27676],\n",
       "  ['ConsumerCourt_DCDRC_131741', '1', -23.933950675419574, 253555],\n",
       "  ['ConsumerCourt_DCDRC_131818', '1', -19.5436337713607, 79968],\n",
       "  ['ConsumerCourt_DCDRC_131950', '0', -23.906857621273765, 252448],\n",
       "  ['ConsumerCourt_DCDRC_131972', '0', -25.45044961566684, 306137],\n",
       "  ['ConsumerCourt_DCDRC_132932', '0', -18.79545197132356, 60939],\n",
       "  ['ConsumerCourt_DCDRC_133592', '1', -17.415896175854648, 35641],\n",
       "  ['ConsumerCourt_DCDRC_134386', '0', -16.942661523402766, 29320],\n",
       "  ['ConsumerCourt_DCDRC_135474', '1', -25.78317959832367, 314529],\n",
       "  ['ConsumerCourt_DCDRC_139024', '0', -21.326000406755544, 141531],\n",
       "  ['ConsumerCourt_DCDRC_139205', '0', -22.20617481234141, 179583],\n",
       "  ['ConsumerCourt_DCDRC_140039', '1', -19.278685538344426, 72767],\n",
       "  ['ConsumerCourt_DCDRC_145708', '0', -20.194402253215436, 99840],\n",
       "  ['ConsumerCourt_DCDRC_187214', '1', -14.041824562365703, 8166],\n",
       "  ['ConsumerCourt_DCDRC_207784', '1', -18.359060019965206, 51514],\n",
       "  ['ConsumerCourt_DCDRC_217344', '1', -16.207299773614068, 21569],\n",
       "  ['ConsumerCourt_DCDRC_217471', '1', -20.46038952255479, 108880],\n",
       "  ['ConsumerCourt_DCDRC_222797', '0', -21.732688114191355, 158371],\n",
       "  ['ConsumerCourt_DCDRC_222844', '1', -22.79685959515291, 205380],\n",
       "  ['ConsumerCourt_DCDRC_224228', '0', -23.22647885676188, 223972],\n",
       "  ['ConsumerCourt_DCDRC_224833', '0', -14.819875180200672, 11710],\n",
       "  ['ConsumerCourt_DCDRC_226072', '1', -22.599463992732993, 196888],\n",
       "  ['ConsumerCourt_DCDRC_38498', '0', -16.87753832368262, 28487],\n",
       "  ['ConsumerCourt_DCDRC_39186', '1', -24.97479424741024, 290035],\n",
       "  ['ConsumerCourt_DCDRC_41317', '1', -22.2727578148124, 182463],\n",
       "  ['ConsumerCourt_DCDRC_41588', '1', -21.681193097257992, 156277],\n",
       "  ['ConsumerCourt_DCDRC_42118', '1', -23.164817500788736, 221264],\n",
       "  ['ConsumerCourt_DCDRC_42618', '1', -18.862479813045827, 62452],\n",
       "  ['ConsumerCourt_DCDRC_42649', '1', -13.660584135413021, 6808],\n",
       "  ['ConsumerCourt_DCDRC_44200', '1', -20.69063515354994, 116947],\n",
       "  ['ConsumerCourt_DCDRC_46368', '1', -18.058703734516907, 46001],\n",
       "  ['ConsumerCourt_DCDRC_46519', '1', -22.530322220431785, 193762],\n",
       "  ['ConsumerCourt_DCDRC_46543', '1', -19.11780525361452, 68647],\n",
       "  ['ConsumerCourt_DCDRC_53138', '1', -19.706262493085553, 84626],\n",
       "  ['ConsumerCourt_DCDRC_55517', '1', -21.114826307177267, 133069],\n",
       "  ['ConsumerCourt_DCDRC_55612', '1', -16.40415568819462, 23452],\n",
       "  ['ConsumerCourt_DCDRC_55678', '1', -17.393300544053016, 35308],\n",
       "  ['ConsumerCourt_DCDRC_55899', '1', -18.67545260406073, 58222],\n",
       "  ['ConsumerCourt_DCDRC_57484', '0', -22.804130640441322, 205672],\n",
       "  ['ConsumerCourt_DCDRC_74868', '1', -22.257236603986954, 181719],\n",
       "  ['ConsumerCourt_DCDRC_80057', '1', -17.060163793364943, 30828],\n",
       "  ['ConsumerCourt_DCDRC_83596', '0', -22.269862893533357, 182323],\n",
       "  ['ConsumerCourt_DCDRC_83779', '0', -17.015076541848753, 30253],\n",
       "  ['ConsumerCourt_DCDRC_96667', '1', -23.16806032173651, 221396],\n",
       "  ['ConsumerCourt_DCDRC_98733', '1', -14.27442280109402, 9151],\n",
       "  ['ConsumerCourt_SCDRC_52678', '0', -26.788192232917233, 331367],\n",
       "  ['DelhiHC_2011_4267', '0', -19.30019268282236, 73314],\n",
       "  ['KolkataHCOriginalSite_2012_36', '0', -22.60622742694146, 197177]],\n",
       " '10': [['ConsumerCourt_DCDRC_220958', '0', -12.657100242032065, 255972],\n",
       "  ['ConsumerCourt_DCDRC_222509', '0', -10.106825849154589, 101164],\n",
       "  ['ConsumerCourt_DCDRC_223570', '0', -8.50582726078456, 44497],\n",
       "  ['ConsumerCourt_DCDRC_227314', '0', -14.62367270148803, 351168],\n",
       "  ['ConsumerCourt_DCDRC_228688', '1', -9.150893121508087, 62723],\n",
       "  ['ConsumerCourt_DCDRC_235883', '0', -9.254430265646393, 66361],\n",
       "  ['ConsumerCourt_DCDRC_38192', '0', -8.08287838160209, 35480],\n",
       "  ['ConsumerCourt_DCDRC_41485', '0', -9.240066202335973, 65795],\n",
       "  ['ConsumerCourt_DCDRC_41489', '0', -7.846859593014581, 31161],\n",
       "  ['ConsumerCourt_DCDRC_41520', '0', -10.317003844532017, 111596],\n",
       "  ['ConsumerCourt_SCDRC_44836', '0', -4.726164318419945, 5145],\n",
       "  ['ConsumerCourt_SCDRC_56350', '0', -9.681057936027845, 82059],\n",
       "  ['ConsumerCourt_SCDRC_65898', '0', -11.26464308299177, 167438],\n",
       "  ['ConsumerCourt_SCDRC_68718', '0', -10.880196125858667, 143573],\n",
       "  ['ConsumerCourt_SCDRC_69937', '1', -14.62367270148803, 350652],\n",
       "  ['ConsumerCourt_SCDRC_70632', '0', -7.4003294691561035, 24357],\n",
       "  ['DelhiHC_2008_2771', '0', -12.668225658250154, 256633],\n",
       "  ['DelhiHC_2008_2772', '0', -11.8893205014338, 208607]],\n",
       " '2': [['ConsumerCourt_DCDRC_103241', '0', -7.04168083377824, 276810],\n",
       "  ['ConsumerCourt_DCDRC_107786', '1', -6.3144688914835845, 160732],\n",
       "  ['ConsumerCourt_DCDRC_114305', '1', -6.020125059925933, 126317],\n",
       "  ['ConsumerCourt_DCDRC_120930', '1', -6.329953918016404, 162871],\n",
       "  ['ConsumerCourt_DCDRC_123490', '1', -4.380249477726785, 36722],\n",
       "  ['ConsumerCourt_DCDRC_125352', '1', -5.9504217124041405, 119389],\n",
       "  ['ConsumerCourt_DCDRC_127791', '0', -3.4769785334806436, 18313],\n",
       "  ['ConsumerCourt_DCDRC_130071', '0', -5.901475540475315, 115099],\n",
       "  ['ConsumerCourt_DCDRC_130920', '1', -6.163147418919758, 141820],\n",
       "  ['ConsumerCourt_DCDRC_131972', '0', -6.514989845213039, 192498],\n",
       "  ['ConsumerCourt_DCDRC_133106', '1', -6.652531242932628, 217861],\n",
       "  ['ConsumerCourt_DCDRC_133260', '0', -6.76048093279501, 237276],\n",
       "  ['ConsumerCourt_DCDRC_143284', '1', -6.792125820833436, 242831],\n",
       "  ['ConsumerCourt_DCDRC_143334', '0', -6.6264848864549615, 213027],\n",
       "  ['ConsumerCourt_DCDRC_144440', '0', -6.401144354913181, 172995],\n",
       "  ['ConsumerCourt_DCDRC_202900', '0', -6.0232228194656035, 126643],\n",
       "  ['ConsumerCourt_DCDRC_202903', '0', -5.022267363395248, 60341],\n",
       "  ['ConsumerCourt_DCDRC_207376', '1', -6.384362409180018, 170346],\n",
       "  ['ConsumerCourt_DCDRC_212601', '0', -6.321999129581095, 161721],\n",
       "  ['ConsumerCourt_DCDRC_212692', '1', -6.479603960701071, 185951],\n",
       "  ['ConsumerCourt_DCDRC_214518', '1', -6.4267982056513215, 177044],\n",
       "  ['ConsumerCourt_DCDRC_226924', '0', -5.8623355280955, 111773],\n",
       "  ['ConsumerCourt_DCDRC_227866', '1', -7.065689835172207, 277527],\n",
       "  ['ConsumerCourt_DCDRC_228749', '1', -4.974823413365108, 58263],\n",
       "  ['ConsumerCourt_DCDRC_229221', '0', -6.930322598090012, 265776],\n",
       "  ['ConsumerCourt_DCDRC_230361', '1', -6.892269113738233, 260005],\n",
       "  ['ConsumerCourt_DCDRC_41190', '0', -6.267885234310516, 154672],\n",
       "  ['ConsumerCourt_DCDRC_50671', '1', -5.467284339146932, 83960],\n",
       "  ['ConsumerCourt_DCDRC_52620', '1', -4.600500522844857, 43673],\n",
       "  ['ConsumerCourt_DCDRC_53093', '1', -6.559344476725924, 200713],\n",
       "  ['ConsumerCourt_DCDRC_53138', '0', -7.004513119175458, 274343],\n",
       "  ['ConsumerCourt_DCDRC_53153', '1', -4.372011300142579, 36464],\n",
       "  ['ConsumerCourt_DCDRC_53432', '0', -6.752688631557469, 235876],\n",
       "  ['ConsumerCourt_DCDRC_53875', '0', -6.7779959766423445, 240264],\n",
       "  ['ConsumerCourt_DCDRC_53881', '0', -4.551701118437405, 42062],\n",
       "  ['ConsumerCourt_DCDRC_56471', '1', -4.53059593648445, 41376],\n",
       "  ['ConsumerCourt_DCDRC_56761', '0', -6.598802927881094, 207909],\n",
       "  ['ConsumerCourt_DCDRC_57453', '0', -4.06736214204868, 28890],\n",
       "  ['ConsumerCourt_DCDRC_57583', '0', -6.513329109689192, 192220],\n",
       "  ['ConsumerCourt_DCDRC_62986', '0', -5.669278015849105, 96906],\n",
       "  ['ConsumerCourt_DCDRC_63724', '0', -6.230297425520768, 150030],\n",
       "  ['ConsumerCourt_DCDRC_68765', '0', -4.905793851237127, 55319],\n",
       "  ['ConsumerCourt_DCDRC_68808', '0', -6.397395087114259, 172299],\n",
       "  ['ConsumerCourt_DCDRC_69863', '0', -5.934324722872015, 117962],\n",
       "  ['ConsumerCourt_DCDRC_74887', '0', -4.9817326449286785, 58590],\n",
       "  ['ConsumerCourt_DCDRC_75562', '0', -5.843296155523941, 110180],\n",
       "  ['ConsumerCourt_DCDRC_76114', '0', -6.66776586219601, 220742],\n",
       "  ['ConsumerCourt_DCDRC_76186', '0', -6.536361032803189, 196371],\n",
       "  ['ConsumerCourt_DCDRC_76270', '0', -6.481739813595285, 186479],\n",
       "  ['ConsumerCourt_DCDRC_77085', '1', -7.002057691612636, 274096],\n",
       "  ['ConsumerCourt_DCDRC_77280', '0', -5.18783140310601, 68478],\n",
       "  ['ConsumerCourt_DCDRC_77935', '1', -6.484997947992588, 186985],\n",
       "  ['ConsumerCourt_DCDRC_87186', '0', -6.359940306741729, 166860],\n",
       "  ['ConsumerCourt_DCDRC_91864', '1', -4.346295581140476, 35801],\n",
       "  ['ConsumerCourt_DCDRC_96244', '1', -5.931721240216306, 117745],\n",
       "  ['ConsumerCourt_NCDRC_1317', '0', -2.244606347253674, 6574],\n",
       "  ['ConsumerCourt_SCDRC_49685', '0', -6.160953785887536, 141567],\n",
       "  ['ConsumerCourt_SCDRC_60064', '1', -5.987192130068762, 122991],\n",
       "  ['ConsumerCourt_SCDRC_62062', '1', -5.8392495637579875, 109857]],\n",
       " '3': [['ConsumerCourt_DCDRC_103355', '0', -11.920274507835089, 135628],\n",
       "  ['ConsumerCourt_DCDRC_129293', '1', -10.200328835191034, 61260],\n",
       "  ['ConsumerCourt_DCDRC_133013', '1', -8.806763496911202, 27932],\n",
       "  ['ConsumerCourt_DCDRC_133017', '0', -14.12376362519901, 262201],\n",
       "  ['ConsumerCourt_DCDRC_137661', '0', -9.342182217762577, 38387],\n",
       "  ['ConsumerCourt_DCDRC_153064', '0', -14.527719997471468, 280637],\n",
       "  ['ConsumerCourt_DCDRC_187619', '1', -12.525214245238082, 169467],\n",
       "  ['ConsumerCourt_DCDRC_200840', '0', -13.346526978557824, 219850],\n",
       "  ['ConsumerCourt_DCDRC_222260', '1', -10.456853930482902, 70176],\n",
       "  ['ConsumerCourt_DCDRC_222772', '1', -11.34315169565386, 106772],\n",
       "  ['ConsumerCourt_DCDRC_223618', '1', -12.679070411416753, 178697],\n",
       "  ['ConsumerCourt_DCDRC_228476', '0', -7.958352785889988, 16684],\n",
       "  ['ConsumerCourt_DCDRC_228963', '1', -9.559394704821585, 43363],\n",
       "  ['ConsumerCourt_DCDRC_230634', '1', -14.811611863592947, 293724],\n",
       "  ['ConsumerCourt_DCDRC_235824', '0', -10.40004589804984, 68126],\n",
       "  ['ConsumerCourt_DCDRC_45666', '0', -6.65976085594713, 7254],\n",
       "  ['ConsumerCourt_DCDRC_47493', '1', -9.746401855551376, 48095],\n",
       "  ['ConsumerCourt_DCDRC_52566', '0', -12.205204431697656, 151269],\n",
       "  ['ConsumerCourt_DCDRC_73184', '0', -12.81757868814456, 186965],\n",
       "  ['ConsumerCourt_DCDRC_73185', '0', -4.510184753525252, 1780],\n",
       "  ['ConsumerCourt_NCDRC_2861', '1', -13.417891307893468, 224048],\n",
       "  ['ConsumerCourt_NCDRC_2902', '0', -9.611671685144149, 44703],\n",
       "  ['ConsumerCourt_NCDRC_2979', '0', -11.012228575528152, 91970],\n",
       "  ['ConsumerCourt_NCDRC_632', '0', -11.050992025130604, 93668],\n",
       "  ['ConsumerCourt_NCDRC_637', '0', -12.586608799471442, 173117],\n",
       "  ['ConsumerCourt_SCDRC_2052', '0', -15.693697533304228, 346567],\n",
       "  ['ConsumerCourt_SCDRC_22704', '0', -15.693697533304228, 346040],\n",
       "  ['ConsumerCourt_SCDRC_29484', '0', -9.873771714764722, 51497],\n",
       "  ['ConsumerCourt_SCDRC_29552', '0', -8.577307629248946, 24295],\n",
       "  ['ConsumerCourt_SCDRC_30176', '0', -15.693697533304228, 348550],\n",
       "  ['ConsumerCourt_SCDRC_48394', '0', -12.238865393903227, 153193],\n",
       "  ['ConsumerCourt_SCDRC_63569', '0', -13.376001520001264, 221502],\n",
       "  ['ConsumerCourt_SCDRC_63609', '0', -11.233049733913292, 101602],\n",
       "  ['ConsumerCourt_SCDRC_65919', '0', -10.091319762241476, 57903],\n",
       "  ['ConsumerCourt_SCDRC_66200', '0', -12.391181480544152, 161815],\n",
       "  ['ConsumerCourt_SCDRC_69801', '0', -12.272003169377154, 155046],\n",
       "  ['ConsumerCourt_SCDRC_814', '0', -14.101388458450021, 261156],\n",
       "  ['DelhiHC_2012_388', '0', -13.831292559345789, 247369]],\n",
       " '4': [['ConsumerCourt_DCDRC_106570', '0', -4.1414168823884125, 28950],\n",
       "  ['ConsumerCourt_DCDRC_116129', '1', -5.716332710242547, 107939],\n",
       "  ['ConsumerCourt_DCDRC_128836', '0', -5.426204541320793, 86295],\n",
       "  ['ConsumerCourt_DCDRC_130725', '1', -5.74160544152247, 109970],\n",
       "  ['ConsumerCourt_DCDRC_133137', '0', -6.196498121829111, 150543],\n",
       "  ['ConsumerCourt_DCDRC_173376', '0', -6.793762238873701, 213368],\n",
       "  ['ConsumerCourt_DCDRC_174292', '0', -6.901939352731713, 224720],\n",
       "  ['ConsumerCourt_DCDRC_174300', '1', -1.8906536169124353, 4028],\n",
       "  ['ConsumerCourt_DCDRC_202903', '0', -5.0297072624384995, 62140],\n",
       "  ['ConsumerCourt_DCDRC_205816', '1', -5.841300969185159, 118172],\n",
       "  ['ConsumerCourt_DCDRC_207155', '0', -6.454020914115151, 176543],\n",
       "  ['ConsumerCourt_DCDRC_207197', '0', -5.407926015574077, 85022],\n",
       "  ['ConsumerCourt_DCDRC_212467', '1', -5.727242052756695, 108826],\n",
       "  ['ConsumerCourt_DCDRC_213156', '0', -2.498352947837267, 6688],\n",
       "  ['ConsumerCourt_DCDRC_213473', '0', -4.850678316585682, 53633],\n",
       "  ['ConsumerCourt_DCDRC_213784', '0', -5.148916620056916, 68742],\n",
       "  ['ConsumerCourt_DCDRC_214475', '0', -5.774501862802252, 112570],\n",
       "  ['ConsumerCourt_DCDRC_218582', '0', -6.193938450935134, 150302],\n",
       "  ['ConsumerCourt_DCDRC_221177', '0', -3.1321521625762134, 11660],\n",
       "  ['ConsumerCourt_DCDRC_221424', '0', -6.742096842013902, 207803],\n",
       "  ['ConsumerCourt_DCDRC_223275', '0', -5.284987226147157, 76791],\n",
       "  ['ConsumerCourt_DCDRC_226909', '0', -6.1015379251023685, 141458],\n",
       "  ['ConsumerCourt_DCDRC_227099', '0', -5.26432239660884, 75533],\n",
       "  ['ConsumerCourt_DCDRC_229902', '0', -6.850908416786191, 219338],\n",
       "  ['ConsumerCourt_DCDRC_47636', '0', -7.846848766652114, 350990],\n",
       "  ['ConsumerCourt_DCDRC_49131', '0', -7.846848766652114, 350850],\n",
       "  ['ConsumerCourt_DCDRC_51881', '0', -5.405675647444191, 84875],\n",
       "  ['ConsumerCourt_DCDRC_52357', '0', -4.848543568985745, 53536],\n",
       "  ['ConsumerCourt_DCDRC_53202', '0', -4.928230029173678, 57162],\n",
       "  ['ConsumerCourt_DCDRC_53580', '1', -7.016745175063976, 236302],\n",
       "  ['ConsumerCourt_DCDRC_54056', '1', -6.434922999792205, 174574],\n",
       "  ['ConsumerCourt_DCDRC_70122', '0', -6.770991795359962, 210847],\n",
       "  ['ConsumerCourt_DCDRC_73309', '0', -3.991379521505688, 25413],\n",
       "  ['ConsumerCourt_NCDRC_2154', '0', -3.3883662287501135, 14656],\n",
       "  ['ConsumerCourt_NCDRC_3506', '0', -6.001618879306084, 132239],\n",
       "  ['ConsumerCourt_SCDRC_1143', '1', -5.939475157967326, 126756],\n",
       "  ['ConsumerCourt_SCDRC_1288', '1', -7.454408501000463, 266117],\n",
       "  ['ConsumerCourt_SCDRC_22830', '0', -7.846848766652114, 341761],\n",
       "  ['ConsumerCourt_SCDRC_37679', '1', -3.0630949714593747, 11022],\n",
       "  ['ConsumerCourt_SCDRC_471', '0', -6.618430329235828, 194415],\n",
       "  ['ConsumerCourt_SCDRC_49973', '1', -4.309981831361452, 33682],\n",
       "  ['ConsumerCourt_SCDRC_5406', '0', -2.6423074668915776, 7588],\n",
       "  ['ConsumerCourt_SCDRC_7046', '1', -7.090302089789709, 242916],\n",
       "  ['DelhiHC_2012_3856', '0', -6.1911618409653535, 150011],\n",
       "  ['SupremeCourt_2009_1421', '0', -6.983969725702633, 233050]],\n",
       " '5': [['ConsumerCourt_DCDRC_124651', '0', -5.996683007863053, 167702],\n",
       "  ['ConsumerCourt_DCDRC_138545', '0', -3.5674406764964477, 31921],\n",
       "  ['ConsumerCourt_DCDRC_139183', '0', -4.851520313875273, 85211],\n",
       "  ['ConsumerCourt_DCDRC_141380', '0', -4.403797893824509, 62109],\n",
       "  ['ConsumerCourt_DCDRC_148691', '1', -6.580322301999876, 216170],\n",
       "  ['ConsumerCourt_DCDRC_202903', '0', -5.965512698692118, 165235],\n",
       "  ['ConsumerCourt_DCDRC_208296', '0', -5.993473125908269, 167466],\n",
       "  ['ConsumerCourt_DCDRC_223817', '0', -2.784363737560189, 16800],\n",
       "  ['ConsumerCourt_DCDRC_226994', '0', -5.751335459020074, 148121],\n",
       "  ['ConsumerCourt_DCDRC_229911', '1', -6.42996922163789, 203505],\n",
       "  ['ConsumerCourt_DCDRC_41155', '1', -4.627143463121757, 72831],\n",
       "  ['ConsumerCourt_DCDRC_41262', '0', -5.026539231836565, 95965],\n",
       "  ['ConsumerCourt_DCDRC_41428', '0', -5.542980167400303, 132153],\n",
       "  ['ConsumerCourt_DCDRC_42411', '0', -2.362669548275414, 11584],\n",
       "  ['ConsumerCourt_DCDRC_46404', '0', -7.331124492016507, 277100],\n",
       "  ['ConsumerCourt_DCDRC_53679', '1', -5.631896783366406, 139008],\n",
       "  ['ConsumerCourt_DCDRC_57315', '1', -5.296982937203255, 114180],\n",
       "  ['ConsumerCourt_DCDRC_57465', '0', -3.4400507520272923, 28867],\n",
       "  ['ConsumerCourt_DCDRC_57488', '0', -6.034658155267584, 170797],\n",
       "  ['ConsumerCourt_DCDRC_57914', '1', -5.789049555282291, 151110],\n",
       "  ['ConsumerCourt_DCDRC_66294', '0', -6.21077228487219, 185204],\n",
       "  ['ConsumerCourt_DCDRC_96799', '0', -7.213759040038012, 266951],\n",
       "  ['ConsumerCourt_NCDRC_1337', '1', -4.2741934939978385, 56342],\n",
       "  ['ConsumerCourt_NCDRC_1338', '0', -5.798612359518623, 151838],\n",
       "  ['ConsumerCourt_NCDRC_2983', '1', -6.0077339099024885, 168680],\n",
       "  ['ConsumerCourt_SCDRC_28656', '0', -7.846848766652114, 339069],\n",
       "  ['ConsumerCourt_SCDRC_33517', '1', -7.846848766652114, 339830],\n",
       "  ['ConsumerCourt_SCDRC_5122', '0', -5.247523877512535, 110767],\n",
       "  ['ConsumerCourt_SCDRC_71374', '1', -7.846848766652114, 346377]],\n",
       " '6': [['ConsumerCourt_DCDRC_103021', '1', -19.96878831390232, 46420],\n",
       "  ['ConsumerCourt_DCDRC_119836', '1', -24.930259516117847, 188833],\n",
       "  ['ConsumerCourt_DCDRC_125237', '1', -23.393538628607338, 134663],\n",
       "  ['ConsumerCourt_DCDRC_126276', '0', -26.249172854103552, 234142],\n",
       "  ['ConsumerCourt_DCDRC_131266', '1', -27.066168961978043, 258917],\n",
       "  ['ConsumerCourt_DCDRC_133353', '1', -19.930229371395647, 45750],\n",
       "  ['ConsumerCourt_DCDRC_133354', '0', -20.73230215776416, 60829],\n",
       "  ['ConsumerCourt_DCDRC_134804', '0', -14.206266607436184, 4889],\n",
       "  ['ConsumerCourt_DCDRC_138617', '1', -20.494799001484473, 55915],\n",
       "  ['ConsumerCourt_DCDRC_143983', '0', -26.00746885003907, 225930],\n",
       "  ['ConsumerCourt_DCDRC_207387', '1', -23.29637554828814, 131440],\n",
       "  ['ConsumerCourt_DCDRC_220958', '1', -24.347042065636654, 167964],\n",
       "  ['ConsumerCourt_DCDRC_223570', '1', -17.983621952138208, 21890],\n",
       "  ['ConsumerCourt_DCDRC_223783', '0', -23.339063998457412, 132859],\n",
       "  ['ConsumerCourt_DCDRC_38192', '1', -14.443702328252588, 5382],\n",
       "  ['ConsumerCourt_DCDRC_41485', '0', -23.34785653298765, 133129],\n",
       "  ['ConsumerCourt_DCDRC_41489', '0', -25.403483980964975, 205467],\n",
       "  ['ConsumerCourt_DCDRC_41520', '1', -19.67889666639308, 41791],\n",
       "  ['ConsumerCourt_DCDRC_45421', '0', -18.231745186761636, 24287],\n",
       "  ['ConsumerCourt_DCDRC_52148', '0', -23.331261620764074, 132598],\n",
       "  ['ConsumerCourt_DCDRC_70186', '0', -26.24857734279257, 234125],\n",
       "  ['ConsumerCourt_DCDRC_70341', '0', -13.983982377112326, 4475],\n",
       "  ['ConsumerCourt_DCDRC_90054', '0', -25.62909771063755, 213248],\n",
       "  ['ConsumerCourt_SCDRC_28640', '1', -26.438068267797576, 240316],\n",
       "  ['ConsumerCourt_SCDRC_64152', '0', -22.915393682725213, 118930],\n",
       "  ['ConsumerCourt_SCDRC_68718', '1', -21.43494470706044, 76699],\n",
       "  ['ConsumerCourt_SCDRC_70632', '0', -23.889336016561757, 151823],\n",
       "  ['DelhiHC_2009_735', '1', -18.15328791900826, 23527],\n",
       "  ['DelhiHC_2012_372', '0', -23.63139575376718, 142924],\n",
       "  ['DelhiHC_2012_374', '0', -26.79180798130638, 251176],\n",
       "  ['SupremeCourt_1996_416', '0', -26.19550119705233, 232394]],\n",
       " '7': [['ConsumerCourt_DCDRC_119406', '1', -19.0188675151716, 135428],\n",
       "  ['ConsumerCourt_DCDRC_121344', '0', -19.840883293613363, 177272],\n",
       "  ['ConsumerCourt_DCDRC_127019', '0', -16.330313484234914, 46374],\n",
       "  ['ConsumerCourt_DCDRC_130205', '0', -20.464037563426338, 210822],\n",
       "  ['ConsumerCourt_DCDRC_207672', '1', -19.333377806435884, 150756],\n",
       "  ['ConsumerCourt_DCDRC_222487', '0', -20.13765868427607, 193178],\n",
       "  ['ConsumerCourt_DCDRC_224805', '0', -21.034292078423604, 241150],\n",
       "  ['ConsumerCourt_DCDRC_235755', '0', -19.13671407839777, 141027],\n",
       "  ['ConsumerCourt_DCDRC_236026', '1', -18.244865197842195, 101813],\n",
       "  ['ConsumerCourt_DCDRC_236229', '0', -20.707678431913248, 224006],\n",
       "  ['ConsumerCourt_DCDRC_33939', '0', -18.51479737044758, 112805],\n",
       "  ['ConsumerCourt_DCDRC_44337', '1', -21.202885066477585, 249770],\n",
       "  ['ConsumerCourt_DCDRC_45534', '0', -19.976224133851638, 184375],\n",
       "  ['ConsumerCourt_DCDRC_46470', '0', -17.167212536582895, 66054],\n",
       "  ['ConsumerCourt_DCDRC_48811', '0', -18.757344280020817, 123421],\n",
       "  ['ConsumerCourt_DCDRC_51454', '1', -20.893228155834468, 233872],\n",
       "  ['ConsumerCourt_DCDRC_64180', '0', -21.141535319425007, 246603],\n",
       "  ['ConsumerCourt_DCDRC_73953', '0', -17.702355351380493, 82178],\n",
       "  ['ConsumerCourt_DCDRC_75554', '0', -17.34818986253113, 71180],\n",
       "  ['ConsumerCourt_SCDRC_1050', '0', -18.951975411497784, 132209],\n",
       "  ['ConsumerCourt_SCDRC_1387', '0', -23.897221243895075, 349456],\n",
       "  ['ConsumerCourt_SCDRC_1418', '0', -19.346172963656066, 151422],\n",
       "  ['ConsumerCourt_SCDRC_65323', '0', -19.84649521564298, 177588],\n",
       "  ['ConsumerCourt_SCDRC_66203', '0', -17.802388173491238, 85546],\n",
       "  ['DelhiHC_2012_2026', '0', -16.906840297095812, 59294]],\n",
       " '8': [['ConsumerCourt_DCDRC_101057', '1', -32.84592408427024, 83329],\n",
       "  ['ConsumerCourt_DCDRC_118168', '0', -39.432962054039166, 283280],\n",
       "  ['ConsumerCourt_DCDRC_118989', '0', -39.958296385581285, 293846],\n",
       "  ['ConsumerCourt_DCDRC_120003', '1', -38.0606248814273, 248630],\n",
       "  ['ConsumerCourt_DCDRC_120004', '1', -38.10727187683822, 250105],\n",
       "  ['ConsumerCourt_DCDRC_121058', '0', -28.554431551229758, 20429],\n",
       "  ['ConsumerCourt_DCDRC_125286', '0', -37.950555184172075, 245442],\n",
       "  ['ConsumerCourt_DCDRC_126274', '0', -32.02215336980177, 64934],\n",
       "  ['ConsumerCourt_DCDRC_128072', '1', -34.35899340309497, 126062],\n",
       "  ['ConsumerCourt_DCDRC_129352', '0', -31.343499068759147, 52665],\n",
       "  ['ConsumerCourt_DCDRC_129820', '0', -31.404315894916362, 53685],\n",
       "  ['ConsumerCourt_DCDRC_131144', '0', -37.24315745651478, 223267],\n",
       "  ['ConsumerCourt_DCDRC_131587', '0', -35.219909089234335, 154049],\n",
       "  ['ConsumerCourt_DCDRC_131846', '0', -35.28384148989554, 156233],\n",
       "  ['ConsumerCourt_DCDRC_132917', '0', -40.70682125605326, 306721],\n",
       "  ['ConsumerCourt_DCDRC_132928', '0', -37.73828179830049, 239059],\n",
       "  ['ConsumerCourt_DCDRC_134709', '0', -41.10196889842512, 314091],\n",
       "  ['ConsumerCourt_DCDRC_140632', '0', -34.3706371426913, 126351],\n",
       "  ['ConsumerCourt_DCDRC_140644', '0', -34.45189210209554, 128857],\n",
       "  ['ConsumerCourt_DCDRC_145502', '0', -32.81503301979098, 82593],\n",
       "  ['ConsumerCourt_DCDRC_169855', '0', -34.429402437130136, 128150],\n",
       "  ['ConsumerCourt_DCDRC_202901', '0', -37.03205553777417, 216067],\n",
       "  ['ConsumerCourt_DCDRC_203935', '0', -38.49371488539925, 260624],\n",
       "  ['ConsumerCourt_DCDRC_222781', '0', -21.259386954107136, 1811],\n",
       "  ['ConsumerCourt_DCDRC_223340', '0', -35.28697869837672, 156347],\n",
       "  ['ConsumerCourt_DCDRC_228779', '0', -30.68399582097354, 42426],\n",
       "  ['ConsumerCourt_DCDRC_229540', '0', -34.220666587487074, 121720],\n",
       "  ['ConsumerCourt_DCDRC_39867', '0', -38.219878487594464, 253263],\n",
       "  ['ConsumerCourt_DCDRC_40822', '0', -38.250852000212596, 254125],\n",
       "  ['ConsumerCourt_DCDRC_41058', '0', -34.38090416060817, 126617],\n",
       "  ['ConsumerCourt_DCDRC_41514', '0', -30.18137256518797, 35869],\n",
       "  ['ConsumerCourt_DCDRC_57900', '1', -31.578382656281306, 56731],\n",
       "  ['ConsumerCourt_DCDRC_69224', '0', -35.32160612660178, 157484],\n",
       "  ['ConsumerCourt_DCDRC_71619', '0', -24.357777908124262, 4747],\n",
       "  ['ConsumerCourt_DCDRC_73864', '0', -37.920359711944016, 244620],\n",
       "  ['ConsumerCourt_DCDRC_75339', '0', -34.7071679741085, 136998],\n",
       "  ['ConsumerCourt_DCDRC_75574', '1', -26.18792810204493, 8890],\n",
       "  ['ConsumerCourt_DCDRC_76123', '0', -34.8106417564006, 140260],\n",
       "  ['ConsumerCourt_DCDRC_85243', '0', -38.11314612374393, 250304],\n",
       "  ['ConsumerCourt_SCDRC_29744', '0', -36.03285901976624, 182063],\n",
       "  ['ConsumerCourt_SCDRC_33757', '0', -28.50122202263254, 20049],\n",
       "  ['ConsumerCourt_SCDRC_53283', '0', -43.51434316052536, 346662],\n",
       "  ['ConsumerCourt_SCDRC_63603', '0', -35.591780748777126, 166716],\n",
       "  ['ConsumerCourt_SCDRC_66106', '1', -28.62408519686953, 20926],\n",
       "  ['ConsumerCourt_SCDRC_66890', '0', -27.793449256777265, 15513],\n",
       "  ['ConsumerCourt_SCDRC_67067', '0', -41.550758757624116, 319538],\n",
       "  ['ConsumerCourt_SCDRC_67949', '0', -32.10008852987924, 66527],\n",
       "  ['ConsumerCourt_SCDRC_67951', '0', -33.050576841745624, 88463],\n",
       "  ['ConsumerCourt_SCDRC_72333', '1', -31.998957134885103, 64480],\n",
       "  ['JodhpurHC_2008_1906', '0', -34.25794970189983, 122894]],\n",
       " '9': [['ConsumerCourt_DCDRC_108097', '0', -17.069142488782806, 279892],\n",
       "  ['ConsumerCourt_DCDRC_119856', '1', -15.282806736341943, 188802],\n",
       "  ['ConsumerCourt_DCDRC_119986', '0', -13.134656136510333, 89614],\n",
       "  ['ConsumerCourt_DCDRC_128297', '0', -11.598163617618033, 45287],\n",
       "  ['ConsumerCourt_DCDRC_128836', '0', -16.174128167883012, 236542],\n",
       "  ['ConsumerCourt_DCDRC_130625', '0', -15.255725177661624, 187359],\n",
       "  ['ConsumerCourt_DCDRC_133010', '0', -3.742865001268285, 1963],\n",
       "  ['ConsumerCourt_DCDRC_138306', '1', -15.136838079337739, 180870],\n",
       "  ['ConsumerCourt_DCDRC_139625', '0', -10.62691309850011, 29447],\n",
       "  ['ConsumerCourt_DCDRC_143537', '0', -16.891813052896502, 271195],\n",
       "  ['ConsumerCourt_DCDRC_202901', '0', -14.643098717623047, 156335],\n",
       "  ['ConsumerCourt_DCDRC_202902', '0', -11.372171674319835, 40840],\n",
       "  ['ConsumerCourt_DCDRC_202903', '0', -15.129870981050924, 180521],\n",
       "  ['ConsumerCourt_DCDRC_222047', '1', -13.042247771805524, 86195],\n",
       "  ['ConsumerCourt_DCDRC_224718', '1', -10.407354879996895, 26681],\n",
       "  ['ConsumerCourt_DCDRC_226994', '0', -12.863678840363477, 79896],\n",
       "  ['ConsumerCourt_DCDRC_227115', '0', -11.026175359668485, 35123],\n",
       "  ['ConsumerCourt_DCDRC_227445', '0', -14.620515288199131, 155209],\n",
       "  ['ConsumerCourt_DCDRC_236013', '1', -15.437308641062728, 197040],\n",
       "  ['ConsumerCourt_DCDRC_38039', '1', -14.101913405857939, 130808],\n",
       "  ['ConsumerCourt_DCDRC_38552', '0', -14.59165319290111, 153846],\n",
       "  ['ConsumerCourt_DCDRC_45418', '0', -16.514714262494863, 253724],\n",
       "  ['ConsumerCourt_DCDRC_53237', '1', -16.796052098754775, 266274],\n",
       "  ['ConsumerCourt_DCDRC_56957', '0', -13.23736268574144, 93617],\n",
       "  ['ConsumerCourt_DCDRC_89958', '0', -7.291030417652644, 7170],\n",
       "  ['ConsumerCourt_NCDRC_2916', '0', -13.052480491268742, 86580],\n",
       "  ['ConsumerCourt_NCDRC_437', '0', -14.385452809519258, 144035],\n",
       "  ['ConsumerCourt_SCDRC_40659', '0', -14.962728700067993, 172017],\n",
       "  ['ConsumerCourt_SCDRC_49689', '0', -16.39069830224195, 247761],\n",
       "  ['ConsumerCourt_SCDRC_53178', '0', -16.257284034927025, 240889],\n",
       "  ['ConsumerCourt_SCDRC_65050', '0', -15.09170705294979, 178635],\n",
       "  ['ConsumerCourt_SCDRC_67634', '0', -17.47707225299789, 345169],\n",
       "  ['ConsumerCourt_SCDRC_68803', '0', -15.88994262069012, 220779],\n",
       "  ['DelhiHC_2008_1343', '0', -16.366996962653225, 246610],\n",
       "  ['DelhiHC_2009_453', '0', -17.47707225299789, 337582],\n",
       "  ['DelhiHC_2010_4683', '0', -16.836432717453498, 268224],\n",
       "  ['DelhiHC_2010_6192', '0', -16.891034617019372, 271056],\n",
       "  ['DelhiHC_2011_69', '0', -13.90548466969655, 121821],\n",
       "  ['DelhiHC_2013_811', '0', -9.036560614383726, 14603],\n",
       "  ['SupremeCourt_2008_278', '0', -8.592934810489762, 11976]]}"
      ]
     },
     "execution_count": 19,
     "metadata": {},
     "output_type": "execute_result"
    }
   ],
   "source": [
    "tfidf_results"
   ]
  },
  {
   "cell_type": "code",
   "execution_count": null,
   "metadata": {
    "collapsed": true
   },
   "outputs": [],
   "source": []
  },
  {
   "cell_type": "code",
   "execution_count": null,
   "metadata": {
    "collapsed": true
   },
   "outputs": [],
   "source": []
  },
  {
   "cell_type": "code",
   "execution_count": null,
   "metadata": {
    "collapsed": true
   },
   "outputs": [],
   "source": []
  },
  {
   "cell_type": "code",
   "execution_count": null,
   "metadata": {
    "collapsed": true
   },
   "outputs": [],
   "source": []
  },
  {
   "cell_type": "code",
   "execution_count": null,
   "metadata": {
    "collapsed": true
   },
   "outputs": [],
   "source": []
  },
  {
   "cell_type": "code",
   "execution_count": 1,
   "metadata": {
    "collapsed": true
   },
   "outputs": [],
   "source": [
    "from openpyxl import Workbook\n",
    "from openpyxl.compat import range\n",
    "from openpyxl.utils import get_column_letter\n",
    "from openpyxl import load_workbook\n",
    "from scipy.stats import hmean\n"
   ]
  },
  {
   "cell_type": "code",
   "execution_count": null,
   "metadata": {
    "collapsed": true
   },
   "outputs": [],
   "source": [
    "wow = tfidf_results"
   ]
  },
  {
   "cell_type": "code",
   "execution_count": null,
   "metadata": {
    "collapsed": true
   },
   "outputs": [],
   "source": [
    "wb = Workbook()\n",
    "wb.save('LM_JM.xlsx')"
   ]
  },
  {
   "cell_type": "code",
   "execution_count": null,
   "metadata": {
    "collapsed": true,
    "scrolled": true
   },
   "outputs": [],
   "source": [
    "# The ranking are beign saved here\n",
    "\n",
    "\n",
    "# save to excel\n",
    "wb2 = load_workbook('LM_JM.xlsx')\n",
    "ws1 = wb.create_sheet(title=\"Lambda=0.7|\")\n",
    "\n",
    "ws1.append(['Query','Filename', 'Relevance', 'Score', 'Rank'])\n",
    "for key,value in wow.iteritems():\n",
    "    for i in value:\n",
    "        ws1.append([int(key)]+ i)\n",
    "\n",
    "wb.save(filename = 'LM_JM.xlsx')"
   ]
  },
  {
   "cell_type": "code",
   "execution_count": 4,
   "metadata": {
    "collapsed": true,
    "scrolled": true
   },
   "outputs": [],
   "source": [
    "\n",
    "### for all k values consider the result of all queries as one and then calculate precision , r, and F\n",
    "\n",
    "\n",
    "\n",
    "import pandas as pd\n",
    "\n",
    "f = pd.ExcelFile('LM_JM.xlsx')\n",
    "\n",
    "\n",
    "x = f.parse(0)\n",
    "\n",
    "total_1 = (float)(x[x['Relevance'] == 1].shape[0])\n",
    "total_0 = (float)(x[x['Relevance'] == 0].shape[0])\n",
    "total = (float)(x.shape[0])\n",
    "\n",
    "\n",
    "model_name = 'LM_JM'\n",
    "places = 4\n",
    "wb = load_workbook('LM_JM.xlsx')\n",
    "ws1 = wb.create_sheet(title=\"evaluation\")\n",
    "\n",
    "ws1.append(['Docs considered', 'Precision/Recall', 'Model', 10, 50, 100, 500, 1000])\n",
    "\n",
    "\n",
    "#### there is(was at the time code ran) only one sheet.\n",
    "for sheet in f.sheet_names:\n",
    "    \n",
    "    x = f.parse(sheet)\n",
    "    \n",
    "    \n",
    "    # precision 1\n",
    "    row = [1, 'P', model_name + ' :' + sheet]\n",
    "    for i in [10.0, 50.0, 100.0, 500.0, 1000.0]:\n",
    "        row.append(x[np.logical_and(x['Relevance'] == 1 , x['Rank'] <= i)].shape[0]/(i*10))\n",
    "    ws1.append(row);\n",
    "    p1 = row;\n",
    "    # precision 0\n",
    "    row = [0, 'P', model_name + ' :' + sheet]\n",
    "    for i in [10.0, 50.0, 100.0, 500.0, 1000.0]:\n",
    "        row.append(x[np.logical_and(x['Relevance'] == 0 , x['Rank'] <= i)].shape[0]/(i*10))    \n",
    "    ws1.append(row);\n",
    "    p0 = row;\n",
    "    #precision 10\n",
    "    row = [10, 'P', model_name + ' :' + sheet]\n",
    "    for i in [10.0, 50.0, 100.0, 500.0, 1000.0]:\n",
    "        row.append(x[x['Rank'] <= i].shape[0]/(i*10))  \n",
    "    ws1.append(row);\n",
    "    p10 = row;    \n",
    "    # recall 1\n",
    "    row = [1, 'R', model_name + ' :' + sheet]\n",
    "    for i in [10.0, 50.0, 100.0, 500.0, 1000.0]:\n",
    "        row.append(x[np.logical_and(x['Relevance'] == 1 , x['Rank'] <= i)].shape[0]/total_1)\n",
    "        row[-1] = round(row[-1],places)\n",
    "    ws1.append(row);\n",
    "    r1 = row;    \n",
    "    # recall 0\n",
    "    row = [0, 'R', model_name + ' :' + sheet]\n",
    "    for i in [10.0, 50.0, 100.0, 500.0, 1000.0]:\n",
    "        row.append(x[np.logical_and(x['Relevance'] == 0 , x['Rank'] <= i)].shape[0]/total_0)\n",
    "        row[-1] = round(row[-1],places)\n",
    "    ws1.append(row);\n",
    "    r0 = row;\n",
    "    #recall 10\n",
    "    row = [10, 'R', model_name + ' :' + sheet]\n",
    "    for i in [10.0, 50.0, 100.0, 500.0, 1000.0]:\n",
    "        row.append(x[x['Rank'] <= i].shape[0]/total)\n",
    "        row[-1] = round(row[-1],places)\n",
    "    ws1.append(row);\n",
    "    r10 = row;      \n",
    "    \n",
    "    \n",
    "    # F 1\n",
    "    row = [1, 'F', model_name + ' :' + sheet]\n",
    "    for i in [-5,-4,-3,-2,-1]:\n",
    "        if p1[i] == 0.0 :\n",
    "            row.append(0.0)\n",
    "        else:\n",
    "            row.append(hmean([p1[i],r1[i]]))\n",
    "        row[-1] = round(row[-1],places)\n",
    "    ws1.append(row);\n",
    "        \n",
    "    # F 0\n",
    "    row = [0, 'F', model_name + ' :' + sheet]\n",
    "    for i in [-5,-4,-3,-2,-1]:\n",
    "        if p0[i] == 0.0:\n",
    "            row.append(0.0)\n",
    "        else:\n",
    "            row.append(hmean([p0[i],r0[i]]))\n",
    "        row[-1] = round(row[-1],places)\n",
    "    ws1.append(row);\n",
    "    \n",
    "    # F 10\n",
    "    row = [10, 'F', model_name + ' :' + sheet]\n",
    "    for i  in [-5,-4,-3,-2,-1]:\n",
    "        if p10[i] == 0.0:\n",
    "            row.append(0.0)\n",
    "        else:\n",
    "            row.append(hmean([p10[i],r10[i]]))\n",
    "        row[-1] = round(row[-1],places)\n",
    "    ws1.append(row);\n",
    "        \n",
    "wb.save(filename = 'LM_JM.xlsx')"
   ]
  },
  {
   "cell_type": "code",
   "execution_count": 6,
   "metadata": {
    "collapsed": true
   },
   "outputs": [],
   "source": [
    "#Query wise\n",
    "\n",
    "import pandas as pd\n",
    "\n",
    "f = pd.ExcelFile('LM_JM.xlsx')\n",
    "\n",
    "from scipy.stats import hmean\n",
    "\n",
    "\n",
    "\n",
    "model_name = 'LM_JM'\n",
    "places = 4\n",
    "wb = load_workbook('LM_JM.xlsx')\n",
    "ws1 = wb.create_sheet(title=\"evaluation_Qwise\")\n",
    "\n",
    "ws1.append(['Query','Docs considered', 'Precision/Recall', 'Model', 10, 50, 100, 500, 1000])\n",
    "\n",
    "\n",
    "for sheet in f.sheet_names:\n",
    "    if(sheet == \"evaluation\"):\n",
    "        continue\n",
    "    for q in np.arange(1,11):\n",
    "\n",
    "        x = f.parse(sheet)\n",
    "        x = x[x['Query'] == q]\n",
    "        total_1 = (float)(x[x['Relevance'] == 1].shape[0])\n",
    "        total_0 = (float)(x[x['Relevance'] == 0].shape[0])\n",
    "        total = (float)(x.shape[0])\n",
    "        # precision 1\n",
    "        row = [q, 1, 'P', model_name + ' :' + sheet]\n",
    "        for i in [10.0, 50.0, 100.0, 500.0, 1000.0]:\n",
    "            row.append(x[np.logical_and(x['Relevance'] == 1 , x['Rank'] <= i)].shape[0]/i)\n",
    "        ws1.append(row);\n",
    "        p1 = row;\n",
    "        # precision 0\n",
    "        row = [q, 0, 'P', model_name + ' :' + sheet]\n",
    "        for i in [10.0, 50.0, 100.0, 500.0, 1000.0]:\n",
    "            row.append(x[np.logical_and(x['Relevance'] == 0 , x['Rank'] <= i)].shape[0]/i)    \n",
    "        ws1.append(row);\n",
    "        p0 = row;\n",
    "        #precision 10\n",
    "        row = [q, 10, 'P', model_name + ' :' + sheet]\n",
    "        for i in [10.0, 50.0, 100.0, 500.0, 1000.0]:\n",
    "            row.append(x[x['Rank'] <= i].shape[0]/i)  \n",
    "        ws1.append(row);\n",
    "        p10 = row;    \n",
    "        # recall 1\n",
    "        row = [q, 1, 'R', model_name + ' :' + sheet]\n",
    "        for i in [10.0, 50.0, 100.0, 500.0, 1000.0]:\n",
    "            row.append(x[np.logical_and(x['Relevance'] == 1 , x['Rank'] <= i)].shape[0]/total_1)\n",
    "            row[-1] = round(row[-1],places)\n",
    "        ws1.append(row);\n",
    "        r1 = row;    \n",
    "        # recall 0\n",
    "        row = [q, 0, 'R', model_name + ' :' + sheet]\n",
    "        for i in [10.0, 50.0, 100.0, 500.0, 1000.0]:\n",
    "            row.append(x[np.logical_and(x['Relevance'] == 0 , x['Rank'] <= i)].shape[0]/total_0)\n",
    "            row[-1] = round(row[-1],places)\n",
    "        ws1.append(row);\n",
    "        r0 = row;\n",
    "        #recall 10\n",
    "        row = [q, 10, 'R', model_name + ' :' + sheet]\n",
    "        for i in [10.0, 50.0, 100.0, 500.0, 1000.0]:\n",
    "            row.append(x[x['Rank'] <= i].shape[0]/total)\n",
    "            row[-1] = round(row[-1],places)\n",
    "        ws1.append(row);\n",
    "        r10 = row;      \n",
    "\n",
    "\n",
    "        # F 1\n",
    "        row = [q, 1, 'F', model_name + ' :' + sheet]\n",
    "        for i in [-5,-4,-3,-2,-1]:\n",
    "            if p1[i] == 0.0 :\n",
    "                row.append(0.0)\n",
    "            else:\n",
    "                row.append(hmean([p1[i],r1[i]]))\n",
    "            row[-1] = round(row[-1],places)\n",
    "        ws1.append(row);\n",
    "\n",
    "        # F 0\n",
    "        row = [q, 0, 'F', model_name + ' :' + sheet]\n",
    "        for i in [-5,-4,-3,-2,-1]:\n",
    "            if p0[i] == 0.0:\n",
    "                row.append(0.0)\n",
    "            else:\n",
    "                row.append(hmean([p0[i],r0[i]]))\n",
    "            row[-1] = round(row[-1],places)\n",
    "        ws1.append(row);\n",
    "\n",
    "        # F 10\n",
    "        row = [q, 10, 'F', model_name + ' :' + sheet]\n",
    "        for i  in [-5,-4,-3,-2,-1]:\n",
    "            if p10[i] == 0.0:\n",
    "                row.append(0.0)\n",
    "            else:\n",
    "                row.append(hmean([p10[i],r10[i]]))\n",
    "            row[-1] = round(row[-1],places)\n",
    "        ws1.append(row);\n",
    "        \n",
    "wb.save(filename = 'LM_JM.xlsx')"
   ]
  },
  {
   "cell_type": "code",
   "execution_count": 52,
   "metadata": {
    "collapsed": true
   },
   "outputs": [],
   "source": [
    "#Query wise Average precision\n",
    "\n",
    "# function to calculate the precision sum(numerator in AP formula)\n",
    "def p_sum(z):\n",
    "    z = z.copy()\n",
    "    z.sort_values(inplace=True)\n",
    "    result = 0\n",
    "    # enumerate - i gives the no. of relevant till now\n",
    "    for i,val in enumerate(z):\n",
    "        result += (i+1)/float(val) \n",
    "        #print result\n",
    "    return result\n",
    "\n",
    "\n",
    "import pandas as pd\n",
    "\n",
    "f = pd.ExcelFile('LM_JM.xlsx')\n",
    "\n",
    "from scipy.stats import hmean\n",
    "\n",
    "\n",
    "model_name = 'LM_JM'\n",
    "places = 4\n",
    "wb = load_workbook('LM_JM.xlsx')\n",
    "ws1 = wb.create_sheet(title=\"AP_Qwise\")\n",
    "\n",
    "ws1.append(['Query','Docs considered', 'Precision/Recall', 'Model', 1, 5 ,10, 25, 50, 100, 500, 1000])\n",
    "\n",
    "\n",
    "for sheet in f.sheet_names:\n",
    "    \n",
    "    if(sheet == \"evaluation\"or sheet == \"evaluation_Qwise\"):\n",
    "        continue\n",
    "    for q in np.arange(1,11):\n",
    "\n",
    "        x = f.parse(sheet)\n",
    "        x = x[x['Query'] == q]\n",
    "        total[1] = (float)(x[x['Relevance'] == 1].shape[0])\n",
    "        total[0] = (float)(x[x['Relevance'] == 0].shape[0])\n",
    "        total[10] = (float)(x.shape[0])\n",
    "        \n",
    "        for rel in [1,0]:\n",
    "            # precision 1\n",
    "            row = [q, rel, 'AP', model_name + ' :' + sheet]\n",
    "            for i in [1.0, 5.0, 10.0, 25.0, 50.0, 100.0, 500.0, 1000.0]:\n",
    "                row.append(p_sum(x[np.logical_and(x['Relevance'] == rel, x['Rank'] <= i)]['Rank'])/total[rel])\n",
    "            ws1.append(row);\n",
    "\n",
    "        row = [q, 10, 'AP', model_name + ' :' + sheet]\n",
    "        for i in [1.0, 5.0, 10.0, 25.0, 50.0, 100.0, 500.0, 1000.0]:\n",
    "            row.append(p_sum(x[x['Rank'] <= i]['Rank'])/total[10])\n",
    "        ws1.append(row);\n",
    "\n",
    "        \n",
    "wb.save(filename = 'LM_JM.xlsx')"
   ]
  },
  {
   "cell_type": "code",
   "execution_count": null,
   "metadata": {
    "collapsed": true
   },
   "outputs": [],
   "source": [
    "\n"
   ]
  },
  {
   "cell_type": "code",
   "execution_count": null,
   "metadata": {
    "collapsed": true
   },
   "outputs": [],
   "source": []
  },
  {
   "cell_type": "code",
   "execution_count": null,
   "metadata": {
    "collapsed": true
   },
   "outputs": [],
   "source": [
    "# given a corpus and document index and a query return intersecting words(scores from corpus) \n",
    "def common_words(index, query):\n",
    "    # quey words\n",
    "    q = [i[0] for i in dictionary.doc2bow(query)]   \n",
    "    q = set(q)\n",
    "    \n",
    "    return sorted([(dictionary.get(i[0]),i[1],j[1]) for i,j in zip(corpus[index],tfidf_corpus[index]) if i[0] in q], key= lambda x: x[1], reverse= True )        \n"
   ]
  },
  {
   "cell_type": "code",
   "execution_count": null,
   "metadata": {
    "collapsed": true
   },
   "outputs": [],
   "source": [
    "# uses ranklist\n",
    "# return top N documents and the respctive common words for every query given corpus\n",
    "def top_N(n, corp) :\n",
    "    top_results = [0]\n",
    "    for i in range(1,11):\n",
    "        x = sorted(range(len(rank_list[i])), key=lambda j: rank_list[i][j])[:n]\n",
    "        y = []\n",
    "        for j in x:\n",
    "            y.append([filenames[j],common_words(j, queries[i])])\n",
    "            \n",
    "        top_results.append(y)\n",
    "    return top_results"
   ]
  },
  {
   "cell_type": "code",
   "execution_count": null,
   "metadata": {
    "collapsed": true
   },
   "outputs": [],
   "source": [
    "# queries as bag of words\n",
    "# index starts from 1 for queries\n",
    "q_words = [0]\n",
    "for i,query in enumerate(files_to_tokens('LegalAdhocTask\\q*.txt')):\n",
    "    q_words.append(sorted([(dictionary.get(j[0]), j[1], k[1]) for j,k in zip(dictionary.doc2bow(query),tfidf[dictionary.doc2bow(query)])], reverse= True, key= lambda x:x[2]))"
   ]
  },
  {
   "cell_type": "code",
   "execution_count": null,
   "metadata": {
    "collapsed": true,
    "scrolled": false
   },
   "outputs": [],
   "source": [
    "# index starts from 1 for queries\n",
    "top_results = top_N(10,corpus)"
   ]
  },
  {
   "cell_type": "code",
   "execution_count": null,
   "metadata": {
    "collapsed": true,
    "scrolled": true
   },
   "outputs": [],
   "source": [
    "# ground truth ranks BoW query\n",
    "\n",
    "sorted(BQ['1'], key = lambda x: (-int(x[1]),x[3]))"
   ]
  },
  {
   "cell_type": "code",
   "execution_count": null,
   "metadata": {
    "collapsed": true,
    "scrolled": true
   },
   "outputs": [],
   "source": [
    "top_results[1]"
   ]
  },
  {
   "cell_type": "code",
   "execution_count": null,
   "metadata": {
    "collapsed": true
   },
   "outputs": [],
   "source": [
    "tfidf[dictionary.doc2bow([])]"
   ]
  },
  {
   "cell_type": "code",
   "execution_count": null,
   "metadata": {
    "collapsed": true,
    "scrolled": true
   },
   "outputs": [],
   "source": [
    "common_words(filenames.index( 'ConsumerCourt_DCDRC_118185' + '.txt'), queries[1])"
   ]
  },
  {
   "cell_type": "code",
   "execution_count": null,
   "metadata": {
    "collapsed": true
   },
   "outputs": [],
   "source": []
  }
 ],
 "metadata": {
  "kernelspec": {
   "display_name": "Python 2",
   "language": "python",
   "name": "python2"
  },
  "language_info": {
   "codemirror_mode": {
    "name": "ipython",
    "version": 2
   },
   "file_extension": ".py",
   "mimetype": "text/x-python",
   "name": "python",
   "nbconvert_exporter": "python",
   "pygments_lexer": "ipython2",
   "version": "2.7.13"
  }
 },
 "nbformat": 4,
 "nbformat_minor": 2
}
